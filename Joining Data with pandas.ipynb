{
 "cells": [
  {
   "cell_type": "markdown",
   "id": "2d3c8e39-c26c-4830-983a-24393adf5ae8",
   "metadata": {},
   "source": [
    "# <span style=\"color:red\"> Joining Data with pandas </span>"
   ]
  },
  {
   "cell_type": "raw",
   "id": "ff1cc10c-0a2f-4eec-9dda-4ec76762dfe8",
   "metadata": {},
   "source": [
    "Course Description\n",
    "Being able to combine and work with multiple datasets is an essential skill for any aspiring Data Scientist. Pandas is a crucial cornerstone of the Python data science ecosystem, with Stack Overflow recording 5 million views for pandas questions. Learn to handle multiple DataFrames by combining, organizing, joining, and reshaping them using pandas. You'll work with datasets from the World Bank and the City Of Chicago. You will finish the course with a solid skillset for data-joining in pandas."
   ]
  },
  {
   "cell_type": "markdown",
   "id": "bf7d9809-ea9e-41a2-826e-d463abd6bbdd",
   "metadata": {},
   "source": [
    "# <span style=\"color:red\"> Contenido </span>"
   ]
  },
  {
   "cell_type": "raw",
   "id": "e42921ab-d5b7-4f7e-ad84-07e21f4f5135",
   "metadata": {},
   "source": [
    "Chapter 1: Data Merging Basics\n",
    "Learn how you can merge disparate data using inner joins. \n",
    "By combining information from multiple sources you’ll uncover compelling insights that may have previously been hidden. \n",
    "You’ll also learn how the relationship between those sources, such as one-to-one or one-to-many, can affect your result.\n",
    "\n",
    "    Inner join (VIDEO)\n",
    "    What column to merge on?\n",
    "    Your first inner join\n",
    "    Inner joins and number of rows returned\n",
    "    One-to-many relationships (VIDEO)\n",
    "    One-to-many classification\n",
    "    One-to-many merge\n",
    "    Merging multiple DataFrames (VIDEO)\n",
    "    Total riders in a month\n",
    "    Three table merge\n",
    "    One-to-many merge with multiple tables\n",
    "\n",
    "\n",
    "Chapter 2 Merging Tables With Different Join Types\n",
    "Take your knowledge of joins to the next level. In this chapter, you’ll work with TMDb movie data as you learn about left, right, and outer joins. You’ll also discover how to merge a table to itself and merge on a DataFrame index.\n",
    "\n",
    "    Left join (VIDEO)\n",
    "    Counting missing rows with left join\n",
    "    Enriching a dataset\n",
    "    How many rows with a left join?\n",
    "    Other joins (VIDEO)\n",
    "    Right join to find unique movies\n",
    "    Popular genres with right join\n",
    "    Using outer join to select actors\n",
    "    Merging a table to itself (VIDEO)\n",
    "    Self join\n",
    "    How does pandas handle self joins?\n",
    "    Merging on indexes (VIDEO)\n",
    "    Index merge for movie ratings\n",
    "    Do sequels earn more?\n",
    "\n",
    "\n",
    "Chapter 3 Advanced Merging and Concatenating\n",
    "In this chapter, you’ll leverage powerful filtering techniques, including semi-joins and anti-joins. You’ll also learn how to glue DataFrames by vertically combining and using the pandas.concat function to create new datasets. Finally, because data is rarely clean, you’ll also learn how to validate your newly combined data structures.\n",
    "\n",
    "    Filtering joins (VIDEO)\n",
    "    Steps of a semi-join\n",
    "    Performing an anti-join\n",
    "    Performing a semi-join\n",
    "    Concatenate DataFrames together vertically (VIDEO)\n",
    "    Concatenation basics\n",
    "    Concatenating with keys\n",
    "    Using the append method\n",
    "    Verifying integrity (VIDEO)\n",
    "    Validating a merge\n",
    "    Concatenate and merge to find common songs\n",
    "\n",
    "\n",
    "Chapter 4 Merging Ordered and Time-Series Data\n",
    "In this final chapter, you’ll step up a gear and learn to apply pandas' specialized methods for merging time-series and ordered data together with real-world financial and economic data from the city of Chicago. You’ll also learn how to query resulting tables using a SQL-style format, and unpivot data using the melt method.\n",
    "\n",
    "\n",
    "    Using merge_ordered() (VIDEO)\n",
    "    Correlation between GDP and S&P500\n",
    "    Phillips curve using merge_ordered()\n",
    "    merge_ordered() caution, multiple columns\n",
    "    Using merge_asof() (VIDEO)\n",
    "    Using merge_asof() to study stocks\n",
    "    Using merge_asof() to create dataset\n",
    "    merge_asof() and merge_ordered() differences\n",
    "    Selecting data with .query() (VIDEO)\n",
    "    Explore financials with .query()\n",
    "    Subsetting rows with .query()\n",
    "    Reshaping data with .melt() (VIDEO)\n",
    "    Select the right .melt() arguments\n",
    "    Using .melt() to reshape government data\n",
    "    Using .melt() for stocks vs bond performance\n",
    "    Course wrap-up"
   ]
  },
  {
   "cell_type": "markdown",
   "id": "c7b17b56-f7c1-4c7f-aabe-ad74142b01c7",
   "metadata": {},
   "source": [
    "# <span style=\"color:red\"> Chapter 1 Data Merging Basics </span>"
   ]
  },
  {
   "cell_type": "raw",
   "id": "fc6a34e6-cfc0-4324-ae87-ffd28c691fd9",
   "metadata": {},
   "source": [
    "Chapter 1: Data Merging Basics\n",
    "Learn how you can merge disparate data using inner joins. \n",
    "By combining information from multiple sources you’ll uncover compelling insights that may have previously been hidden. \n",
    "You’ll also learn how the relationship between those sources, such as one-to-one or one-to-many, can affect your result.\n",
    "\n",
    "    Inner join (VIDEO)\n",
    "    What column to merge on?\n",
    "    Your first inner join\n",
    "    Inner joins and number of rows returned\n",
    "    One-to-many relationships (VIDEO)\n",
    "    One-to-many classification\n",
    "    One-to-many merge\n",
    "    Merging multiple DataFrames (VIDEO)\n",
    "    Total riders in a month\n",
    "    Three table merge\n",
    "    One-to-many merge with multiple tables"
   ]
  },
  {
   "cell_type": "markdown",
   "id": "c2d737cd-999f-45ce-bc87-bb9aa926481c",
   "metadata": {},
   "source": [
    "#     Inner join (VIDEO)"
   ]
  },
  {
   "cell_type": "code",
   "execution_count": 1,
   "id": "1e7fa51f-657b-4eb2-bc07-1ba08b1641ef",
   "metadata": {},
   "outputs": [],
   "source": [
    "import pandas as pd\n",
    "import numpy as np\n",
    "import matplotlib.pyplot as plt\n",
    "\n",
    "wards = pd.read_excel(\"wards.xlsx\")\n",
    "census = pd.read_excel(\"census.xlsx\")\n",
    "\n",
    "wards_altered = pd.read_excel(\"wards_altered.xlsx\")\n",
    "census_altered = pd.read_excel(\"census_altered.xlsx\")\n",
    "\n",
    "taxi_veh = pd.read_excel(\"taxi_veh.xlsx\")\n",
    "taxi_owners = pd.read_excel(\"taxi_owners.xlsx\")\n",
    "\n",
    "biz_owners = pd.read_excel(\"biz_owners.xlsx\")\n",
    "licenses = pd.read_excel(\"licenses.xlsx\")\n",
    "\n",
    "grants = pd.read_excel(\"grants.xlsx\")\n",
    "\n",
    "cal = pd.read_excel(\"cal.xlsx\")\n",
    "ridership = pd.read_excel(\"ridership.xlsx\")\n",
    "stations = pd.read_excel(\"stations.xlsx\")\n",
    "\n",
    "zip_demo = pd.read_excel(\"zip_demo.xlsx\")\n",
    "\n",
    "land_use = pd.read_excel(\"land_use.xlsx\")"
   ]
  },
  {
   "cell_type": "code",
   "execution_count": 2,
   "id": "07c4d2f6-f0d6-4894-bc9b-824a6a28404a",
   "metadata": {},
   "outputs": [
    {
     "name": "stdout",
     "output_type": "stream",
     "text": [
      "----Metodo .merge() para realizar un Inner Join sobre la columna 'ward' de ambas tablas\n",
      "   ward               alderman                         address_x  zip_x  \\\n",
      "0     1     Proco \"Joe\" Moreno         2058 NORTH WESTERN AVENUE  60647   \n",
      "1     2          Brian Hopkins         1400 NORTH ASHLAND AVENUE  60622   \n",
      "2     3             Pat Dowell           5046 SOUTH STATE STREET  60609   \n",
      "3     4       William D. Burns   435 EAST 35TH STREET, 1ST FLOOR  60616   \n",
      "4     5     Leslie A. Hairston             2325 EAST 71ST STREET  60649   \n",
      "5     6     Roderick T. Sawyer  8001 S. MARTIN LUTHER KING DRIVE  60619   \n",
      "6     7    Gregory I. Mitchell             2249 EAST 95TH STREET  60617   \n",
      "7     8     Michelle A. Harris   8539 SOUTH COTTAGE GROVE AVENUE  60619   \n",
      "8     9       Anthony A. Beale               34 EAST 112TH PLACE  60628   \n",
      "9    10  Susan Sadlowski Garza          10500 SOUTH EWING AVENUE  60617   \n",
      "\n",
      "   pop_2000  pop_2010  change                                address_y  zip_y  \n",
      "0     52951     56149    0.06              2765 WEST SAINT MARY STREET  60647  \n",
      "1     54361     55805    0.03                 WM WASTE MANAGEMENT 1500  60622  \n",
      "2     40385     53039    0.31                      17 EAST 38TH STREET  60653  \n",
      "3     51953     54589    0.05  31ST ST HARBOR BUILDING LAKEFRONT TRAIL  60653  \n",
      "4     55302     51455   -0.07  JACKSON PARK LAGOON SOUTH CORNELL DRIVE  60637  \n",
      "5     54989     52341   -0.05                     150 WEST 74TH STREET  60636  \n",
      "6     54593     51581   -0.06                8549 SOUTH OGLESBY AVENUE  60617  \n",
      "7     54039     51687   -0.04               1346-1352 EAST 75TH STREET  60649  \n",
      "8     52008     51519   -0.01       11039-11059 SOUTH WENTWORTH AVENUE  60628  \n",
      "9     56613     51535   -0.09                     10534 SOUTH AVENUE F  46394  \n",
      "----Argumento suffixes para definir identificar a que tabla pertenecen las columnas\n",
      "   ward            alderman                     address_ward  zip_ward  \\\n",
      "0     1  Proco \"Joe\" Moreno        2058 NORTH WESTERN AVENUE     60647   \n",
      "1     2       Brian Hopkins        1400 NORTH ASHLAND AVENUE     60622   \n",
      "2     3          Pat Dowell          5046 SOUTH STATE STREET     60609   \n",
      "3     4    William D. Burns  435 EAST 35TH STREET, 1ST FLOOR     60616   \n",
      "4     5  Leslie A. Hairston            2325 EAST 71ST STREET     60649   \n",
      "\n",
      "   pop_2000  pop_2010  change                           address_census  \\\n",
      "0     52951     56149    0.06              2765 WEST SAINT MARY STREET   \n",
      "1     54361     55805    0.03                 WM WASTE MANAGEMENT 1500   \n",
      "2     40385     53039    0.31                      17 EAST 38TH STREET   \n",
      "3     51953     54589    0.05  31ST ST HARBOR BUILDING LAKEFRONT TRAIL   \n",
      "4     55302     51455   -0.07  JACKSON PARK LAGOON SOUTH CORNELL DRIVE   \n",
      "\n",
      "   zip_census  \n",
      "0       60647  \n",
      "1       60622  \n",
      "2       60653  \n",
      "3       60653  \n",
      "4       60637  \n"
     ]
    }
   ],
   "source": [
    "# INNER JOIN\n",
    "# INNER JOIN = SOLO DEVOLVERA TUPLAS QUE CONTENGAN VALORES EN AMBAS TABLAS\n",
    "print(\"----Metodo .merge() para realizar un Inner Join sobre la columna 'ward' de ambas tablas\")\n",
    "wards_census = wards.merge(census, on=\"ward\")\n",
    "print(wards_census.head(10))\n",
    "\n",
    "# SUFFIXES\n",
    "print(\"----Argumento suffixes para definir identificar a que tabla pertenecen las columnas\")\n",
    "wards_census = wards.merge(census, on=\"ward\", suffixes=(\"_ward\",\"_census\"))\n",
    "print(wards_census.head())"
   ]
  },
  {
   "cell_type": "markdown",
   "id": "a66dd91a-39bb-469e-9079-2c5952d05cc8",
   "metadata": {},
   "source": [
    "# What column to merge on?"
   ]
  },
  {
   "cell_type": "raw",
   "id": "23d3bb05-d1d5-40f2-9740-9bb917bc645f",
   "metadata": {},
   "source": [
    "Chicago provides a list of taxicab owners and vehicles licensed to operate within the city, for public safety. Your goal is to merge two tables together. One table is called taxi_owners, with info about the taxi cab company owners, and one is called taxi_veh, with info about each taxi cab vehicle. Both the taxi_owners and taxi_veh tables have been loaded for you and you can explore them in the IPython shell."
   ]
  },
  {
   "cell_type": "raw",
   "id": "23ecce5a-90a3-45e5-9748-fc96917d7d34",
   "metadata": {},
   "source": [
    "Instructions\n",
    "50 XP\n",
    "Choose the column you would use to merge the two tables on using the .merge() method.\n",
    "Both DataFrames contained the column vid. \n",
    "Possible Answers\n",
    "    on='rid'\n",
    "    on='vid'      <- Respuesta correcta\n",
    "    on='year'\n",
    "    on='zip'"
   ]
  },
  {
   "cell_type": "markdown",
   "id": "f6c4a649-6482-4d84-bb04-3b69181f15b3",
   "metadata": {},
   "source": [
    "# Your first inner join"
   ]
  },
  {
   "cell_type": "raw",
   "id": "34e92b3e-6c08-49b4-9db9-44ac6e4d6b88",
   "metadata": {},
   "source": [
    "Exercise\n",
    "Your first inner join\n",
    "You have been tasked with figuring out what the most popular types of fuel used in Chicago taxis are. To complete the analysis, you need to merge the taxi_owners and taxi_veh tables together on the vid column. You can then use the merged table along with the .value_counts() method to find the most common fuel_type.\n",
    "\n",
    "Since you'll be working with pandas throughout the course, the package will be preloaded for you as pd in each exercise in this course. Also the taxi_owners and taxi_veh DataFrames are loaded for you."
   ]
  },
  {
   "cell_type": "raw",
   "id": "18c4cdf0-a559-4b5b-9e40-a4eb86a8f3bb",
   "metadata": {},
   "source": [
    "Instructions 1/3\n",
    "100 XP\n",
    "1\n",
    "Merge taxi_owners with taxi_veh on the column vid, and save the result to taxi_own_veh."
   ]
  },
  {
   "cell_type": "code",
   "execution_count": 3,
   "id": "52a1996a-9e47-413b-a77c-45ac48a864e1",
   "metadata": {},
   "outputs": [
    {
     "name": "stdout",
     "output_type": "stream",
     "text": [
      "----Inner Join entre 2 tablas\n"
     ]
    },
    {
     "data": {
      "text/html": [
       "<div>\n",
       "<style scoped>\n",
       "    .dataframe tbody tr th:only-of-type {\n",
       "        vertical-align: middle;\n",
       "    }\n",
       "\n",
       "    .dataframe tbody tr th {\n",
       "        vertical-align: top;\n",
       "    }\n",
       "\n",
       "    .dataframe thead th {\n",
       "        text-align: right;\n",
       "    }\n",
       "</style>\n",
       "<table border=\"1\" class=\"dataframe\">\n",
       "  <thead>\n",
       "    <tr style=\"text-align: right;\">\n",
       "      <th></th>\n",
       "      <th>rid</th>\n",
       "      <th>vid</th>\n",
       "      <th>owner_x</th>\n",
       "      <th>address</th>\n",
       "      <th>zip</th>\n",
       "      <th>make</th>\n",
       "      <th>model</th>\n",
       "      <th>year</th>\n",
       "      <th>fuel_type</th>\n",
       "      <th>owner_y</th>\n",
       "    </tr>\n",
       "  </thead>\n",
       "  <tbody>\n",
       "    <tr>\n",
       "      <th>0</th>\n",
       "      <td>T6285</td>\n",
       "      <td>6285</td>\n",
       "      <td>AGEAN TAXI LLC</td>\n",
       "      <td>4536 N. ELSTON AVE.</td>\n",
       "      <td>60630</td>\n",
       "      <td>NISSAN</td>\n",
       "      <td>ALTIMA</td>\n",
       "      <td>2011</td>\n",
       "      <td>HYBRID</td>\n",
       "      <td>AGEAN TAXI LLC</td>\n",
       "    </tr>\n",
       "    <tr>\n",
       "      <th>1</th>\n",
       "      <td>T4862</td>\n",
       "      <td>4862</td>\n",
       "      <td>MANGIB CORP.</td>\n",
       "      <td>5717 N. WASHTENAW AVE.</td>\n",
       "      <td>60659</td>\n",
       "      <td>HONDA</td>\n",
       "      <td>CRV</td>\n",
       "      <td>2014</td>\n",
       "      <td>GASOLINE</td>\n",
       "      <td>MANGIB CORP.</td>\n",
       "    </tr>\n",
       "    <tr>\n",
       "      <th>2</th>\n",
       "      <td>T1495</td>\n",
       "      <td>1495</td>\n",
       "      <td>FUNRIDE, INC.</td>\n",
       "      <td>3351 W. ADDISON ST.</td>\n",
       "      <td>60618</td>\n",
       "      <td>TOYOTA</td>\n",
       "      <td>SIENNA</td>\n",
       "      <td>2015</td>\n",
       "      <td>GASOLINE</td>\n",
       "      <td>FUNRIDE, INC.</td>\n",
       "    </tr>\n",
       "    <tr>\n",
       "      <th>3</th>\n",
       "      <td>T4231</td>\n",
       "      <td>4231</td>\n",
       "      <td>ALQUSH CORP.</td>\n",
       "      <td>6611 N. CAMPBELL AVE.</td>\n",
       "      <td>60645</td>\n",
       "      <td>TOYOTA</td>\n",
       "      <td>CAMRY</td>\n",
       "      <td>2014</td>\n",
       "      <td>HYBRID</td>\n",
       "      <td>ALQUSH CORP.</td>\n",
       "    </tr>\n",
       "    <tr>\n",
       "      <th>4</th>\n",
       "      <td>T5971</td>\n",
       "      <td>5971</td>\n",
       "      <td>EUNIFFORD INC.</td>\n",
       "      <td>3351 W. ADDISON ST.</td>\n",
       "      <td>60618</td>\n",
       "      <td>TOYOTA</td>\n",
       "      <td>SIENNA</td>\n",
       "      <td>2015</td>\n",
       "      <td>GASOLINE</td>\n",
       "      <td>EUNIFFORD INC.</td>\n",
       "    </tr>\n",
       "  </tbody>\n",
       "</table>\n",
       "</div>"
      ],
      "text/plain": [
       "      rid   vid         owner_x                 address    zip    make  \\\n",
       "0   T6285  6285  AGEAN TAXI LLC     4536 N. ELSTON AVE.  60630  NISSAN   \n",
       "1   T4862  4862    MANGIB CORP.  5717 N. WASHTENAW AVE.  60659   HONDA   \n",
       "2   T1495  1495   FUNRIDE, INC.     3351 W. ADDISON ST.  60618  TOYOTA   \n",
       "3   T4231  4231    ALQUSH CORP.   6611 N. CAMPBELL AVE.  60645  TOYOTA   \n",
       "4   T5971  5971  EUNIFFORD INC.     3351 W. ADDISON ST.  60618  TOYOTA   \n",
       "\n",
       "    model  year fuel_type         owner_y  \n",
       "0  ALTIMA  2011    HYBRID  AGEAN TAXI LLC  \n",
       "1     CRV  2014  GASOLINE    MANGIB CORP.  \n",
       "2  SIENNA  2015  GASOLINE   FUNRIDE, INC.  \n",
       "3   CAMRY  2014    HYBRID    ALQUSH CORP.  \n",
       "4  SIENNA  2015  GASOLINE  EUNIFFORD INC.  "
      ]
     },
     "execution_count": 3,
     "metadata": {},
     "output_type": "execute_result"
    }
   ],
   "source": [
    "print(\"----Inner Join entre 2 tablas\")\n",
    "taxi_own_veh = taxi_owners.merge(taxi_veh, on=\"vid\")\n",
    "taxi_own_veh.head()"
   ]
  },
  {
   "cell_type": "raw",
   "id": "54dfdddb-5b78-4846-9541-b60770af83d6",
   "metadata": {},
   "source": [
    "Instructions 2/3\n",
    "0 XP\n",
    "2\n",
    "Set the left and right table suffixes for overlapping columns of the merge to _own and _veh, respectively."
   ]
  },
  {
   "cell_type": "code",
   "execution_count": 4,
   "id": "3cb64a69-a5de-4c69-8121-bd8e016e0654",
   "metadata": {},
   "outputs": [
    {
     "name": "stdout",
     "output_type": "stream",
     "text": [
      "----Inner Join entre 2 tablas y seleccionar los sufijos para las columnas\n",
      "      rid   vid       owner_own                 address    zip    make  \\\n",
      "0   T6285  6285  AGEAN TAXI LLC     4536 N. ELSTON AVE.  60630  NISSAN   \n",
      "1   T4862  4862    MANGIB CORP.  5717 N. WASHTENAW AVE.  60659   HONDA   \n",
      "2   T1495  1495   FUNRIDE, INC.     3351 W. ADDISON ST.  60618  TOYOTA   \n",
      "3   T4231  4231    ALQUSH CORP.   6611 N. CAMPBELL AVE.  60645  TOYOTA   \n",
      "4   T5971  5971  EUNIFFORD INC.     3351 W. ADDISON ST.  60618  TOYOTA   \n",
      "\n",
      "    model  year fuel_type       owner_veh  \n",
      "0  ALTIMA  2011    HYBRID  AGEAN TAXI LLC  \n",
      "1     CRV  2014  GASOLINE    MANGIB CORP.  \n",
      "2  SIENNA  2015  GASOLINE   FUNRIDE, INC.  \n",
      "3   CAMRY  2014    HYBRID    ALQUSH CORP.  \n",
      "4  SIENNA  2015  GASOLINE  EUNIFFORD INC.  \n"
     ]
    }
   ],
   "source": [
    "print(\"----Inner Join entre 2 tablas y seleccionar los sufijos para las columnas\")\n",
    "taxi_own_veh = taxi_owners.merge(taxi_veh, on=\"vid\", suffixes=(\"_own\",\"_veh\"))\n",
    "print(taxi_own_veh.head())"
   ]
  },
  {
   "cell_type": "raw",
   "id": "73b502c7-e649-47ca-8f72-92b737dbb398",
   "metadata": {},
   "source": [
    "Instructions 3/3\n",
    "0 XP\n",
    "3\n",
    "Select the fuel_type column from taxi_own_veh and print the value_counts() to find the most popular fuel_types used.\n",
    "Take Hint (-0 XP)"
   ]
  },
  {
   "cell_type": "code",
   "execution_count": 5,
   "id": "4ef14419-f03f-470a-927c-f31a45de8df3",
   "metadata": {},
   "outputs": [
    {
     "data": {
      "text/plain": [
       "HYBRID                    2792\n",
       "GASOLINE                   611\n",
       "FLEX FUEL                   89\n",
       "COMPRESSED NATURAL GAS      27\n",
       "Name: fuel_type, dtype: int64"
      ]
     },
     "execution_count": 5,
     "metadata": {},
     "output_type": "execute_result"
    }
   ],
   "source": [
    "taxi_own_veh = taxi_owners.merge(taxi_veh, on=\"vid\",suffixes=(\"_own\",\"_veh\"))\n",
    "taxi_own_veh[\"fuel_type\"].value_counts()"
   ]
  },
  {
   "cell_type": "markdown",
   "id": "8fecfc32-6283-448d-a114-b004cc63de6c",
   "metadata": {},
   "source": [
    "# Inner joins and number of rows returned"
   ]
  },
  {
   "cell_type": "raw",
   "id": "bf3ad018-eee4-44b1-844b-2c36ebe4d16f",
   "metadata": {},
   "source": [
    "Exercise\n",
    "Inner joins and number of rows returned\n",
    "All of the merges you have studied to this point are called inner joins. \n",
    "It is necessary to understand that inner joins only return the rows with matching values in both tables. \n",
    "You will explore this further by reviewing the merge between the wards and census tables, then comparing it to merges of copies of these tables that are slightly altered, named wards_altered, and census_altered. \n",
    "The first row of the wards column has been changed in the altered tables. \n",
    "You will examine how this affects the merge between them. The tables have been loaded for you.\n",
    "\n",
    "For this exercise, it is important to know that the wards and census tables start with 50 rows."
   ]
  },
  {
   "cell_type": "raw",
   "id": "006368c1-263e-41a0-b86e-ac280d503125",
   "metadata": {},
   "source": [
    "Instructions 1/3\n",
    "35 XP\n",
    "1\n",
    "Merge wards and census on the ward column and save the result to wards_census.\n",
    "Take Hint (-10 XP)"
   ]
  },
  {
   "cell_type": "code",
   "execution_count": 6,
   "id": "34a485ca-3837-4cbd-a1fc-d97d09c3f94a",
   "metadata": {},
   "outputs": [
    {
     "name": "stdout",
     "output_type": "stream",
     "text": [
      "----Inner Join entre 2 tablas\n",
      "   ward            alderman                        address_x  zip_x  pop_2000  \\\n",
      "0     1  Proco \"Joe\" Moreno        2058 NORTH WESTERN AVENUE  60647     52951   \n",
      "1     2       Brian Hopkins        1400 NORTH ASHLAND AVENUE  60622     54361   \n",
      "2     3          Pat Dowell          5046 SOUTH STATE STREET  60609     40385   \n",
      "3     4    William D. Burns  435 EAST 35TH STREET, 1ST FLOOR  60616     51953   \n",
      "4     5  Leslie A. Hairston            2325 EAST 71ST STREET  60649     55302   \n",
      "\n",
      "   pop_2010  change                                address_y  zip_y  \n",
      "0     56149    0.06              2765 WEST SAINT MARY STREET  60647  \n",
      "1     55805    0.03                 WM WASTE MANAGEMENT 1500  60622  \n",
      "2     53039    0.31                      17 EAST 38TH STREET  60653  \n",
      "3     54589    0.05  31ST ST HARBOR BUILDING LAKEFRONT TRAIL  60653  \n",
      "4     51455   -0.07  JACKSON PARK LAGOON SOUTH CORNELL DRIVE  60637  \n",
      "(50, 9)\n"
     ]
    }
   ],
   "source": [
    "print(\"----Inner Join entre 2 tablas\")\n",
    "wards_census = wards.merge(census, on=\"ward\")\n",
    "print(wards_census.head())\n",
    "print(wards_census.shape)"
   ]
  },
  {
   "cell_type": "raw",
   "id": "ad6f9ef3-7fd8-403e-b4ba-7c9f00016b1e",
   "metadata": {},
   "source": [
    "Instructions 2/3\n",
    "35 XP\n",
    "2\n",
    "Merge the wards_altered and census tables on the ward column, and notice the difference in returned rows.\n",
    "Take Hint (-10 XP)"
   ]
  },
  {
   "cell_type": "code",
   "execution_count": 7,
   "id": "3699f201-aec3-4e4b-aaad-8a9b20ef23ac",
   "metadata": {},
   "outputs": [
    {
     "name": "stdout",
     "output_type": "stream",
     "text": [
      "----Inner Join entre 2 tablas\n",
      "   index  ward            alderman                         address_x  zip_x  \\\n",
      "0      1     2       Brian Hopkins         1400 NORTH ASHLAND AVENUE  60622   \n",
      "1      2     3          Pat Dowell           5046 SOUTH STATE STREET  60609   \n",
      "2      3     4    William D. Burns   435 EAST 35TH STREET, 1ST FLOOR  60616   \n",
      "3      4     5  Leslie A. Hairston             2325 EAST 71ST STREET  60649   \n",
      "4      5     6  Roderick T. Sawyer  8001 S. MARTIN LUTHER KING DRIVE  60619   \n",
      "\n",
      "   pop_2000  pop_2010  change                                address_y  zip_y  \n",
      "0     54361     55805    0.03                 WM WASTE MANAGEMENT 1500  60622  \n",
      "1     40385     53039    0.31                      17 EAST 38TH STREET  60653  \n",
      "2     51953     54589    0.05  31ST ST HARBOR BUILDING LAKEFRONT TRAIL  60653  \n",
      "3     55302     51455   -0.07  JACKSON PARK LAGOON SOUTH CORNELL DRIVE  60637  \n",
      "4     54989     52341   -0.05                     150 WEST 74TH STREET  60636  \n",
      "(49, 10)\n"
     ]
    }
   ],
   "source": [
    "print(\"----Inner Join entre 2 tablas\")\n",
    "wards_altered_census = wards_altered.merge(census, on=\"ward\")\n",
    "print(wards_altered_census.head())\n",
    "print(wards_altered_census.shape)"
   ]
  },
  {
   "cell_type": "raw",
   "id": "d1a52992-7ad3-4e11-9293-c6758a05108f",
   "metadata": {},
   "source": [
    "Instructions 3/3\n",
    "30 XP\n",
    "3\n",
    "Merge the wards and census_altered tables on the ward column, and notice the difference in returned rows."
   ]
  },
  {
   "cell_type": "code",
   "execution_count": 8,
   "id": "ec598d40-308e-478a-a5b7-097369a5a20a",
   "metadata": {},
   "outputs": [
    {
     "name": "stdout",
     "output_type": "stream",
     "text": [
      "----Inner Join entre 2 tablas\n",
      "  ward            alderman                         address_x  zip_x  index  \\\n",
      "0    2       Brian Hopkins         1400 NORTH ASHLAND AVENUE  60622      1   \n",
      "1    3          Pat Dowell           5046 SOUTH STATE STREET  60609      2   \n",
      "2    4    William D. Burns   435 EAST 35TH STREET, 1ST FLOOR  60616      3   \n",
      "3    5  Leslie A. Hairston             2325 EAST 71ST STREET  60649      4   \n",
      "4    6  Roderick T. Sawyer  8001 S. MARTIN LUTHER KING DRIVE  60619      5   \n",
      "\n",
      "   pop_2000  pop_2010  change                                address_y  zip_y  \n",
      "0     54361     55805    0.03                 WM WASTE MANAGEMENT 1500  60622  \n",
      "1     40385     53039    0.31                      17 EAST 38TH STREET  60653  \n",
      "2     51953     54589    0.05  31ST ST HARBOR BUILDING LAKEFRONT TRAIL  60653  \n",
      "3     55302     51455   -0.07  JACKSON PARK LAGOON SOUTH CORNELL DRIVE  60637  \n",
      "4     54989     52341   -0.05                     150 WEST 74TH STREET  60636  \n",
      "(49, 10)\n"
     ]
    }
   ],
   "source": [
    "print(\"----Inner Join entre 2 tablas\")\n",
    "# El tamaño de las tabla resutlantes es distinto ya que la tabla census está modificada\n",
    "wards_census_altered = wards.merge(census_altered, on=\"ward\")\n",
    "print(wards_census_altered.head())\n",
    "print(wards_census_altered.shape)"
   ]
  },
  {
   "cell_type": "raw",
   "id": "3cdd51b7-cf19-405d-9969-e25fd86ea638",
   "metadata": {},
   "source": [
    "In step 1, the .merge() returned a table with the same number of rows as the original wards table. \n",
    "However, in steps 2 and 3, using the altered tables with the altered first row of the ward column, the number of returned rows was fewer. \n",
    "There was not a matching value in the ward column of the other table. Remember that .merge() only returns rows where the values match in both tables."
   ]
  },
  {
   "cell_type": "markdown",
   "id": "78aceac3-1947-4d63-99c0-06081045b3b9",
   "metadata": {},
   "source": [
    "#     One-to-many relationships (VIDEO)"
   ]
  },
  {
   "cell_type": "code",
   "execution_count": 9,
   "id": "da458bf7-347d-4aa5-93d4-9640048742d8",
   "metadata": {},
   "outputs": [
    {
     "name": "stdout",
     "output_type": "stream",
     "text": [
      "----Relacion uno a uno: Cada fila de la tabla izquierda esta relacionada a una y solo una\n",
      "    fila de la izquierda\n",
      "   ward            alderman                        address_x  zip_x  pop_2000  \\\n",
      "0     1  Proco \"Joe\" Moreno        2058 NORTH WESTERN AVENUE  60647     52951   \n",
      "1     2       Brian Hopkins        1400 NORTH ASHLAND AVENUE  60622     54361   \n",
      "2     3          Pat Dowell          5046 SOUTH STATE STREET  60609     40385   \n",
      "3     4    William D. Burns  435 EAST 35TH STREET, 1ST FLOOR  60616     51953   \n",
      "4     5  Leslie A. Hairston            2325 EAST 71ST STREET  60649     55302   \n",
      "\n",
      "   pop_2010  change                                address_y  zip_y  \n",
      "0     56149    0.06              2765 WEST SAINT MARY STREET  60647  \n",
      "1     55805    0.03                 WM WASTE MANAGEMENT 1500  60622  \n",
      "2     53039    0.31                      17 EAST 38TH STREET  60653  \n",
      "3     54589    0.05  31ST ST HARBOR BUILDING LAKEFRONT TRAIL  60653  \n",
      "4     51455   -0.07  JACKSON PARK LAGOON SOUTH CORNELL DRIVE  60637  \n",
      "----Relacion uno a muchos: Cada fila de la tabla izquierda está relacionada a uno o más\n",
      "     filas de la tabla derecha\n",
      "      ward              alderman                     address_ward  zip_ward  \\\n",
      "0        1    Proco \"Joe\" Moreno        2058 NORTH WESTERN AVENUE     60647   \n",
      "1        1    Proco \"Joe\" Moreno        2058 NORTH WESTERN AVENUE     60647   \n",
      "2        1    Proco \"Joe\" Moreno        2058 NORTH WESTERN AVENUE     60647   \n",
      "3        1    Proco \"Joe\" Moreno        2058 NORTH WESTERN AVENUE     60647   \n",
      "4        1    Proco \"Joe\" Moreno        2058 NORTH WESTERN AVENUE     60647   \n",
      "...    ...                   ...                              ...       ...   \n",
      "9995    50  Debra L. Silverstein  2949 WEST DEVON AVENUE, SUITE A     60659   \n",
      "9996    50  Debra L. Silverstein  2949 WEST DEVON AVENUE, SUITE A     60659   \n",
      "9997    50  Debra L. Silverstein  2949 WEST DEVON AVENUE, SUITE A     60659   \n",
      "9998    50  Debra L. Silverstein  2949 WEST DEVON AVENUE, SUITE A     60659   \n",
      "9999    50  Debra L. Silverstein  2949 WEST DEVON AVENUE, SUITE A     60659   \n",
      "\n",
      "      account  aid                        business               address_lic  \\\n",
      "0       12024  NaN             DIGILOG ELECTRONICS        1038 N ASHLAND AVE   \n",
      "1       14446  743                EMPTY BOTTLE INC    1035 N WESTERN AVE 1ST   \n",
      "2       14624  775            LITTLE MEL'S HOT DOG     2205 N CALIFORNIA AVE   \n",
      "3       14987  NaN              MR. BROWN'S LOUNGE    2301 W CHICAGO AVE 1ST   \n",
      "4       15642  814                    Beat Kitchen   2000-2100 W DIVISION ST   \n",
      "...       ...  ...                             ...                       ...   \n",
      "9995     6604  829                        SIBLINGS          2827 W HOWARD ST   \n",
      "9996    66512  NaN            CHANDNI BOUTIQUE INC      2503 W DEVON AVE 2ND   \n",
      "9997    66638  NaN                  PIDC PAN HOUSE    6342 N WESTERN AVE 1ST   \n",
      "9998    80484  NaN                WHEEL OF CHICAGO        6229 N WESTERN AVE   \n",
      "9999    81088  763  BISMILLAH ZABIHA MEAT & GROCER  2742 W DEVON AVE # STREE   \n",
      "\n",
      "      zip_lic  \n",
      "0     60622.0  \n",
      "1     60622.0  \n",
      "2     60647.0  \n",
      "3     60622.0  \n",
      "4     60622.0  \n",
      "...       ...  \n",
      "9995  60645.0  \n",
      "9996  60659.0  \n",
      "9997  60659.0  \n",
      "9998  60659.0  \n",
      "9999  60659.0  \n",
      "\n",
      "[10000 rows x 9 columns]\n",
      "(50, 4)\n",
      "(10000, 6)\n",
      "(10000, 9)\n"
     ]
    }
   ],
   "source": [
    "# ONE TO ONE RELATIONSHIP\n",
    "print(\"----Relacion uno a uno: Cada fila de la tabla izquierda esta relacionada a una y solo una\\n\",\n",
    "\"   fila de la izquierda\")\n",
    "ward_census = wards.merge(census, on=\"ward\")\n",
    "print(ward_census.head())\n",
    "\n",
    "\n",
    "# ONE TO MANY RELATIONSHIP\n",
    "print(\"----Relacion uno a muchos: Cada fila de la tabla izquierda está relacionada a uno o más\\n\",\n",
    "\"    filas de la tabla derecha\")\n",
    "wards_licenses = wards.merge(licenses, on=\"ward\", suffixes=(\"_ward\",\"_lic\") )\n",
    "print(wards_licenses)\n",
    "print(wards.shape)\n",
    "print(licenses.shape)\n",
    "print(wards_licenses.shape)\n"
   ]
  },
  {
   "cell_type": "markdown",
   "id": "3d8df1f4-b003-42b4-90eb-866cc39ae587",
   "metadata": {},
   "source": [
    "# One-to-many classification"
   ]
  },
  {
   "cell_type": "raw",
   "id": "feb1017c-b6b9-4ae4-be7b-ecaa5887ac99",
   "metadata": {},
   "source": [
    "Understanding the difference between a one-to-one and one-to-many relationship is a useful skill. \n",
    "In this exercise, consider a set of tables from an e-commerce website. \n",
    "The hypothetical tables are the following:\n",
    "\n",
    "A customer table with information about each customer  \n",
    "A cust_tax_info table with customers unique tax ID  \n",
    "An orders table with information about each order  \n",
    "A products table with details about each unique product sold  \n",
    "An inventory table with information on how much total inventory is available to sell for each product"
   ]
  },
  {
   "cell_type": "raw",
   "id": "1cbc5f85-065c-4f71-a909-bab8f937a4bb",
   "metadata": {},
   "source": [
    "Instructions\n",
    "100XP\n",
    "Select the relationship type that is most appropriate for the relationship between the different tables: One-to-one, or One-to-many."
   ]
  },
  {
   "cell_type": "raw",
   "id": "3d5e6d5d-a61b-4caa-9aa6-ce6c00271eed",
   "metadata": {},
   "source": [
    "One to one: \n",
    "    The relationship between customer and customer_tax_info\n",
    "    The relationship between products and inventory\n",
    "One to many:\n",
    "    The relationship between customer and order\n",
    "    The relationship between products and order"
   ]
  },
  {
   "cell_type": "markdown",
   "id": "0746d5b7-ec56-48db-ad91-07c61db6624d",
   "metadata": {},
   "source": [
    "# One-to-many merge"
   ]
  },
  {
   "cell_type": "raw",
   "id": "05fd447a-6982-456a-8915-adb572d01754",
   "metadata": {},
   "source": [
    "Exercise\n",
    "One-to-many merge\n",
    "A business may have one or multiple owners. \n",
    "In this exercise, you will continue to gain experience with one-to-many merges by merging a table of business owners, called biz_owners, to the licenses table. \n",
    "Recall from the video lesson, with a one-to-many relationship, a row in the left table may be repeated if it is related to multiple rows in the right table. In this lesson, you will explore this further by finding out what is the most common business owner title. (i.e., secretary, CEO, or vice president)\n",
    "\n",
    "The licenses and biz_owners DataFrames are loaded for you."
   ]
  },
  {
   "cell_type": "raw",
   "id": "844705fe-3195-4dcf-abaf-7b9baa3b6238",
   "metadata": {},
   "source": [
    "Instructions\n",
    "100 XP\n",
    "Starting with the licenses table on the left, merge it to the biz_owners table on the column account. Save the results to a variable named licenses_owners.\n",
    "Group licenses_owners by title and count the number of accounts for each title. Save the result as counted_df\n",
    "Sort counted_df by the number of accounts in descending order, and save this as a variable named sorted_df.\n",
    "Use the .head() method to print the first few rows of the sorted_df."
   ]
  },
  {
   "cell_type": "code",
   "execution_count": 10,
   "id": "36cea0a5-dce0-4b3c-9b81-496f8ada1286",
   "metadata": {},
   "outputs": [
    {
     "name": "stdout",
     "output_type": "stream",
     "text": [
      "----Starting with the licenses table on the left, merge it to the biz_owners table on the column account. Save the results to a variable named licenses_owners.\n",
      "       account  ward  aid                 business  \\\n",
      "0       307071     3  743     REGGIE'S BAR & GRILL   \n",
      "1           10    10  829               HONEYBEERS   \n",
      "2           10    10  829               HONEYBEERS   \n",
      "3        10002    14  775              CELINA DELI   \n",
      "4        10002    14  775              CELINA DELI   \n",
      "...        ...   ...  ...                      ...   \n",
      "19492    86355    43  638     VOSGES HAUT-CHOCOLAT   \n",
      "19493    86355    43  638     VOSGES HAUT-CHOCOLAT   \n",
      "19494    86355    43  638     VOSGES HAUT-CHOCOLAT   \n",
      "19495    86373    20  775  ALMUFLIHI FOOD & LIQUOR   \n",
      "19496    86373    20  775  ALMUFLIHI FOOD & LIQUOR   \n",
      "\n",
      "                          address      zip   first_name last_name        title  \n",
      "0                 2105 S STATE ST  60616.0       ROBERT     GLICK       MEMBER  \n",
      "1             13200 S HOUSTON AVE  60633.0        PEARL   SHERMAN    PRESIDENT  \n",
      "2             13200 S HOUSTON AVE  60633.0        PEARL   SHERMAN    SECRETARY  \n",
      "3               5089 S ARCHER AVE  60632.0       WALTER    MROZEK      PARTNER  \n",
      "4               5089 S ARCHER AVE  60632.0       CELINA    BYRDAK      PARTNER  \n",
      "...                           ...      ...          ...       ...          ...  \n",
      "19492        951 W ARMITAGE AVE 1  60614.0      KATRINA   MARKOFF    SECRETARY  \n",
      "19493        951 W ARMITAGE AVE 1  60614.0      KATRINA   MARKOFF    PRESIDENT  \n",
      "19494        951 W ARMITAGE AVE 1  60614.0          NaN       NaN  SHAREHOLDER  \n",
      "19495  5400-5404 S HALSTED ST 1ST  60609.0  ABDELFATTAH    HAMMAD    PRESIDENT  \n",
      "19496  5400-5404 S HALSTED ST 1ST  60609.0  ABDELFATTAH    HAMMAD    SECRETARY  \n",
      "\n",
      "[19497 rows x 9 columns]\n",
      "----Group licenses_owners by title and count the number of accounts for each title. Save the result as counted_df\n",
      "title\n",
      "ASST. SECRETARY        111\n",
      "BENEFICIARY              4\n",
      "CEO                    110\n",
      "DIRECTOR               146\n",
      "EXECUTIVE DIRECTOR      10\n",
      "GENERAL PARTNER         21\n",
      "INDIVIDUAL             268\n",
      "LIMITED PARTNER         26\n",
      "MANAGER                134\n",
      "MANAGING MEMBER        878\n",
      "MEMBER                 884\n",
      "NOT APPLICABLE          11\n",
      "OTHER                 1200\n",
      "PARTNER                451\n",
      "PRESIDENT             6259\n",
      "PRINCIPAL OFFICER       63\n",
      "SECRETARY             5205\n",
      "SHAREHOLDER            590\n",
      "SOLE PROPRIETOR       1658\n",
      "SPOUSE                  34\n",
      "TREASURER              447\n",
      "TRUSTEE                  6\n",
      "VICE PRESIDENT         970\n",
      "Name: account, dtype: int64\n",
      "----Sort counted_df by the number of accounts in descending order, and save this as a variable named sorted_df\n",
      "title\n",
      "PRESIDENT             6259\n",
      "SECRETARY             5205\n",
      "SOLE PROPRIETOR       1658\n",
      "OTHER                 1200\n",
      "VICE PRESIDENT         970\n",
      "MEMBER                 884\n",
      "MANAGING MEMBER        878\n",
      "SHAREHOLDER            590\n",
      "PARTNER                451\n",
      "TREASURER              447\n",
      "INDIVIDUAL             268\n",
      "DIRECTOR               146\n",
      "MANAGER                134\n",
      "ASST. SECRETARY        111\n",
      "CEO                    110\n",
      "PRINCIPAL OFFICER       63\n",
      "SPOUSE                  34\n",
      "LIMITED PARTNER         26\n",
      "GENERAL PARTNER         21\n",
      "NOT APPLICABLE          11\n",
      "EXECUTIVE DIRECTOR      10\n",
      "TRUSTEE                  6\n",
      "BENEFICIARY              4\n",
      "Name: account, dtype: int64\n",
      "----Use the .head() method to print the first few rows of the sorted_df\n",
      "title\n",
      "PRESIDENT          6259\n",
      "SECRETARY          5205\n",
      "SOLE PROPRIETOR    1658\n",
      "OTHER              1200\n",
      "VICE PRESIDENT      970\n",
      "Name: account, dtype: int64\n"
     ]
    }
   ],
   "source": [
    "# licenses_owners\n",
    "print(\"----Starting with the licenses table on the left, merge it to the biz_owners table on the column account. Save the results to a variable named licenses_owners.\")\n",
    "licenses_owners = licenses.merge(biz_owners, on=\"account\")\n",
    "print(licenses_owners)\n",
    "\n",
    "print(\"----Group licenses_owners by title and count the number of accounts for each title. Save the result as counted_df\")\n",
    "# counted_df\n",
    "counted_df = licenses_owners.groupby([\"title\"])[\"account\"].count()\n",
    "print(counted_df)\n",
    "\n",
    "print(\"----Sort counted_df by the number of accounts in descending order, and save this as a variable named sorted_df\")\n",
    "sorted_df = counted_df.sort_values(ascending=False)\n",
    "print(sorted_df)\n",
    "\n",
    "print(\"----Use the .head() method to print the first few rows of the sorted_df\")\n",
    "print(sorted_df.head())\n"
   ]
  },
  {
   "cell_type": "markdown",
   "id": "f501487d-ab4d-4292-9691-5a57a7d77c4d",
   "metadata": {},
   "source": [
    "#     Merging multiple DataFrames (VIDEO)"
   ]
  },
  {
   "cell_type": "code",
   "execution_count": 11,
   "id": "1aa026fe-c971-4249-b4af-d69688509148",
   "metadata": {},
   "outputs": [
    {
     "name": "stdout",
     "output_type": "stream",
     "text": [
      "----DataFrame Ward\n",
      "   ward            alderman                          address    zip\n",
      "0     1  Proco \"Joe\" Moreno        2058 NORTH WESTERN AVENUE  60647\n",
      "1     2       Brian Hopkins        1400 NORTH ASHLAND AVENUE  60622\n",
      "2     3          Pat Dowell          5046 SOUTH STATE STREET  60609\n",
      "3     4    William D. Burns  435 EAST 35TH STREET, 1ST FLOOR  60616\n",
      "4     5  Leslie A. Hairston            2325 EAST 71ST STREET  60649\n",
      "----DataFrame Licenses\n",
      "   account  ward  aid                   business               address  \\\n",
      "0   307071     3  743       REGGIE'S BAR & GRILL       2105 S STATE ST   \n",
      "1       10    10  829                 HONEYBEERS   13200 S HOUSTON AVE   \n",
      "2    10002    14  775                CELINA DELI     5089 S ARCHER AVE   \n",
      "3    10005    12  NaN  KRAFT FOODS NORTH AMERICA        2005 W 43RD ST   \n",
      "4    10044    44  638  NEYBOUR'S TAVERN & GRILLE  3651 N SOUTHPORT AVE   \n",
      "\n",
      "       zip  \n",
      "0  60616.0  \n",
      "1  60633.0  \n",
      "2  60632.0  \n",
      "3  60609.0  \n",
      "4  60613.0  \n",
      "----DataFrame Grants\n",
      "                address    zip  grant                    company\n",
      "0       2105 S STATE ST  60616  82386       REGGIE'S BAR & GRILL\n",
      "1   13200 S HOUSTON AVE  60633  64109                 HONEYBEERS\n",
      "2     5089 S ARCHER AVE  60632  84845                CELINA DELI\n",
      "3        2005 W 43RD ST  60609  52557  KRAFT FOODS NORTH AMERICA\n",
      "4  3651 N SOUTHPORT AVE  60613  82701  NEYBOUR'S TAVERN & GRILLE\n",
      "----Metodo .merge() y argumento ON= para cruzar 2 tablas sobre 2 columnas\n",
      "                      address    zip  grant                        company  \\\n",
      "0             2105 S STATE ST  60616  82386           REGGIE'S BAR & GRILL   \n",
      "1         13200 S HOUSTON AVE  60633  64109                     HONEYBEERS   \n",
      "2           5089 S ARCHER AVE  60632  84845                    CELINA DELI   \n",
      "3              2005 W 43RD ST  60609  52557      KRAFT FOODS NORTH AMERICA   \n",
      "4        3651 N SOUTHPORT AVE  60613  82701      NEYBOUR'S TAVERN & GRILLE   \n",
      "5       4023 S ARCHER AVE 1ST  60632  52732  SUPERMERCADO EL GUERO #10 INC   \n",
      "6            662 N HUDSON AVE  60610  87414    LEVEL 3 COMMUNICATIONS, LLC   \n",
      "7      200 E RANDOLPH ST 52ND  60601  74423        MITSUI & CO (U.S.A.)INC   \n",
      "8  1327 W WASHINGTON BLVD 103  60607  92609            MEDIA PROCESS GROUP   \n",
      "9           12800 S BUTLER DR  60633  23488       RESERVE MARINE TERMINALS   \n",
      "\n",
      "   account  ward  aid                       business  \n",
      "0   307071     3  743           REGGIE'S BAR & GRILL  \n",
      "1       10    10  829                     HONEYBEERS  \n",
      "2    10002    14  775                    CELINA DELI  \n",
      "3    10005    12  NaN      KRAFT FOODS NORTH AMERICA  \n",
      "4    10044    44  638      NEYBOUR'S TAVERN & GRILLE  \n",
      "5    10046    12  774  SUPERMERCADO EL GUERO #10 INC  \n",
      "6    10062    42  NaN    LEVEL 3 COMMUNICATIONS, LLC  \n",
      "7    10077    42  NaN        MITSUI & CO (U.S.A.)INC  \n",
      "8    10099    27  NaN            MEDIA PROCESS GROUP  \n",
      "9    10128    10  864       RESERVE MARINE TERMINALS  \n",
      "----Metodo .merge() para cruzar 3 o mas tablas\n",
      "                  address_bus  zip_bus  grant                        company  \\\n",
      "0             2105 S STATE ST    60616  82386           REGGIE'S BAR & GRILL   \n",
      "1         13200 S HOUSTON AVE    60633  64109                     HONEYBEERS   \n",
      "2           12800 S BUTLER DR    60633  23488       RESERVE MARINE TERMINALS   \n",
      "3           5089 S ARCHER AVE    60632  84845                    CELINA DELI   \n",
      "4              2005 W 43RD ST    60609  52557      KRAFT FOODS NORTH AMERICA   \n",
      "5       4023 S ARCHER AVE 1ST    60632  52732  SUPERMERCADO EL GUERO #10 INC   \n",
      "6        3651 N SOUTHPORT AVE    60613  82701      NEYBOUR'S TAVERN & GRILLE   \n",
      "7            662 N HUDSON AVE    60610  87414    LEVEL 3 COMMUNICATIONS, LLC   \n",
      "8      200 E RANDOLPH ST 52ND    60601  74423        MITSUI & CO (U.S.A.)INC   \n",
      "9  1327 W WASHINGTON BLVD 103    60607  92609            MEDIA PROCESS GROUP   \n",
      "\n",
      "   account  ward  aid                       business               alderman  \\\n",
      "0   307071     3  743           REGGIE'S BAR & GRILL             Pat Dowell   \n",
      "1       10    10  829                     HONEYBEERS  Susan Sadlowski Garza   \n",
      "2    10128    10  864       RESERVE MARINE TERMINALS  Susan Sadlowski Garza   \n",
      "3    10002    14  775                    CELINA DELI        Edward M. Burke   \n",
      "4    10005    12  NaN      KRAFT FOODS NORTH AMERICA        George Cardenas   \n",
      "5    10046    12  774  SUPERMERCADO EL GUERO #10 INC        George Cardenas   \n",
      "6    10044    44  638      NEYBOUR'S TAVERN & GRILLE             Tom Tunney   \n",
      "7    10062    42  NaN    LEVEL 3 COMMUNICATIONS, LLC         Brendan Reilly   \n",
      "8    10077    42  NaN        MITSUI & CO (U.S.A.)INC         Brendan Reilly   \n",
      "9    10099    27  NaN            MEDIA PROCESS GROUP    Walter Burnett, Jr.   \n",
      "\n",
      "                       address_ward  zip_ward  \n",
      "0           5046 SOUTH STATE STREET     60609  \n",
      "1          10500 SOUTH EWING AVENUE     60617  \n",
      "2          10500 SOUTH EWING AVENUE     60617  \n",
      "3             2650 WEST 51ST STREET     60632  \n",
      "4          3476 SOUTH ARCHER AVENUE     60608  \n",
      "5          3476 SOUTH ARCHER AVENUE     60608  \n",
      "6       3223 NORTH SHEFFIELD AVENUE     60657  \n",
      "7  325 WEST HURON STREET, SUITE 510     60654  \n",
      "8  325 WEST HURON STREET, SUITE 510     60654  \n",
      "9            4 NORTH WESTERN AVENUE     60612  \n",
      "----Escribiendo en 2 lineas\n",
      "----Grafica con el presupuesto de cada barrio\n"
     ]
    },
    {
     "data": {
      "image/png": "[encoded data removed]",
      "text/plain": [
       "<Figure size 432x288 with 1 Axes>"
      ]
     },
     "metadata": {
      "needs_background": "light"
     },
     "output_type": "display_data"
    }
   ],
   "source": [
    "# DATAFRAMES TO MERGE\n",
    "print(\"----DataFrame Ward\")\n",
    "print(wards.head())\n",
    "print(\"----DataFrame Licenses\")\n",
    "print(licenses.head())\n",
    "print(\"----DataFrame Grants\")\n",
    "print(grants.head())\n",
    "\n",
    "# SINGLE MERGE\n",
    "print(\"----Metodo .merge() y argumento ON= para cruzar 2 tablas sobre 2 columnas\")\n",
    "grants_licenses = grants.merge(licenses, on=[\"address\",\"zip\"])\n",
    "print(grants_licenses)\n",
    "\n",
    "# MERGING MULTIPLE TABLES\n",
    "print(\"----Metodo .merge() para cruzar 3 o mas tablas\")\n",
    "grants_licenses_wards = grants.merge(licenses, on=[\"address\",\"zip\"]).merge(wards, on=\"ward\", suffixes=(\"_bus\",\"_ward\"))\n",
    "print(grants_licenses_wards)\n",
    "\n",
    "print(\"----Escribiendo en 2 lineas\")\n",
    "grants_licenses_wards = grants.merge(licenses, on =[\"address\",\"zip\"]) \\\n",
    "    .merge(wards, on=\"ward\", suffixes=(\"_bus\",\"_wards\"))\n",
    "\n",
    "# BARPLOT of RESULTS\n",
    "print(\"----Grafica con el presupuesto de cada barrio\")\n",
    "import matplotlib.pyplot as plt\n",
    "grants_licenses_wards.groupby(\"ward\").aggregate(sum).plot(kind=\"bar\", y = \"grant\")\n",
    "plt.show()\n"
   ]
  },
  {
   "cell_type": "markdown",
   "id": "a7a40a93-6b4e-4dfd-a658-9a4e93e01b1c",
   "metadata": {},
   "source": [
    "# Total riders in a month"
   ]
  },
  {
   "cell_type": "raw",
   "id": "6a4f9386-713d-4c1c-a817-b0c2f332f8a6",
   "metadata": {},
   "source": [
    "Your goal is to find the total number of rides provided to passengers passing through the Wilson station (station_name == 'Wilson') when riding Chicago's public transportation system on weekdays (day_type == 'Weekday') in July (month == 7). \n",
    "Luckily, Chicago provides this detailed data, but it is in three different tables. \n",
    "You will work on merging these tables together to answer the question. This data is different from the business related data you have seen so far, but all the information you need to answer the question is provided.\n",
    "\n",
    "The cal, ridership, and stations DataFrames have been loaded for you. The relationship between the tables can be seen in the diagram below.\n",
    "\n",
    "The \"cal\" table relates to table \"ridership\" via year, month, and day. \n",
    "The \"ridership\" table relates to the \"stations\" table via column station_id.\n"
   ]
  },
  {
   "cell_type": "code",
   "execution_count": 12,
   "id": "de69778b-52c2-43b7-9aaa-5a32d4a285d5",
   "metadata": {},
   "outputs": [
    {
     "name": "stdout",
     "output_type": "stream",
     "text": [
      "----Merge the ridership and cal tables together, starting with the ridership table on the left and save the result to the variable ridership_cal\n",
      "      station_id  year  month  day  rides        day_type\n",
      "0          40010  2019      1    1    576  Sunday/Holiday\n",
      "1          40080  2019      1    1   1839  Sunday/Holiday\n",
      "2          40770  2019      1    1   2724  Sunday/Holiday\n",
      "3          40120  2019      1    1    754  Sunday/Holiday\n",
      "4          40540  2019      1    1   2175  Sunday/Holiday\n",
      "...          ...   ...    ...  ...    ...             ...\n",
      "3280       40540  2019     12   31   4355         Weekday\n",
      "3281       41260  2019     12   31   1228         Weekday\n",
      "3282       41500  2019     12   31   1685         Weekday\n",
      "3283       41440  2019     12   31   1370         Weekday\n",
      "3284       41660  2019     12   31  13430         Weekday\n",
      "\n",
      "[3285 rows x 6 columns]\n"
     ]
    }
   ],
   "source": [
    "# Instructions 1/3\n",
    "# 50 XP\n",
    "# 1\n",
    "# Merge the ridership and cal tables together, starting with the ridership table on the left and save the result to the variable ridership_cal. \n",
    "# If you code takes too long to run, your merge conditions might be incorrect.\n",
    "\n",
    "print(\"----Merge the ridership and cal tables together, starting with the ridership table on the left and save the result to the variable ridership_cal\")\n",
    "ridership_cal = ridership.merge(cal, on=[\"year\",\"month\",\"day\"])\n",
    "print(ridership_cal)"
   ]
  },
  {
   "cell_type": "code",
   "execution_count": 13,
   "id": "df1679de-7701-431f-8850-c5dfb4559c05",
   "metadata": {},
   "outputs": [
    {
     "name": "stdout",
     "output_type": "stream",
     "text": [
      "      station_id  year  month  day  rides        day_type        station_name  \\\n",
      "0          40010  2019      1    1    576  Sunday/Holiday  Austin-Forest Park   \n",
      "1          40010  2019      1    2   1457         Weekday  Austin-Forest Park   \n",
      "2          40010  2019      1    3   1543         Weekday  Austin-Forest Park   \n",
      "3          40010  2019      1    4   1621         Weekday  Austin-Forest Park   \n",
      "4          40010  2019      1    5    719        Saturday  Austin-Forest Park   \n",
      "...          ...   ...    ...  ...    ...             ...                 ...   \n",
      "3280       41660  2019     12   27  13898         Weekday          Lake/State   \n",
      "3281       41660  2019     12   28   9485        Saturday          Lake/State   \n",
      "3282       41660  2019     12   29   7581  Sunday/Holiday          Lake/State   \n",
      "3283       41660  2019     12   30  15332         Weekday          Lake/State   \n",
      "3284       41660  2019     12   31  13430         Weekday          Lake/State   \n",
      "\n",
      "                     location  \n",
      "0     (41.870851, -87.776812)  \n",
      "1     (41.870851, -87.776812)  \n",
      "2     (41.870851, -87.776812)  \n",
      "3     (41.870851, -87.776812)  \n",
      "4     (41.870851, -87.776812)  \n",
      "...                       ...  \n",
      "3280  (41.884809, -87.627813)  \n",
      "3281  (41.884809, -87.627813)  \n",
      "3282  (41.884809, -87.627813)  \n",
      "3283  (41.884809, -87.627813)  \n",
      "3284  (41.884809, -87.627813)  \n",
      "\n",
      "[3285 rows x 8 columns]\n"
     ]
    }
   ],
   "source": [
    "# Instructions 2/3\n",
    "# 50 XP\n",
    "# 3\n",
    "# Extend the previous merge to three tables by also merging the stations table.\n",
    "\n",
    "ridership_cal_stations = ridership.merge(cal, on=[\"year\",\"month\",\"day\"]).merge(stations, on=\"station_id\")\n",
    "print(ridership_cal_stations)"
   ]
  },
  {
   "cell_type": "code",
   "execution_count": 14,
   "id": "9a80829e-2cc9-4e72-aef3-0d19545b1aad",
   "metadata": {},
   "outputs": [
    {
     "name": "stdout",
     "output_type": "stream",
     "text": [
      "----Base final con información de viajes\n",
      "      station_id  year  month  day  rides        day_type        station_name  \\\n",
      "0          40010  2019      1    1    576  Sunday/Holiday  Austin-Forest Park   \n",
      "1          40010  2019      1    2   1457         Weekday  Austin-Forest Park   \n",
      "2          40010  2019      1    3   1543         Weekday  Austin-Forest Park   \n",
      "3          40010  2019      1    4   1621         Weekday  Austin-Forest Park   \n",
      "4          40010  2019      1    5    719        Saturday  Austin-Forest Park   \n",
      "...          ...   ...    ...  ...    ...             ...                 ...   \n",
      "3280       41660  2019     12   27  13898         Weekday          Lake/State   \n",
      "3281       41660  2019     12   28   9485        Saturday          Lake/State   \n",
      "3282       41660  2019     12   29   7581  Sunday/Holiday          Lake/State   \n",
      "3283       41660  2019     12   30  15332         Weekday          Lake/State   \n",
      "3284       41660  2019     12   31  13430         Weekday          Lake/State   \n",
      "\n",
      "                     location  \n",
      "0     (41.870851, -87.776812)  \n",
      "1     (41.870851, -87.776812)  \n",
      "2     (41.870851, -87.776812)  \n",
      "3     (41.870851, -87.776812)  \n",
      "4     (41.870851, -87.776812)  \n",
      "...                       ...  \n",
      "3280  (41.884809, -87.627813)  \n",
      "3281  (41.884809, -87.627813)  \n",
      "3282  (41.884809, -87.627813)  \n",
      "3283  (41.884809, -87.627813)  \n",
      "3284  (41.884809, -87.627813)  \n",
      "\n",
      "[3285 rows x 8 columns]\n",
      "----Base filtrada con informacion de la estacion Wilson, de Weekday y Julio\n",
      "      station_id  year  month  day  rides day_type station_name  \\\n",
      "1641       40540  2019      7    1   6464  Weekday       Wilson   \n",
      "1642       40540  2019      7    2   6491  Weekday       Wilson   \n",
      "1643       40540  2019      7    3   6639  Weekday       Wilson   \n",
      "1645       40540  2019      7    5   4794  Weekday       Wilson   \n",
      "1648       40540  2019      7    8   6351  Weekday       Wilson   \n",
      "1649       40540  2019      7    9   6483  Weekday       Wilson   \n",
      "1650       40540  2019      7   10   6550  Weekday       Wilson   \n",
      "1651       40540  2019      7   11   6591  Weekday       Wilson   \n",
      "1652       40540  2019      7   12   6309  Weekday       Wilson   \n",
      "1655       40540  2019      7   15   6298  Weekday       Wilson   \n",
      "1656       40540  2019      7   16   6570  Weekday       Wilson   \n",
      "1657       40540  2019      7   17   6770  Weekday       Wilson   \n",
      "1658       40540  2019      7   18   6145  Weekday       Wilson   \n",
      "1659       40540  2019      7   19   6115  Weekday       Wilson   \n",
      "1662       40540  2019      7   22   6328  Weekday       Wilson   \n",
      "1663       40540  2019      7   23   6881  Weekday       Wilson   \n",
      "1664       40540  2019      7   24   6796  Weekday       Wilson   \n",
      "1665       40540  2019      7   25   6720  Weekday       Wilson   \n",
      "1666       40540  2019      7   26   6109  Weekday       Wilson   \n",
      "1669       40540  2019      7   29   5893  Weekday       Wilson   \n",
      "1670       40540  2019      7   30   6306  Weekday       Wilson   \n",
      "1671       40540  2019      7   31   6402  Weekday       Wilson   \n",
      "\n",
      "                     location  \n",
      "1641  (41.964273, -87.657588)  \n",
      "1642  (41.964273, -87.657588)  \n",
      "1643  (41.964273, -87.657588)  \n",
      "1645  (41.964273, -87.657588)  \n",
      "1648  (41.964273, -87.657588)  \n",
      "1649  (41.964273, -87.657588)  \n",
      "1650  (41.964273, -87.657588)  \n",
      "1651  (41.964273, -87.657588)  \n",
      "1652  (41.964273, -87.657588)  \n",
      "1655  (41.964273, -87.657588)  \n",
      "1656  (41.964273, -87.657588)  \n",
      "1657  (41.964273, -87.657588)  \n",
      "1658  (41.964273, -87.657588)  \n",
      "1659  (41.964273, -87.657588)  \n",
      "1662  (41.964273, -87.657588)  \n",
      "1663  (41.964273, -87.657588)  \n",
      "1664  (41.964273, -87.657588)  \n",
      "1665  (41.964273, -87.657588)  \n",
      "1666  (41.964273, -87.657588)  \n",
      "1669  (41.964273, -87.657588)  \n",
      "1670  (41.964273, -87.657588)  \n",
      "1671  (41.964273, -87.657588)  \n",
      "----Total de viajes tales en la estacion Wilson, de Weekday y Julio\n",
      "140005\n"
     ]
    }
   ],
   "source": [
    "# Instructions 3/3\n",
    "# 0 XP\n",
    "# 3\n",
    "# Create a variable called filter_criteria to select the appropriate rows from the merged table so that you can sum the rides column.\n",
    "# Remember your goal is to find the total number of rides provided to passengers passing through the Wilson station (station_name == 'Wilson') \n",
    "# when riding Chicago's public transportation system on weekdays (day_type == 'Weekday') in July (month == 7).\n",
    "\n",
    "print(\"----Base final con información de viajes\")\n",
    "print(ridership_cal_stations)\n",
    "filas = (ridership_cal_stations[\"station_name\"] == \"Wilson\") & (ridership_cal_stations[\"day_type\"] == \"Weekday\") & (ridership_cal_stations[\"month\"] == 7)\n",
    "print(\"----Base filtrada con informacion de la estacion Wilson, de Weekday y Julio\")\n",
    "print(ridership_cal_stations[filas])\n",
    "print(\"----Total de viajes tales en la estacion Wilson, de Weekday y Julio\")\n",
    "print(ridership_cal_stations[filas][\"rides\"].sum())"
   ]
  },
  {
   "cell_type": "markdown",
   "id": "21d41ffa-ecf8-4e24-9529-5987df2454d0",
   "metadata": {},
   "source": [
    "# Three table merge"
   ]
  },
  {
   "cell_type": "raw",
   "id": "c7ddff01-fb0d-40c7-adf2-8b1460157280",
   "metadata": {},
   "source": [
    "To solidify the concept of a three DataFrame merge, practice another exercise. \n",
    "A reasonable extension of our review of Chicago business data would include looking at demographics information about the neighborhoods where the businesses are. \n",
    "A table with the median income by zip code has been provided to you. \n",
    "You will merge the licenses and wards tables with this new income-by-zip-code table called zip_demo.\n",
    "\n",
    "The licenses, wards, and zip_demo DataFrames have been loaded for you."
   ]
  },
  {
   "cell_type": "code",
   "execution_count": 15,
   "id": "a1fe453e-8c7b-4646-8781-e0ee2885f0b3",
   "metadata": {},
   "outputs": [
    {
     "name": "stdout",
     "output_type": "stream",
     "text": [
      "----Starting with the licenses table, merge to it the zip_demo table on the zip column\n",
      "----Then merge the resulting table to the wards table on the ward column\n",
      "----Save result of the three merged tables to a variable named licenses_zip_ward.\n",
      "      account  ward  aid                   business                address_x  \\\n",
      "0      307071     3  743       REGGIE'S BAR & GRILL          2105 S STATE ST   \n",
      "1       11280     3  763                  PRIME WAY      2251 S STATE ST 1ST   \n",
      "2       15015     3  NaN      SOUTHVIEW MANOR, INC.      3311 S MICHIGAN AVE   \n",
      "3       19168     3  666                   BP AMOCO  3101 S MICHIGAN AVE 1ST   \n",
      "4      205980     3  763       J & J FISH & CHICKEN            8 E CERMAK RD   \n",
      "...       ...   ...  ...                        ...                      ...   \n",
      "9989   278535    18  NaN       LOOP DEVELOPMENT PTR           3135 W 71ST ST   \n",
      "9990    35801    18  NaN    MOTHER'S TOUCH DAY CARE       2501 W 71ST ST 1ST   \n",
      "9991   395464    18  894      Brother's Barber Shop         2445 W 71ST ST 1   \n",
      "9992    42012    18  NaN               WINSTON LOTT       2957 W 71ST ST 1ST   \n",
      "9993    85634    18  NaN  KIDS \"R\" US OUTLET CENTER      7455 S CICERO AVE 1   \n",
      "\n",
      "        zip_x  index  income           alderman                address_y  \\\n",
      "0     60616.0     29   46340         Pat Dowell  5046 SOUTH STATE STREET   \n",
      "1     60616.0     29   46340         Pat Dowell  5046 SOUTH STATE STREET   \n",
      "2     60616.0     29   46340         Pat Dowell  5046 SOUTH STATE STREET   \n",
      "3     60616.0     29   46340         Pat Dowell  5046 SOUTH STATE STREET   \n",
      "4     60616.0     29   46340         Pat Dowell  5046 SOUTH STATE STREET   \n",
      "...       ...    ...     ...                ...                      ...   \n",
      "9989  60629.0     14   41856  Derrick G. Curtis  8359 SOUTH PULASKI ROAD   \n",
      "9990  60629.0     14   41856  Derrick G. Curtis  8359 SOUTH PULASKI ROAD   \n",
      "9991  60629.0     14   41856  Derrick G. Curtis  8359 SOUTH PULASKI ROAD   \n",
      "9992  60629.0     14   41856  Derrick G. Curtis  8359 SOUTH PULASKI ROAD   \n",
      "9993  60629.0     14   41856  Derrick G. Curtis  8359 SOUTH PULASKI ROAD   \n",
      "\n",
      "      zip_y  \n",
      "0     60609  \n",
      "1     60609  \n",
      "2     60609  \n",
      "3     60609  \n",
      "4     60609  \n",
      "...     ...  \n",
      "9989  60652  \n",
      "9990  60652  \n",
      "9991  60652  \n",
      "9992  60652  \n",
      "9993  60652  \n",
      "\n",
      "[9994 rows x 11 columns]\n",
      "----Group the results of the three merged tables by the column alderman and find the median income\n",
      "alderman\n",
      "Ameya Pawar                   66246.0\n",
      "Anthony A. Beale              38206.0\n",
      "Anthony V. Napolitano         82226.0\n",
      "Ariel E. Reyboras             41307.0\n",
      "Brendan Reilly               110215.0\n",
      "Brian Hopkins                 87143.0\n",
      "Carlos Ramirez-Rosa           66246.0\n",
      "Carrie M. Austin              38206.0\n",
      "Chris Taliaferro              55566.0\n",
      "Daniel \"Danny\" Solis          41226.0\n",
      "David H. Moore                33304.0\n",
      "Deborah Mell                  66246.0\n",
      "Debra L. Silverstein          50554.0\n",
      "Derrick G. Curtis             65770.0\n",
      "Edward M. Burke               42335.0\n",
      "Emma M. Mitts                 36283.0\n",
      "George Cardenas               33959.0\n",
      "Gilbert Villegas              41307.0\n",
      "Gregory I. Mitchell           24941.0\n",
      "Harry Osterman                45442.0\n",
      "Howard B. Brookins, Jr.       33304.0\n",
      "James Cappleman               79565.0\n",
      "Jason C. Ervin                41226.0\n",
      "Joe Moore                     39163.0\n",
      "John S. Arena                 70122.0\n",
      "Leslie A. Hairston            28024.0\n",
      "Margaret Laurino              70122.0\n",
      "Marty Quinn                   67045.0\n",
      "Matthew J. O'Shea             59488.0\n",
      "Michael R. Zalewski           42335.0\n",
      "Michael Scott, Jr.            31445.0\n",
      "Michelle A. Harris            32558.0\n",
      "Michelle Smith               100116.0\n",
      "Milagros \"Milly\" Santiago     41307.0\n",
      "Nicholas Sposato              62223.0\n",
      "Pat Dowell                    46340.0\n",
      "Patrick Daley Thompson        41226.0\n",
      "Patrick J. O'Connor           50554.0\n",
      "Proco \"Joe\" Moreno            87143.0\n",
      "Raymond A. Lopez              33959.0\n",
      "Ricardo Munoz                 31445.0\n",
      "Roberto Maldonado             68223.0\n",
      "Roderick T. Sawyer            32558.0\n",
      "Scott Waguespack              68223.0\n",
      "Susan Sadlowski Garza         38417.0\n",
      "Tom Tunney                    88708.0\n",
      "Toni L. Foulkes               27573.0\n",
      "Walter Burnett, Jr.           87143.0\n",
      "William D. Burns             107811.0\n",
      "Willie B. Cochran             28024.0\n",
      "Name: income, dtype: float64\n"
     ]
    }
   ],
   "source": [
    "# Instructions\n",
    "# 100 XP\n",
    "# Starting with the licenses table, merge to it the zip_demo table on the zip column. \n",
    "# Then merge the resulting table to the wards table on the ward column. \n",
    "# Save result of the three merged tables to a variable named licenses_zip_ward.\n",
    "# Group the results of the three merged tables by the column alderman and find the median income.\n",
    "\n",
    "print(\"----Starting with the licenses table, merge to it the zip_demo table on the zip column\")\n",
    "print(\"----Then merge the resulting table to the wards table on the ward column\")\n",
    "print(\"----Save result of the three merged tables to a variable named licenses_zip_ward.\")\n",
    "licenses_zip_ward = licenses.merge(zip_demo, on=\"zip\").merge(wards, on=\"ward\")\n",
    "print(licenses_zip_ward)\n",
    "\n",
    "print(\"----Group the results of the three merged tables by the column alderman and find the median income\")\n",
    "print(licenses_zip_ward.groupby(\"alderman\")[\"income\"].agg(np.median))\n"
   ]
  },
  {
   "cell_type": "markdown",
   "id": "0c6b425e-cb31-40a3-a86f-1ce96728a600",
   "metadata": {},
   "source": [
    "# One-to-many merge with multiple tables"
   ]
  },
  {
   "cell_type": "raw",
   "id": "68eb665c-76ad-4a8d-bb24-04da7128334f",
   "metadata": {},
   "source": [
    "Exercise\n",
    "One-to-many merge with multiple tables\n",
    "In this exercise, assume that you are looking to start a business in the city of Chicago. Your perfect idea is to start a company that uses goats to mow the lawn for other businesses. However, you have to choose a location in the city to put your goat farm. You need a location with a great deal of space and relatively few businesses and people around to avoid complaints about the smell. You will need to merge three tables to help you choose your location. The land_use table has info on the percentage of vacant land by city ward. The census table has population by ward, and the licenses table lists businesses by ward.\n",
    "\n",
    "The land_use, census, and licenses tables have been loaded for you."
   ]
  },
  {
   "cell_type": "code",
   "execution_count": 16,
   "id": "25d2a522-d13e-4eb4-92be-345da02398c2",
   "metadata": {},
   "outputs": [
    {
     "name": "stdout",
     "output_type": "stream",
     "text": [
      "----DataFrame land_use\n",
      "   ward  residential  commercial  industrial  vacant  other\n",
      "0     1           41           9           2       2     46\n",
      "1     2           31          11           6       2     50\n",
      "2     3           20           5           3      13     59\n",
      "3     4           22          13           0       7     58\n",
      "4     5           25           3           1       3     68\n",
      "----DataFrame census\n",
      "   ward  pop_2000  pop_2010  change                                  address  \\\n",
      "0     1     52951     56149    0.06              2765 WEST SAINT MARY STREET   \n",
      "1     2     54361     55805    0.03                 WM WASTE MANAGEMENT 1500   \n",
      "2     3     40385     53039    0.31                      17 EAST 38TH STREET   \n",
      "3     4     51953     54589    0.05  31ST ST HARBOR BUILDING LAKEFRONT TRAIL   \n",
      "4     5     55302     51455   -0.07  JACKSON PARK LAGOON SOUTH CORNELL DRIVE   \n",
      "\n",
      "     zip  \n",
      "0  60647  \n",
      "1  60622  \n",
      "2  60653  \n",
      "3  60653  \n",
      "4  60637  \n",
      "----DataFrame licenses\n",
      "   account  ward  aid                   business               address  \\\n",
      "0   307071     3  743       REGGIE'S BAR & GRILL       2105 S STATE ST   \n",
      "1       10    10  829                 HONEYBEERS   13200 S HOUSTON AVE   \n",
      "2    10002    14  775                CELINA DELI     5089 S ARCHER AVE   \n",
      "3    10005    12  NaN  KRAFT FOODS NORTH AMERICA        2005 W 43RD ST   \n",
      "4    10044    44  638  NEYBOUR'S TAVERN & GRILLE  3651 N SOUTHPORT AVE   \n",
      "\n",
      "       zip  \n",
      "0  60616.0  \n",
      "1  60633.0  \n",
      "2  60632.0  \n",
      "3  60609.0  \n",
      "4  60613.0  \n",
      "----Join entre estos 3 DataFrame\n",
      "   ward  residential  commercial  industrial  vacant  other  pop_2000  \\\n",
      "0     1           41           9           2       2     46     52951   \n",
      "1     1           41           9           2       2     46     52951   \n",
      "2     1           41           9           2       2     46     52951   \n",
      "3     1           41           9           2       2     46     52951   \n",
      "4     1           41           9           2       2     46     52951   \n",
      "\n",
      "   pop_2010  change                  address_cen  zip_cen  account  aid  \\\n",
      "0     56149    0.06  2765 WEST SAINT MARY STREET    60647    12024  NaN   \n",
      "1     56149    0.06  2765 WEST SAINT MARY STREET    60647    14446  743   \n",
      "2     56149    0.06  2765 WEST SAINT MARY STREET    60647    14624  775   \n",
      "3     56149    0.06  2765 WEST SAINT MARY STREET    60647    14987  NaN   \n",
      "4     56149    0.06  2765 WEST SAINT MARY STREET    60647    15642  814   \n",
      "\n",
      "               business              address_lic  zip_lic  \n",
      "0   DIGILOG ELECTRONICS       1038 N ASHLAND AVE  60622.0  \n",
      "1      EMPTY BOTTLE INC   1035 N WESTERN AVE 1ST  60622.0  \n",
      "2  LITTLE MEL'S HOT DOG    2205 N CALIFORNIA AVE  60647.0  \n",
      "3    MR. BROWN'S LOUNGE   2301 W CHICAGO AVE 1ST  60622.0  \n",
      "4          Beat Kitchen  2000-2100 W DIVISION ST  60622.0  \n"
     ]
    }
   ],
   "source": [
    "# Instructions 1/3\n",
    "# 35 XP\n",
    "#1\n",
    "# Merge land_use and census on the ward column. \n",
    "# Merge the result of this with licenses on the ward column, using the suffix _cen for the left table and _lic for the right table. \n",
    "# Save this to the variable land_cen_lic.\n",
    "\n",
    "print(\"----DataFrame land_use\")\n",
    "print(land_use.head())\n",
    "print(\"----DataFrame census\")\n",
    "print(census.head())\n",
    "print(\"----DataFrame licenses\")\n",
    "print(licenses.head())\n",
    "print(\"----Join entre estos 3 DataFrame\")\n",
    "land_cen_lic = land_use.merge(census, on=\"ward\").merge(licenses, on=\"ward\", suffixes=(\"_cen\",\"_lic\"))\n",
    "print(land_cen_lic.head())\n"
   ]
  },
  {
   "cell_type": "code",
   "execution_count": 17,
   "id": "e2ef761d-d672-41ef-8c05-afe8c3805bb4",
   "metadata": {},
   "outputs": [
    {
     "name": "stdout",
     "output_type": "stream",
     "text": [
      "   ward  pop_2010  vacant  account\n",
      "0     1     56149       2      253\n",
      "1     2     55805       2      301\n",
      "2     3     53039      13      173\n",
      "3     4     54589       7      160\n",
      "4     5     51455       3      104\n"
     ]
    }
   ],
   "source": [
    "# Instructions 2/3\n",
    "# 35 XP\n",
    "# 2\n",
    "# Group land_cen_lic by ward, pop_2010 (the population in 2010), and vacant, then count the number of accounts. Save the results to pop_vac_lic.\n",
    "\n",
    "pop_vac_lic = land_cen_lic.groupby([\"ward\",\"pop_2010\",\"vacant\"])[\"account\"].count()\n",
    "pop_vac_lic = pop_vac_lic.reset_index()\n",
    "print(pop_vac_lic.head())"
   ]
  },
  {
   "cell_type": "code",
   "execution_count": 18,
   "id": "6a7e740f-fc06-4341-8881-f297b286e59f",
   "metadata": {},
   "outputs": [
    {
     "name": "stdout",
     "output_type": "stream",
     "text": [
      "    ward  pop_2010  vacant  account\n",
      "6      7     51581      19       80\n",
      "19    20     52372      15      123\n",
      "9     10     51535      14      130\n",
      "23    24     54909      13       98\n",
      "15    16     51954      13      156\n"
     ]
    }
   ],
   "source": [
    "# Instructions 3/3\n",
    "# 30 XP\n",
    "# 3\n",
    "# Sort pop_vac_lic by vacant, account, and pop_2010 in descending, ascending, and ascending order respectively. Save it as sorted_pop_vac_lic.\n",
    "\n",
    "sorted_pop_vac_lic =  pop_vac_lic.sort_values(by=[\"vacant\",\"account\",\"pop_2010\"], ascending=[False,True,True])\n",
    "print(sorted_pop_vac_lic.head())"
   ]
  },
  {
   "cell_type": "markdown",
   "id": "d3199612-8871-419e-8190-fce5f76dcb54",
   "metadata": {},
   "source": [
    "# <span style=\"color:red\"> Chapter 2 Merging Tables With Different Join Types </span>"
   ]
  },
  {
   "cell_type": "raw",
   "id": "8643d058-3ead-458f-9731-71eea0260e48",
   "metadata": {
    "tags": []
   },
   "source": [
    "Chapter 2 Merging Tables With Different Join Types\n",
    "Take your knowledge of joins to the next level. In this chapter, you’ll work with TMDb movie data as you learn about left, right, and outer joins. You’ll also discover how to merge a table to itself and merge on a DataFrame index.\n",
    "\n",
    "    Left join (VIDEO)\n",
    "    Counting missing rows with left join\n",
    "    Enriching a dataset\n",
    "    How many rows with a left join?\n",
    "    Other joins (VIDEO)\n",
    "    Right join to find unique movies\n",
    "    Popular genres with right join\n",
    "    Using outer join to select actors\n",
    "    Merging a table to itself (VIDEO)\n",
    "    Self join\n",
    "    How does pandas handle self joins?\n",
    "    Merging on indexes (VIDEO)\n",
    "    Index merge for movie ratings\n",
    "    Do sequels earn more?"
   ]
  },
  {
   "cell_type": "code",
   "execution_count": 19,
   "id": "d34158c1-829a-4ead-a5e1-ebf3059fa506",
   "metadata": {},
   "outputs": [],
   "source": [
    "# Lectura de archivos para el capítulo\n",
    "\n",
    "movies = pd.read_excel(\"movies.xlsx\")\n",
    "taglines = pd.read_excel(\"taglines.xlsx\")\n",
    "toy_story = pd.read_excel(\"toy_story.xlsx\")\n",
    "financials = pd.read_excel(\"financials.xlsx\")\n",
    "left_table = pd.read_excel(\"left_table.xlsx\")\n",
    "one_to_one = pd.read_excel(\"one_to_one.xlsx\")\n",
    "one_to_many = pd.read_excel(\"one_to_many.xlsx\")\n",
    "\n",
    "scifi_movies = pd.read_excel(\"scifi_movies.xlsx\")\n",
    "action_movies = pd.read_excel(\"action_movies.xlsx\")\n",
    "pop_movies = pd.read_excel(\"pop_movies.xlsx\")\n",
    "movie_to_genres = pd.read_excel(\"movie_to_genres.xlsx\")\n",
    "iron_1_actors = pd.read_excel(\"iron_1_actors.xlsx\")\n",
    "iron_2_actors = pd.read_excel(\"iron_2_actors.xlsx\")\n",
    "\n",
    "crews = pd.read_excel(\"crews.xlsx\")\n",
    "ratings = pd.read_excel(\"ratings.xlsx\")\n",
    "sequels = pd.read_excel(\"sequels.xlsx\")\n",
    "cast = pd.read_excel(\"cast.xlsx\")\n",
    "samuel = pd.read_excel(\"samuel.xlsx\")"
   ]
  },
  {
   "cell_type": "markdown",
   "id": "718589e0-da87-4225-955f-8e2dae8b8466",
   "metadata": {},
   "source": [
    "##     Left join (VIDEO)"
   ]
  },
  {
   "cell_type": "code",
   "execution_count": 20,
   "id": "2101fbfb-8e9d-4114-9acc-5c23acb0071b",
   "metadata": {},
   "outputs": [
    {
     "name": "stdout",
     "output_type": "stream",
     "text": [
      "----Metodo .merge() y argumento how='left' para realizar un Left Join\n",
      "      id                 title  popularity release_date  \\\n",
      "0    257          Oliver Twist   20.415572   2005-09-23   \n",
      "1  14290  Better Luck Tomorrow    3.877036   2002-01-12   \n",
      "2  38365             Grown Ups   38.864027   2010-06-24   \n",
      "3   9672              Infamous    3.680896   2006-11-16   \n",
      "4  12819       Alpha and Omega   12.300789   2010-09-17   \n",
      "\n",
      "                                           tagline  \n",
      "0                                              NaN  \n",
      "1             Never underestimate an overachiever.  \n",
      "2  Boys will be boys. . . some longer than others.  \n",
      "3          There's more to the story than you know  \n",
      "4                           A Pawsome 3D Adventure  \n"
     ]
    }
   ],
   "source": [
    "# MERGE WITH LEFT JOIN\n",
    "print(\"----Metodo .merge() y argumento how='left' para realizar un Left Join\")\n",
    "movies_taglines = movies.merge(taglines, on=\"id\", how=\"left\")\n",
    "print(movies_taglines.head())"
   ]
  },
  {
   "cell_type": "markdown",
   "id": "4c4c0b50-d55a-4eb8-a4ea-0e4669af90de",
   "metadata": {},
   "source": [
    "## Counting missing rows with left join\n"
   ]
  },
  {
   "cell_type": "raw",
   "id": "2f5fbe0b-f17a-4140-af06-4aa52fc57b8d",
   "metadata": {},
   "source": [
    "The Movie Database is supported by volunteers going out into the world, collecting data, and entering it into the database. \n",
    "This includes financial data, such as movie budget and revenue. If you wanted to know which movies are still missing data, \n",
    "you could use a left join to identify them. Practice using a left join by merging the movies table and the financials table.\n",
    "\n",
    "The movies and financials tables have been loaded for you."
   ]
  },
  {
   "cell_type": "code",
   "execution_count": 21,
   "id": "41266857-fce2-4449-b4bb-3b82b458457a",
   "metadata": {},
   "outputs": [],
   "source": [
    "# Instructions 1/3\n",
    "# 35 XP\n",
    "# 1\n",
    "# Question\n",
    "# What column is likely the best column to merge the two tables on?\n",
    "# Possible Answers:\n",
    "#    on='budget'\n",
    "#    on='popularity'\n",
    "#    on='id'          <- Repuesta correcta"
   ]
  },
  {
   "cell_type": "code",
   "execution_count": 22,
   "id": "72b8aa95-b444-4e67-8b3c-d4bbd1f0727a",
   "metadata": {},
   "outputs": [
    {
     "name": "stdout",
     "output_type": "stream",
     "text": [
      "      id                 title  popularity release_date      budget  \\\n",
      "0    257          Oliver Twist   20.415572   2005-09-23  50000000.0   \n",
      "1  14290  Better Luck Tomorrow    3.877036   2002-01-12         NaN   \n",
      "2  38365             Grown Ups   38.864027   2010-06-24  80000000.0   \n",
      "3   9672              Infamous    3.680896   2006-11-16  13000000.0   \n",
      "4  12819       Alpha and Omega   12.300789   2010-09-17  20000000.0   \n",
      "\n",
      "       revenue  \n",
      "0   42093710.0  \n",
      "1          NaN  \n",
      "2  271430200.0  \n",
      "3    1151330.0  \n",
      "4   39300000.0  \n"
     ]
    }
   ],
   "source": [
    "# Instructions 2/3\n",
    "# 35 XP\n",
    "# 2\n",
    "# Merge the movies table, as the left table, with the financials table using a left join, and save the result to movies_financials.\n",
    "\n",
    "movies_financials = movies.merge(financials, on=\"id\", how = \"left\")\n",
    "print(movies_financials.head())"
   ]
  },
  {
   "cell_type": "code",
   "execution_count": 23,
   "id": "df961fd6-f611-462f-bdcf-d05e53939854",
   "metadata": {},
   "outputs": [
    {
     "name": "stdout",
     "output_type": "stream",
     "text": [
      "Numero de valores Na: 1574\n"
     ]
    }
   ],
   "source": [
    "# Instructions 3/3\n",
    "# 30 XP\n",
    "# 3\n",
    "# Count the number of rows in movies_financials with a null value in the budget column.\n",
    "\n",
    "number_of_missing_fin = movies_financials[\"budget\"].isnull().sum()\n",
    "print(\"Numero de valores Na:\", number_of_missing_fin)"
   ]
  },
  {
   "cell_type": "code",
   "execution_count": 24,
   "id": "956f428b-2dbe-4752-a57f-b58b5887ad09",
   "metadata": {},
   "outputs": [],
   "source": [
    "# You used a left join to find out which rows in the financials table were missing data. \n",
    "# When performing a left join, the .merge() method returns a row full of null values for columns in the right table \n",
    "# if the key column does not have a matching value in both tables. We see that there are at least 1,500 rows missing data. Wow! \n",
    "# That sounds like a lot of work."
   ]
  },
  {
   "cell_type": "markdown",
   "id": "589e120d-3fe6-4ec4-9e4d-56bedba3384d",
   "metadata": {},
   "source": [
    "# Enriching a dataset\n"
   ]
  },
  {
   "cell_type": "markdown",
   "id": "097e3119-7c3e-42a9-9e25-cc20c7a36ff7",
   "metadata": {},
   "source": [
    "Enriching a dataset\n",
    "Setting how='left' with the .merge()method is a useful technique for enriching or enhancing a dataset with additional information from a different table. \n",
    "In this exercise, you will start off with a sample of movie data from the movie series Toy Story. \n",
    "Your goal is to enrich this data by adding the marketing tag line for each movie. \n",
    "You will compare the results of a left join versus an inner join.\n",
    "\n",
    "The toy_story DataFrame contains the Toy Story movies. The toy_story and taglines DataFrames have been loaded for you."
   ]
  },
  {
   "cell_type": "code",
   "execution_count": 25,
   "id": "b11891fc-8bc8-4614-80fb-e5b24415c920",
   "metadata": {},
   "outputs": [
    {
     "name": "stdout",
     "output_type": "stream",
     "text": [
      "      id        title  popularity release_date                   tagline\n",
      "0  10193  Toy Story 3   59.995418   2010-06-16  No toy gets left behind.\n",
      "1    863  Toy Story 2   73.575118   1999-10-30        The toys are back!\n",
      "2    862    Toy Story   73.640445   1995-10-30                       NaN\n"
     ]
    }
   ],
   "source": [
    "# Instructions 1/2\n",
    "# 50 XP\n",
    "# 1\n",
    "# Merge toy_story and taglines on the id column with a left join, and save the result as toystory_tag.\n",
    "\n",
    "toystory_tag = toy_story.merge(taglines, on=\"id\", how=\"left\")\n",
    "print(toystory_tag)"
   ]
  },
  {
   "cell_type": "code",
   "execution_count": 26,
   "id": "64e30d1e-9e4a-4855-a798-7779354ea59a",
   "metadata": {},
   "outputs": [
    {
     "name": "stdout",
     "output_type": "stream",
     "text": [
      "      id        title  popularity release_date                   tagline\n",
      "0  10193  Toy Story 3   59.995418   2010-06-16  No toy gets left behind.\n",
      "1    863  Toy Story 2   73.575118   1999-10-30        The toys are back!\n"
     ]
    }
   ],
   "source": [
    "# Instructions 2/2\n",
    "# 50 XP\n",
    "# 2\n",
    "# With toy_story as the left table, merge to it taglines on the id column with an inner join, and save as toystory_tag.\n",
    "\n",
    "toystory_tag = toy_story.merge(taglines, on=\"id\", how=\"inner\")\n",
    "print(toystory_tag)"
   ]
  },
  {
   "cell_type": "code",
   "execution_count": 27,
   "id": "6097c79a-d3cd-4a78-8558-c10c0a9df6a7",
   "metadata": {},
   "outputs": [],
   "source": [
    "# That's fantastic work! If your goal is to enhance or enrich a dataset, then you do not want to lose any of your original data. \n",
    "# A left join will do that by returning all of the rows of your left table, while using an inner join may result in lost data \n",
    "# if it does not exist in both tables."
   ]
  },
  {
   "cell_type": "markdown",
   "id": "3ceb25d4-c2df-4fe7-962a-e10308514058",
   "metadata": {},
   "source": [
    "# How many rows with a left join?\n"
   ]
  },
  {
   "cell_type": "raw",
   "id": "ae385be0-6ec6-4594-a5a6-a5c7680d716d",
   "metadata": {},
   "source": [
    "Exercise\n",
    "How many rows with a left join?\n",
    "Select the true statement about left joins.\n",
    "\n",
    "Try running the following code statements in the IPython shell.\n",
    "\n",
    "left_table.merge(one_to_one, on='id', how='left').shape\n",
    "left_table.merge(one_to_many, on='id', how='left').shape\n",
    "Note that the left_table starts out with 4 rows."
   ]
  },
  {
   "cell_type": "code",
   "execution_count": 28,
   "id": "9e676472-d500-4dff-ad4d-b3699a3d432e",
   "metadata": {},
   "outputs": [
    {
     "name": "stdout",
     "output_type": "stream",
     "text": [
      "----Dimension del DF left_table\n",
      "(4, 4)\n",
      "----Dimension del DF one_to_one\n",
      "(3955, 2)\n",
      "----Dimension del DF one_to_many\n",
      "(42502, 3)\n",
      "----Resultado de 'left_table' left join con 'one_to_one' \n",
      "(4, 5)\n",
      "----Resultado de 'left_table' left join con 'one_to_many' \n",
      "(232, 6)\n"
     ]
    }
   ],
   "source": [
    "# Instructions\n",
    "# 50 XP\n",
    "# Possible Answers\n",
    "\n",
    "# The output of a one-to-one merge with a left join will have more rows than the left table.\n",
    "# The output of a one-to-one merge with a left join will have fewer rows than the left table.\n",
    "# The output of a one-to-many merge with a left join will have greater than or equal rows than the left table.\n",
    "\n",
    "print(\"----Dimension del DF left_table\")\n",
    "print(left_table.shape)\n",
    "print(\"----Dimension del DF one_to_one\")\n",
    "print(one_to_one.shape)\n",
    "print(\"----Dimension del DF one_to_many\")\n",
    "print(one_to_many.shape)\n",
    "\n",
    "print(\"----Resultado de 'left_table' left join con 'one_to_one' \")\n",
    "print(left_table.merge(one_to_one, on=\"id\", how=\"left\").shape)\n",
    "print(\"----Resultado de 'left_table' left join con 'one_to_many' \")\n",
    "print(left_table.merge(one_to_many, on=\"id\", how=\"left\").shape)"
   ]
  },
  {
   "cell_type": "code",
   "execution_count": 29,
   "id": "47451878-54dc-49c4-b917-3e4b1ee10aa6",
   "metadata": {},
   "outputs": [],
   "source": [
    "# That's correct! A left join will return all of the rows from the left table. \n",
    "# If those rows in the left table match multiple rows in the right table, then all of those rows will be returned. \n",
    "# Therefore, the returned rows must be equal to if not greater than the left table. \n",
    "# Knowing what to expect is useful in troubleshooting any suspicious merges."
   ]
  },
  {
   "cell_type": "markdown",
   "id": "ad1a76fa-cab4-4596-8c93-941de4eb3581",
   "metadata": {},
   "source": [
    "#     Other joins (VIDEO)"
   ]
  },
  {
   "cell_type": "code",
   "execution_count": 30,
   "id": "15385933-3aee-4f2f-ad95-0e0df552bf46",
   "metadata": {},
   "outputs": [
    {
     "name": "stdout",
     "output_type": "stream",
     "text": [
      "----DataFrame movies\n",
      "      id                 title  popularity release_date\n",
      "0    257          Oliver Twist   20.415572   2005-09-23\n",
      "1  14290  Better Luck Tomorrow    3.877036   2002-01-12\n",
      "2  38365             Grown Ups   38.864027   2010-06-24\n",
      "3   9672              Infamous    3.680896   2006-11-16\n",
      "4  12819       Alpha and Omega   12.300789   2010-09-17\n",
      "----DataFrame tv_genre\n",
      "       movie_id     genre\n",
      "4998      10947  TV Movie\n",
      "5994      13187  TV Movie\n",
      "7443      22488  TV Movie\n",
      "10061     78814  TV Movie\n",
      "10790    153397  TV Movie\n",
      "----DataFrame family\n",
      "     movie_id   genre\n",
      "5          12  Family\n",
      "33         35  Family\n",
      "111       105  Family\n",
      "139       118  Family\n",
      "156       129  Family\n",
      "----DataFrame comedy\n",
      "    movie_id   genre\n",
      "1          5  Comedy\n",
      "7         13  Comedy\n",
      "35        35  Comedy\n",
      "54        68  Comedy\n",
      "61        71  Comedy\n",
      "----Metodo .merge() y argumento how='right' y argumentos left_on='' y right_on='' para indicar sobre que columna hacer el Join\n",
      "       id                      title  popularity release_date  movie_id  \\\n",
      "0   10947        High School Musical   16.536374   2006-01-20     10947   \n",
      "1   13187  A Charlie Brown Christmas    8.701183   1965-12-09     13187   \n",
      "2   22488         Love's Abiding Joy    1.128559   2006-10-06     22488   \n",
      "3   78814       We Have Your Husband    0.102003   2011-11-12     78814   \n",
      "4  153397                   Restless    0.812776   2012-12-07    153397   \n",
      "\n",
      "      genre  \n",
      "0  TV Movie  \n",
      "1  TV Movie  \n",
      "2  TV Movie  \n",
      "3  TV Movie  \n",
      "4  TV Movie  \n",
      "----Metodo .merge() y argumento how='outer' \n",
      "   movie_id genre_fam genre_com\n",
      "0        12    Family       NaN\n",
      "1        35    Family    Comedy\n",
      "2       105    Family    Comedy\n",
      "3       118    Family    Comedy\n",
      "4       129    Family       NaN\n"
     ]
    }
   ],
   "source": [
    "tv_genre = movie_to_genres[movie_to_genres[\"genre\"]==\"TV Movie\"]\n",
    "family = movie_to_genres[movie_to_genres[\"genre\"]==\"Family\"]\n",
    "comedy = movie_to_genres[movie_to_genres[\"genre\"]==\"Comedy\"]\n",
    "print(\"----DataFrame movies\")\n",
    "print(movies.head())\n",
    "print(\"----DataFrame tv_genre\")\n",
    "print(tv_genre.head())\n",
    "print(\"----DataFrame family\")\n",
    "print(family.head())\n",
    "print(\"----DataFrame comedy\")\n",
    "print(comedy.head())\n",
    "\n",
    "# ARGUMENTS RIGHT_ON='' AND LEFT_ON=''\n",
    "print(\"----Metodo .merge() y argumento how='right' y argumentos left_on='' y right_on='' para indicar sobre que columna hacer el Join\")\n",
    "tv_movies = movies.merge(tv_genre, how=\"right\", left_on=\"id\", right_on=\"movie_id\")\n",
    "print(tv_movies.head())\n",
    "\n",
    "# OUTER JOIN\n",
    "print(\"----Metodo .merge() y argumento how='outer' \")\n",
    "family_comedy = family.merge(comedy, on=\"movie_id\", how=\"outer\", suffixes=(\"_fam\",\"_com\"))\n",
    "print(family_comedy.head())"
   ]
  },
  {
   "cell_type": "markdown",
   "id": "3ddbfeb5-25f1-414c-863c-9dddefba162a",
   "metadata": {},
   "source": [
    "# Right join to find unique movies"
   ]
  },
  {
   "cell_type": "raw",
   "id": "d3f8c628-f8c8-48e1-9934-538a15f7932d",
   "metadata": {},
   "source": [
    "Right join to find unique movies\n",
    "Most of the recent big-budget science fiction movies can also be classified as action movies. \n",
    "You are given a table of science fiction movies called scifi_movies and another table of action movies called action_movies. \n",
    "Your goal is to find which movies are considered only science fiction movies. \n",
    "Once you have this table, you can merge the movies table in to see the movie names. \n",
    "Since this exercise is related to science fiction movies, use a right join as your superhero power to solve this problem.\n",
    "\n",
    "The movies, scifi_movies, and action_movies tables have been loaded for you."
   ]
  },
  {
   "cell_type": "code",
   "execution_count": 31,
   "id": "6174fa5c-27b6-4f27-b019-8270bb3f1b71",
   "metadata": {},
   "outputs": [
    {
     "name": "stdout",
     "output_type": "stream",
     "text": [
      "     movie_id  genre_x           genre_y\n",
      "0          11   Action   Science Fiction\n",
      "1          18   Action   Science Fiction\n",
      "2          19      NaN   Science Fiction\n",
      "3          38      NaN   Science Fiction\n",
      "4          62      NaN   Science Fiction\n",
      "..        ...      ...               ...\n",
      "530    335866      NaN   Science Fiction\n",
      "531    347548      NaN   Science Fiction\n",
      "532    360188      NaN   Science Fiction\n",
      "533    367551   Action   Science Fiction\n",
      "534    371690      NaN   Science Fiction\n",
      "\n",
      "[535 rows x 3 columns]\n"
     ]
    }
   ],
   "source": [
    "# Instructions \n",
    "# 25 XP\n",
    "# 1\n",
    "# Merge action_movies and scifi_movies tables with a right join on movie_id. Save the result as action_scifi.\n",
    "\n",
    "action_scifi = action_movies.merge(scifi_movies, on=\"movie_id\", how=\"right\")\n",
    "print(action_scifi)"
   ]
  },
  {
   "cell_type": "code",
   "execution_count": 32,
   "id": "c4ee46ff-d86a-47d9-a273-4c922f331604",
   "metadata": {},
   "outputs": [
    {
     "name": "stdout",
     "output_type": "stream",
     "text": [
      "     movie_id genre_act         genre_sci\n",
      "0          11    Action   Science Fiction\n",
      "1          18    Action   Science Fiction\n",
      "2          19       NaN   Science Fiction\n",
      "3          38       NaN   Science Fiction\n",
      "4          62       NaN   Science Fiction\n",
      "..        ...       ...               ...\n",
      "530    335866       NaN   Science Fiction\n",
      "531    347548       NaN   Science Fiction\n",
      "532    360188       NaN   Science Fiction\n",
      "533    367551    Action   Science Fiction\n",
      "534    371690       NaN   Science Fiction\n",
      "\n",
      "[535 rows x 3 columns]\n"
     ]
    }
   ],
   "source": [
    "# Instructions 2/4\n",
    "# 25 XP\n",
    "# 2\n",
    "# Update the merge to add suffixes, where '_act' and '_sci' are suffixes for the left and right tables, respectively.\n",
    "\n",
    "action_scifi = action_movies.merge(scifi_movies, on=\"movie_id\", how=\"right\", suffixes=(\"_act\",\"_sci\"))\n",
    "print(action_scifi)"
   ]
  },
  {
   "cell_type": "code",
   "execution_count": 33,
   "id": "4de62462-63ef-4a55-bc75-a7617e2e99bd",
   "metadata": {},
   "outputs": [
    {
     "name": "stdout",
     "output_type": "stream",
     "text": [
      "     movie_id genre_act         genre_sci\n",
      "2          19       NaN   Science Fiction\n",
      "3          38       NaN   Science Fiction\n",
      "4          62       NaN   Science Fiction\n",
      "5          68       NaN   Science Fiction\n",
      "6          74       NaN   Science Fiction\n",
      "..        ...       ...               ...\n",
      "529    333371       NaN   Science Fiction\n",
      "530    335866       NaN   Science Fiction\n",
      "531    347548       NaN   Science Fiction\n",
      "532    360188       NaN   Science Fiction\n",
      "534    371690       NaN   Science Fiction\n",
      "\n",
      "[258 rows x 3 columns]\n"
     ]
    }
   ],
   "source": [
    "# Instructions 3/4\n",
    "# 25 XP\n",
    "# 3\n",
    "# From action_scifi, subset only the rows where the genre_act column is null.\n",
    "\n",
    "scifi_only = action_scifi[action_scifi[\"genre_act\"].isna()]\n",
    "print(scifi_only)"
   ]
  },
  {
   "cell_type": "code",
   "execution_count": 34,
   "id": "948120cf-ef96-4fcb-a156-c5879d3593d8",
   "metadata": {},
   "outputs": [
    {
     "name": "stdout",
     "output_type": "stream",
     "text": [
      "         id                         title  popularity release_date  movie_id  \\\n",
      "0     18841  The Lost Skeleton of Cadavra    1.680525   2001-09-12     18841   \n",
      "1     26672     The Thief and the Cobbler    2.439184   1993-09-23     26672   \n",
      "2     15301      Twilight Zone: The Movie   12.902975   1983-06-24     15301   \n",
      "3      8452                   The 6th Day   18.447479   2000-11-17      8452   \n",
      "4      1649    Bill & Ted's Bogus Journey   11.349664   1991-07-19      1649   \n",
      "..      ...                           ...         ...          ...       ...   \n",
      "253  245703              Midnight Special   32.717853   2016-02-18    245703   \n",
      "254    3509              A Scanner Darkly   26.093043   2006-05-25      3509   \n",
      "255   42188               Never Let Me Go   30.983397   2010-09-15     42188   \n",
      "256   18045                The Dark Hours    1.428483   2005-03-11     18045   \n",
      "257   11058                       Godsend   12.102350   2004-04-30     11058   \n",
      "\n",
      "    genre_act         genre_sci  \n",
      "0         NaN   Science Fiction  \n",
      "1         NaN   Science Fiction  \n",
      "2         NaN   Science Fiction  \n",
      "3         NaN   Science Fiction  \n",
      "4         NaN   Science Fiction  \n",
      "..        ...               ...  \n",
      "253       NaN   Science Fiction  \n",
      "254       NaN   Science Fiction  \n",
      "255       NaN   Science Fiction  \n",
      "256       NaN   Science Fiction  \n",
      "257       NaN   Science Fiction  \n",
      "\n",
      "[258 rows x 7 columns]\n"
     ]
    }
   ],
   "source": [
    "# Instructions 4/4\n",
    "# 25 XP\n",
    "# 4\n",
    "# Merge movies and scifi_only using the id column in the left table and the movie_id column in the right table with an inner join.\n",
    "\n",
    "movies_and_scifi_only = movies.merge(scifi_only, left_on=\"id\", right_on=\"movie_id\", how=\"inner\")\n",
    "print(movies_and_scifi_only)"
   ]
  },
  {
   "cell_type": "code",
   "execution_count": 35,
   "id": "8a31649b-735c-4ea5-8557-d58f5e7a57da",
   "metadata": {},
   "outputs": [],
   "source": [
    "# Well done, right join to the rescue! \n",
    "# You found over 250 action only movies by merging action_movies and scifi_movies using a right join. \n",
    "# With this, you were able to find the rows not found in the action_movies table. \n",
    "# Additionally, you used the left_on and right_on arguments to merge in the movies table. Wow! You are a superhero."
   ]
  },
  {
   "cell_type": "markdown",
   "id": "363763f8-fe41-4b3c-a3a5-7b2f58369a5d",
   "metadata": {},
   "source": [
    "# Popular genres with right join\n"
   ]
  },
  {
   "cell_type": "raw",
   "id": "3e6c6aec-0cbe-4f44-8af2-d6eaf8e66227",
   "metadata": {},
   "source": [
    "What are the genres of the most popular movies? \n",
    "To answer this question, you need to merge data from the movies and movie_to_genres tables. \n",
    "In a table called pop_movies, the top 10 most popular movies in the movies table have been selected. \n",
    "To ensure that you are analyzing all of the popular movies, merge it with the movie_to_genres table using a right join. \n",
    "To complete your analysis, count the number of different genres. \n",
    "Also, the two tables can be merged by the movie ID. \n",
    "However, in pop_movies that column is called id, and in movies_to_genres it's called movie_id.\n",
    "\n",
    "The pop_movies and movie_to_genres tables have been loaded for you."
   ]
  },
  {
   "cell_type": "code",
   "execution_count": 36,
   "id": "d3151b29-703f-4398-9a42-c3c764bf5b3e",
   "metadata": {},
   "outputs": [
    {
     "name": "stdout",
     "output_type": "stream",
     "text": [
      "----Merge movie_to_genres and pop_movies using a right join. Save the results as genres_movies.\n",
      "   movie_id      genre  index      id         title  popularity release_date\n",
      "0    211672     Comedy   4546  211672       Minions  875.581305   2015-06-17\n",
      "1    211672  Adventure   4546  211672       Minions  875.581305   2015-06-17\n",
      "2    211672  Animation   4546  211672       Minions  875.581305   2015-06-17\n",
      "3    211672     Family   4546  211672       Minions  875.581305   2015-06-17\n",
      "4    157336      Drama   4343  157336  Interstellar  724.247784   2014-11-05\n",
      "----Group genres_movies by genre and count the number of id values. Save result as genre_count\n",
      "                 id\n",
      "genre              \n",
      "Action            7\n",
      "Adventure         9\n",
      "Animation         2\n",
      "Comedy            3\n",
      "Drama             2\n",
      "Family            2\n",
      "Fantasy           1\n",
      "Science Fiction   6\n",
      "Thriller          4\n"
     ]
    },
    {
     "name": "stderr",
     "output_type": "stream",
     "text": [
      "C:\\Users\\ncr\\AppData\\Local\\Temp\\ipykernel_14864\\2852105331.py:17: UserWarning: FixedFormatter should only be used together with FixedLocator\n",
      "  ax.set_xticklabels(genre_count.index, rotation=90)\n"
     ]
    },
    {
     "data": {
      "image/png": "[encoded data removed]",
      "text/plain": [
       "<Figure size 432x288 with 1 Axes>"
      ]
     },
     "metadata": {
      "needs_background": "light"
     },
     "output_type": "display_data"
    }
   ],
   "source": [
    "# Instructions\n",
    "# 100 XP\n",
    "# Merge movie_to_genres and pop_movies using a right join. Save the results as genres_movies.\n",
    "# Group genres_movies by genre and count the number of id values.\n",
    "\n",
    "print(\"----Merge movie_to_genres and pop_movies using a right join. Save the results as genres_movies.\")\n",
    "genres_movies = movie_to_genres.merge(pop_movies, left_on=\"movie_id\", right_on=\"id\", how=\"right\")\n",
    "print(genres_movies.head())\n",
    "\n",
    "print(\"----Group genres_movies by genre and count the number of id values. Save result as genre_count\")\n",
    "genre_count = genres_movies.groupby([\"genre\"]).agg({'id':'count'})\n",
    "print(genre_count)\n",
    "\n",
    "import matplotlib.pyplot as plt\n",
    "fig, ax = plt.subplots()\n",
    "ax.bar(genre_count.index, genre_count[\"id\"])\n",
    "ax.set_xticklabels(genre_count.index, rotation=90)\n",
    "plt.show()"
   ]
  },
  {
   "cell_type": "code",
   "execution_count": 37,
   "id": "ff0c29ce-6fc1-4663-ba59-b5b3423ec2a2",
   "metadata": {},
   "outputs": [],
   "source": [
    "# Nice job! The right join ensured that you were analyzing all of the pop_movies. \n",
    "# You see from the results that adventure and action are the most popular genres."
   ]
  },
  {
   "cell_type": "markdown",
   "id": "6178d02a-f0bd-4827-aee9-f916f1efcd7f",
   "metadata": {},
   "source": [
    "# Using outer join to select actors\n"
   ]
  },
  {
   "cell_type": "raw",
   "id": "07ee070b-eaef-4436-9fad-488e67a45127",
   "metadata": {},
   "source": [
    "Using outer join to select actors\n",
    "One cool aspect of using an outer join is that, because it returns all rows from both merged tables and null where they do not match, you can use it to find rows that do not have a match in the other table. \n",
    "To try for yourself, you have been given two tables with a list of actors from two popular movies: Iron Man 1 and Iron Man 2. \n",
    "Most of the actors played in both movies. Use an outer join to find actors who did not act in both movies.\n",
    "\n",
    "The Iron Man 1 table is called iron_1_actors, and Iron Man 2 table is called iron_2_actors. \n",
    "Both tables have been loaded for you and a few rows printed so you can see the structure."
   ]
  },
  {
   "cell_type": "code",
   "execution_count": 38,
   "id": "bbe1f744-96a6-4090-972f-13ddb9040e53",
   "metadata": {},
   "outputs": [
    {
     "name": "stdout",
     "output_type": "stream",
     "text": [
      "----Save to iron_1_and_2 the merge of iron_1_actors (left) with iron_2_actors tables with an outer join on the id column, and set suffixes to ('_1','_2')\n",
      "                   character_1     id           name_1  \\\n",
      "0                       Yinsen  17857       Shaun Toub   \n",
      "1      Virginia \"Pepper\" Potts  12052  Gwyneth Paltrow   \n",
      "2  Obadiah Stane / Iron Monger   1229     Jeff Bridges   \n",
      "3                  War Machine  18288  Terrence Howard   \n",
      "4           Christine Everhart  57451      Leslie Bibb   \n",
      "\n",
      "               character_2           name_2  \n",
      "0                      NaN              NaN  \n",
      "1  Virginia \"Pepper\" Potts  Gwyneth Paltrow  \n",
      "2                      NaN              NaN  \n",
      "3                      NaN              NaN  \n",
      "4       Christine Everhart      Leslie Bibb  \n",
      "----Create an index that returns True if name_1 or name_2 are null, and False otherwise\n",
      "                     character_1       id           name_1  \\\n",
      "0                         Yinsen    17857       Shaun Toub   \n",
      "2    Obadiah Stane / Iron Monger     1229     Jeff Bridges   \n",
      "3                    War Machine    18288  Terrence Howard   \n",
      "5                           Raza    57452      Faran Tahir   \n",
      "8                     Abu Bakaar   173810    Sayed Badreya   \n",
      "..                           ...      ...              ...   \n",
      "186                          NaN    92189              NaN   \n",
      "187                          NaN  1265840              NaN   \n",
      "188                          NaN  1265841              NaN   \n",
      "189                          NaN  1122811              NaN   \n",
      "190                          NaN  1205141              NaN   \n",
      "\n",
      "                       character_2                  name_2  \n",
      "0                              NaN                     NaN  \n",
      "2                              NaN                     NaN  \n",
      "3                              NaN                     NaN  \n",
      "5                              NaN                     NaN  \n",
      "8                              NaN                     NaN  \n",
      "..                             ...                     ...  \n",
      "186       Party Guest (uncredited)            Doug Swander  \n",
      "187        US Senator (uncredited)    Michael A. Templeton  \n",
      "188        Background (uncredited)             Rosa Tyabji  \n",
      "189  Tony Stark Usher (uncredited)  Peter Sebastian Wrobel  \n",
      "190     Expo Attendee (uncredited)          Maria Zambrana  \n",
      "\n",
      "[180 rows x 5 columns]\n"
     ]
    }
   ],
   "source": [
    "# Instructions\n",
    "# 100 XP\n",
    "# Save to iron_1_and_2 the merge of iron_1_actors (left) with iron_2_actors tables with an outer join on the id column, and set suffixes to ('_1','_2').\n",
    "# Create an index that returns True if name_1 or name_2 are null, and False otherwise.\n",
    "\n",
    "print(\"----Save to iron_1_and_2 the merge of iron_1_actors (left) with iron_2_actors tables with an outer join on the id column, and set suffixes to ('_1','_2')\")\n",
    "iron_1_and_2 = iron_1_actors.merge(iron_2_actors, on=\"id\", how=\"outer\", suffixes=(\"_1\",\"_2\"))\n",
    "print(iron_1_and_2.head())\n",
    "\n",
    "\n",
    "print(\"----Create an index that returns True if name_1 or name_2 are null, and False otherwise\")\n",
    "m = (iron_1_and_2[\"name_1\"].isnull())  |  (iron_1_and_2[\"name_2\"].isnull())\n",
    "print(iron_1_and_2[m])"
   ]
  },
  {
   "cell_type": "code",
   "execution_count": 39,
   "id": "66ca8034-7e85-4c03-91f8-620f1eb40de7",
   "metadata": {},
   "outputs": [],
   "source": [
    "# Using an outer join, you were able to pick only those rows where the actor played in only one of the two movies."
   ]
  },
  {
   "cell_type": "markdown",
   "id": "a1f4a6f9-71c1-4d04-8b29-eab5ddf2d8c3",
   "metadata": {},
   "source": [
    "# Merging a table to itsel (Video)"
   ]
  },
  {
   "cell_type": "code",
   "execution_count": 40,
   "id": "657b2a6e-b7ff-4d22-899d-3fd27643b371",
   "metadata": {},
   "outputs": [
    {
     "name": "stdout",
     "output_type": "stream",
     "text": [
      "----Data Frame con información de películas y su secuelas\n",
      "      id         title   sequel\n",
      "0  19995        Avatar      NaN\n",
      "1    862     Toy Story    863.0\n",
      "2    863   Toy Story 2  10193.0\n",
      "3    597       Titanic      NaN\n",
      "4  24428  The Avengers      NaN\n",
      "----Metodo .merge() para hacer un Join de la tabla consigo misma\n",
      "   id_org                                          title_org  sequel_org  \\\n",
      "0     862                                          Toy Story       863.0   \n",
      "1     863                                        Toy Story 2     10193.0   \n",
      "2     675          Harry Potter and the Order of the Phoenix       767.0   \n",
      "3     121              The Lord of the Rings: The Two Towers       122.0   \n",
      "4     120  The Lord of the Rings: The Fellowship of the Ring       121.0   \n",
      "\n",
      "   id_seq                                      title_seq  sequel_seq  \n",
      "0     863                                    Toy Story 2     10193.0  \n",
      "1   10193                                    Toy Story 3         NaN  \n",
      "2     767         Harry Potter and the Half-Blood Prince         NaN  \n",
      "3     122  The Lord of the Rings: The Return of the King         NaN  \n",
      "4     121          The Lord of the Rings: The Two Towers       122.0  \n",
      "----Metodo .merge() para hacer un Left Join de la tabla consigo misma\n",
      "   id_org     title_org  sequel_org   id_seq    title_seq  sequel_seq\n",
      "0   19995        Avatar         NaN      NaN          NaN         NaN\n",
      "1     862     Toy Story       863.0    863.0  Toy Story 2     10193.0\n",
      "2     863   Toy Story 2     10193.0  10193.0  Toy Story 3         NaN\n",
      "3     597       Titanic         NaN      NaN          NaN         NaN\n",
      "4   24428  The Avengers         NaN      NaN          NaN         NaN\n"
     ]
    }
   ],
   "source": [
    "\n",
    "# MERGING A TABLE WITH ITSELF USING INNER JOIN\n",
    "print(\"----Data Frame con información de películas y su secuelas\")\n",
    "print(sequels.head())\n",
    "print(\"----Metodo .merge() para hacer un Join de la tabla consigo misma\")\n",
    "original_sequels = sequels.merge(sequels, left_on=\"sequel\", right_on=\"id\", suffixes=(\"_org\",\"_seq\"))\n",
    "print(original_sequels.head())\n",
    "\n",
    "\n",
    "# MERGING A TABLE TO ITSELF WITH LEFT JOIN\n",
    "print(\"----Metodo .merge() para hacer un Left Join de la tabla consigo misma\")\n",
    "original_sequels = sequels.merge(sequels, left_on=\"sequel\", right_on=\"id\", how=\"left\", suffixes=(\"_org\",\"_seq\"))\n",
    "print(original_sequels.head())\n",
    "\n",
    "# WHEN TO MERGE A TABLE WITH ITSEL?\n",
    "# Hierrarchical relationships\n",
    "# Sequential relationships"
   ]
  },
  {
   "cell_type": "markdown",
   "id": "1669053c-407d-4aee-ac18-5dc8c1f80663",
   "metadata": {},
   "source": [
    "# Self join\n"
   ]
  },
  {
   "cell_type": "raw",
   "id": "eefef8cb-6478-4110-bed6-17343b2be0e7",
   "metadata": {},
   "source": [
    "Self join\n",
    "Merging a table to itself can be useful when you want to compare values in a column to other values in the same column. \n",
    "In this exercise, you will practice this by creating a table that for each movie will list the movie director and a member of the crew on one row. \n",
    "You have been given a table called crews, which has columns id, job, and name. \n",
    "First, merge the table to itself using the movie ID. This merge will give you a larger table where for each movie, every job is matched against each other. Then select only those rows with a director in the left table, and avoid having a row where the director's job is listed in both the left and right tables. This filtering will remove job combinations that aren't with the director.\n",
    "\n",
    "The crews table has been loaded for you."
   ]
  },
  {
   "cell_type": "code",
   "execution_count": 41,
   "id": "854f0da8-3db8-4b5e-969f-22d2ba873496",
   "metadata": {},
   "outputs": [
    {
     "name": "stdout",
     "output_type": "stream",
     "text": [
      "      id job_dir           name_dir        job_crew          name_crew\n",
      "0  19995  Editor  Stephen E. Rivkin          Editor  Stephen E. Rivkin\n",
      "1  19995  Editor  Stephen E. Rivkin  Sound Designer  Christopher Boyes\n",
      "2  19995  Editor  Stephen E. Rivkin         Casting          Mali Finn\n",
      "3  19995  Editor  Stephen E. Rivkin        Director      James Cameron\n",
      "4  19995  Editor  Stephen E. Rivkin          Writer      James Cameron\n"
     ]
    }
   ],
   "source": [
    "# Instructions 1/3\n",
    "# 35 XP\n",
    "# 1\n",
    "# To a variable called crews_self_merged, merge the crews table to itself on the id column using an inner join, \n",
    "# setting the suffixes to '_dir' and '_crew' for the left and right tables respectively.\n",
    "\n",
    "crews_self_merged = crews.merge(crews, on=\"id\", how=\"inner\",suffixes=(\"_dir\",\"_crew\"))\n",
    "print(crews_self_merged.head())"
   ]
  },
  {
   "cell_type": "code",
   "execution_count": 42,
   "id": "254a0ae2-e519-4dd7-b7f6-87d5756de7b5",
   "metadata": {},
   "outputs": [
    {
     "name": "stdout",
     "output_type": "stream",
     "text": [
      "0         False\n",
      "1         False\n",
      "2         False\n",
      "3         False\n",
      "4         False\n",
      "          ...  \n",
      "834189     True\n",
      "834190     True\n",
      "834191     True\n",
      "834192     True\n",
      "834193     True\n",
      "Length: 834194, dtype: bool\n"
     ]
    }
   ],
   "source": [
    "# Instructions 2/3\n",
    "# 35 XP\n",
    "# 2\n",
    "# Create a Boolean index, named boolean_filter, that selects rows from the left table with the job of 'Director' and \n",
    "# avoids rows with the job of 'Director' in the right table.\n",
    "\n",
    "boolean_filter =  (crews_self_merged[\"job_dir\"]==\"Director\") & (crews_self_merged[\"job_crew\"]!=\"Directos\") \n",
    "print(boolean_filter)"
   ]
  },
  {
   "cell_type": "code",
   "execution_count": 43,
   "id": "ea2faed6-04d8-4d60-8849-b177e540bd8d",
   "metadata": {},
   "outputs": [
    {
     "name": "stdout",
     "output_type": "stream",
     "text": [
      "           id   job_dir       name_dir            job_crew          name_crew\n",
      "156     19995  Director  James Cameron              Editor  Stephen E. Rivkin\n",
      "157     19995  Director  James Cameron      Sound Designer  Christopher Boyes\n",
      "158     19995  Director  James Cameron             Casting          Mali Finn\n",
      "159     19995  Director  James Cameron            Director      James Cameron\n",
      "160     19995  Director  James Cameron              Writer      James Cameron\n",
      "...       ...       ...            ...                 ...                ...\n",
      "834189  25975  Director       Jon Gunn            Director         Brett Winn\n",
      "834190  25975  Director     Brett Winn  Executive Producer     Clark Peterson\n",
      "834191  25975  Director     Brett Winn            Director   Brian Herzlinger\n",
      "834192  25975  Director     Brett Winn            Director           Jon Gunn\n",
      "834193  25975  Director     Brett Winn            Director         Brett Winn\n",
      "\n",
      "[47569 rows x 5 columns]\n"
     ]
    }
   ],
   "source": [
    "# Instructions 3/3\n",
    "# 30 XP\n",
    "# 3\n",
    "# Use the .head() method to print the first few rows of direct_crews.\n",
    "\n",
    "direct_crews = crews_self_merged[boolean_filter]\n",
    "print(direct_crews)"
   ]
  },
  {
   "cell_type": "code",
   "execution_count": 44,
   "id": "5fc40ea1-3bab-4782-bc38-be98ed235394",
   "metadata": {},
   "outputs": [],
   "source": [
    "# By merging the table to itself, you compared the value of the director from the jobs column to other values from the jobs column. \n",
    "# With the output, you can quickly see different movie directors and the people they worked with in the same movie."
   ]
  },
  {
   "cell_type": "markdown",
   "id": "c4055be5-482a-49bc-8768-ec2b20927492",
   "metadata": {},
   "source": [
    "# How does pandas handle self joins?\n"
   ]
  },
  {
   "cell_type": "code",
   "execution_count": 45,
   "id": "c2d6d2a1-7ebb-482b-a3d0-42e5909358b2",
   "metadata": {},
   "outputs": [],
   "source": [
    "# Select the false statement about merging a table to itself.\n",
    "\n",
    "# Answer the question\n",
    "# 50XP\n",
    "# Possible Answers\n",
    "\n",
    "#        You can merge a table to itself with a right join.\n",
    "\n",
    "#        Merging a table to itself can allow you to compare values in a column to other values in the same column.\n",
    "\n",
    "#        The Pandas module limits you to one merge where you merge a table to itself. You cannot repeat this process over and over.  <- Respuesta Correcta\n",
    "\n",
    "#        Merging a table to itself is like working with two separate tables.\n",
    "\n",
    "# Submit Answer\n",
    "# Take Hint (-15 XP)"
   ]
  },
  {
   "cell_type": "code",
   "execution_count": 46,
   "id": "63202ff7-3699-4887-816a-95f18c594bbd",
   "metadata": {},
   "outputs": [],
   "source": [
    "# Perfect! This statement is false. \n",
    "# Pandas treats a merge of a table to itself the same as any other merge. \n",
    "# Therefore, it does not limit you from chaining multiple .merge() methods together."
   ]
  },
  {
   "cell_type": "markdown",
   "id": "4af2e4a3-d1dc-4505-948b-860f145e39ab",
   "metadata": {},
   "source": [
    "# Merging on indexes (Video)\n"
   ]
  },
  {
   "cell_type": "code",
   "execution_count": 47,
   "id": "c7010aed-9c88-4490-aae9-d59303ba27fb",
   "metadata": {},
   "outputs": [
    {
     "name": "stdout",
     "output_type": "stream",
     "text": [
      "----Metodo .merge() para realizar un Join con los indices como pivotes\n",
      "                      title  popularity release_date  \\\n",
      "id                                                     \n",
      "257            Oliver Twist   20.415572   2005-09-23   \n",
      "14290  Better Luck Tomorrow    3.877036   2002-01-12   \n",
      "38365             Grown Ups   38.864027   2010-06-24   \n",
      "9672               Infamous    3.680896   2006-11-16   \n",
      "12819       Alpha and Omega   12.300789   2010-09-17   \n",
      "\n",
      "                                               tagline  \n",
      "id                                                      \n",
      "257                                                NaN  \n",
      "14290             Never underestimate an overachiever.  \n",
      "38365  Boys will be boys. . . some longer than others.  \n",
      "9672           There's more to the story than you know  \n",
      "12819                           A Pawsome 3D Adventure  \n",
      "----Metodo .merge() para realizar un Join con multiples indices como pivotes\n",
      "                             name_x      character  gender    id  \\\n",
      "movie_id cast_id                                                   \n",
      "184      3        Samuel L. Jackson  Ordell Robbie       2  2231   \n",
      "319      13       Samuel L. Jackson        Big Don       2  2231   \n",
      "326      2        Samuel L. Jackson  Neville Flynn       2  2231   \n",
      "329      138      Samuel L. Jackson         Arnold       2  2231   \n",
      "393      21       Samuel L. Jackson          Rufus       2  2231   \n",
      "\n",
      "                             name_y  \n",
      "movie_id cast_id                     \n",
      "184      3        Samuel L. Jackson  \n",
      "319      13       Samuel L. Jackson  \n",
      "326      2        Samuel L. Jackson  \n",
      "329      138      Samuel L. Jackson  \n",
      "393      21       Samuel L. Jackson  \n",
      "----MEtodo .merge() y argumento on_ para indices con diferente nombre en cada tabla\n",
      "                              title  popularity release_date            genre\n",
      "5                        Four Rooms   22.876230   1995-12-09            Crime\n",
      "5                        Four Rooms   22.876230   1995-12-09           Comedy\n",
      "11                        Star Wars  126.393695   1977-05-25  Science Fiction\n",
      "11                        Star Wars  126.393695   1977-05-25           Action\n",
      "11                        Star Wars  126.393695   1977-05-25        Adventure\n",
      "...                             ...         ...          ...              ...\n",
      "426469             Growing Up Smith    0.710870   2017-02-03            Drama\n",
      "433715                       8 Days    0.015295   2014-06-15         Thriller\n",
      "433715                       8 Days    0.015295   2014-06-15            Drama\n",
      "447027              Running Forever    0.028756   2015-10-27           Family\n",
      "459488  To Be Frank, Sinatra at 100    0.050625   2015-12-12      Documentary\n",
      "\n",
      "[12160 rows x 4 columns]\n"
     ]
    }
   ],
   "source": [
    "# SETTING AN INDEX OF A DATA FRAME\n",
    "movies = movies.set_index(\"id\")\n",
    "taglines = taglines.set_index(\"id\")\n",
    "samuel = samuel.set_index([\"movie_id\",\"cast_id\"])\n",
    "cast = cast.set_index([\"movie_id\",\"cast_id\"])\n",
    "movie_to_genres = movie_to_genres.set_index([\"movie_id\"])\n",
    "\n",
    "\n",
    "# MERGING ON INDEX\n",
    "print(\"----Metodo .merge() para realizar un Join con los indices como pivotes\")\n",
    "movies_taglines = movies.merge(taglines, on=\"id\", how=\"left\")\n",
    "print(movies_taglines.head())\n",
    "\n",
    "# MULTI-INDEX MERGE\n",
    "print(\"----Metodo .merge() para realizar un Join con multiples indices como pivotes\")\n",
    "samuel_cast = samuel.merge(cast, on=[\"movie_id\",\"cast_id\"], how=\"inner\")\n",
    "print(samuel_cast.head())\n",
    "\n",
    "# MERGING INDEX WITH RIGHT_ON AND LEFT_ON\n",
    "print(\"----MEtodo .merge() y argumento on_ para indices con diferente nombre en cada tabla\")\n",
    "movies_genres = movies.merge(movie_to_genres,left_index=True,right_index=True)\n",
    "print(movies_genres)\n",
    "\n",
    "# RESETEAR LOS INDICES DE LOS DATA FRAMES\n",
    "movies = movies.reset_index()\n",
    "taglines = taglines.reset_index()\n",
    "samuel = samuel.reset_index()\n",
    "cast = cast.reset_index()\n",
    "movie_to_genres = movie_to_genres.reset_index()"
   ]
  },
  {
   "cell_type": "markdown",
   "id": "6dee1f0f-9d7e-43b9-99cf-3eaaeafd86cb",
   "metadata": {},
   "source": [
    "# Index merge for movie ratings"
   ]
  },
  {
   "cell_type": "raw",
   "id": "9207e571-b5ac-4f0f-9188-a512b5a6a0aa",
   "metadata": {},
   "source": [
    "Index merge for movie ratings\n",
    "To practice merging on indexes, you will merge movies and a table called ratings that holds info about movie ratings. Make sure your merge returns all of the rows from the movies table and not all the rows of ratings table need to be included in the result.\n",
    "\n",
    "The movies and ratings tables have been loaded for you."
   ]
  },
  {
   "cell_type": "code",
   "execution_count": 48,
   "id": "711288ec-dca5-4857-a6f3-6d8e270974dc",
   "metadata": {},
   "outputs": [],
   "source": [
    "# Instructions\n",
    "# 100 XP\n",
    "# Merge movies and ratings on the index and save to a variable called movies_ratings, ensuring that all of the rows from the \n",
    "# movies table are returned."
   ]
  },
  {
   "cell_type": "code",
   "execution_count": 49,
   "id": "b4a92c0e-47a8-4b3d-9368-80826778844f",
   "metadata": {},
   "outputs": [
    {
     "name": "stdout",
     "output_type": "stream",
     "text": [
      "                      title  popularity release_date  vote_average vote_count\n",
      "id                                                                           \n",
      "257            Oliver Twist   20.415572   2005-09-23           6.7        274\n",
      "14290  Better Luck Tomorrow    3.877036   2002-01-12           6.5         27\n",
      "38365             Grown Ups   38.864027   2010-06-24           6.0       1705\n",
      "9672               Infamous    3.680896   2006-11-16           6.4         60\n",
      "12819       Alpha and Omega   12.300789   2010-09-17           5.3        124\n",
      "...                     ...         ...          ...           ...        ...\n",
      "3089              Red River    5.344815   1948-08-26           7.3         82\n",
      "11934   The Hudsucker Proxy   14.188982   1994-03-11           7.1        275\n",
      "13807                Exiled    8.486390   2006-09-06           7.0         46\n",
      "73873          Albert Nobbs    7.802245   2011-12-21           6.2        132\n",
      "11622   Blast from the Past    8.737058   1999-02-12           6.3        245\n",
      "\n",
      "[4803 rows x 5 columns]\n"
     ]
    }
   ],
   "source": [
    "#Definir los índices de cada tabla\n",
    "movies = movies.set_index(\"id\")\n",
    "ratings = ratings.set_index(\"id\")\n",
    "\n",
    "movies_ratings = movies.merge(ratings, on=\"id\", how=\"left\")\n",
    "print(movies_ratings)\n",
    "\n",
    "# Resetear los indices\n",
    "movies = movies.reset_index()\n",
    "ratings = ratings.reset_index()"
   ]
  },
  {
   "cell_type": "markdown",
   "id": "c218b211-d97c-41cd-bc38-179de459efd1",
   "metadata": {},
   "source": [
    "# Do sequels earn more?"
   ]
  },
  {
   "cell_type": "raw",
   "id": "4608dc20-1059-45fa-abc5-9194e7980428",
   "metadata": {},
   "source": [
    "It is time to put together many of the aspects that you have learned in this chapter. \n",
    "In this exercise, you'll find out which movie sequels earned the most compared to the original movie. \n",
    "To answer this question, you will merge a modified version of the sequels and financials tables where their index is the movie ID. \n",
    "You will need to choose a merge type that will return all of the rows from the sequels table and not all the rows of financials table need to be included in the result. From there, you will join the resulting table to itself so that you can compare the revenue values of the original movie to the sequel. Next, you will calculate the difference between the two revenues and sort the resulting dataset.\n",
    "\n",
    "The sequels and financials tables have been provided."
   ]
  },
  {
   "cell_type": "code",
   "execution_count": 50,
   "id": "6f8fb652-4b5c-4468-9ef9-2358ad561627",
   "metadata": {},
   "outputs": [
    {
     "name": "stdout",
     "output_type": "stream",
     "text": [
      "                                   title   sequel       budget       revenue\n",
      "id                                                                          \n",
      "19995                             Avatar      NaN  237000000.0  2.787965e+09\n",
      "862                            Toy Story    863.0   30000000.0  3.735540e+08\n",
      "863                          Toy Story 2  10193.0   90000000.0  4.973669e+08\n",
      "597                              Titanic      NaN  200000000.0  1.845034e+09\n",
      "24428                       The Avengers      NaN  220000000.0  1.519558e+09\n",
      "...                                  ...      ...          ...           ...\n",
      "133931                          Zambezia      NaN          NaN           NaN\n",
      "309503                            Zipper      NaN          NaN           NaN\n",
      "34592   ZMD: Zombies of Mass Destruction      NaN          NaN           NaN\n",
      "206213                     Zombie Hunter      NaN          NaN           NaN\n",
      "185567                              Zulu      NaN          NaN           NaN\n",
      "\n",
      "[4803 rows x 4 columns]\n"
     ]
    }
   ],
   "source": [
    "# Instructions 1/4\n",
    "# 25 XP\n",
    "# 1\n",
    "# With the sequels table on the left, merge to it the financials table on index named id, \n",
    "# ensuring that all the rows from the sequels are returned and some rows from the other table may not be returned, \n",
    "# Save the results to sequels_fin.\n",
    "\n",
    "# Definir los indice de cada tabla\n",
    "sequels = sequels.set_index(\"id\")\n",
    "financials = financials.set_index(\"id\")\n",
    "\n",
    "sequels_fin = sequels.merge(financials, on=\"id\", how=\"left\")\n",
    "print(sequels_fin)\n",
    "\n",
    "# Reiniciar los indices de cada tabla\n",
    "sequels = sequels.reset_index()\n",
    "financials = financials.reset_index()"
   ]
  },
  {
   "cell_type": "code",
   "execution_count": 51,
   "id": "817625b4-16e1-40d0-92b3-9f3d32ba449f",
   "metadata": {},
   "outputs": [
    {
     "name": "stdout",
     "output_type": "stream",
     "text": [
      "                                            title_org  sequel_org  \\\n",
      "0                                           Toy Story       863.0   \n",
      "1                                         Toy Story 2     10193.0   \n",
      "2           Harry Potter and the Order of the Phoenix       767.0   \n",
      "3               The Lord of the Rings: The Two Towers       122.0   \n",
      "4   The Lord of the Rings: The Fellowship of the Ring       121.0   \n",
      "..                                                ...         ...   \n",
      "85                                     Before Sunrise        80.0   \n",
      "86                                             Clerks      2295.0   \n",
      "87                                        El Mariachi      8068.0   \n",
      "88                                The Boondock Saints     22821.0   \n",
      "89                         Diary of a Mad Black Woman     16781.0   \n",
      "\n",
      "     budget_org  revenue_org                                      title_seq  \\\n",
      "0    30000000.0  373554000.0                                    Toy Story 2   \n",
      "1    90000000.0  497366900.0                                    Toy Story 3   \n",
      "2   150000000.0  938212700.0         Harry Potter and the Half-Blood Prince   \n",
      "3    79000000.0  926287400.0  The Lord of the Rings: The Return of the King   \n",
      "4    93000000.0  871368400.0          The Lord of the Rings: The Two Towers   \n",
      "..          ...          ...                                            ...   \n",
      "85    2500000.0    5535405.0                                  Before Sunset   \n",
      "86      27000.0    3151130.0                                      Clerks II   \n",
      "87     220000.0    2040920.0                                      Desperado   \n",
      "88    6000000.0      30471.0         The Boondock Saints II: All Saints Day   \n",
      "89          NaN          NaN                         Madea's Family Reunion   \n",
      "\n",
      "    sequel_seq   budget_seq   revenue_seq  \n",
      "0      10193.0   90000000.0  4.973669e+08  \n",
      "1          NaN  200000000.0  1.066970e+09  \n",
      "2          NaN  250000000.0  9.339592e+08  \n",
      "3          NaN   94000000.0  1.118889e+09  \n",
      "4        122.0   79000000.0  9.262874e+08  \n",
      "..         ...          ...           ...  \n",
      "85    132344.0    2700000.0  1.599262e+07  \n",
      "86         NaN    5000000.0  2.688838e+07  \n",
      "87      1428.0    7000000.0  2.540544e+07  \n",
      "88         NaN    8000000.0  1.062932e+07  \n",
      "89     15670.0    6000000.0  5.723152e+07  \n",
      "\n",
      "[90 rows x 8 columns]\n"
     ]
    }
   ],
   "source": [
    "# Instructions 2/4\n",
    "# 25 XP\n",
    "# 2\n",
    "# Merge the sequels_fin table to itself with an inner join, where the left and right tables merge on sequel and \n",
    "# id respectively with suffixes equal to ('_org','_seq'), saving to orig_seq.\n",
    "\n",
    "# Definir los indice de cada tabla\n",
    "sequels = sequels.set_index(\"id\")\n",
    "financials = financials.set_index(\"id\")\n",
    "\n",
    "orig_seq = sequels_fin.merge(sequels_fin, how=\"inner\", left_on=\"sequel\", right_on=\"id\", suffixes=(\"_org\",\"_seq\"))\n",
    "print(orig_seq)\n",
    "\n",
    "# Reiniciar los indices de cada tabla\n",
    "sequels = sequels.reset_index()\n",
    "financials = financials.reset_index()"
   ]
  },
  {
   "cell_type": "code",
   "execution_count": 52,
   "id": "64b8d4cb-dbdf-451f-aabc-4a0b54049819",
   "metadata": {},
   "outputs": [
    {
     "name": "stdout",
     "output_type": "stream",
     "text": [
      "----Agregar una columna para calcular la diferencia entre el ingreso de la pelicula original - ingreso de la secuela\n"
     ]
    },
    {
     "data": {
      "text/html": [
       "<div>\n",
       "<style scoped>\n",
       "    .dataframe tbody tr th:only-of-type {\n",
       "        vertical-align: middle;\n",
       "    }\n",
       "\n",
       "    .dataframe tbody tr th {\n",
       "        vertical-align: top;\n",
       "    }\n",
       "\n",
       "    .dataframe thead th {\n",
       "        text-align: right;\n",
       "    }\n",
       "</style>\n",
       "<table border=\"1\" class=\"dataframe\">\n",
       "  <thead>\n",
       "    <tr style=\"text-align: right;\">\n",
       "      <th></th>\n",
       "      <th>title_org</th>\n",
       "      <th>title_seq</th>\n",
       "      <th>diff</th>\n",
       "    </tr>\n",
       "  </thead>\n",
       "  <tbody>\n",
       "    <tr>\n",
       "      <th>0</th>\n",
       "      <td>Toy Story</td>\n",
       "      <td>Toy Story 2</td>\n",
       "      <td>123812900.0</td>\n",
       "    </tr>\n",
       "    <tr>\n",
       "      <th>1</th>\n",
       "      <td>Toy Story 2</td>\n",
       "      <td>Toy Story 3</td>\n",
       "      <td>569603100.0</td>\n",
       "    </tr>\n",
       "    <tr>\n",
       "      <th>2</th>\n",
       "      <td>Harry Potter and the Order of the Phoenix</td>\n",
       "      <td>Harry Potter and the Half-Blood Prince</td>\n",
       "      <td>-4253500.0</td>\n",
       "    </tr>\n",
       "    <tr>\n",
       "      <th>3</th>\n",
       "      <td>The Lord of the Rings: The Two Towers</td>\n",
       "      <td>The Lord of the Rings: The Return of the King</td>\n",
       "      <td>192601600.0</td>\n",
       "    </tr>\n",
       "    <tr>\n",
       "      <th>4</th>\n",
       "      <td>The Lord of the Rings: The Fellowship of the Ring</td>\n",
       "      <td>The Lord of the Rings: The Two Towers</td>\n",
       "      <td>54919000.0</td>\n",
       "    </tr>\n",
       "    <tr>\n",
       "      <th>...</th>\n",
       "      <td>...</td>\n",
       "      <td>...</td>\n",
       "      <td>...</td>\n",
       "    </tr>\n",
       "    <tr>\n",
       "      <th>85</th>\n",
       "      <td>Before Sunrise</td>\n",
       "      <td>Before Sunset</td>\n",
       "      <td>10457215.0</td>\n",
       "    </tr>\n",
       "    <tr>\n",
       "      <th>86</th>\n",
       "      <td>Clerks</td>\n",
       "      <td>Clerks II</td>\n",
       "      <td>23737250.0</td>\n",
       "    </tr>\n",
       "    <tr>\n",
       "      <th>87</th>\n",
       "      <td>El Mariachi</td>\n",
       "      <td>Desperado</td>\n",
       "      <td>23364520.0</td>\n",
       "    </tr>\n",
       "    <tr>\n",
       "      <th>88</th>\n",
       "      <td>The Boondock Saints</td>\n",
       "      <td>The Boondock Saints II: All Saints Day</td>\n",
       "      <td>10598849.0</td>\n",
       "    </tr>\n",
       "    <tr>\n",
       "      <th>89</th>\n",
       "      <td>Diary of a Mad Black Woman</td>\n",
       "      <td>Madea's Family Reunion</td>\n",
       "      <td>NaN</td>\n",
       "    </tr>\n",
       "  </tbody>\n",
       "</table>\n",
       "<p>90 rows × 3 columns</p>\n",
       "</div>"
      ],
      "text/plain": [
       "                                            title_org  \\\n",
       "0                                           Toy Story   \n",
       "1                                         Toy Story 2   \n",
       "2           Harry Potter and the Order of the Phoenix   \n",
       "3               The Lord of the Rings: The Two Towers   \n",
       "4   The Lord of the Rings: The Fellowship of the Ring   \n",
       "..                                                ...   \n",
       "85                                     Before Sunrise   \n",
       "86                                             Clerks   \n",
       "87                                        El Mariachi   \n",
       "88                                The Boondock Saints   \n",
       "89                         Diary of a Mad Black Woman   \n",
       "\n",
       "                                        title_seq         diff  \n",
       "0                                     Toy Story 2  123812900.0  \n",
       "1                                     Toy Story 3  569603100.0  \n",
       "2          Harry Potter and the Half-Blood Prince   -4253500.0  \n",
       "3   The Lord of the Rings: The Return of the King  192601600.0  \n",
       "4           The Lord of the Rings: The Two Towers   54919000.0  \n",
       "..                                            ...          ...  \n",
       "85                                  Before Sunset   10457215.0  \n",
       "86                                      Clerks II   23737250.0  \n",
       "87                                      Desperado   23364520.0  \n",
       "88         The Boondock Saints II: All Saints Day   10598849.0  \n",
       "89                         Madea's Family Reunion          NaN  \n",
       "\n",
       "[90 rows x 3 columns]"
      ]
     },
     "execution_count": 52,
     "metadata": {},
     "output_type": "execute_result"
    }
   ],
   "source": [
    "# Instructions 3/4\n",
    "# 25 XP\n",
    "# 3\n",
    "# Select the title_org, title_seq, and diff columns of orig_seq and save this as titles_diff.\n",
    "\n",
    "\n",
    "print(\"----Agregar una columna para calcular la diferencia entre el ingreso de la pelicula original - ingreso de la secuela\")\n",
    "orig_seq['diff'] = orig_seq['revenue_seq'] - orig_seq['revenue_org']\n",
    "\n",
    "# Select the title_org, title_seq, and diff \n",
    "titles_diff = orig_seq[[\"title_org\",\"title_seq\",\"diff\"]]\n",
    "titles_diff"
   ]
  },
  {
   "cell_type": "code",
   "execution_count": 53,
   "id": "8d4af31e-fccc-42f8-878c-914e621a3931",
   "metadata": {},
   "outputs": [
    {
     "data": {
      "text/html": [
       "<div>\n",
       "<style scoped>\n",
       "    .dataframe tbody tr th:only-of-type {\n",
       "        vertical-align: middle;\n",
       "    }\n",
       "\n",
       "    .dataframe tbody tr th {\n",
       "        vertical-align: top;\n",
       "    }\n",
       "\n",
       "    .dataframe thead th {\n",
       "        text-align: right;\n",
       "    }\n",
       "</style>\n",
       "<table border=\"1\" class=\"dataframe\">\n",
       "  <thead>\n",
       "    <tr style=\"text-align: right;\">\n",
       "      <th></th>\n",
       "      <th>title_org</th>\n",
       "      <th>title_seq</th>\n",
       "      <th>diff</th>\n",
       "    </tr>\n",
       "  </thead>\n",
       "  <tbody>\n",
       "    <tr>\n",
       "      <th>28</th>\n",
       "      <td>Jurassic Park III</td>\n",
       "      <td>Jurassic World</td>\n",
       "      <td>1.144748e+09</td>\n",
       "    </tr>\n",
       "    <tr>\n",
       "      <th>26</th>\n",
       "      <td>Batman Begins</td>\n",
       "      <td>The Dark Knight</td>\n",
       "      <td>6.303393e+08</td>\n",
       "    </tr>\n",
       "    <tr>\n",
       "      <th>11</th>\n",
       "      <td>Iron Man 2</td>\n",
       "      <td>Iron Man 3</td>\n",
       "      <td>5.915067e+08</td>\n",
       "    </tr>\n",
       "    <tr>\n",
       "      <th>1</th>\n",
       "      <td>Toy Story 2</td>\n",
       "      <td>Toy Story 3</td>\n",
       "      <td>5.696031e+08</td>\n",
       "    </tr>\n",
       "    <tr>\n",
       "      <th>14</th>\n",
       "      <td>Quantum of Solace</td>\n",
       "      <td>Skyfall</td>\n",
       "      <td>5.224703e+08</td>\n",
       "    </tr>\n",
       "    <tr>\n",
       "      <th>...</th>\n",
       "      <td>...</td>\n",
       "      <td>...</td>\n",
       "      <td>...</td>\n",
       "    </tr>\n",
       "    <tr>\n",
       "      <th>57</th>\n",
       "      <td>Insidious</td>\n",
       "      <td>Insidious: Chapter 2</td>\n",
       "      <td>NaN</td>\n",
       "    </tr>\n",
       "    <tr>\n",
       "      <th>68</th>\n",
       "      <td>Madea's Family Reunion</td>\n",
       "      <td>Madea Goes to Jail</td>\n",
       "      <td>NaN</td>\n",
       "    </tr>\n",
       "    <tr>\n",
       "      <th>80</th>\n",
       "      <td>House of 1000 Corpses</td>\n",
       "      <td>The Devil's Rejects</td>\n",
       "      <td>NaN</td>\n",
       "    </tr>\n",
       "    <tr>\n",
       "      <th>84</th>\n",
       "      <td>Evil Dead II</td>\n",
       "      <td>Army of Darkness</td>\n",
       "      <td>NaN</td>\n",
       "    </tr>\n",
       "    <tr>\n",
       "      <th>89</th>\n",
       "      <td>Diary of a Mad Black Woman</td>\n",
       "      <td>Madea's Family Reunion</td>\n",
       "      <td>NaN</td>\n",
       "    </tr>\n",
       "  </tbody>\n",
       "</table>\n",
       "<p>90 rows × 3 columns</p>\n",
       "</div>"
      ],
      "text/plain": [
       "                     title_org               title_seq          diff\n",
       "28           Jurassic Park III          Jurassic World  1.144748e+09\n",
       "26               Batman Begins         The Dark Knight  6.303393e+08\n",
       "11                  Iron Man 2              Iron Man 3  5.915067e+08\n",
       "1                  Toy Story 2             Toy Story 3  5.696031e+08\n",
       "14           Quantum of Solace                 Skyfall  5.224703e+08\n",
       "..                         ...                     ...           ...\n",
       "57                   Insidious    Insidious: Chapter 2           NaN\n",
       "68      Madea's Family Reunion      Madea Goes to Jail           NaN\n",
       "80       House of 1000 Corpses     The Devil's Rejects           NaN\n",
       "84                Evil Dead II        Army of Darkness           NaN\n",
       "89  Diary of a Mad Black Woman  Madea's Family Reunion           NaN\n",
       "\n",
       "[90 rows x 3 columns]"
      ]
     },
     "execution_count": 53,
     "metadata": {},
     "output_type": "execute_result"
    }
   ],
   "source": [
    "# Instructions 4/4\n",
    "# 25 XP\n",
    "# 4\n",
    "# Sort by titles_diff by diff in descending order and print the first few rows.\n",
    "\n",
    "titles_diff.sort_values(by=\"diff\", ascending=False)"
   ]
  },
  {
   "cell_type": "code",
   "execution_count": 54,
   "id": "c746c526-4cfc-4079-b24d-01fa5e65b343",
   "metadata": {},
   "outputs": [],
   "source": [
    "# Amazing, that was great work! To complete this exercise, you needed to merge tables on their index and merge another table to itself. \n",
    "# After the calculations were added and sub-select specific columns, the data was sorted. \n",
    "# You found out that Jurassic World had one of the highest of all, improvement in revenue compared to the original movie."
   ]
  },
  {
   "cell_type": "markdown",
   "id": "c63071b9-93d1-4ea5-9d4c-7c9f1b86072a",
   "metadata": {},
   "source": [
    "# <span style=\"color:red\"> Chapter 3 Advanced Merging and Concatenating </span>"
   ]
  },
  {
   "cell_type": "raw",
   "id": "046d25b2-e813-47a3-96fe-0c66aa77e2c7",
   "metadata": {},
   "source": [
    "Chapter 3 Advanced Merging and Concatenating\n",
    "In this chapter, you’ll leverage powerful filtering techniques, including semi-joins and anti-joins. You’ll also learn how to glue DataFrames by vertically combining and using the pandas.concat function to create new datasets. Finally, because data is rarely clean, you’ll also learn how to validate your newly combined data structures.\n",
    "\n",
    "    Filtering joins (VIDEO)\n",
    "    Steps of a semi-join\n",
    "    Performing an anti-join\n",
    "    Performing a semi-join\n",
    "    Concatenate DataFrames together vertically (VIDEO)\n",
    "    Concatenation basics\n",
    "    Concatenating with keys\n",
    "    Using the append method\n",
    "    Verifying integrity (VIDEO)\n",
    "    Validating a merge\n",
    "    Concatenate and merge to find common songs"
   ]
  },
  {
   "cell_type": "code",
   "execution_count": 55,
   "id": "d396de51-e1e5-4074-b1a1-b2322095f715",
   "metadata": {},
   "outputs": [],
   "source": [
    "import pandas as pd\n",
    "import numpy as np\n",
    "\n",
    "top_cust = pd.read_excel(\"top_cust.xlsx\")\n",
    "employees = pd.read_excel(\"employees.xlsx\")\n",
    "non_mus_tcks = pd.read_excel(\"non_mus_tcks.xlsx\")\n",
    "top_invoices = pd.read_excel(\"top_invoices.xlsx\")\n",
    "genres = pd.read_excel(\"genres.xlsx\")\n",
    "tracks_master = pd.read_excel(\"tracks_master.xlsx\")\n",
    "tracks_ride = pd.read_excel(\"tracks_ride.xlsx\")\n",
    "tracks_st = pd.read_excel(\"tracks_st.xlsx\")\n",
    "inv_jul = pd.read_excel(\"inv_jul.xlsx\")\n",
    "inv_aug = pd.read_excel(\"inv_aug.xlsx\")\n",
    "inv_sep = pd.read_excel(\"inv_sep.xlsx\")\n",
    "invoice_items = pd.read_excel(\"invoice_items.xlsx\")\n",
    "artists = pd.read_excel(\"artists.xlsx\")\n",
    "albums = pd.read_excel(\"albums.xlsx\")\n",
    "classic_18 = pd.read_excel(\"classic_18.xlsx\")\n",
    "classic_19 = pd.read_excel(\"classic_19.xlsx\")\n",
    "pop_18 = pd.read_excel(\"pop_18.xlsx\")\n",
    "pop_19 = pd.read_excel(\"pop_19.xlsx\")\n",
    "top_tracks = pd.read_excel(\"top_tracks.xlsx\")\n",
    "tracks = pd.read_excel(\"tracks.xlsx\")\n",
    "specs = pd.read_excel(\"specs.xlsx\")"
   ]
  },
  {
   "cell_type": "markdown",
   "id": "ab74ee62-d446-42bf-9c39-f8456765c316",
   "metadata": {},
   "source": [
    "# Filtering joins (VIDEO)\n"
   ]
  },
  {
   "cell_type": "code",
   "execution_count": 56,
   "id": "ec9da00b-200c-4707-8d40-90c307a6df63",
   "metadata": {},
   "outputs": [
    {
     "name": "stdout",
     "output_type": "stream",
     "text": [
      "----FILTERING JOIN\n",
      "----Tabla genres\n",
      "   i  gid                name\n",
      "0  0    1                Rock\n",
      "1  1    2                Jazz\n",
      "2  2    3               Metal\n",
      "3  3    4  Alternative & Punk\n",
      "4  4    5       Rock And Roll\n",
      "----Tabla top_tracks\n",
      "   tid             name  aid  mtid  gid        composer  u_price\n",
      "0    1    For Those ab…    1     1    1   Angus Young,…     0.99\n",
      "1    2    Balls to the…    2     1    1             NaN     0.99\n",
      "2    3  Fast As a Shark    3     1    1   F. Baltes, S…     0.99\n",
      "3    4   Restless and …    3     1    1   F. Baltes, S…     0.99\n",
      "4    5    Princess of …    3     1    1  Deaffy & R. A…     0.99\n",
      "----Paso 1. Inner Join entre ambas tablas\n",
      "   i  gid name_x  tid           name_y  aid  mtid        composer  u_price\n",
      "0  0    1   Rock    1    For Those ab…    1     1   Angus Young,…     0.99\n",
      "1  0    1   Rock    2    Balls to the…    2     1             NaN     0.99\n",
      "2  0    1   Rock    3  Fast As a Shark    3     1   F. Baltes, S…     0.99\n",
      "3  0    1   Rock    4   Restless and …    3     1   F. Baltes, S…     0.99\n",
      "4  0    1   Rock    5    Princess of …    3     1  Deaffy & R. A…     0.99\n",
      "----Paso 2. Metodo .isin() para conocer que registros se encuentran en la otra tabla. Devuelve un vector de booleanos\n",
      "0      True\n",
      "1     False\n",
      "2     False\n",
      "3     False\n",
      "4     False\n",
      "5     False\n",
      "6     False\n",
      "7     False\n",
      "8     False\n",
      "9     False\n",
      "10    False\n",
      "11    False\n",
      "12    False\n",
      "13    False\n",
      "14    False\n",
      "15    False\n",
      "16    False\n",
      "17    False\n",
      "18    False\n",
      "19    False\n",
      "20    False\n",
      "21    False\n",
      "22    False\n",
      "23    False\n",
      "24    False\n",
      "Name: gid, dtype: bool\n",
      "----Paso 3. Qué registros de 'genres' estan en la tabla 'top_tracks'\n",
      "   i  gid  name\n",
      "0  0    1  Rock\n",
      "----ANTI JOIN\n",
      "----Paso 1. Realizar un Left Join entre y establecer el parametro indicator=True para conocer el tipo de coincidencia\n",
      "     i  gid              name_x  tid           name_y  aid  mtid  \\\n",
      "0    0    1                Rock  1.0    For Those ab…  1.0   1.0   \n",
      "1    0    1                Rock  2.0    Balls to the…  2.0   1.0   \n",
      "2    0    1                Rock  3.0  Fast As a Shark  3.0   1.0   \n",
      "3    0    1                Rock  4.0   Restless and …  3.0   1.0   \n",
      "4    0    1                Rock  5.0    Princess of …  3.0   1.0   \n",
      "5    1    2                Jazz  NaN              NaN  NaN   NaN   \n",
      "6    2    3               Metal  NaN              NaN  NaN   NaN   \n",
      "7    3    4  Alternative & Punk  NaN              NaN  NaN   NaN   \n",
      "8    4    5       Rock And Roll  NaN              NaN  NaN   NaN   \n",
      "9    5    6               Blues  NaN              NaN  NaN   NaN   \n",
      "10   6    7               Latin  NaN              NaN  NaN   NaN   \n",
      "11   7    8              Reggae  NaN              NaN  NaN   NaN   \n",
      "12   8    9                 Pop  NaN              NaN  NaN   NaN   \n",
      "13   9   10          Soundtrack  NaN              NaN  NaN   NaN   \n",
      "14  10   11          Bossa Nova  NaN              NaN  NaN   NaN   \n",
      "15  11   12      Easy Listening  NaN              NaN  NaN   NaN   \n",
      "16  12   13         Heavy Metal  NaN              NaN  NaN   NaN   \n",
      "17  13   14            R&B/Soul  NaN              NaN  NaN   NaN   \n",
      "18  14   15   Electronica/Dance  NaN              NaN  NaN   NaN   \n",
      "19  15   16               World  NaN              NaN  NaN   NaN   \n",
      "20  16   17         Hip Hop/Rap  NaN              NaN  NaN   NaN   \n",
      "21  17   18     Science Fiction  NaN              NaN  NaN   NaN   \n",
      "22  18   19            TV Shows  NaN              NaN  NaN   NaN   \n",
      "23  19   20    Sci Fi & Fantasy  NaN              NaN  NaN   NaN   \n",
      "24  20   21               Drama  NaN              NaN  NaN   NaN   \n",
      "25  21   22              Comedy  NaN              NaN  NaN   NaN   \n",
      "26  22   23         Alternative  NaN              NaN  NaN   NaN   \n",
      "27  23   24           Classical  NaN              NaN  NaN   NaN   \n",
      "28  24   25               Opera  NaN              NaN  NaN   NaN   \n",
      "\n",
      "          composer  u_price     _merge  \n",
      "0    Angus Young,…     0.99       both  \n",
      "1              NaN     0.99       both  \n",
      "2    F. Baltes, S…     0.99       both  \n",
      "3    F. Baltes, S…     0.99       both  \n",
      "4   Deaffy & R. A…     0.99       both  \n",
      "5              NaN      NaN  left_only  \n",
      "6              NaN      NaN  left_only  \n",
      "7              NaN      NaN  left_only  \n",
      "8              NaN      NaN  left_only  \n",
      "9              NaN      NaN  left_only  \n",
      "10             NaN      NaN  left_only  \n",
      "11             NaN      NaN  left_only  \n",
      "12             NaN      NaN  left_only  \n",
      "13             NaN      NaN  left_only  \n",
      "14             NaN      NaN  left_only  \n",
      "15             NaN      NaN  left_only  \n",
      "16             NaN      NaN  left_only  \n",
      "17             NaN      NaN  left_only  \n",
      "18             NaN      NaN  left_only  \n",
      "19             NaN      NaN  left_only  \n",
      "20             NaN      NaN  left_only  \n",
      "21             NaN      NaN  left_only  \n",
      "22             NaN      NaN  left_only  \n",
      "23             NaN      NaN  left_only  \n",
      "24             NaN      NaN  left_only  \n",
      "25             NaN      NaN  left_only  \n",
      "26             NaN      NaN  left_only  \n",
      "27             NaN      NaN  left_only  \n",
      "28             NaN      NaN  left_only  \n",
      "----Paso 2. Obtener los géneros que no tuvieron coincidencia con la tabla derecha.\n",
      "5      2\n",
      "6      3\n",
      "7      4\n",
      "8      5\n",
      "9      6\n",
      "10     7\n",
      "11     8\n",
      "12     9\n",
      "13    10\n",
      "14    11\n",
      "15    12\n",
      "16    13\n",
      "17    14\n",
      "18    15\n",
      "19    16\n",
      "20    17\n",
      "21    18\n",
      "22    19\n",
      "23    20\n",
      "24    21\n",
      "25    22\n",
      "26    23\n",
      "27    24\n",
      "28    25\n",
      "Name: gid, dtype: int64\n",
      "----Paso 3. Que registros de 'genres' no estan en las pistas principales 'top_track' \n",
      "     i  gid                name\n",
      "1    1    2                Jazz\n",
      "2    2    3               Metal\n",
      "3    3    4  Alternative & Punk\n",
      "4    4    5       Rock And Roll\n",
      "5    5    6               Blues\n",
      "6    6    7               Latin\n",
      "7    7    8              Reggae\n",
      "8    8    9                 Pop\n",
      "9    9   10          Soundtrack\n",
      "10  10   11          Bossa Nova\n",
      "11  11   12      Easy Listening\n",
      "12  12   13         Heavy Metal\n",
      "13  13   14            R&B/Soul\n",
      "14  14   15   Electronica/Dance\n",
      "15  15   16               World\n",
      "16  16   17         Hip Hop/Rap\n",
      "17  17   18     Science Fiction\n",
      "18  18   19            TV Shows\n",
      "19  19   20    Sci Fi & Fantasy\n",
      "20  20   21               Drama\n",
      "21  21   22              Comedy\n",
      "22  22   23         Alternative\n",
      "23  23   24           Classical\n",
      "24  24   25               Opera\n"
     ]
    }
   ],
   "source": [
    "#  MUTATING VS FILTERING JOINS\n",
    "#  Mutating Joins: Combina datos de 2 tablas basandose en la coincidencia de llaves en ambas tablas\n",
    "#  Filtering Joins: Filtra obervaciones en una tabla basandose en si los registros coinciden o no en otra tabla.\n",
    "\n",
    "# Pandas no soporta de manera nativa los Filter Join, pero lo podemos replicar.\n",
    "\n",
    "\n",
    "# SEMI JOIN\n",
    "# Devuelve las observaciones de la tabla izquierda que sí tienen una observacion coincidente en la tabla derecha.\n",
    "# Return only columns from the left table.\n",
    "print(\"----FILTERING JOIN\")\n",
    "print(\"----Tabla genres\")\n",
    "print(genres.head())\n",
    "print(\"----Tabla top_tracks\")\n",
    "print(top_tracks.head())\n",
    "print(\"----Paso 1. Inner Join entre ambas tablas\")\n",
    "genres_tracks = genres.merge(top_tracks, on=\"gid\")   \n",
    "print(genres_tracks)\n",
    "print(\"----Paso 2. Metodo .isin() para conocer que registros se encuentran en la otra tabla. Devuelve un vector de booleanos\")\n",
    "boo = genres[\"gid\"].isin(genres_tracks[\"gid\"])\n",
    "print(boo)\n",
    "print(\"----Paso 3. Qué registros de 'genres' estan en la tabla 'top_tracks'\")\n",
    "top_genres = genres[boo]\n",
    "print(top_genres)\n",
    "\n",
    "\n",
    "# ANTI JOIN \n",
    "# Devuelve las observaciones de la tabla izquierda que no tienen una observacion coincidente en la tabla derecha.\n",
    "# Return only columns from the left table.\n",
    "# Qué generos de la tabla 'genres' no están en la tabla de pistas principales 'top_tracks'\n",
    "\n",
    "print(\"----ANTI JOIN\")\n",
    "print(\"----Paso 1. Realizar un Left Join entre y establecer el parametro indicator=True para conocer el tipo de coincidencia\")\n",
    "genres_tracks = genres.merge(top_tracks, on = \"gid\", how=\"left\", indicator=True)\n",
    "print(genres_tracks)  \n",
    "print(\"----Paso 2. Obtener los géneros que no tuvieron coincidencia con la tabla derecha.\")\n",
    "bool = genres_tracks[\"_merge\"] == \"left_only\"\n",
    "gid_list = genres_tracks.loc[bool,\"gid\"]\n",
    "print(gid_list)\n",
    "print(\"----Paso 3. Que registros de 'genres' no estan en las pistas principales 'top_track' \")\n",
    "non_top_genres = genres[genres[\"gid\"].isin(gid_list)]\n",
    "print(non_top_genres)"
   ]
  },
  {
   "cell_type": "markdown",
   "id": "ac644d4a-a02a-4640-99a8-75d353b70838",
   "metadata": {},
   "source": [
    "#     Steps of a semi-join"
   ]
  },
  {
   "cell_type": "raw",
   "id": "baf3542d-a34b-4833-a4eb-78d63c27a9bb",
   "metadata": {},
   "source": [
    "Exercise\n",
    "Steps of a semi-join\n",
    "In the last video, you were shown how to perform a semi-join with pandas. \n",
    "In this exercise, you'll solidify your understanding of the necessary steps. \n",
    "Recall that a semi-join filters the left table to only the rows where a match exists in both the left and right tables."
   ]
  },
  {
   "cell_type": "code",
   "execution_count": 57,
   "id": "9b8ee742-87d5-40b5-8461-c7eef682d1e7",
   "metadata": {},
   "outputs": [],
   "source": [
    "# Instructions\n",
    "# 100XP\n",
    "# Sort the steps in the correct order of the technique shown to perform a semi-join in pandas.\n",
    "\n",
    "# Solution\n",
    "# Step 1: Merge the left and right tables on key column using an inner-join\n",
    "# Step 2: Search if the key column in the left table is in the merged tables using the .isin() method creating a Boolean series\n",
    "# Step 3: Subset the rows of the left table.\n",
    "\n",
    "# Congratulations! You have a sense of the steps in this technique. \n",
    "# It first merges the tables, then searches it for which rows belong in the final result creating a filter and subsets the left table with that filter.\n",
    "# PRESS ENTER TO\n",
    "# Continue"
   ]
  },
  {
   "cell_type": "markdown",
   "id": "ef021723-8afb-4ad5-8bc6-61277716ba8c",
   "metadata": {},
   "source": [
    "# Performing an anti-join\n"
   ]
  },
  {
   "cell_type": "raw",
   "id": "3d3889e3-49d4-4545-b689-3cd848a19f3a",
   "metadata": {},
   "source": [
    "Exercise\n",
    "Performing an anti-join\n",
    "In our music streaming company dataset, each customer is assigned an employee representative to assist them. \n",
    "In this exercise, filter the employee table by a table of top customers, returning only those employees who are not assigned to a customer.\n",
    "The results should resemble the results of an anti-join.\n",
    "The company's leadership will assign these employees additional training so that they can work with high valued customers.\n",
    "The top_cust and employees tables have been provided for you."
   ]
  },
  {
   "cell_type": "code",
   "execution_count": 58,
   "id": "3b196c85-f730-429a-8a8a-3b1f7b264dd2",
   "metadata": {},
   "outputs": [
    {
     "data": {
      "text/html": [
       "<div>\n",
       "<style scoped>\n",
       "    .dataframe tbody tr th:only-of-type {\n",
       "        vertical-align: middle;\n",
       "    }\n",
       "\n",
       "    .dataframe tbody tr th {\n",
       "        vertical-align: top;\n",
       "    }\n",
       "\n",
       "    .dataframe thead th {\n",
       "        text-align: right;\n",
       "    }\n",
       "</style>\n",
       "<table border=\"1\" class=\"dataframe\">\n",
       "  <thead>\n",
       "    <tr style=\"text-align: right;\">\n",
       "      <th></th>\n",
       "      <th>srid</th>\n",
       "      <th>lname_x</th>\n",
       "      <th>fname_x</th>\n",
       "      <th>title</th>\n",
       "      <th>hire_date</th>\n",
       "      <th>email_x</th>\n",
       "      <th>cid</th>\n",
       "      <th>fname_y</th>\n",
       "      <th>lname_y</th>\n",
       "      <th>phone</th>\n",
       "      <th>fax</th>\n",
       "      <th>email_y</th>\n",
       "      <th>_merge</th>\n",
       "    </tr>\n",
       "  </thead>\n",
       "  <tbody>\n",
       "    <tr>\n",
       "      <th>0</th>\n",
       "      <td>1</td>\n",
       "      <td>Adams</td>\n",
       "      <td>Andrew</td>\n",
       "      <td>General Manager</td>\n",
       "      <td>2002-08-14</td>\n",
       "      <td>andrew@chinookcorp.com</td>\n",
       "      <td>NaN</td>\n",
       "      <td>NaN</td>\n",
       "      <td>NaN</td>\n",
       "      <td>NaN</td>\n",
       "      <td>NaN</td>\n",
       "      <td>NaN</td>\n",
       "      <td>left_only</td>\n",
       "    </tr>\n",
       "    <tr>\n",
       "      <th>1</th>\n",
       "      <td>2</td>\n",
       "      <td>Edwards</td>\n",
       "      <td>Nancy</td>\n",
       "      <td>Sales Manager</td>\n",
       "      <td>2002-05-01</td>\n",
       "      <td>nancy@chinookcorp.com</td>\n",
       "      <td>NaN</td>\n",
       "      <td>NaN</td>\n",
       "      <td>NaN</td>\n",
       "      <td>NaN</td>\n",
       "      <td>NaN</td>\n",
       "      <td>NaN</td>\n",
       "      <td>left_only</td>\n",
       "    </tr>\n",
       "    <tr>\n",
       "      <th>2</th>\n",
       "      <td>3</td>\n",
       "      <td>Peacock</td>\n",
       "      <td>Jane</td>\n",
       "      <td>Sales Support Agent</td>\n",
       "      <td>2002-04-01</td>\n",
       "      <td>jane@chinookcorp.com</td>\n",
       "      <td>1.0</td>\n",
       "      <td>Luís</td>\n",
       "      <td>Gonçalves</td>\n",
       "      <td>+55 (12) 3923-5555</td>\n",
       "      <td>+55 (12) 3923-5566</td>\n",
       "      <td>luisg@embraer.com.br</td>\n",
       "      <td>both</td>\n",
       "    </tr>\n",
       "    <tr>\n",
       "      <th>3</th>\n",
       "      <td>3</td>\n",
       "      <td>Peacock</td>\n",
       "      <td>Jane</td>\n",
       "      <td>Sales Support Agent</td>\n",
       "      <td>2002-04-01</td>\n",
       "      <td>jane@chinookcorp.com</td>\n",
       "      <td>3.0</td>\n",
       "      <td>François</td>\n",
       "      <td>Tremblay</td>\n",
       "      <td>+1 (514) 721-4711</td>\n",
       "      <td>NaN</td>\n",
       "      <td>ftremblay@gmail.com</td>\n",
       "      <td>both</td>\n",
       "    </tr>\n",
       "  </tbody>\n",
       "</table>\n",
       "</div>"
      ],
      "text/plain": [
       "   srid  lname_x fname_x                title  hire_date  \\\n",
       "0     1    Adams  Andrew      General Manager 2002-08-14   \n",
       "1     2  Edwards   Nancy        Sales Manager 2002-05-01   \n",
       "2     3  Peacock    Jane  Sales Support Agent 2002-04-01   \n",
       "3     3  Peacock    Jane  Sales Support Agent 2002-04-01   \n",
       "\n",
       "                  email_x  cid   fname_y    lname_y               phone  \\\n",
       "0  andrew@chinookcorp.com  NaN       NaN        NaN                 NaN   \n",
       "1   nancy@chinookcorp.com  NaN       NaN        NaN                 NaN   \n",
       "2    jane@chinookcorp.com  1.0      Luís  Gonçalves  +55 (12) 3923-5555   \n",
       "3    jane@chinookcorp.com  3.0  François   Tremblay   +1 (514) 721-4711   \n",
       "\n",
       "                  fax               email_y     _merge  \n",
       "0                 NaN                   NaN  left_only  \n",
       "1                 NaN                   NaN  left_only  \n",
       "2  +55 (12) 3923-5566  luisg@embraer.com.br       both  \n",
       "3                 NaN   ftremblay@gmail.com       both  "
      ]
     },
     "execution_count": 58,
     "metadata": {},
     "output_type": "execute_result"
    }
   ],
   "source": [
    "# Instructions 1/3\n",
    "# 35 XP\n",
    "# 1\n",
    "# Merge employees and top_cust with a left join, setting indicator argument to True. Save the result to empl_cust.\n",
    "empl_cust = employees.merge(top_cust, on=\"srid\", how=\"left\", indicator=True)\n",
    "empl_cust.head(4)"
   ]
  },
  {
   "cell_type": "code",
   "execution_count": 59,
   "id": "704de2aa-f105-49ca-80e0-a77b75bf9d41",
   "metadata": {},
   "outputs": [
    {
     "name": "stdout",
     "output_type": "stream",
     "text": [
      "0     1\n",
      "1     2\n",
      "61    6\n",
      "62    7\n",
      "63    8\n",
      "Name: srid, dtype: int64\n"
     ]
    }
   ],
   "source": [
    "# Instructions 2/3\n",
    "# 35 XP\n",
    "# 2\n",
    "# Select the srid column of empl_cust and the rows where _merge is 'left_only'. Save the result to srid_list.\n",
    "# Take Hint (-10 XP)\n",
    "srid_list = empl_cust.loc[empl_cust[\"_merge\"] == \"left_only\",\"srid\"]\n",
    "print(srid_list)"
   ]
  },
  {
   "cell_type": "code",
   "execution_count": 60,
   "id": "89c53360-b023-4a08-a020-3885c54788cb",
   "metadata": {},
   "outputs": [
    {
     "data": {
      "text/html": [
       "<div>\n",
       "<style scoped>\n",
       "    .dataframe tbody tr th:only-of-type {\n",
       "        vertical-align: middle;\n",
       "    }\n",
       "\n",
       "    .dataframe tbody tr th {\n",
       "        vertical-align: top;\n",
       "    }\n",
       "\n",
       "    .dataframe thead th {\n",
       "        text-align: right;\n",
       "    }\n",
       "</style>\n",
       "<table border=\"1\" class=\"dataframe\">\n",
       "  <thead>\n",
       "    <tr style=\"text-align: right;\">\n",
       "      <th></th>\n",
       "      <th>srid</th>\n",
       "      <th>lname</th>\n",
       "      <th>fname</th>\n",
       "      <th>title</th>\n",
       "      <th>hire_date</th>\n",
       "      <th>email</th>\n",
       "    </tr>\n",
       "  </thead>\n",
       "  <tbody>\n",
       "    <tr>\n",
       "      <th>0</th>\n",
       "      <td>1</td>\n",
       "      <td>Adams</td>\n",
       "      <td>Andrew</td>\n",
       "      <td>General Manager</td>\n",
       "      <td>2002-08-14</td>\n",
       "      <td>andrew@chinookcorp.com</td>\n",
       "    </tr>\n",
       "    <tr>\n",
       "      <th>1</th>\n",
       "      <td>2</td>\n",
       "      <td>Edwards</td>\n",
       "      <td>Nancy</td>\n",
       "      <td>Sales Manager</td>\n",
       "      <td>2002-05-01</td>\n",
       "      <td>nancy@chinookcorp.com</td>\n",
       "    </tr>\n",
       "    <tr>\n",
       "      <th>5</th>\n",
       "      <td>6</td>\n",
       "      <td>Mitchell</td>\n",
       "      <td>Michael</td>\n",
       "      <td>IT Manager</td>\n",
       "      <td>2003-10-17</td>\n",
       "      <td>michael@chinookcorp.com</td>\n",
       "    </tr>\n",
       "    <tr>\n",
       "      <th>6</th>\n",
       "      <td>7</td>\n",
       "      <td>King</td>\n",
       "      <td>Robert</td>\n",
       "      <td>IT Staff</td>\n",
       "      <td>2004-01-02</td>\n",
       "      <td>robert@chinookcorp.com</td>\n",
       "    </tr>\n",
       "    <tr>\n",
       "      <th>7</th>\n",
       "      <td>8</td>\n",
       "      <td>Callahan</td>\n",
       "      <td>Laura</td>\n",
       "      <td>IT Staff</td>\n",
       "      <td>2004-03-04</td>\n",
       "      <td>laura@chinookcorp.com</td>\n",
       "    </tr>\n",
       "  </tbody>\n",
       "</table>\n",
       "</div>"
      ],
      "text/plain": [
       "   srid     lname    fname            title  hire_date  \\\n",
       "0     1     Adams   Andrew  General Manager 2002-08-14   \n",
       "1     2   Edwards    Nancy    Sales Manager 2002-05-01   \n",
       "5     6  Mitchell  Michael       IT Manager 2003-10-17   \n",
       "6     7      King   Robert         IT Staff 2004-01-02   \n",
       "7     8  Callahan    Laura         IT Staff 2004-03-04   \n",
       "\n",
       "                     email  \n",
       "0   andrew@chinookcorp.com  \n",
       "1    nancy@chinookcorp.com  \n",
       "5  michael@chinookcorp.com  \n",
       "6   robert@chinookcorp.com  \n",
       "7    laura@chinookcorp.com  "
      ]
     },
     "execution_count": 60,
     "metadata": {},
     "output_type": "execute_result"
    }
   ],
   "source": [
    "# Instructions 3/3\n",
    "# 30 XP\n",
    "# 3\n",
    "# Subset the employees table and select those rows where the srid is in the variable srid_list and print the results.\n",
    "employees[employees[\"srid\"].isin(srid_list)]"
   ]
  },
  {
   "cell_type": "code",
   "execution_count": 61,
   "id": "3fb35a1a-11d9-4578-93ec-25062a74f15c",
   "metadata": {},
   "outputs": [],
   "source": [
    "# You performed an anti-join by first merging the tables with a left join, selecting the ID of those employees \n",
    "# who did not support a top customer, and then subsetting the original employee's table. \n",
    "# From that, we can see that there are five employees not supporting top customers. \n",
    "# Anti-joins are a powerful tool to filter a main table (i.e. employees) by another (i.e. customers)."
   ]
  },
  {
   "cell_type": "markdown",
   "id": "289f6779-864f-44cb-9c6c-24df8193e1d0",
   "metadata": {},
   "source": [
    "# Performing a semi-join\n"
   ]
  },
  {
   "cell_type": "raw",
   "id": "ec25aceb-c44d-4d6f-9843-fc2633926b13",
   "metadata": {},
   "source": [
    "Exercise\n",
    "Performing a semi-join\n",
    "Some of the tracks that have generated the most significant amount of revenue are from TV-shows or are other non-musical audio. \n",
    "You have been given a table of invoices that include top revenue-generating items. Additionally, you have a table of non-musical tracks from the streaming service. In this exercise, you'll use a semi-join to find the top revenue-generating non-musical tracks..\n",
    "\n",
    "The tables non_mus_tcks, top_invoices, and genres have been loaded for you."
   ]
  },
  {
   "cell_type": "code",
   "execution_count": 62,
   "id": "f344c911-1fd2-41bf-8b37-9fe01418db8c",
   "metadata": {},
   "outputs": [
    {
     "name": "stdout",
     "output_type": "stream",
     "text": [
      "----Merge non_mus_tcks and top_invoices on tid using an inner join. Save the result as tracks_invoices\n",
      "    i_x   tid       name  aid  mtid  gid  u_price   i_y  ilid  iid  uprice  \\\n",
      "0  2849  2850    The Fix  228     3   21     1.99   472   473   88    1.99   \n",
      "1  2849  2850    The Fix  228     3   21     1.99  2191  2192  404    1.99   \n",
      "2  2867  2868  Walkabout  230     3   19     1.99   475   476   88    1.99   \n",
      "3  2867  2868  Walkabout  230     3   19     1.99  2193  2194  404    1.99   \n",
      "4  3176  3177   Hot Girl  249     3   19     1.99  1667  1668  306    1.99   \n",
      "\n",
      "   quantity  \n",
      "0         1  \n",
      "1         1  \n",
      "2         1  \n",
      "3         1  \n",
      "4         1  \n",
      "----Use .isin() to subset the rows of non_mus_tck where tid is in the tid column of tracks_invoices. Save the result as top_tracks\n",
      "        i   tid                          name  aid  mtid  gid  u_price\n",
      "18   2849  2850                       The Fix  228     3   21     1.99\n",
      "36   2867  2868                     Walkabout  230     3   19     1.99\n",
      "106  3176  3177                      Hot Girl  249     3   19     1.99\n",
      "129  3199  3200                Gay Witch Hunt  251     3   19     1.99\n",
      "143  3213  3214             Phyllis's Wedding  251     3   22     1.99\n",
      "152  3222  3223  How to Stop an Exploding Man  228     3   21     1.99\n",
      "178  3249  3250                         Pilot  254     3   19     1.99\n",
      "----Group top_tracks by gid and count the tid rows. Save the result to cnt_by_gid\n",
      "   gid  tid\n",
      "0   19    4\n",
      "1   21    2\n",
      "2   22    1\n",
      "----Merge cnt_by_gid with the genres table on gid and print the result\n",
      "   gid  tid   i      name\n",
      "0   19    4  18  TV Shows\n",
      "1   21    2  20     Drama\n",
      "2   22    1  21    Comedy\n"
     ]
    }
   ],
   "source": [
    "# Instructions\n",
    "# 100 XP\n",
    "# Merge non_mus_tcks and top_invoices on tid using an inner join. Save the result as tracks_invoices.\n",
    "# Use .isin() to subset the rows of non_mus_tck where tid is in the tid column of tracks_invoices. Save the result as top_tracks.\n",
    "# Group top_tracks by gid and count the tid rows. Save the result to cnt_by_gid.\n",
    "# Merge cnt_by_gid with the genres table on gid and print the result.\n",
    "\n",
    "print(\"----Merge non_mus_tcks and top_invoices on tid using an inner join. Save the result as tracks_invoices\")\n",
    "tracks_invoices = non_mus_tcks.merge(top_invoices, on=\"tid\", how=\"inner\")\n",
    "print(tracks_invoices.head())\n",
    "\n",
    "print(\"----Use .isin() to subset the rows of non_mus_tck where tid is in the tid column of tracks_invoices. Save the result as top_tracks\")\n",
    "top_tracks = non_mus_tcks[non_mus_tcks[\"tid\"].isin(tracks_invoices[\"tid\"])]\n",
    "print(top_tracks)\n",
    "\n",
    "print(\"----Group top_tracks by gid and count the tid rows. Save the result to cnt_by_gid\")\n",
    "cnt_by_gid = top_tracks.groupby([\"gid\"],as_index=False).agg({\"tid\":\"count\"})\n",
    "print(cnt_by_gid)\n",
    "\n",
    "print(\"----Merge cnt_by_gid with the genres table on gid and print the result\")\n",
    "print(cnt_by_gid.merge(genres, on=\"gid\", how=\"inner\"))"
   ]
  },
  {
   "cell_type": "code",
   "execution_count": 63,
   "id": "898d82cc-49f2-4772-a2db-74661be8ead1",
   "metadata": {},
   "outputs": [],
   "source": [
    "# Nice job! In this exercise, you replicated a semi-join to filter the table of tracks by the table of invoice items \n",
    "# to find the top revenue non-musical tracks. With some additional data manipulation, you discovered that 'TV-shows' \n",
    "# is the non-musical genre that has the most top revenue-generating tracks. Now that you've done both semi- and anti-joins, \n",
    "# it's time to move to the next topic."
   ]
  },
  {
   "cell_type": "markdown",
   "id": "f9e9e9ac-2328-401f-bfda-bacb957739d4",
   "metadata": {},
   "source": [
    "\n",
    "# Concatenate DataFrames together vertically (VIDEO)"
   ]
  },
  {
   "cell_type": "code",
   "execution_count": 64,
   "id": "121e60c4-656b-4868-bda3-4fa8c5bcbb4d",
   "metadata": {},
   "outputs": [
    {
     "name": "stdout",
     "output_type": "stream",
     "text": [
      "----DataFrame 'inv_jul'\n",
      "   i  iid  cid invoice_date  total       bill_ctry\n",
      "0  0   42   51   2009-07-06   1.98          Sweden\n",
      "1  1   43   53   2009-07-06   1.98              UK\n",
      "2  2   44   55   2009-07-07   3.96       Australia\n",
      "3  3   45   59   2009-07-08   5.94           India\n",
      "4  4   46    6   2009-07-11   8.91  Czech Republic\n",
      "----DataFrame 'inv_aug'\n",
      "   i  iid  cid invoice_date  total bill_ctry\n",
      "0  0   49   30   2009-08-06   1.98    Canada\n",
      "1  1   50   32   2009-08-06   1.98    Canada\n",
      "2  2   51   34   2009-08-07   3.96  Portugal\n",
      "3  3   52   38   2009-08-08   5.94   Germany\n",
      "4  4   53   44   2009-08-11   8.91   Finland\n",
      "----DataFrame 'inv_sep'\n",
      "   i  iid  cid invoice_date  total bill_ctry\n",
      "0  0   56    9   2009-09-06   1.98   Denmark\n",
      "1  1   57   11   2009-09-06   1.98    Brazil\n",
      "2  2   58   13   2009-09-07   3.96    Brazil\n",
      "3  3   59   17   2009-09-08   5.94       USA\n",
      "4  4   60   23   2009-09-11   8.91       USA\n",
      "----DataFrame 'inv_oct'\n",
      "   i  iid  cid invoice_date  total bill_ctry  extra_column\n",
      "0  0   56    9   2009-09-06   1.98   Denmark          9.90\n",
      "1  1   57   11   2009-09-06   1.98    Brazil          9.90\n",
      "2  2   58   13   2009-09-07   3.96    Brazil         19.80\n",
      "3  3   59   17   2009-09-08   5.94       USA         29.70\n",
      "4  4   60   23   2009-09-11   8.91       USA         44.55\n",
      "----Metodo pd.concat() para concatenar verticalmente 3 Data Frame\n",
      "     i  iid  cid invoice_date  total       bill_ctry\n",
      "0    0   42   51   2009-07-06   1.98          Sweden\n",
      "1    1   43   53   2009-07-06   1.98              UK\n",
      "2    2   44   55   2009-07-07   3.96       Australia\n",
      "3    3   45   59   2009-07-08   5.94           India\n",
      "4    4   46    6   2009-07-11   8.91  Czech Republic\n",
      "..  ..  ...  ...          ...    ...             ...\n",
      "28  28  387   29   2013-09-03   3.96          Canada\n",
      "29  29  388   33   2013-09-04   5.94          Canada\n",
      "30  30  389   39   2013-09-07   8.91          France\n",
      "31  31  390   48   2013-09-12  13.86     Netherlands\n",
      "32  32  391    3   2013-09-20   0.99          Canada\n",
      "\n",
      "[103 rows x 6 columns]\n",
      "----Metodo pd.concat() para concatenar verticalmente 3 Data Frame y argumento 'ignore_index' para no considerar los índices\n",
      "      i  iid  cid invoice_date  total       bill_ctry\n",
      "0     0   42   51   2009-07-06   1.98          Sweden\n",
      "1     1   43   53   2009-07-06   1.98              UK\n",
      "2     2   44   55   2009-07-07   3.96       Australia\n",
      "3     3   45   59   2009-07-08   5.94           India\n",
      "4     4   46    6   2009-07-11   8.91  Czech Republic\n",
      "..   ..  ...  ...          ...    ...             ...\n",
      "98   28  387   29   2013-09-03   3.96          Canada\n",
      "99   29  388   33   2013-09-04   5.94          Canada\n",
      "100  30  389   39   2013-09-07   8.91          France\n",
      "101  31  390   48   2013-09-12  13.86     Netherlands\n",
      "102  32  391    3   2013-09-20   0.99          Canada\n",
      "\n",
      "[103 rows x 6 columns]\n",
      "----Metodo pd.concat() para concatenar verticalmente 3 Data Frame.\n",
      "----Argumento 'ignore_index=Flase' para considerar los índices.\n",
      "----Argumento 'keys=[]' para definir nuevos índices para diferenciar cada DataFrame\n",
      "                i  iid  cid invoice_date  total       bill_ctry\n",
      "Julio      0    0   42   51   2009-07-06   1.98          Sweden\n",
      "           1    1   43   53   2009-07-06   1.98              UK\n",
      "           2    2   44   55   2009-07-07   3.96       Australia\n",
      "           3    3   45   59   2009-07-08   5.94           India\n",
      "           4    4   46    6   2009-07-11   8.91  Czech Republic\n",
      "...            ..  ...  ...          ...    ...             ...\n",
      "Septiembre 28  28  387   29   2013-09-03   3.96          Canada\n",
      "           29  29  388   33   2013-09-04   5.94          Canada\n",
      "           30  30  389   39   2013-09-07   8.91          France\n",
      "           31  31  390   48   2013-09-12  13.86     Netherlands\n",
      "           32  32  391    3   2013-09-20   0.99          Canada\n",
      "\n",
      "[103 rows x 6 columns]\n",
      "----Metodo pd.concant() para concatenar verticalmente 2 DataFrame con distintas columnas\n",
      "----Por default se conservan todas las columnas y donde no haya match se pondran valores NaN\n",
      "     i  iid  cid invoice_date  total    bill_ctry  extra_column\n",
      "0    0   56    9   2009-09-06   1.98      Denmark           NaN\n",
      "1    1   57   11   2009-09-06   1.98       Brazil           NaN\n",
      "2    2   58   13   2009-09-07   3.96       Brazil           NaN\n",
      "3    3   59   17   2009-09-08   5.94          USA           NaN\n",
      "4    4   60   23   2009-09-11   8.91          USA           NaN\n",
      "..  ..  ...  ...          ...    ...          ...           ...\n",
      "28  28  387   29   2013-09-03   3.96       Canada         19.80\n",
      "29  29  388   33   2013-09-04   5.94       Canada         29.70\n",
      "30  30  389   39   2013-09-07   8.91       France         44.55\n",
      "31  31  390   48   2013-09-12  13.86  Netherlands         69.30\n",
      "32  32  391    3   2013-09-20   0.99       Canada          4.95\n",
      "\n",
      "[66 rows x 7 columns]\n",
      "----Metodo pd.concant() para concatenar verticalmente 2 DataFrame con distintas columnas\n",
      "----Argumento join='inner' para obtener solo las columnas en comun de ambos Data Frame\n",
      "     i  iid  cid invoice_date  total    bill_ctry\n",
      "0    0   56    9   2009-09-06   1.98      Denmark\n",
      "1    1   57   11   2009-09-06   1.98       Brazil\n",
      "2    2   58   13   2009-09-07   3.96       Brazil\n",
      "3    3   59   17   2009-09-08   5.94          USA\n",
      "4    4   60   23   2009-09-11   8.91          USA\n",
      "..  ..  ...  ...          ...    ...          ...\n",
      "28  28  387   29   2013-09-03   3.96       Canada\n",
      "29  29  388   33   2013-09-04   5.94       Canada\n",
      "30  30  389   39   2013-09-07   8.91       France\n",
      "31  31  390   48   2013-09-12  13.86  Netherlands\n",
      "32  32  391    3   2013-09-20   0.99       Canada\n",
      "\n",
      "[66 rows x 6 columns]\n",
      "----Metodo df.append() para unir verticalmente 2 DataFrame con distintas columnas\n",
      "      bill_ctry  cid  extra_column   i  iid invoice_date  total\n",
      "0       Denmark    9           NaN   0   56   2009-09-06   1.98\n",
      "1        Brazil   11           NaN   1   57   2009-09-06   1.98\n",
      "2        Brazil   13           NaN   2   58   2009-09-07   3.96\n",
      "3           USA   17           NaN   3   59   2009-09-08   5.94\n",
      "4           USA   23           NaN   4   60   2009-09-11   8.91\n",
      "..          ...  ...           ...  ..  ...          ...    ...\n",
      "61       Canada   29         19.80  28  387   2013-09-03   3.96\n",
      "62       Canada   33         29.70  29  388   2013-09-04   5.94\n",
      "63       France   39         44.55  30  389   2013-09-07   8.91\n",
      "64  Netherlands   48         69.30  31  390   2013-09-12  13.86\n",
      "65       Canada    3          4.95  32  391   2013-09-20   0.99\n",
      "\n",
      "[66 rows x 7 columns]\n"
     ]
    }
   ],
   "source": [
    "print(\"----DataFrame 'inv_jul'\")\n",
    "print(inv_jul.head())\n",
    "print(\"----DataFrame 'inv_aug'\")\n",
    "print(inv_aug.head())\n",
    "print(\"----DataFrame 'inv_sep'\")\n",
    "print(inv_sep.head())\n",
    "inv_oct = inv_sep.copy()\n",
    "inv_oct[\"extra_column\"] = inv_oct[\"total\"]*5\n",
    "print(\"----DataFrame 'inv_oct'\")\n",
    "print(inv_oct.head())\n",
    "\n",
    "# CONCATENATE TABLES VERTICALLY\n",
    "\n",
    "print(\"----Metodo pd.concat() para concatenar verticalmente 3 Data Frame\")\n",
    "x = pd.concat([inv_jul,inv_aug,inv_sep])\n",
    "print(x)\n",
    "\n",
    "# CONCATENATE TABLES VERTICALLY WITHOUT INDEX\n",
    "print(\"----Metodo pd.concat() para concatenar verticalmente 3 Data Frame y argumento 'ignore_index' para no considerar los índices\")\n",
    "x = pd.concat([inv_jul,inv_aug,inv_sep],ignore_index=True)\n",
    "print(x)\n",
    "\n",
    "# CONCATENATE TABLES VERTICALLY AND ADDING KEYS\n",
    "print(\"----Metodo pd.concat() para concatenar verticalmente 3 Data Frame.\")\n",
    "print(\"----Argumento 'ignore_index=Flase' para considerar los índices.\")\n",
    "print(\"----Argumento 'keys=[]' para definir nuevos índices para diferenciar cada DataFrame\")\n",
    "x = pd.concat([inv_jul,inv_aug,inv_sep],ignore_index=False,keys=[\"Julio\",\"Agosto\",\"Septiembre\"])\n",
    "print(x)\n",
    "\n",
    "# CONCATENATE TABLES VERTICALLY WITH DIFFERENT COLUMN NAMES\n",
    "print(\"----Metodo pd.concant() para concatenar verticalmente 2 DataFrame con distintas columnas\")\n",
    "print(\"----Por default se conservan todas las columnas y donde no haya match se pondran valores NaN\")\n",
    "x = pd.concat([inv_sep,inv_oct])\n",
    "print(x)\n",
    "\n",
    "# CONCATENATE TABLES VERTICALLY WITH DIFFERENT COLUMN NAMES AND ONLY RETURN MATCHING COLUMNSabs\n",
    "print(\"----Metodo pd.concant() para concatenar verticalmente 2 DataFrame con distintas columnas\")\n",
    "print(\"----Argumento join='inner' para obtener solo las columnas en comun de ambos Data Frame\")\n",
    "x = pd.concat([inv_sep,inv_oct], join=\"inner\")\n",
    "print(x)\n",
    "\n",
    "# APPEND METHOD\n",
    "# .append() es una versión simplificada de .concat()\n",
    "# Puede recibir argumentos 'ignore_index' y 'sort'\n",
    "# No puede recibir argumentos 'keys' y  argumento 'join' siempre es outer.\n",
    "print(\"----Metodo df.append() para unir verticalmente 2 DataFrame con distintas columnas\")\n",
    "x = inv_sep.append([inv_oct], ignore_index=True,sort=True)\n",
    "print(x)"
   ]
  },
  {
   "cell_type": "markdown",
   "id": "fa9487b9-f2c1-49b2-a864-2cf7e924cc5e",
   "metadata": {},
   "source": [
    "# Concatenation basics"
   ]
  },
  {
   "cell_type": "raw",
   "id": "2da560a8-a9aa-4ee6-9346-6a34b26f0aa1",
   "metadata": {},
   "source": [
    "Concatenation basics\n",
    "You have been given a few tables of data with musical track info for different albums from the metal band, Metallica. \n",
    "The track info comes from their Ride The Lightning, Master Of Puppets, and St. Anger albums. \n",
    "Try various features of the .concat() method by concatenating the tables vertically together in different ways.\n",
    "\n",
    "The tables tracks_master, tracks_ride, and tracks_st have loaded for you."
   ]
  },
  {
   "cell_type": "code",
   "execution_count": 65,
   "id": "3a71ce69-3b2a-445e-b61a-2e007484f3f8",
   "metadata": {},
   "outputs": [
    {
     "name": "stdout",
     "output_type": "stream",
     "text": [
      "   aid             composer  gid  i  mtid                  name   tid  u_price\n",
      "0  152  J.Hetfield/L.Ulrich    3  0     1               Battery  1853     0.99\n",
      "1  152            K.Hammett    3  1     1     Master Of Puppets  1854     0.99\n",
      "2  152  J.Hetfield/L.Ulrich    3  4     1     Disposable Heroes  1857     0.99\n",
      "0  154                  NaN    3  0     1  Fight Fire With Fire  1874     0.99\n",
      "1  154                  NaN    3  1     1    Ride The Lightning  1875     0.99\n"
     ]
    }
   ],
   "source": [
    "# Instructions 1/3\n",
    "# 30 XP\n",
    "# 1\n",
    "# Concatenate tracks_master, tracks_ride, and tracks_st, in that order, setting sort to True.\n",
    "\n",
    "tracks_from_albums = pd.concat([tracks_master,tracks_ride, tracks_st], sort=True)\n",
    "print(tracks_from_albums.head())"
   ]
  },
  {
   "cell_type": "code",
   "execution_count": 66,
   "id": "a534ff45-51cf-4e2d-8b1a-fd6845a9afd4",
   "metadata": {},
   "outputs": [
    {
     "name": "stdout",
     "output_type": "stream",
     "text": [
      "   aid             composer  gid  i  mtid                  name   tid  u_price\n",
      "0  152  J.Hetfield/L.Ulrich    3  0     1               Battery  1853     0.99\n",
      "1  152            K.Hammett    3  1     1     Master Of Puppets  1854     0.99\n",
      "2  152  J.Hetfield/L.Ulrich    3  4     1     Disposable Heroes  1857     0.99\n",
      "3  154                  NaN    3  0     1  Fight Fire With Fire  1874     0.99\n",
      "4  154                  NaN    3  1     1    Ride The Lightning  1875     0.99\n"
     ]
    }
   ],
   "source": [
    "# Instructions 2/3\n",
    "# 30 XP\n",
    "# 2\n",
    "# Concatenate tracks_master, tracks_ride, and tracks_st, where the index goes from 0 to n-1.\n",
    "\n",
    "tracks_from_albums = pd.concat([tracks_master,tracks_ride,tracks_st], ignore_index=True, sort=True)\n",
    "print(tracks_from_albums.head())"
   ]
  },
  {
   "cell_type": "code",
   "execution_count": 67,
   "id": "c427c02e-7229-4062-9604-294a65edbc45",
   "metadata": {},
   "outputs": [
    {
     "name": "stdout",
     "output_type": "stream",
     "text": [
      "   aid  gid  i  mtid                  name   tid  u_price\n",
      "0  152    3  0     1               Battery  1853     0.99\n",
      "1  152    3  1     1     Master Of Puppets  1854     0.99\n",
      "2  152    3  4     1     Disposable Heroes  1857     0.99\n",
      "0  154    3  0     1  Fight Fire With Fire  1874     0.99\n",
      "1  154    3  1     1    Ride The Lightning  1875     0.99\n"
     ]
    }
   ],
   "source": [
    "# Instructions 3/3\n",
    "# 40 XP\n",
    "# 3\n",
    "# Concatenate tracks_master, tracks_ride, and tracks_st, showing only columns that are in all tables.\n",
    "\n",
    "tracks_from_albums = pd.concat([tracks_master, tracks_ride, tracks_st], join=\"inner\", sort=True)\n",
    "print(tracks_from_albums.head())"
   ]
  },
  {
   "cell_type": "code",
   "execution_count": 68,
   "id": "b3f272cc-44e7-4cb9-ba15-30b9dbd70f37",
   "metadata": {},
   "outputs": [],
   "source": [
    "# Great job! You've concatenated your first set of tables, adjusted the index, and altered the columns shown in the output. \n",
    "# The .concat() method is a very flexible tool that is useful for combining data into a new dataset."
   ]
  },
  {
   "cell_type": "markdown",
   "id": "1127b33e-8ab3-4739-88de-cf8b246845cd",
   "metadata": {},
   "source": [
    "# Concatenating with keys\n"
   ]
  },
  {
   "cell_type": "raw",
   "id": "9e3052f8-44e6-4518-8369-fd1f37d78b31",
   "metadata": {},
   "source": [
    "Concatenating with keys\n",
    "The leadership of the music streaming company has come to you and asked you for assistance in analyzing sales for a recent business quarter. \n",
    "They would like to know which month in the quarter saw the highest average invoice total. \n",
    "You have been given three tables with invoice data named inv_jul, inv_aug, and inv_sep. \n",
    "Concatenate these tables into one to create a graph of the average monthly invoice total."
   ]
  },
  {
   "cell_type": "code",
   "execution_count": 69,
   "id": "56bf6c87-35d4-4882-937b-e92061ad182e",
   "metadata": {},
   "outputs": [
    {
     "name": "stdout",
     "output_type": "stream",
     "text": [
      "----Concatenate the three tables together vertically in order with the oldest month first, adding '7Jul', '8Aug', and '9Sep' as keys for their respective months\n",
      "----and save to variable avg_inv_by_month\n",
      "          i  iid  cid invoice_date  total       bill_ctry\n",
      "7Jul 0    0   42   51   2009-07-06   1.98          Sweden\n",
      "     1    1   43   53   2009-07-06   1.98              UK\n",
      "     2    2   44   55   2009-07-07   3.96       Australia\n",
      "     3    3   45   59   2009-07-08   5.94           India\n",
      "     4    4   46    6   2009-07-11   8.91  Czech Republic\n",
      "...      ..  ...  ...          ...    ...             ...\n",
      "9Sep 28  28  387   29   2013-09-03   3.96          Canada\n",
      "     29  29  388   33   2013-09-04   5.94          Canada\n",
      "     30  30  389   39   2013-09-07   8.91          France\n",
      "     31  31  390   48   2013-09-12  13.86     Netherlands\n",
      "     32  32  391    3   2013-09-20   0.99          Canada\n",
      "\n",
      "[103 rows x 6 columns]\n",
      "----Use the .agg() method to find the average of the total column from the grouped invoices.\n",
      "  level_0     total\n",
      "0    7Jul  5.431429\n",
      "1    8Aug  5.660000\n",
      "2    9Sep  5.945455\n",
      "----Create a bar chart of avg_inv_by_month\n"
     ]
    },
    {
     "data": {
      "text/plain": [
       "<AxesSubplot:>"
      ]
     },
     "execution_count": 69,
     "metadata": {},
     "output_type": "execute_result"
    },
    {
     "data": {
      "image/png": "[encoded data removed]",
      "text/plain": [
       "<Figure size 432x288 with 1 Axes>"
      ]
     },
     "metadata": {
      "needs_background": "light"
     },
     "output_type": "display_data"
    }
   ],
   "source": [
    "# Instructions\n",
    "# 100 XP\n",
    "# Concatenate the three tables together vertically in order with the oldest month first, adding '7Jul', '8Aug', and '9Sep' as keys for their respective months \n",
    "# and save to variable avg_inv_by_month.\n",
    "# Use the .agg() method to find the average of the total column from the grouped invoices.\n",
    "# Create a bar chart of avg_inv_by_month.\n",
    "\n",
    "print(\"----Concatenate the three tables together vertically in order with the oldest month first, adding '7Jul', '8Aug', and '9Sep' as keys for their respective months\") \n",
    "print(\"----and save to variable avg_inv_by_month\")\n",
    "inv_jul_thr_sep = pd.concat([inv_jul,inv_aug,inv_sep],keys=[\"7Jul\",\"8Aug\",\"9Sep\"])\n",
    "print(inv_jul_thr_sep)\n",
    "\n",
    "print(\"----Use the .agg() method to find the average of the total column from the grouped invoices.\")\n",
    "inv_jul_thr_sep = inv_jul_thr_sep.reset_index()\n",
    "avg_inv_by_month = inv_jul_thr_sep.groupby([\"level_0\"],).agg({'total':\"mean\"})\n",
    "avg_inv_by_month = avg_inv_by_month.reset_index()\n",
    "print(avg_inv_by_month)\n",
    "\n",
    "print(\"----Create a bar chart of avg_inv_by_month\")\n",
    "avg_inv_by_month.plot(kind=\"bar\")"
   ]
  },
  {
   "cell_type": "code",
   "execution_count": 70,
   "id": "6e9b86c1-3f24-436c-bc3a-2d0d16566737",
   "metadata": {},
   "outputs": [],
   "source": [
    "# Way to come through! There are many ways to write code for this task. \n",
    "# However, concatenating the tables with a key provides a hierarchical index that can be used for grouping. \n",
    "# Once grouped, you can average the groups and create plots. \n",
    "# You were able to find out that September had the highest average invoice total."
   ]
  },
  {
   "cell_type": "markdown",
   "id": "6e00e35d-a08b-4dd2-9c4f-82b3ea0e3f3a",
   "metadata": {},
   "source": [
    "# Using the append method\n"
   ]
  },
  {
   "cell_type": "raw",
   "id": "1aa35023-8201-45b6-a271-032dcbb17a39",
   "metadata": {},
   "source": [
    "Exercise\n",
    "Using the append method\n",
    "The .concat() method is excellent when you need a lot of control over how concatenation is performed. \n",
    "However, if you do not need as much control, then the .append() method is another option. \n",
    "You'll try this method out by appending the track lists together from different Metallica albums. From there, you will merge it with the invoice_items table to determine which track sold the most.\n",
    "\n",
    "The tables tracks_master, tracks_ride, tracks_st, and invoice_items have loaded for you."
   ]
  },
  {
   "cell_type": "code",
   "execution_count": 71,
   "id": "6cae826b-6edd-40e8-98d6-d7cd603c7bee",
   "metadata": {},
   "outputs": [
    {
     "name": "stdout",
     "output_type": "stream",
     "text": [
      "----Use the .append() method to combine (in this order) tracks_ride, tracks_master, and tracks_st together vertically, and save to metallica_tracks\n",
      "   i   tid                     name  aid  mtid  gid  u_price composer\n",
      "0  0  1874     Fight Fire With Fire  154     1    3     0.99      NaN\n",
      "1  1  1875       Ride The Lightning  154     1    3     0.99      NaN\n",
      "2  2  1876  For Whom The Bell Tolls  154     1    3     0.99      NaN\n",
      "3  3  1877            Fade To Black  154     1    3     0.99      NaN\n",
      "4  4  1878        Trapped Under Ice  154     1    3     0.99      NaN\n",
      "----Merge metallica_tracks and invoice_items on tid with an inner join, and save to tracks_invoices\n",
      "   i_x   tid                     name  aid  mtid  gid  u_price  \\\n",
      "0    1  1875       Ride The Lightning  154     1    3     0.99   \n",
      "1    2  1876  For Whom The Bell Tolls  154     1    3     0.99   \n",
      "2    2  1876  For Whom The Bell Tolls  154     1    3     0.99   \n",
      "3    3  1877            Fade To Black  154     1    3     0.99   \n",
      "4    0  1853                  Battery  152     1    3     0.99   \n",
      "\n",
      "              composer   i_y  ilid  iid  uprice  quantity  \n",
      "0                  NaN   886   887  165    0.99         1  \n",
      "1                  NaN   311   312   59    0.99         1  \n",
      "2                  NaN  1460  1461  270    0.99         1  \n",
      "3                  NaN  2034  2035  375    0.99         1  \n",
      "4  J.Hetfield/L.Ulrich   881   882  164    0.99         1  \n",
      "----For each tid and name in tracks_invoices, sum the quantity sold column, and save as tracks_sold\n",
      "    tid                     name  quantity\n",
      "0  1853                  Battery         2\n",
      "1  1854        Master Of Puppets         1\n",
      "2  1857        Disposable Heroes         1\n",
      "3  1875       Ride The Lightning         1\n",
      "4  1876  For Whom The Bell Tolls         2\n",
      "5  1877            Fade To Black         1\n",
      "6  1882                  Frantic         1\n",
      "7  1884     Some Kind Of Monster         1\n",
      "8  1886            Invisible Kid         1\n",
      "---Sort tracks_sold in descending order by the quantity column, and print the table\n",
      "    tid                     name  quantity\n",
      "0  1853                  Battery         2\n",
      "4  1876  For Whom The Bell Tolls         2\n",
      "1  1854        Master Of Puppets         1\n",
      "2  1857        Disposable Heroes         1\n",
      "3  1875       Ride The Lightning         1\n",
      "5  1877            Fade To Black         1\n",
      "6  1882                  Frantic         1\n",
      "7  1884     Some Kind Of Monster         1\n",
      "8  1886            Invisible Kid         1\n"
     ]
    }
   ],
   "source": [
    "# Instructions\n",
    "# 100 XP\n",
    "# Use the .append() method to combine (in this order) tracks_ride, tracks_master, and tracks_st together vertically, and save to metallica_tracks.\n",
    "# Merge metallica_tracks and invoice_items on tid with an inner join, and save to tracks_invoices.\n",
    "# For each tid and name in tracks_invoices, sum the quantity sold column, and save as tracks_sold.\n",
    "# Sort tracks_sold in descending order by the quantity column, and print the table.\n",
    "\n",
    "print(\"----Use the .append() method to combine (in this order) tracks_ride, tracks_master, and tracks_st together vertically, and save to metallica_tracks\")\n",
    "metallica_tracks = tracks_ride.append([tracks_master,tracks_st],sort=False)\n",
    "print(metallica_tracks.head())\n",
    "\n",
    "print(\"----Merge metallica_tracks and invoice_items on tid with an inner join, and save to tracks_invoices\")\n",
    "tracks_invoices = metallica_tracks.merge(invoice_items,on=\"tid\", how = \"inner\")\n",
    "print(tracks_invoices.head())\n",
    "\n",
    "print(\"----For each tid and name in tracks_invoices, sum the quantity sold column, and save as tracks_sold\")\n",
    "tracks_sold = tracks_invoices.groupby([\"tid\",\"name\"],as_index=False)[\"quantity\"].agg(sum)\n",
    "print(tracks_sold)    \n",
    "\n",
    "print(\"---Sort tracks_sold in descending order by the quantity column, and print the table\")\n",
    "tracks_sold = tracks_sold.sort_values(by=\"quantity\",ascending=False)\n",
    "print(tracks_sold)"
   ]
  },
  {
   "cell_type": "code",
   "execution_count": 72,
   "id": "f8da7a31-1972-476e-a646-80156ea4af22",
   "metadata": {},
   "outputs": [],
   "source": [
    "# Great work! Even though .append() is less flexible, it's also simpler than .concat(). \n",
    "# It looks like Battery, and For Whom The Bell Tolls were the most sold tracks."
   ]
  },
  {
   "cell_type": "markdown",
   "id": "c919297b-9e62-44f5-92ff-1077c12a4ca4",
   "metadata": {},
   "source": [
    "# Verifying integrity (VIDEO)"
   ]
  },
  {
   "cell_type": "code",
   "execution_count": 73,
   "id": "1d9b360d-202d-4dec-9620-3ce764dfd556",
   "metadata": {},
   "outputs": [
    {
     "name": "stdout",
     "output_type": "stream",
     "text": [
      "----DataFrame 'tracks' \n",
      "   tid             name  aid  mtid  gid  u_price\n",
      "0    2    Balls to the…    2     2    1     0.99\n",
      "1    3  Fast As a Shark    3     2    1     0.99\n",
      "2    4    Restless and…    3     2    1     0.99\n",
      "----DataFrame 'specs' \n",
      "   tid  milliseconds    bytes\n",
      "0    2        342562  5510424\n",
      "1    3        230619  3990994\n",
      "2    2        252051  4331770\n",
      "----DataFrame 'albums' \n",
      "       i  aid                                              title  artid\n",
      "0      0    1              For Those About To Rock We Salute You      1\n",
      "1      1    2                                  Balls to the Wall      2\n",
      "2      2    3                                  Restless and Wild      2\n",
      "3      3    4                                  Let There Be Rock      1\n",
      "4      4    5                                           Big Ones      3\n",
      "..   ...  ...                                                ...    ...\n",
      "342  342  343                             Respighi:Pines of Rome    226\n",
      "343  343  344  Schubert: The Late String Quartets & String Qu...    272\n",
      "344  344  345                                Monteverdi: L'Orfeo    273\n",
      "345  345  346                              Mozart: Chamber Music    274\n",
      "346  346  347  Koyaanisqatsi (Soundtrack from the Motion Pict...    275\n",
      "\n",
      "[347 rows x 4 columns]\n",
      "----Metodo .merge() y argumento validate='many_to_one' para validar si es una relación muchos_a_uno \n",
      " ---Saldrá un mensaje de error \n",
      "\n",
      "----Metodo .merge() y argumento validate='many_to_many' para validar si es una relación muchos_a_muchos \n",
      " ---Saldrá un mensaje de error \n",
      "\n",
      "----Metodo .merge() y argumento validate='one_to_one' para validar si es una relación uno_a_uno \n",
      " ---Saldrá un mensaje de error \n",
      "\n",
      "----Metodo .merge() y argumento validate='one_to_many' para validar si es una relación uno_a_muchos\n",
      "   i  aid              title  artid  tid             name  mtid  gid  u_price\n",
      "0  1    2  Balls to the Wall      2    2    Balls to the…     2    1     0.99\n",
      "1  2    3  Restless and Wild      2    3  Fast As a Shark     2    1     0.99\n",
      "2  2    3  Restless and Wild      2    4    Restless and…     2    1     0.99\n",
      "----Metodo df.concat() y argumento 'verify_integrity=True' para verificar que no haya duplicidad en los indices de la concatenación\n"
     ]
    }
   ],
   "source": [
    "print(\"----DataFrame 'tracks' \")\n",
    "print(tracks)\n",
    "print(\"----DataFrame 'specs' \")\n",
    "print(specs)\n",
    "print(\"----DataFrame 'albums' \")\n",
    "print(albums)\n",
    "\n",
    "\n",
    "\n",
    "\n",
    "# MERGE AND VALIDATE MANY_TO_ONE\n",
    "print(\"----Metodo .merge() y argumento validate='many_to_one' para validar si es una relación muchos_a_uno\",\"\\n\",\"---Saldrá un mensaje de error\",\"\\n\")\n",
    "# x = tracks.merge(specs,on=\"tid\",validate=\"many_to_one\") #Devuelve un error\n",
    "\n",
    "# MERGE AND VALIDATE MANY_TO_MANY\n",
    "print(\"----Metodo .merge() y argumento validate='many_to_many' para validar si es una relación muchos_a_muchos\",\"\\n\",\"---Saldrá un mensaje de error\",\"\\n\")\n",
    "# x = tracks.merge(specs,on=\"tid\",validate=\"many_to_many\") #Devuelve un error\n",
    "\n",
    "# MERGE AND VALIDATE ONE_TO_ONE\n",
    "print(\"----Metodo .merge() y argumento validate='one_to_one' para validar si es una relación uno_a_uno\",\"\\n\",\"---Saldrá un mensaje de error\",\"\\n\")\n",
    "# x = tracks.merge(specs,on=\"tid\",validate=\"one_to_one\") #Devuelve un error\n",
    "\n",
    "# MERGE AND VALIDATE ONE_TO_MANY\n",
    "print(\"----Metodo .merge() y argumento validate='one_to_many' para validar si es una relación uno_a_muchos\")\n",
    "x = albums.merge(tracks,on=\"aid\",validate=\"one_to_many\")\n",
    "print(x)\n",
    "\n",
    "\n",
    "\n",
    "\n",
    "# VERIFYING CONCATENATIONS\n",
    "print(\"----Metodo df.concat() y argumento 'verify_integrity=True' para verificar que no haya duplicidad en los indices de la concatenación\")\n",
    "# pd.concat([inv_jul,inv_jul], verify_integrity=True) #Devuelve el error:  Indexes have overlapping values\n",
    "\n",
    "\n",
    "\n",
    "\n",
    "# Verificar la integridad es util por las siguientes razones:\n",
    "# Datos reales usualmente no estan limpios.\n",
    "# Arreglar datos incorrectos.\n",
    "# Eliminar filas duplicadas."
   ]
  },
  {
   "cell_type": "markdown",
   "id": "336b8692-10b5-462b-92f5-b1abc757800b",
   "metadata": {},
   "source": [
    "# Validating a merge"
   ]
  },
  {
   "cell_type": "code",
   "execution_count": 74,
   "id": "ce3e3490-71bd-4357-90d8-96f1c06d9ebc",
   "metadata": {},
   "outputs": [],
   "source": [
    "# Instructions\n",
    "# You have been given 2 tables, artists, and albums. \n",
    "# Use the IPython shell to merge them using artists.merge(albums, on='artid').head(). \n",
    "# Adjust the validate argument to answer which statement is FALSE.\n",
    "# 50 XP\n",
    "# Possible Answers:\n",
    "\n",
    "#    You can use 'many_to_many' without an error, since there is a duplicate key in one of the tables.  \n",
    "#    You can use 'one_to_many' without error, since there is a duplicate key in the right table.\n",
    "#    You can use 'many_to_one' without an error, since there is a duplicate key in the left table.       <- Respuesta Correcta\n",
    "\n",
    "# artists.merge(albums,on=\"artid\",validate=\"many_to_many\")\n",
    "# artists.merge(albums,on=\"artid\",validate=\"one_to_many\")\n",
    "# artists.merge(albums,on=\"artid\",validate=\"many_to_one\") #Esta es la que devuelve el error"
   ]
  },
  {
   "cell_type": "code",
   "execution_count": 75,
   "id": "2a71b987-b2eb-4506-a652-998795c8eb98",
   "metadata": {},
   "outputs": [],
   "source": [
    "# That's correct! This statement is false. \n",
    "# There is a duplicate value in the artid column in the albums table, which is the right table in this merge. \n",
    "# Therefore, setting validate equal to 'many_to_one' or 'one_to_one' will raise an error, making this statement false."
   ]
  },
  {
   "cell_type": "markdown",
   "id": "27ae17a6-73f9-4e37-baaf-0fb1198a9297",
   "metadata": {},
   "source": [
    "# Concatenate and merge to find common songs"
   ]
  },
  {
   "cell_type": "raw",
   "id": "0e1b150b-4769-463f-9b97-0f9ba58ce187",
   "metadata": {},
   "source": [
    "Concatenate and merge to find common songs\n",
    "The senior leadership of the streaming service is requesting your help again. \n",
    "You are given the historical files for a popular playlist in the classical music genre in 2018 and 2019. \n",
    "Additionally, you are given a similar set of files for the most popular pop music genre playlist on the streaming service in 2018 and 2019. \n",
    "Your goal is to concatenate the respective files to make a large classical playlist table and overall popular music table. \n",
    "Then filter the classical music table using a semi-join to return only the most popular classical music tracks.\n",
    "\n",
    "The tables classic_18, classic_19, and pop_18, pop_19 have been loaded for you. Additionally, pandas has been loaded as pd."
   ]
  },
  {
   "cell_type": "code",
   "execution_count": 76,
   "id": "91c5ae61-eef4-43f9-87fb-f08297e0a884",
   "metadata": {},
   "outputs": [
    {
     "name": "stdout",
     "output_type": "stream",
     "text": [
      "----Concatenate the classic_18 and classic_19 tables vertically where the index goes from 0 to n-1, and save to classic_18_19\n",
      "      i  pid   tid\n",
      "0  8527   12  3483\n",
      "1  8586   12  3416\n",
      "2  8533   12  3489\n",
      "3  8523   12  3479\n",
      "4  8558   12  3440\n",
      "----Concatenate the pop_18 and pop_19 tables vertically where the index goes from 0 to n-1, and save to pop_18_19\n",
      "      i  pid   tid\n",
      "0  3150    1  3063\n",
      "1   315    1  2712\n",
      "2  2178    1  2641\n",
      "3  2772    1  2271\n",
      "4   430    1   919\n"
     ]
    }
   ],
   "source": [
    "# Instructions 1/2\n",
    "# 50 XP\n",
    "# 1\n",
    "# Concatenate the classic_18 and classic_19 tables vertically where the index goes from 0 to n-1, and save to classic_18_19.\n",
    "# Concatenate the pop_18 and pop_19 tables vertically where the index goes from 0 to n-1, and save to pop_18_19.\n",
    "\n",
    "print(\"----Concatenate the classic_18 and classic_19 tables vertically where the index goes from 0 to n-1, and save to classic_18_19\")\n",
    "classic_18_19 = pd.concat([classic_18,classic_19],ignore_index=True)\n",
    "print(classic_18_19.head())\n",
    "\n",
    "print(\"----Concatenate the pop_18 and pop_19 tables vertically where the index goes from 0 to n-1, and save to pop_18_19\")\n",
    "pop_18_19 = pd.concat([pop_18,pop_19],ignore_index=True)\n",
    "print(pop_18_19.head())"
   ]
  },
  {
   "cell_type": "code",
   "execution_count": 77,
   "id": "409f50cc-ddfe-4b89-820a-acbb91fe22ba",
   "metadata": {},
   "outputs": [
    {
     "name": "stdout",
     "output_type": "stream",
     "text": [
      "----With classic_18_19 on the left, merge it with pop_18_19 on tid using an inner join\n",
      "    i_x  pid_x   tid  i_y  pid_y\n",
      "0  8523     12  3479  529      1\n",
      "1  8557     12  3439  506      1\n",
      "2  8563     12  3445  501      1\n",
      "3  8567     12  3449  496      1\n",
      "4  8555     12  3437  520      1\n",
      "5  8553     12  3435  510      1\n",
      "----Use .isin() to filter classic_18_19 where tid is in classic_pop\n",
      "       i  pid   tid\n",
      "3   8523   12  3479\n",
      "10  8557   12  3439\n",
      "21  8563   12  3445\n",
      "23  8567   12  3449\n",
      "48  8555   12  3437\n",
      "50  8553   12  3435\n"
     ]
    }
   ],
   "source": [
    "# Instructions 2/2\n",
    "# 50 XP\n",
    "# 2\n",
    "# With classic_18_19 on the left, merge it with pop_18_19 on tid using an inner join.\n",
    "# Use .isin() to filter classic_18_19 where tid is in classic_pop.\n",
    "\n",
    "print(\"----With classic_18_19 on the left, merge it with pop_18_19 on tid using an inner join\")\n",
    "classic_pop = classic_18_19.merge(pop_18_19,on=\"tid\",how=\"inner\")\n",
    "print(classic_pop)\n",
    "\n",
    "print(\"----Use .isin() to filter classic_18_19 where tid is in classic_pop\")\n",
    "popular_classic = classic_18_19[classic_18_19[\"tid\"].isin(classic_pop[\"tid\"])]\n",
    "print(popular_classic)"
   ]
  },
  {
   "cell_type": "code",
   "execution_count": 78,
   "id": "9e49f291-0b9b-4655-afaa-22effedfd9a7",
   "metadata": {},
   "outputs": [],
   "source": [
    "# Excellent work! In this exercise, you demonstrated many of the concepts discussed in this chapter, including concatenation, \n",
    "# and semi-joins. You now have experience combining data vertically and using semi- and anti-joins. Time to move on to the next chapter!"
   ]
  },
  {
   "cell_type": "markdown",
   "id": "f7a06790-c369-46b3-9469-02d4948c6f57",
   "metadata": {},
   "source": [
    "# <span style=\"color:red\"> Chapter 4 Merging Ordered and Time-Series Data </span>"
   ]
  },
  {
   "cell_type": "raw",
   "id": "bd199548-925c-4fff-8e9e-25ebffdc5eab",
   "metadata": {},
   "source": [
    "Chapter 4 Merging Ordered and Time-Series Data\n",
    "In this final chapter, you’ll step up a gear and learn to apply pandas' specialized methods for merging time-series and ordered data together with real-world financial and economic data from the city of Chicago. You’ll also learn how to query resulting tables using a SQL-style format, and unpivot data using the melt method.\n",
    "\n",
    "    Using merge_ordered() (VIDEO)\n",
    "    Correlation between GDP and S&P500\n",
    "    Phillips curve using merge_ordered()\n",
    "    merge_ordered() caution, multiple columns\n",
    "    Using merge_asof() (VIDEO)\n",
    "    Using merge_asof() to study stocks\n",
    "    Using merge_asof() to create dataset\n",
    "    merge_asof() and merge_ordered() differences\n",
    "    Selecting data with .query() (VIDEO)\n",
    "    Explore financials with .query()\n",
    "    Subsetting rows with .query()\n",
    "    Reshaping data with .melt() (VIDEO)\n",
    "    Select the right .melt() arguments\n",
    "    Using .melt() to reshape government data\n",
    "    Using .melt() for stocks vs bond performance\n",
    "    Course wrap-up"
   ]
  },
  {
   "cell_type": "code",
   "execution_count": 466,
   "id": "57d2387b-27ed-4b7c-acc9-9874dd5b9f7a",
   "metadata": {},
   "outputs": [],
   "source": [
    "import numpy as np\n",
    "import pandas as pd\n",
    "\n",
    "sp500 = pd.read_excel(\"sp500.xlsx\")\n",
    "gdp = pd.read_excel(\"gdp.xlsx\",sheet_name=\"Hoja1\")\n",
    "unemployment = pd.read_excel(\"unemployment.xlsx\",sheet_name=\"Hoja1\")\n",
    "inflation = pd.read_excel(\"inflation.xlsx\")\n",
    "gdp_1 = pd.read_excel(\"gdp_1.xlsx\")\n",
    "pop = pd.read_excel(\"pop.xlsx\")\n",
    "jpm = pd.read_excel(\"jpm.xlsx\")\n",
    "wells = pd.read_excel(\"wells.xlsx\")\n",
    "bac = pd.read_excel(\"bac.xlsx\")\n",
    "gdp_2 = pd.read_excel(\"gdp_2.xlsx\")\n",
    "recession = pd.read_excel(\"recession.xlsx\")\n",
    "social_fin = pd.read_excel(\"social_fin.xlsx\")\n",
    "gdp_3 = pd.read_excel(\"gdp_3.xlsx\")\n",
    "inflation_2 = pd.read_excel(\"inflation_2.xlsx\")\n",
    "ur_wide = pd.read_excel(\"ur_wide.xlsx\")\n",
    "ten_yr = pd.read_excel(\"ten_yr.xlsx\")\n",
    "dji = pd.read_excel(\"dji.xlsx\")\n",
    "appl = pd.read_excel(\"appl.xlsx\")\n",
    "mcd = pd.read_excel(\"mcd.xlsx\")\n",
    "visa = pd.read_excel(\"visa.xlsx\")\n",
    "ibm = pd.read_excel(\"ibm.xlsx\")\n",
    "stocks = pd.read_excel(\"stocks.xlsx\")\n",
    "\n",
    "# Crear el Data Frame stostocks_long\n",
    "stocks_long = stocks.set_index(\"date\").stack().reset_index()\n",
    "stocks_long.columns = [\"date\",\"stock\",\"close\"]\n",
    "stocks_long = stocks_long.sort_values(by=[\"stock\",\"date\"])\n",
    "social_fin_1 = pd.read_csv(\"social_fin_1.csv\")"
   ]
  },
  {
   "cell_type": "markdown",
   "id": "59ffee8f-1cf1-4949-8aff-37d925e6b851",
   "metadata": {},
   "source": [
    "#     Using merge_ordered() (VIDEO)"
   ]
  },
  {
   "cell_type": "code",
   "execution_count": 80,
   "id": "4704c6c7-f9dd-4492-8176-3f1d7e5f0fd2",
   "metadata": {},
   "outputs": [
    {
     "name": "stdout",
     "output_type": "stream",
     "text": [
      "----Data Frame appl:\n",
      "        date  close\n",
      "0 2007-02-01  12.08\n",
      "1 2007-03-01  13.27\n",
      "2 2007-04-01  14.25\n",
      "3 2007-05-01  17.31\n",
      "4 2007-06-01  17.43\n",
      "----Data Frame cmd\n",
      "        date  close\n",
      "0 2007-01-01  44.34\n",
      "1 2007-02-01  43.68\n",
      "2 2007-03-01  45.84\n",
      "3 2007-04-01  48.27\n",
      "4 2007-05-01  50.54\n",
      "----Método pd.merge_ordered() permite realizar un join y obtener los resultados ordenados. Por defaul se genera un Outer Join\n",
      "        date  close_appl  close_mcd\n",
      "0 2007-01-01         NaN      44.34\n",
      "1 2007-02-01       12.08      43.68\n",
      "2 2007-03-01       13.27      45.84\n",
      "3 2007-04-01       14.25      48.27\n",
      "4 2007-05-01       17.31      50.54\n",
      "5 2007-06-01       17.43        NaN\n",
      "----Metodo pd.merge_ordered() y argumento 'fill_method=ffill' para llenar los valores Na con el valor de adelante\n",
      "        date  close_appl  close_mcd\n",
      "0 2007-01-01         NaN      44.34\n",
      "1 2007-02-01       12.08      43.68\n",
      "2 2007-03-01       13.27      45.84\n",
      "3 2007-04-01       14.25      48.27\n",
      "4 2007-05-01       17.31      50.54\n",
      "5 2007-06-01       17.43      50.54\n"
     ]
    }
   ],
   "source": [
    "print(\"----Data Frame appl:\")\n",
    "print(appl)\n",
    "print(\"----Data Frame cmd\")\n",
    "print(mcd)\n",
    "\n",
    "# METODO PD.MERGE_ORDERED() PARA REALIZAR UN JOIN Y OBTENER UN DATAFRAME ORDENADO\n",
    "print(\"----Método pd.merge_ordered() permite realizar un join y obtener los resultados ordenados. Por defaul se genera un Outer Join\")\n",
    "x = pd.merge_ordered(appl, mcd, on=\"date\", suffixes=(\"_appl\",\"_mcd\"))\n",
    "print(x)\n",
    "\n",
    "# ARGUMENTO FILL_METHOD PARA ESTABLECER EL LLENADO DE VALORES NA\n",
    "print(\"----Metodo pd.merge_ordered() y argumento 'fill_method=ffill' para llenar los valores Na con el valor de adelante\")\n",
    "x = pd.merge_ordered(appl, mcd, on=\"date\", suffixes=(\"_appl\",\"_mcd\"), fill_method=\"ffill\")\n",
    "print(x)\n",
    "\n",
    "# CUANDO USAR PD.MERGE_ORDERED()\n",
    "# Al trabajar con datos ordenados y series de tiempo\n",
    "# El argumento fill_method ayuda a imputar los valores perdidos"
   ]
  },
  {
   "cell_type": "markdown",
   "id": "e5b790e3-344b-4925-811a-fd3d1edc8008",
   "metadata": {},
   "source": [
    "# Correlation between GDP and S&P500"
   ]
  },
  {
   "cell_type": "raw",
   "id": "0ff1c816-8ff6-4a99-8236-51e2b628da08",
   "metadata": {},
   "source": [
    "In this exercise, you want to analyze stock returns from the S&P 500. \n",
    "You believe there may be a relationship between the returns of the S&P 500 and the GDP of the US. \n",
    "Merge the different datasets together to compute the correlation.\n",
    "\n",
    "Two tables have been provided for you, named sp500, and gdp. As always, pandas has been imported for you as pd."
   ]
  },
  {
   "cell_type": "code",
   "execution_count": 81,
   "id": "8b7dc0a6-3b44-4620-aa8e-002e2cc9d9f5",
   "metadata": {},
   "outputs": [
    {
     "name": "stdout",
     "output_type": "stream",
     "text": [
      "  country code  year             gdp    date  returns\n",
      "0          USA  2010  14992100000000  2010.0    12.78\n",
      "1          USA  2011  15542600000000  2011.0     0.00\n",
      "2          USA  2012  16197000000000  2012.0    13.41\n",
      "3          USA  2012  16197000000000  2012.0    13.41\n",
      "4          USA  2013  16784800000000  2013.0    29.60\n",
      "5          USA  2014  17521700000000  2014.0    11.39\n",
      "6          USA  2015  18219300000000  2015.0    -0.73\n",
      "7          USA  2016  18707200000000  2016.0     9.54\n",
      "8          USA  2017  19485400000000  2017.0    19.42\n",
      "9          USA  2018  20494100000000     NaN      NaN\n"
     ]
    }
   ],
   "source": [
    "# Instructions 1/3\n",
    "# 35 XP\n",
    "# 1\n",
    "# Use merge_ordered() to merge gdp and sp500 using a left join on year and date. Save the results as gdp_sp500.\n",
    "# Print gdp_sp500 and look at the returns for the year 2018.\n",
    "\n",
    "gdp_sp500 = pd.merge_ordered(gdp,sp500,left_on=\"year\",right_on=\"date\",how=\"left\")\n",
    "print(gdp_sp500)"
   ]
  },
  {
   "cell_type": "code",
   "execution_count": 82,
   "id": "036f0c7d-d044-4854-8451-6fece7755887",
   "metadata": {},
   "outputs": [
    {
     "name": "stdout",
     "output_type": "stream",
     "text": [
      "  country code  year             gdp  date  returns\n",
      "0          USA  2010  14992100000000  2010    12.78\n",
      "1          USA  2011  15542600000000  2011     0.00\n",
      "2          USA  2012  16197000000000  2012    13.41\n",
      "3          USA  2012  16197000000000  2012    13.41\n",
      "4          USA  2013  16784800000000  2013    29.60\n",
      "5          USA  2014  17521700000000  2014    11.39\n",
      "6          USA  2015  18219300000000  2015    -0.73\n",
      "7          USA  2016  18707200000000  2016     9.54\n",
      "8          USA  2017  19485400000000  2017    19.42\n",
      "9          USA  2018  20494100000000  2017    19.42\n"
     ]
    }
   ],
   "source": [
    "# Instructions 2/3\n",
    "# 35 XP\n",
    "# 2\n",
    "# Use merge_ordered(), again similar to before, to merge gdp and sp500 use the function's ability to \n",
    "# interpolate missing data to forward fill the missing value for returns, assigning this table to the variable gdp_sp500.\n",
    "\n",
    "gdp_sp500 = pd.merge_ordered(gdp,sp500,left_on=\"year\",right_on=\"date\",how=\"left\",fill_method=\"ffill\")\n",
    "print(gdp_sp500)"
   ]
  },
  {
   "cell_type": "code",
   "execution_count": 83,
   "id": "7ef9617d-f30d-41d8-8118-8070be013936",
   "metadata": {},
   "outputs": [
    {
     "name": "stdout",
     "output_type": "stream",
     "text": [
      "              gdp   returns\n",
      "gdp      1.000000  0.212173\n",
      "returns  0.212173  1.000000\n"
     ]
    }
   ],
   "source": [
    "# Instructions 3/3\n",
    "# 30 XP\n",
    "# 3\n",
    "# Subset the gdp_sp500 table, select the gdp and returns columns, and save as gdp_returns.\n",
    "# Print the correlation matrix of the gdp_returns table.\n",
    "\n",
    "gdp_returns = gdp_sp500[[\"gdp\",\"returns\"]]\n",
    "print(gdp_returns.corr())"
   ]
  },
  {
   "cell_type": "code",
   "execution_count": 84,
   "id": "2f48678e-8ac1-467a-9bc1-d9ac5e468cc1",
   "metadata": {},
   "outputs": [],
   "source": [
    "# Awesome work! You can see the different aspects of merge_ordered() \n",
    "# and how you might use it on data that can be ordered. \n",
    "# By using this function, you were able to fill in the missing data from 2019. \n",
    "# Finally, the correlation of 0.21 between the GDP and S&P500 is low to moderate at best. \n",
    "# You may want to find another predictor if you plan to play in the stock market."
   ]
  },
  {
   "cell_type": "markdown",
   "id": "9378ef23-5384-4b1d-ac6d-1b16d487273b",
   "metadata": {},
   "source": [
    "# Phillips curve using merge_ordered()\n"
   ]
  },
  {
   "cell_type": "raw",
   "id": "19bd39af-936f-493d-9382-2be8773d67b0",
   "metadata": {},
   "source": [
    "Exercise\n",
    "Phillips curve using merge_ordered()\n",
    "There is an economic theory developed by A. W. Phillips which states that inflation and unemployment have an inverse relationship. \n",
    "The theory claims that with economic growth comes inflation, which in turn should lead to more jobs and less unemployment.\n",
    "You will take two tables of data from the U.S. Bureau of Labor Statistics, containing unemployment and inflation data over different periods, and create a Phillips curve. \n",
    "The tables have different frequencies. One table has a data entry every six months, while the other has a data entry every month. You will need to use the entries where you have data within both tables.\n",
    "\n",
    "The tables unemployment and inflation have been loaded for you."
   ]
  },
  {
   "cell_type": "code",
   "execution_count": 102,
   "id": "cd61ad98-7f5b-42e6-9e7d-1f217729bf6e",
   "metadata": {},
   "outputs": [
    {
     "name": "stdout",
     "output_type": "stream",
     "text": [
      "----Use merge_ordered() to merge the inflation and unemployment tables on date with an inner join, and save the results as inflation_unemploy\n",
      "          date      cpi      seriesid                   data_type  \\\n",
      "0   2014-01-01  235.288   CUSR0000SA0   SEASONALLY ADJUSTED INDEX   \n",
      "1   2014-06-01  237.231   CUSR0000SA0   SEASONALLY ADJUSTED INDEX   \n",
      "2   2015-01-01  234.718   CUSR0000SA0   SEASONALLY ADJUSTED INDEX   \n",
      "3   2015-06-01  237.684   CUSR0000SA0   SEASONALLY ADJUSTED INDEX   \n",
      "4   2016-01-01  237.833   CUSR0000SA0   SEASONALLY ADJUSTED INDEX   \n",
      "5   2016-06-01  240.167   CUSR0000SA0   SEASONALLY ADJUSTED INDEX   \n",
      "6   2017-01-01  243.780   CUSR0000SA0   SEASONALLY ADJUSTED INDEX   \n",
      "7   2017-06-01  244.182   CUSR0000SA0   SEASONALLY ADJUSTED INDEX   \n",
      "8   2018-01-01  248.884   CUSR0000SA0   SEASONALLY ADJUSTED INDEX   \n",
      "9   2018-06-01  251.134   CUSR0000SA0   SEASONALLY ADJUSTED INDEX   \n",
      "\n",
      "   unemployment_rate  \n",
      "0                6.7  \n",
      "1                6.1  \n",
      "2                5.6  \n",
      "3                5.3  \n",
      "4                5.0  \n",
      "5                4.9  \n",
      "6                4.7  \n",
      "7                4.3  \n",
      "8                4.1  \n",
      "9                4.0  \n",
      "----Using inflation_unemploy, create a scatter plot with unemployment_rate on the horizontal axis and cpi (inflation) on the vertical axis\n"
     ]
    },
    {
     "data": {
      "text/plain": [
       "<AxesSubplot:xlabel='unemployment_rate', ylabel='cpi'>"
      ]
     },
     "execution_count": 102,
     "metadata": {},
     "output_type": "execute_result"
    },
    {
     "data": {
      "image/png": "[encoded data removed]",
      "text/plain": [
       "<Figure size 432x288 with 1 Axes>"
      ]
     },
     "metadata": {
      "needs_background": "light"
     },
     "output_type": "display_data"
    }
   ],
   "source": [
    "# Instructions\n",
    "# 100 XP\n",
    "# Use merge_ordered() to merge the inflation and unemployment tables on date with an inner join, and save the results as inflation_unemploy.\n",
    "# Print the inflation_unemploy variable.\n",
    "# Using inflation_unemploy, create a scatter plot with unemployment_rate on the horizontal axis and cpi (inflation) on the vertical axis.\n",
    "\n",
    "\n",
    "print(\"----Use merge_ordered() to merge the inflation and unemployment tables on date with an inner join, and save the results as inflation_unemploy\")\n",
    "inflation_unemploy = pd.merge_ordered(inflation,unemployment,on=\"date\",how=\"inner\")\n",
    "print(inflation_unemploy)\n",
    "\n",
    "print(\"----Using inflation_unemploy, create a scatter plot with unemployment_rate on the horizontal axis and cpi (inflation) on the vertical axis\")\n",
    "inflation_unemploy.plot(x=\"unemployment_rate\",y=\"cpi\",kind=\"scatter\")"
   ]
  },
  {
   "cell_type": "markdown",
   "id": "106ba876-b5bb-42b0-b44a-f9a94299a6d4",
   "metadata": {},
   "source": [
    "# merge_ordered() caution, multiple columns\n"
   ]
  },
  {
   "cell_type": "raw",
   "id": "64f4aa8e-1587-43f1-bf26-6faddef0e53b",
   "metadata": {},
   "source": [
    "When using merge_ordered() to merge on multiple columns, the order is important when you combine it with the forward fill feature. \n",
    "The function sorts the merge on columns in the order provided. In this exercise, we will merge GDP and population data from the World Bank for the Australia and Sweden, reversing the order of the merge on columns. The frequency of the series are different, the GDP values are quarterly, and the population is yearly. Use the forward fill feature to fill in the missing data. Depending on the order provided, the fill forward will use unintended data to fill in the missing values.\n",
    "\n",
    "The tables gdp_1 and pop have been loaded."
   ]
  },
  {
   "cell_type": "code",
   "execution_count": 124,
   "id": "a1eea104-7c96-470d-914e-a376dcc8fa1f",
   "metadata": {},
   "outputs": [
    {
     "data": {
      "text/html": [
       "<div>\n",
       "<style scoped>\n",
       "    .dataframe tbody tr th:only-of-type {\n",
       "        vertical-align: middle;\n",
       "    }\n",
       "\n",
       "    .dataframe tbody tr th {\n",
       "        vertical-align: top;\n",
       "    }\n",
       "\n",
       "    .dataframe thead th {\n",
       "        text-align: right;\n",
       "    }\n",
       "</style>\n",
       "<table border=\"1\" class=\"dataframe\">\n",
       "  <thead>\n",
       "    <tr style=\"text-align: right;\">\n",
       "      <th></th>\n",
       "      <th>date</th>\n",
       "      <th>country</th>\n",
       "      <th>gdp</th>\n",
       "      <th>series_code_x</th>\n",
       "      <th>pop</th>\n",
       "      <th>series_code_y</th>\n",
       "    </tr>\n",
       "  </thead>\n",
       "  <tbody>\n",
       "    <tr>\n",
       "      <th>0</th>\n",
       "      <td>1990-01-01</td>\n",
       "      <td>Sweden</td>\n",
       "      <td>79837.84599</td>\n",
       "      <td>NYGDPMKTPSAKD</td>\n",
       "      <td>8558835</td>\n",
       "      <td>SP.POP.TOTL</td>\n",
       "    </tr>\n",
       "    <tr>\n",
       "      <th>1</th>\n",
       "      <td>1990-01-01</td>\n",
       "      <td>Australia</td>\n",
       "      <td>158051.13240</td>\n",
       "      <td>NYGDPMKTPSAKD</td>\n",
       "      <td>17065100</td>\n",
       "      <td>SP.POP.TOTL</td>\n",
       "    </tr>\n",
       "    <tr>\n",
       "      <th>2</th>\n",
       "      <td>1990-04-01</td>\n",
       "      <td>Sweden</td>\n",
       "      <td>80582.28597</td>\n",
       "      <td>NYGDPMKTPSAKD</td>\n",
       "      <td>17065100</td>\n",
       "      <td>SP.POP.TOTL</td>\n",
       "    </tr>\n",
       "    <tr>\n",
       "      <th>3</th>\n",
       "      <td>1990-04-01</td>\n",
       "      <td>Australia</td>\n",
       "      <td>158263.58160</td>\n",
       "      <td>NYGDPMKTPSAKD</td>\n",
       "      <td>17065100</td>\n",
       "      <td>SP.POP.TOTL</td>\n",
       "    </tr>\n",
       "    <tr>\n",
       "      <th>4</th>\n",
       "      <td>1990-07-01</td>\n",
       "      <td>Sweden</td>\n",
       "      <td>79974.36017</td>\n",
       "      <td>NYGDPMKTPSAKD</td>\n",
       "      <td>17065100</td>\n",
       "      <td>SP.POP.TOTL</td>\n",
       "    </tr>\n",
       "  </tbody>\n",
       "</table>\n",
       "</div>"
      ],
      "text/plain": [
       "        date     country           gdp   series_code_x       pop series_code_y\n",
       "0 1990-01-01      Sweden   79837.84599   NYGDPMKTPSAKD   8558835   SP.POP.TOTL\n",
       "1 1990-01-01   Australia  158051.13240   NYGDPMKTPSAKD  17065100   SP.POP.TOTL\n",
       "2 1990-04-01      Sweden   80582.28597   NYGDPMKTPSAKD  17065100   SP.POP.TOTL\n",
       "3 1990-04-01   Australia  158263.58160   NYGDPMKTPSAKD  17065100   SP.POP.TOTL\n",
       "4 1990-07-01      Sweden   79974.36017   NYGDPMKTPSAKD  17065100   SP.POP.TOTL"
      ]
     },
     "execution_count": 124,
     "metadata": {},
     "output_type": "execute_result"
    }
   ],
   "source": [
    "# Instructions 1/2\n",
    "# 50 XP\n",
    "# 1\n",
    "# Use merge_ordered() on gdp and pop, merging on columns date and country with the fill feature, save to ctry_date.\n",
    "# When you merge on date first, the table is sorted by date then country. When forward fill is applied.\n",
    "\n",
    "ctry_date = pd.merge_ordered(gdp_1,pop,on=[\"date\",\"country\"],fill_method=\"ffill\")\n",
    "ctry_date.head()"
   ]
  },
  {
   "cell_type": "code",
   "execution_count": 123,
   "id": "b1d901b9-dff0-4fb9-80a6-94c0d144df53",
   "metadata": {},
   "outputs": [
    {
     "data": {
      "text/html": [
       "<div>\n",
       "<style scoped>\n",
       "    .dataframe tbody tr th:only-of-type {\n",
       "        vertical-align: middle;\n",
       "    }\n",
       "\n",
       "    .dataframe tbody tr th {\n",
       "        vertical-align: top;\n",
       "    }\n",
       "\n",
       "    .dataframe thead th {\n",
       "        text-align: right;\n",
       "    }\n",
       "</style>\n",
       "<table border=\"1\" class=\"dataframe\">\n",
       "  <thead>\n",
       "    <tr style=\"text-align: right;\">\n",
       "      <th></th>\n",
       "      <th>date</th>\n",
       "      <th>country</th>\n",
       "      <th>gdp</th>\n",
       "      <th>series_code_x</th>\n",
       "      <th>pop</th>\n",
       "      <th>series_code_y</th>\n",
       "    </tr>\n",
       "  </thead>\n",
       "  <tbody>\n",
       "    <tr>\n",
       "      <th>0</th>\n",
       "      <td>1990-01-01</td>\n",
       "      <td>Sweden</td>\n",
       "      <td>79837.84599</td>\n",
       "      <td>NYGDPMKTPSAKD</td>\n",
       "      <td>8558835</td>\n",
       "      <td>SP.POP.TOTL</td>\n",
       "    </tr>\n",
       "    <tr>\n",
       "      <th>1</th>\n",
       "      <td>1990-04-01</td>\n",
       "      <td>Sweden</td>\n",
       "      <td>80582.28597</td>\n",
       "      <td>NYGDPMKTPSAKD</td>\n",
       "      <td>8558835</td>\n",
       "      <td>SP.POP.TOTL</td>\n",
       "    </tr>\n",
       "    <tr>\n",
       "      <th>2</th>\n",
       "      <td>1990-07-01</td>\n",
       "      <td>Sweden</td>\n",
       "      <td>79974.36017</td>\n",
       "      <td>NYGDPMKTPSAKD</td>\n",
       "      <td>8558835</td>\n",
       "      <td>SP.POP.TOTL</td>\n",
       "    </tr>\n",
       "    <tr>\n",
       "      <th>3</th>\n",
       "      <td>1990-09-01</td>\n",
       "      <td>Sweden</td>\n",
       "      <td>80106.49738</td>\n",
       "      <td>NYGDPMKTPSAKD</td>\n",
       "      <td>8558835</td>\n",
       "      <td>SP.POP.TOTL</td>\n",
       "    </tr>\n",
       "    <tr>\n",
       "      <th>4</th>\n",
       "      <td>1991-01-01</td>\n",
       "      <td>Sweden</td>\n",
       "      <td>79524.24192</td>\n",
       "      <td>NYGDPMKTPSAKD</td>\n",
       "      <td>8617375</td>\n",
       "      <td>SP.POP.TOTL</td>\n",
       "    </tr>\n",
       "  </tbody>\n",
       "</table>\n",
       "</div>"
      ],
      "text/plain": [
       "        date     country          gdp   series_code_x      pop series_code_y\n",
       "0 1990-01-01      Sweden  79837.84599   NYGDPMKTPSAKD  8558835   SP.POP.TOTL\n",
       "1 1990-04-01      Sweden  80582.28597   NYGDPMKTPSAKD  8558835   SP.POP.TOTL\n",
       "2 1990-07-01      Sweden  79974.36017   NYGDPMKTPSAKD  8558835   SP.POP.TOTL\n",
       "3 1990-09-01      Sweden  80106.49738   NYGDPMKTPSAKD  8558835   SP.POP.TOTL\n",
       "4 1991-01-01      Sweden  79524.24192   NYGDPMKTPSAKD  8617375   SP.POP.TOTL"
      ]
     },
     "execution_count": 123,
     "metadata": {},
     "output_type": "execute_result"
    }
   ],
   "source": [
    "# Instructions 2/2\n",
    "# 50 XP\n",
    "# 2\n",
    "# Perform the same merge of gdp and pop, but join on country and date (reverse of step 1) with the fill feature, saving this as date_ctry.\n",
    "# When you merge on country first, the table is sorted by country then date, so the forward fill is applied appropriately in this situation.\n",
    "\n",
    "date_ctry = pd.merge_ordered(gdp_1,pop,on=[\"country\",\"date\"],fill_method=\"ffill\")\n",
    "date_ctry.head()"
   ]
  },
  {
   "cell_type": "markdown",
   "id": "a009e578-214c-427e-b67e-aaebd95a129d",
   "metadata": {},
   "source": [
    "# Using merge_asof() (VIDEO)"
   ]
  },
  {
   "cell_type": "code",
   "execution_count": 145,
   "id": "c17f0a7f-a14c-48d1-a095-e5dc549ef890",
   "metadata": {},
   "outputs": [
    {
     "name": "stdout",
     "output_type": "stream",
     "text": [
      "----Data Frame visa:\n",
      "            date_time     close\n",
      "0 2017-11-17 16:00:00  110.3200\n",
      "1 2017-11-17 17:00:00  110.2400\n",
      "2 2017-11-17 18:00:00  110.0650\n",
      "3 2017-11-17 19:00:00  110.0400\n",
      "4 2017-11-17 20:00:00  110.0000\n",
      "5 2017-11-17 21:00:00  109.9966\n",
      "6 2017-11-17 22:00:00  109.8200\n",
      "----Data Frame ibm:\n",
      "             date_time     close\n",
      "0  2017-11-17 15:35:12  149.3000\n",
      "1  2017-11-17 15:40:34  149.1300\n",
      "2  2017-11-17 15:45:50  149.9800\n",
      "3  2017-11-17 15:50:20  149.9900\n",
      "4  2017-11-17 15:55:10  149.1100\n",
      "5  2017-11-17 16:00:03  149.2500\n",
      "6  2017-11-17 16:05:06  149.5175\n",
      "7  2017-11-17 16:10:12  149.5700\n",
      "8  2017-11-17 16:15:30  149.5900\n",
      "9  2017-11-17 16:20:32  149.8200\n",
      "10 2017-11-17 16:25:47  149.9600\n",
      "----Metodo pd.merge_asof() para realizar un join con coincidencias aproximadas\n",
      "            date_time  close_visa  close_ibm\n",
      "0 2017-11-17 16:00:00    110.3200     149.11\n",
      "1 2017-11-17 17:00:00    110.2400     149.96\n",
      "2 2017-11-17 18:00:00    110.0650     149.96\n",
      "3 2017-11-17 19:00:00    110.0400     149.96\n",
      "4 2017-11-17 20:00:00    110.0000     149.96\n",
      "5 2017-11-17 21:00:00    109.9966     149.96\n",
      "6 2017-11-17 22:00:00    109.8200     149.96\n",
      "----Metodo pd.merge_asof() para realizar un join con coincidencias aproxiamdas\n",
      "----Argumento direction='forward' para elegir que la llave de la tabla izquierda debe ser mayor o igual a la llave de la tabla derecha\n",
      "            date_time  close_visa  close_ibm\n",
      "0 2017-11-17 16:00:00    110.3200     149.25\n",
      "1 2017-11-17 17:00:00    110.2400        NaN\n",
      "2 2017-11-17 18:00:00    110.0650        NaN\n",
      "3 2017-11-17 19:00:00    110.0400        NaN\n",
      "4 2017-11-17 20:00:00    110.0000        NaN\n",
      "5 2017-11-17 21:00:00    109.9966        NaN\n",
      "6 2017-11-17 22:00:00    109.8200        NaN\n",
      "----Metodo pd.merge_asof() para realizar un join con coincidencias aproximadas\n",
      "----Argumento direction='nearest' para elegir que la llave de la tabla izquierda sera la más cercana a la llave de la tabla derecha\n",
      "            date_time  close_visa  close_ibm\n",
      "0 2017-11-17 16:00:00    110.3200     149.25\n",
      "1 2017-11-17 17:00:00    110.2400     149.96\n",
      "2 2017-11-17 18:00:00    110.0650     149.96\n",
      "3 2017-11-17 19:00:00    110.0400     149.96\n",
      "4 2017-11-17 20:00:00    110.0000     149.96\n",
      "5 2017-11-17 21:00:00    109.9966     149.96\n",
      "6 2017-11-17 22:00:00    109.8200     149.96\n"
     ]
    }
   ],
   "source": [
    "# MERGE_ASOF()\n",
    "# Similar a un pd.merge_ordered() con left_join\n",
    "# Realizar el 'match' con los valores más cercanos a la columna llave y no sobre valores exactos.\n",
    "# Se puede elegir que el match sea con los valore más cercanos por abajo, por arriba, o en cualquier dirección.\n",
    "\n",
    "print(\"----Data Frame visa:\")\n",
    "print(visa)\n",
    "print(\"----Data Frame ibm:\")\n",
    "print(ibm)\n",
    "\n",
    "print(\"----Metodo pd.merge_asof() para realizar un join con coincidencias aproximadas\")\n",
    "x = pd.merge_asof(visa,ibm,on=\"date_time\",suffixes=(\"_visa\",\"_ibm\"))\n",
    "print(x)\n",
    "\n",
    "print(\"----Metodo pd.merge_asof() para realizar un join con coincidencias aproxiamdas\")\n",
    "print(\"----Argumento direction='forward' para elegir que la llave de la tabla izquierda debe ser mayor o igual a la llave de la tabla derecha\")\n",
    "x = pd.merge_asof(visa,ibm,on=\"date_time\",suffixes=(\"_visa\",\"_ibm\"),direction=\"forward\")\n",
    "print(x)\n",
    "\n",
    "print(\"----Metodo pd.merge_asof() para realizar un join con coincidencias aproximadas\")\n",
    "print(\"----Argumento direction='nearest' para elegir que la llave de la tabla izquierda sera la más cercana a la llave de la tabla derecha\")\n",
    "x = pd.merge_asof(visa,ibm,on=\"date_time\",suffixes=(\"_visa\",\"_ibm\"),direction=\"nearest\")\n",
    "print(x)"
   ]
  },
  {
   "cell_type": "markdown",
   "id": "9eb0a73b-d459-4bce-ba1f-4786d4af4157",
   "metadata": {},
   "source": [
    "# Using merge_asof() to study stocks"
   ]
  },
  {
   "cell_type": "raw",
   "id": "796e7c75-1508-4cdd-8b80-e3553fe6f2e0",
   "metadata": {},
   "source": [
    "Using merge_asof() to study stocks\n",
    "You have a feed of stock market prices that you record. \n",
    "You attempt to track the price every five minutes. Still, due to some network latency, the prices you record are roughly every 5 minutes. \n",
    "You pull your price logs for three banks, JP Morgan (JPM), Wells Fargo (WFC), and Bank Of America (BAC). \n",
    "You want to know how the price change of the two other banks compare to JP Morgan. \n",
    "Therefore, you will need to merge these three logs into one table. \n",
    "Afterward, you will use the pandas .diff() method to compute the price change over time. Finally, plot the price changes so you can review your analysis.\n",
    "\n",
    "The three log files have been loaded for you as tables named 'jpm', 'wells', and 'bac'."
   ]
  },
  {
   "cell_type": "code",
   "execution_count": 167,
   "id": "24bfdcb4-fba9-4ea1-990b-534bf1ad7f8a",
   "metadata": {},
   "outputs": [
    {
     "name": "stdout",
     "output_type": "stream",
     "text": [
      "----Use merge_asof() to merge jpm (left table) and wells together on the date_time column, where the rows with the nearest times are matched, and with suffixes=('', '_wells'). Save to jpm_wells\n",
      "             date_time    close  close_wells\n",
      "0  2017-11-17 15:35:17  98.1200      54.3227\n",
      "1  2017-11-17 15:40:04  98.1800      54.3200\n",
      "2  2017-11-17 15:45:01  97.7307      54.1900\n",
      "3  2017-11-17 15:50:55  97.7400      54.1700\n",
      "4  2017-11-17 15:55:00  97.8150      54.1841\n",
      "5  2017-11-17 16:00:30  98.0200      54.2650\n",
      "6  2017-11-17 16:05:07  97.8000      54.2000\n",
      "7  2017-11-17 16:10:08  97.8400      54.1550\n",
      "8  2017-11-17 16:15:11  97.7100      54.1900\n",
      "9  2017-11-17 16:20:29  97.7600      54.2050\n",
      "10 2017-11-17 16:25:25  97.8200      54.2300\n",
      "11 2017-11-17 16:30:53  97.9500      54.2200\n",
      "12 2017-11-17 16:35:11  97.9900      54.2200\n",
      "13 2017-11-17 16:40:44  98.0600      54.2800\n",
      "14 2017-11-17 16:45:52  98.0500      54.2400\n",
      "15 2017-11-17 16:50:37  98.1101      54.1700\n",
      "16 2017-11-17 16:55:02  98.1800      54.1800\n",
      "----Use merge_asof() to merge jpm_wells (left table) and bac together on the date_time column, where the rows with the closest times are matched, and with suffixes=('_jpm', '_bac'). Save to jpm_wells_bac\n",
      "             date_time  close_jpm  close_wells  close_bac\n",
      "0  2017-11-17 15:35:17    98.1200      54.3227     26.552\n",
      "1  2017-11-17 15:40:04    98.1800      54.3200     26.552\n",
      "2  2017-11-17 15:45:01    97.7307      54.1900     26.388\n",
      "3  2017-11-17 15:50:55    97.7400      54.1700     26.378\n",
      "4  2017-11-17 15:55:00    97.8150      54.1841     26.383\n",
      "5  2017-11-17 16:00:30    98.0200      54.2650     26.452\n",
      "6  2017-11-17 16:05:07    97.8000      54.2000     26.373\n",
      "7  2017-11-17 16:10:08    97.8400      54.1550     26.388\n",
      "8  2017-11-17 16:15:11    97.7100      54.1900     26.369\n",
      "9  2017-11-17 16:20:29    97.7600      54.2050     26.388\n",
      "10 2017-11-17 16:25:25    97.8200      54.2300     26.467\n",
      "11 2017-11-17 16:30:53    97.9500      54.2200     26.482\n",
      "12 2017-11-17 16:35:11    97.9900      54.2200     26.492\n",
      "13 2017-11-17 16:40:44    98.0600      54.2800     26.527\n",
      "14 2017-11-17 16:45:52    98.0500      54.2400     26.522\n",
      "15 2017-11-17 16:50:37    98.1101      54.1700     26.547\n",
      "16 2017-11-17 16:55:02    98.1800      54.1800     26.567\n",
      "----Compute price diff\n",
      "         date_time  close_jpm  close_wells  close_bac\n",
      "0              NaT        NaN          NaN        NaN\n",
      "1  0 days 00:04:47     0.0600      -0.0027      0.000\n",
      "2  0 days 00:04:57    -0.4493      -0.1300     -0.164\n",
      "3  0 days 00:05:54     0.0093      -0.0200     -0.010\n",
      "4  0 days 00:04:05     0.0750       0.0141      0.005\n",
      "5  0 days 00:05:30     0.2050       0.0809      0.069\n",
      "6  0 days 00:04:37    -0.2200      -0.0650     -0.079\n",
      "7  0 days 00:05:01     0.0400      -0.0450      0.015\n",
      "8  0 days 00:05:03    -0.1300       0.0350     -0.019\n",
      "9  0 days 00:05:18     0.0500       0.0150      0.019\n",
      "10 0 days 00:04:56     0.0600       0.0250      0.079\n",
      "11 0 days 00:05:28     0.1300      -0.0100      0.015\n",
      "12 0 days 00:04:18     0.0400       0.0000      0.010\n",
      "13 0 days 00:05:33     0.0700       0.0600      0.035\n",
      "14 0 days 00:05:08    -0.0100      -0.0400     -0.005\n",
      "15 0 days 00:04:45     0.0601      -0.0700      0.025\n",
      "16 0 days 00:04:25     0.0699       0.0100      0.020\n",
      "----Using price_diffs, create a line plot of the close price of JPM, WFC, and BAC only\n"
     ]
    },
    {
     "data": {
      "image/png": "[encoded data removed]",
      "text/plain": [
       "<Figure size 432x288 with 1 Axes>"
      ]
     },
     "metadata": {
      "needs_background": "light"
     },
     "output_type": "display_data"
    }
   ],
   "source": [
    "# Instructions\n",
    "# 100 XP\n",
    "# Use merge_asof() to merge jpm (left table) and wells together on the date_time column, where the rows with the nearest times are matched, and with suffixes=('', '_wells'). Save to jpm_wells.\n",
    "# Use merge_asof() to merge jpm_wells (left table) and bac together on the date_time column, where the rows with the closest times are matched, and with suffixes=('_jpm', '_bac'). Save to jpm_wells_bac.\n",
    "# Compute price diff\n",
    "# Using price_diffs, create a line plot of the close price of JPM, WFC, and BAC only.\n",
    "\n",
    "print(\"----Use merge_asof() to merge jpm (left table) and wells together on the date_time column, where the rows with the nearest times are matched, and with suffixes=('', '_wells'). Save to jpm_wells\")\n",
    "jpm_wells = pd.merge_asof(jpm,wells,on=\"date_time\",direction=\"nearest\",suffixes=(\"\",\"_wells\"))\n",
    "print(jpm_wells)\n",
    "\n",
    "\n",
    "print(\"----Use merge_asof() to merge jpm_wells (left table) and bac together on the date_time column, where the rows with the closest times are matched, and with suffixes=('_jpm', '_bac'). Save to jpm_wells_bac\")\n",
    "jpm_wells_bac = pd.merge_asof(jpm_wells,bac,on=\"date_time\",direction=\"nearest\",suffixes=(\"_jpm\",\"_bac\"))\n",
    "print(jpm_wells_bac)\n",
    "\n",
    "print(\"----Compute price diff\")\n",
    "price_diffs = jpm_wells_bac.diff()\n",
    "print(price_diffs)\n",
    "\n",
    "print(\"----Using price_diffs, create a line plot of the close price of JPM, WFC, and BAC only\")\n",
    "price_diffs.plot(y=['close_jpm','close_wells','close_bac'])\n",
    "plt.show()\n",
    "\n",
    "# Fabulous! You can see that during this period, the price change for these bank stocks was roughly the same, although the price change \n",
    "# for JP Morgan was more variable. The critical point here is that the merge_asof() function is very useful in performing the fuzzy \n",
    "# matching between the timestamps of all the tables."
   ]
  },
  {
   "cell_type": "markdown",
   "id": "a6c80949-55d5-4ba2-a270-35a2dee09617",
   "metadata": {},
   "source": [
    "# Using merge_asof() to create dataset\n"
   ]
  },
  {
   "cell_type": "raw",
   "id": "6480be34-1f98-4fef-b3d6-65d5084ff285",
   "metadata": {},
   "source": [
    "Using merge_asof() to create dataset\n",
    "The merge_asof() function can be used to create datasets where you have a table of start and stop dates, and you want to use them to create a flag in another table. You have been given gdp_2, which is a table of quarterly GDP values of the US during the 1980s. Additionally, the table recession has been given to you. It holds the starting date of every US recession since 1980, and the date when the recession was declared to be over. Use merge_asof() to merge the tables and create a status flag if a quarter was during a recession. Finally, to check your work, plot the data in a bar chart.\n",
    "\n",
    "The tables gdp and recession have been loaded for you."
   ]
  },
  {
   "cell_type": "code",
   "execution_count": 187,
   "id": "595fba43-f2e7-42b4-ab3b-fbea6eb90789",
   "metadata": {},
   "outputs": [
    {
     "name": "stdout",
     "output_type": "stream",
     "text": [
      "----Using merge_asof(), merge gdp_2 and recession on date, with gdp as the left table. Save to the variable gdp_recession\n",
      "         date       gdp econ_status\n",
      "0  1979-01-01  2526.610         NaN\n",
      "1  1979-04-01  2591.247         NaN\n",
      "2  1979-07-01  2667.565         NaN\n",
      "3  1979-10-01  2723.883         NaN\n",
      "4  1980-01-01  2789.842   recession\n",
      "5  1980-04-01  2797.352   recession\n",
      "6  1980-07-01  2856.483   recession\n",
      "7  1980-10-01  2985.557      normal\n",
      "8  1981-01-01  3124.206      normal\n",
      "9  1981-04-01  3162.532      normal\n",
      "10 1981-07-01  3260.609   recession\n",
      "11 1981-10-01  3280.818   recession\n",
      "12 1982-01-01  3274.302   recession\n",
      "13 1982-04-01  3331.972   recession\n",
      "14 1982-07-01  3366.322   recession\n",
      "15 1982-10-01  3402.561   recession\n",
      "16 1983-01-01  3473.413      normal\n",
      "17 1983-04-01  3578.848      normal\n",
      "18 1983-07-01  3689.179      normal\n",
      "19 1983-10-01  3794.706      normal\n",
      "20 1984-01-01  3908.054      normal\n",
      "21 1984-04-01  4009.601      normal\n",
      "22 1984-07-01  4084.250      normal\n",
      "23 1984-10-01  4148.551      normal\n",
      "----Create a list using a list comprehension and a conditional expression, named is_recession, where for each row if the gdp_recession['econ_status'] value is equal to 'recession' then enter 'r' else 'g'\n",
      "['g', 'g', 'g', 'g', 'r', 'r', 'r', 'g', 'g', 'g', 'r', 'r', 'r', 'r', 'r', 'r', 'g', 'g', 'g', 'g', 'g', 'g', 'g', 'g']\n",
      "----Using gdp_recession, plot a bar chart of gdp versus date, setting the color argument equal to is_recession\n"
     ]
    },
    {
     "data": {
      "image/png": "[encoded data removed]",
      "text/plain": [
       "<Figure size 432x288 with 1 Axes>"
      ]
     },
     "metadata": {
      "needs_background": "light"
     },
     "output_type": "display_data"
    }
   ],
   "source": [
    "# Instructions\n",
    "# 100 XP\n",
    "# Using merge_asof(), merge gdp_2 and recession on date, with gdp_2 as the left table. Save to the variable gdp_recession.\n",
    "# Create a list using a list comprehension and a conditional expression, named is_recession, where for each row if the gdp_recession['econ_status'] value is equal to 'recession' then enter 'r' else 'g'.\n",
    "# Using gdp_recession, plot a bar chart of gdp versus date, setting the color argument equal to is_recession.\n",
    "\n",
    "print(\"----Using merge_asof(), merge gdp_2 and recession on date, with gdp as the left table. Save to the variable gdp_recession\")\n",
    "gdp_recession = pd.merge_asof(gdp_2,recession,on=\"date\")\n",
    "print(gdp_recession)\n",
    "\n",
    "print(\"----Create a list using a list comprehension and a conditional expression, named is_recession, where for each row if the gdp_recession['econ_status'] value is equal to 'recession' then enter 'r' else 'g'\")\n",
    "is_recession = ['r' if s == 'recession' else 'g' for s in gdp_recession['econ_status']]\n",
    "print(is_recession)\n",
    "\n",
    "print(\"----Using gdp_recession, plot a bar chart of gdp versus date, setting the color argument equal to is_recession\")\n",
    "gdp_recession.plot(kind='bar', y='gdp', x='date', color=is_recession, rot=90)\n",
    "plt.show()\n",
    "\n",
    "# You can see from the chart that there were a number of quarters early in the 1980s where a recession was an issue. \n",
    "# merge_asof() allowed you to quickly add a flag to the gdp dataset by matching between two different dates, \n",
    "# in one line of code! If you were to perform the same task using subsetting, it would have taken a lot more code."
   ]
  },
  {
   "cell_type": "markdown",
   "id": "123f9c43-01e0-44a0-b520-b8beb2026b82",
   "metadata": {},
   "source": [
    "# merge_asof() and merge_ordered() differences"
   ]
  },
  {
   "cell_type": "raw",
   "id": "05192fd4-0e66-4cba-9134-e6919314cf70",
   "metadata": {},
   "source": [
    "merge_asof() and merge_ordered() differences\n",
    "The merge_asof() and merge_ordered() functions are similar in the type of merge they perform and the input arguments they use. In this exercise, think about how the functions are different."
   ]
  },
  {
   "cell_type": "code",
   "execution_count": 190,
   "id": "78df9f42-2ac2-4e35-813c-03c20e8d1dbb",
   "metadata": {},
   "outputs": [],
   "source": [
    "# Instructions\n",
    "# 100XP\n",
    "# Drag and drop the statement into the appropriate box for either the merge_asof() function, the merge_ordered() function, \n",
    "# or both if it applies to both functions."
   ]
  },
  {
   "cell_type": "raw",
   "id": "0436fde8-0232-420a-9892-34c2ed29fa21",
   "metadata": {},
   "source": [
    "pd.merge_asof()    \n",
    "    It can be used to do a fuzzy matching between tables\n",
    "    Has an argument that can be set to 'forward' to select  the first row in the right table whose keys column is greater than or equal to the left's\n",
    "    After matching two tables, if there are missing values at the top of the table fro the right table, this function can fill them.\n",
    "  \n",
    "both\n",
    "    this finction cas set the suffix for overlapping column names\n",
    "    This function can be used when working with ordered or time-series data.\n",
    "    \n",
    "pd.merge_ordered()\n",
    "    If it cannot match the rows of the tables exactly, it can use forward fill to interpoltate missing data.\n",
    "    It allows for a right join during the merge."
   ]
  },
  {
   "cell_type": "markdown",
   "id": "56c8cb84-e1fb-4112-a21c-0c2fa8401098",
   "metadata": {},
   "source": [
    "# Selecting data with .query() (VIDEO)"
   ]
  },
  {
   "cell_type": "code",
   "execution_count": 233,
   "id": "defeff20-fd8b-4d4c-b9f0-3c8d0f98baae",
   "metadata": {},
   "outputs": [
    {
     "name": "stdout",
     "output_type": "stream",
     "text": [
      "----Data Frame 'stocks' \n",
      "        date      disney        nike\n",
      "0 2019-07-01  143.009950   86.029999\n",
      "1 2019-08-01  137.259995   84.500000\n",
      "2 2019-09-01  130.320007   93.919998\n",
      "3 2019-10-01  129.919998   89.550003\n",
      "4 2019-11-01  151.580002   93.489998\n",
      "5 2019-12-01  144.630005  101.309998\n",
      "6 2019-12-01  138.309998   96.300003\n",
      "7 2020-01-01  117.650002   89.379997\n",
      "8 2020-02-01   96.599998   82.739998\n",
      "9 2020-03-01   99.580002   84.629997\n",
      "----Data Frame stocks_long\n",
      "         date   stock       close\n",
      "0  2019-07-01  disney  143.009950\n",
      "2  2019-08-01  disney  137.259995\n",
      "4  2019-09-01  disney  130.320007\n",
      "6  2019-10-01  disney  129.919998\n",
      "8  2019-11-01  disney  151.580002\n",
      "10 2019-12-01  disney  144.630005\n",
      "12 2019-12-01  disney  138.309998\n",
      "14 2020-01-01  disney  117.650002\n",
      "16 2020-02-01  disney   96.599998\n",
      "18 2020-03-01  disney   99.580002\n",
      "1  2019-07-01    nike   86.029999\n",
      "3  2019-08-01    nike   84.500000\n",
      "5  2019-09-01    nike   93.919998\n",
      "7  2019-10-01    nike   89.550003\n",
      "9  2019-11-01    nike   93.489998\n",
      "11 2019-12-01    nike  101.309998\n",
      "13 2019-12-01    nike   96.300003\n",
      "15 2020-01-01    nike   89.379997\n",
      "17 2020-02-01    nike   82.739998\n",
      "19 2020-03-01    nike   84.629997\n",
      "----Metodo .query() para realizar una selección de datos en el Data Frame stocks\n",
      "        date      disney        nike\n",
      "2 2019-09-01  130.320007   93.919998\n",
      "4 2019-11-01  151.580002   93.489998\n",
      "5 2019-12-01  144.630005  101.309998\n",
      "6 2019-12-01  138.309998   96.300003\n",
      "----Metodo .query() para realizar una selección de datos en el Data Frame stocks\n",
      "----'and' y 'or' para condiciones multiples\n",
      "        date      disney       nike\n",
      "4 2019-11-01  151.580002  93.489998\n",
      "----Metodo .query() para realizar una selección de datos en el Data Frame stocks\n",
      "----'and' y 'or' para condiciones multiples y () para agrupar las condiciones\n",
      "         date   stock       close\n",
      "0  2019-07-01  disney  143.009950\n",
      "2  2019-08-01  disney  137.259995\n",
      "4  2019-09-01  disney  130.320007\n",
      "6  2019-10-01  disney  129.919998\n",
      "8  2019-11-01  disney  151.580002\n",
      "10 2019-12-01  disney  144.630005\n",
      "12 2019-12-01  disney  138.309998\n",
      "14 2020-01-01  disney  117.650002\n",
      "16 2020-02-01  disney   96.599998\n",
      "18 2020-03-01  disney   99.580002\n",
      "11 2019-12-01    nike  101.309998\n"
     ]
    }
   ],
   "source": [
    "# THE .QUERY() METHOD\n",
    "\n",
    "print(\"----Data Frame 'stocks' \")\n",
    "print(stocks)\n",
    "print(\"----Data Frame stocks_long\")\n",
    "print(stocks_long)\n",
    "\n",
    "print(\"----Metodo .query() para realizar una selección de datos en el Data Frame stocks\")\n",
    "x = stocks.query(\"nike >= 90\")\n",
    "print(x)\n",
    "\n",
    "print(\"----Metodo .query() para realizar una selección de datos en el Data Frame stocks\")\n",
    "print(\"----'and' y 'or' para condiciones multiples\")\n",
    "x = stocks.query('nike > 90 and disney > 150')\n",
    "print(x)\n",
    "\n",
    "print(\"----Metodo .query() para realizar una selección de datos en el Data Frame stocks\")\n",
    "print(\"----'and' y 'or' para condiciones multiples y () para agrupar las condiciones\")\n",
    "x = stocks_long.query(\" (stock == 'disney') or (stock == 'nike' and close > 100)\")\n",
    "print(x)"
   ]
  },
  {
   "cell_type": "markdown",
   "id": "76e97e78-6319-4b44-96a7-85776bd49fb1",
   "metadata": {},
   "source": [
    "# Explore financials with .query()\n"
   ]
  },
  {
   "cell_type": "code",
   "execution_count": 260,
   "id": "3ec07ec7-b888-4ad0-8829-21c9c4152dc2",
   "metadata": {},
   "outputs": [
    {
     "name": "stdout",
     "output_type": "stream",
     "text": [
      "----There 2 rows where the value is greater than $50,000,000K? FALSE\n",
      "        financial   company  year     value\n",
      "5   total_revenue  facebook  2019  70697000\n",
      "7    gross_profit  facebook  2019  57927000\n",
      "20  total_revenue  facebook  2018  55838000\n",
      "----There are 3 rows for total revenue for Facebook? FALSE\n",
      "        financial   company  year     value\n",
      "5   total_revenue  facebook  2019  70697000\n",
      "20  total_revenue  facebook  2018  55838000\n",
      "35  total_revenue  facebook  2017  40653000\n",
      "50  total_revenue  facebook  2016  27638000\n",
      "----There are 6 rows where the net income has a negative value? TRUE\n",
      "     financial  company  year    value\n",
      "14  net_income     snap  2019 -1033660\n",
      "29  net_income     snap  2018 -1255911\n",
      "34  net_income  twitter  2017  -108063\n",
      "44  net_income     snap  2017 -3445066\n",
      "49  net_income  twitter  2016  -456873\n",
      "59  net_income     snap  2016  -514643\n",
      "----There are 45 rows, where the gross profit is greater than $100K? FALSE\n",
      "       financial   company  year     value\n",
      "2   gross_profit   twitter  2019   2322288\n",
      "7   gross_profit  facebook  2019  57927000\n",
      "12  gross_profit      snap  2019    819696\n",
      "17  gross_profit   twitter  2018   2077362\n",
      "22  gross_profit  facebook  2018  46483000\n",
      "27  gross_profit      snap  2018    381581\n",
      "32  gross_profit   twitter  2017   1582057\n",
      "37  gross_profit  facebook  2017  35199000\n",
      "42  gross_profit      snap  2017    107487\n",
      "47  gross_profit   twitter  2016   1597379\n",
      "52  gross_profit  facebook  2016  23849000\n"
     ]
    }
   ],
   "source": [
    "# Instructions\n",
    "# 50 XP\n",
    "# You have been given a table of financial data from some popular social network companies called \"social_fin\" \n",
    "# All of the values are in thousands of US dollars.\n",
    "# Use the .query() method and the IPython shell to explore social_fin and select the only one True statement.\n",
    "\n",
    "# Possible Answers\n",
    "\n",
    "# There 2 rows where the value is greater than $50,000,000K.\n",
    "\n",
    "# There are 3 rows for total revenue for Facebook.\n",
    "\n",
    "# There are 6 rows where the net income has a negative value.          <- RESPUESTA CORRECTA\n",
    "\n",
    "# There are 45 rows, where the gross profit is greater than $100K.\n",
    "\n",
    "print(\"----There 2 rows where the value is greater than $50,000,000K? FALSE\")\n",
    "print(social_fin.query(\"value > 50000000\"))\n",
    "\n",
    "print(\"----There are 3 rows for total revenue for Facebook? FALSE\")\n",
    "print(social_fin.query(\"company == 'facebook' and financial == 'total_revenue' \"))\n",
    "\n",
    "print(\"----There are 6 rows where the net income has a negative value? TRUE\")\n",
    "print(social_fin.query(\"(value < 0) and (financial=='net_income')\"))\n",
    "\n",
    "print(\"----There are 45 rows, where the gross profit is greater than $100K? FALSE\")\n",
    "print(social_fin.query(\"(value > 100) and (financial=='gross_profit')\"))"
   ]
  },
  {
   "cell_type": "markdown",
   "id": "ff854e79-c71e-4ca8-b6c7-6ed762d3031a",
   "metadata": {},
   "source": [
    "# Subsetting rows with .query()"
   ]
  },
  {
   "cell_type": "raw",
   "id": "f38455db-d375-424f-8f6f-a3c4d46b67ad",
   "metadata": {},
   "source": [
    "Subsetting rows with .query()\n",
    "In this exercise, you will revisit GDP and population data for Australia and Sweden from the World Bank and expand on it using the .query() method. You'll merge the two tables and compute the GDP per capita. Afterwards, you'll use the .query() method to sub-select the rows and create a plot. Recall that you will need to merge on multiple columns in the proper order.\n",
    "\n",
    "The tables gdp_3 and pop have been loaded for you."
   ]
  },
  {
   "cell_type": "code",
   "execution_count": 288,
   "id": "7ea6fa9e-a6d6-4fdf-84fa-6a8e99cf16a2",
   "metadata": {},
   "outputs": [
    {
     "name": "stdout",
     "output_type": "stream",
     "text": [
      "----Use merge_ordered() on gdp_3 and pop on columns country and date with the fill feature, save to gdp_pop and print\n",
      "        date     country          gdp   series_code_x      pop series_code_y\n",
      "0 1990-01-01      Sweden  79837.84599   NYGDPMKTPSAKD  8558835   SP.POP.TOTL\n",
      "1 1990-04-01      Sweden  80582.28597   NYGDPMKTPSAKD  8558835   SP.POP.TOTL\n",
      "2 1990-07-01      Sweden  79974.36017   NYGDPMKTPSAKD  8558835   SP.POP.TOTL\n",
      "3 1990-09-01      Sweden  80106.49738   NYGDPMKTPSAKD  8558835   SP.POP.TOTL\n",
      "4 1991-01-01      Sweden  79524.24192   NYGDPMKTPSAKD  8617375   SP.POP.TOTL\n",
      "----Add a column named gdp_per_capita to gdp_pop that divides gdp by pop\n",
      "        date     country          gdp   series_code_x      pop series_code_y  \\\n",
      "0 1990-01-01      Sweden  79837.84599   NYGDPMKTPSAKD  8558835   SP.POP.TOTL   \n",
      "1 1990-04-01      Sweden  80582.28597   NYGDPMKTPSAKD  8558835   SP.POP.TOTL   \n",
      "2 1990-07-01      Sweden  79974.36017   NYGDPMKTPSAKD  8558835   SP.POP.TOTL   \n",
      "3 1990-09-01      Sweden  80106.49738   NYGDPMKTPSAKD  8558835   SP.POP.TOTL   \n",
      "4 1991-01-01      Sweden  79524.24192   NYGDPMKTPSAKD  8617375   SP.POP.TOTL   \n",
      "\n",
      "   gdp_per_capita  \n",
      "0        0.009328  \n",
      "1        0.009415  \n",
      "2        0.009344  \n",
      "3        0.009360  \n",
      "4        0.009228  \n",
      "----Pivot gdp_pop so values='gdp_per_capita', index='date', and columns='country', save as gdp_pivot.\n",
      "country         Sweden   Australia\n",
      "date                              \n",
      "1990-01-01    0.009328    0.009262\n",
      "1990-04-01    0.009415    0.009274\n",
      "1990-07-01    0.009344    0.009219\n",
      "1990-09-01    0.009360    0.009273\n",
      "1991-01-01    0.009228    0.009037\n",
      "----Use .query() to select rows from gdp_pivot where date is greater than equal to 1991-01-01. Save as recent_gdp_pop\n",
      "country         Sweden   Australia\n",
      "date                              \n",
      "1991-01-01    0.009228    0.009037\n",
      "1991-04-01    0.009176    0.009025\n",
      "1991-07-01    0.009177    0.009062\n",
      "1991-09-01    0.009253    0.009069\n",
      "1992-01-01    0.009159    0.009026\n",
      "1992-04-01    0.009121    0.009091\n",
      "1992-07-01    0.009103    0.009183\n",
      "1992-09-01    0.008883    0.009372\n",
      "1993-01-01    0.008692    0.009345\n",
      "1993-04-01    0.008798    0.009398\n",
      "1993-07-01    0.008908    0.009408\n",
      "1993-09-01    0.008912    0.009582\n"
     ]
    },
    {
     "data": {
      "image/png": "[encoded data removed]",
      "text/plain": [
       "<Figure size 432x288 with 1 Axes>"
      ]
     },
     "metadata": {
      "needs_background": "light"
     },
     "output_type": "display_data"
    }
   ],
   "source": [
    "# Instructions 1/4\n",
    "# 100 XP\n",
    "# Use merge_ordered() on gdp_3 and pop on columns country and date with the fill feature, save to gdp_pop and print.\n",
    "# Add a column named gdp_per_capita to gdp_pop that divides gdp by pop.\n",
    "# Pivot gdp_pop so values='gdp_per_capita', index='date', and columns='country', save as gdp_pivot.\n",
    "# Use .query() to select rows from gdp_pivot where date is greater than equal to 1991-01-01\". Save as recent_gdp_pop.\n",
    "\n",
    "print(\"----Use merge_ordered() on gdp_3 and pop on columns country and date with the fill feature, save to gdp_pop and print\")\n",
    "gdp_pop = pd.merge_ordered(gdp_3,pop,on=[\"country\",\"date\"],fill_method=\"ffill\")\n",
    "print(gdp_pop.head())\n",
    "\n",
    "print(\"----Add a column named gdp_per_capita to gdp_pop that divides gdp by pop\")\n",
    "gdp_pop[\"gdp_per_capita\"] = gdp_pop[\"gdp\"]/gdp_pop[\"pop\"]\n",
    "print(gdp_pop.head())\n",
    "\n",
    "print(\"----Pivot gdp_pop so values='gdp_per_capita', index='date', and columns='country', save as gdp_pivot.\")\n",
    "gdp_pivot = gdp_pop.pivot_table(values=\"gdp_per_capita\",index=\"date\",columns=\"country\")\n",
    "print(gdp_pivot.head())\n",
    "\n",
    "print(\"----Use .query() to select rows from gdp_pivot where date is greater than equal to 1991-01-01. Save as recent_gdp_pop\")\n",
    "recent_gdp_pop = gdp_pivot.query(\"date >= '1991-01-01' \")\n",
    "print(recent_gdp_pop)\n",
    "\n",
    "# Plot recent_gdp_pop\n",
    "recent_gdp_pop.plot(rot=90)\n",
    "plt.show()\n",
    "\n",
    "# You can see from the plot that the per capita GDP of Australia passed Sweden in 1992. \n",
    "# By using the .query() method, you were able to select the appropriate rows easily. \n",
    "# The .query() method is easy to read and straightforward."
   ]
  },
  {
   "cell_type": "markdown",
   "id": "568357ca-daee-497b-803e-142fe012fbf7",
   "metadata": {},
   "source": [
    "# Reshaping data with .melt()\n"
   ]
  },
  {
   "cell_type": "code",
   "execution_count": 417,
   "id": "b71a71da-f954-4e08-8053-2da180112c19",
   "metadata": {},
   "outputs": [
    {
     "name": "stdout",
     "output_type": "stream",
     "text": [
      "----Data Frame social_fin_1\n",
      "         financial   company      2019      2018      2017      2016\n",
      "0  cost_of_revenue  facebook  12770000   9355000   5454000   3789000\n",
      "1  cost_of_revenue      snap    895838    798865    717462    451660\n",
      "2  cost_of_revenue   twitter   1137041    964997    861242    932240\n",
      "3     gross_profit  facebook  57927000  46483000  35199000  23849000\n",
      "4     gross_profit      snap    819696    381581    107487    -47178\n",
      "\n",
      "----Metodo .melt() para poner los nombres de columnas como valores de una sola columna:\n",
      "         financial   company variable     value\n",
      "0  cost_of_revenue  facebook     2019  12770000\n",
      "1  cost_of_revenue      snap     2019    895838\n",
      "2  cost_of_revenue   twitter     2019   1137041\n",
      "3     gross_profit  facebook     2019  57927000\n",
      "4     gross_profit      snap     2019    819696\n",
      "\n",
      "----Metodo .melt() para poner los nombres de columnas como valores de una sola columna:\n",
      "----Argumento 'value_vars' para indicar cuales columnas queremos conservar\n",
      "             financial   company variable     value\n",
      "0      cost_of_revenue  facebook     2018   9355000\n",
      "1      cost_of_revenue      snap     2018    798865\n",
      "2      cost_of_revenue   twitter     2018    964997\n",
      "3         gross_profit  facebook     2018  46483000\n",
      "4         gross_profit      snap     2018    381581\n",
      "5         gross_profit   twitter     2018   2077362\n",
      "6           net_income  facebook     2018  22112000\n",
      "7           net_income      snap     2018  -1255911\n",
      "8           net_income   twitter     2018   1205596\n",
      "9   operating_expenses  facebook     2018  21570000\n",
      "10  operating_expenses      snap     2018   1650031\n",
      "11  operating_expenses   twitter     2018   1624037\n",
      "12       total_revenue  facebook     2018  55838000\n",
      "13       total_revenue      snap     2018   1180446\n",
      "14       total_revenue   twitter     2018   3042359\n",
      "15     cost_of_revenue  facebook     2017   5454000\n",
      "16     cost_of_revenue      snap     2017    717462\n",
      "17     cost_of_revenue   twitter     2017    861242\n",
      "18        gross_profit  facebook     2017  35199000\n",
      "19        gross_profit      snap     2017    107487\n",
      "20        gross_profit   twitter     2017   1582057\n",
      "21          net_income  facebook     2017  15934000\n",
      "22          net_income      snap     2017  -3445066\n",
      "23          net_income   twitter     2017   -108063\n",
      "24  operating_expenses  facebook     2017  14996000\n",
      "25  operating_expenses      snap     2017   3593063\n",
      "26  operating_expenses   twitter     2017   1543317\n",
      "27       total_revenue  facebook     2017  40653000\n",
      "28       total_revenue      snap     2017    824949\n",
      "29       total_revenue   twitter     2017   2443299\n",
      "\n",
      "----Metodo .melt() para poner los nombres de columnas como valores de una sola columna:\n",
      "----Argumento 'var_name' y 'value_name'para indicar el nombre especifico de las nuevas columnas\n",
      "         financial   company  year    dolars\n",
      "0  cost_of_revenue  facebook  2018   9355000\n",
      "1  cost_of_revenue      snap  2018    798865\n",
      "2  cost_of_revenue   twitter  2018    964997\n",
      "3     gross_profit  facebook  2018  46483000\n",
      "4     gross_profit      snap  2018    381581\n"
     ]
    }
   ],
   "source": [
    "print(\"----Data Frame social_fin_1\")\n",
    "print(social_fin_1.head())\n",
    "\n",
    "# METODO .MELT()\n",
    "print(\"\\n----Metodo .melt() para poner los nombres de columnas como valores de una sola columna:\")\n",
    "x = social_fin_1.melt(id_vars=[\"financial\",\"company\"])\n",
    "print(x.head())\n",
    "\n",
    "# ARGUMENTO 'VALUE_VARS'\n",
    "print(\"\\n----Metodo .melt() para poner los nombres de columnas como valores de una sola columna:\")\n",
    "print( \"----Argumento 'value_vars' para indicar cuales columnas queremos conservar\")\n",
    "x = social_fin_1.melt(id_vars=[\"financial\",\"company\"],value_vars=[\"2018\",\"2017\"])\n",
    "print(x)\n",
    "\n",
    "# ARGUMENTO 'VALUE_NAME' Y 'VAR_NAME'\n",
    "print(\"\\n----Metodo .melt() para poner los nombres de columnas como valores de una sola columna:\")\n",
    "print( \"----Argumento 'var_name' y 'value_name'para indicar el nombre especifico de las nuevas columnas\")\n",
    "x = social_fin_1.melt(id_vars=[\"financial\",\"company\"],value_vars=[\"2018\",\"2017\"],var_name=\"year\",value_name=\"dolars\")\n",
    "print(x.head())"
   ]
  },
  {
   "cell_type": "markdown",
   "id": "b01863db-ad45-4faa-8c28-098b2e046b73",
   "metadata": {},
   "source": [
    "# Select the right .melt() arguments"
   ]
  },
  {
   "cell_type": "code",
   "execution_count": 422,
   "id": "3ed1e29c-d9fe-4e29-ba63-22a19b9d113e",
   "metadata": {},
   "outputs": [
    {
     "name": "stdout",
     "output_type": "stream",
     "text": [
      "    country     indicator  year  annual\n",
      "0    Brazil   Inflation %  2017    3.45\n",
      "1    Canada   Inflation %  2017    1.60\n",
      "2    France   Inflation %  2017    1.03\n",
      "3     India   Inflation %  2017    2.49\n",
      "4    Brazil   Inflation %  2018    3.66\n",
      "5    Canada   Inflation %  2018    2.27\n",
      "6    France   Inflation %  2018    1.85\n",
      "7     India   Inflation %  2018    4.86\n",
      "8    Brazil   Inflation %  2019    3.73\n",
      "9    Canada   Inflation %  2019    1.95\n",
      "10   France   Inflation %  2019    1.11\n",
      "11    India   Inflation %  2019    7.66\n"
     ]
    }
   ],
   "source": [
    "# Instructions\n",
    "# 50 XP\n",
    "# You are given a table named inflation. Chose the option to get the same output as the table below.\n",
    "\n",
    "# country    indicator  year  annual\n",
    "# 0   Brazil  Inflation %  2017    3.45\n",
    "# 1   Canada  Inflation %  2017    1.60\n",
    "# 2   France  Inflation %  2017    1.03\n",
    "# 3    India  Inflation %  2017    2.49\n",
    "# 4   Brazil  Inflation %  2018    3.66\n",
    "# 5   Canada  Inflation %  2018    2.27\n",
    "# 6   France  Inflation %  2018    1.85\n",
    "# 7    India  Inflation %  2018    4.86\n",
    "# 8   Brazil  Inflation %  2019    3.73\n",
    "# 9   Canada  Inflation %  2019    1.95\n",
    "# 10  France  Inflation %  2019    1.11\n",
    "# 11   India  Inflation %  2019    7.66\n",
    "\n",
    "# Possible Answers\n",
    "\n",
    "print(inflation_2.melt(id_vars=[\"country\",\"indicator\"],var_name=\"year\",value_name=\"annual\"))"
   ]
  },
  {
   "cell_type": "markdown",
   "id": "e68c5f1a-3396-4324-bea2-d450b5520632",
   "metadata": {},
   "source": [
    "# Using .melt() to reshape government data\n"
   ]
  },
  {
   "cell_type": "raw",
   "id": "d73348ce-904c-48c5-812a-9f21f2cf34c0",
   "metadata": {},
   "source": [
    "Using .melt() to reshape government data\n",
    "The US Bureau of Labor Statistics (BLS) often provides data series in an easy-to-read format - it has a separate column for each month, and each year is a different row. Unfortunately, this wide format makes it difficult to plot this information over time. In this exercise, you will reshape a table of US unemployment rate data from the BLS into a form you can plot using .melt(). You will need to add a date column to the table and sort by it to plot the data correctly.\n",
    "\n",
    "The unemployment rate data has been loaded for you in a table called \"ur_wide\". \n",
    "You are encouraged to view the table in the IPython shell before beginning the exercise."
   ]
  },
  {
   "cell_type": "code",
   "execution_count": 471,
   "id": "d28d4181-0a59-479b-a038-234f9442c97c",
   "metadata": {},
   "outputs": [
    {
     "name": "stdout",
     "output_type": "stream",
     "text": [
      "----Use .melt() to unpivot all of the columns of ur_wide except year and ensure that the columns with the months and values are named month and unempl_rate, respectively. Save the result as ur_tall\n",
      "     year month  unempl_rate\n",
      "0    2010   jan          9.8\n",
      "1    2011   jan          9.1\n",
      "2    2012   jan          8.3\n",
      "3    2013   jan          8.0\n",
      "4    2014   jan          6.6\n",
      "..    ...   ...          ...\n",
      "127  2016   dec          4.7\n",
      "128  2017   dec          4.1\n",
      "129  2018   dec          3.9\n",
      "130  2019   dec          3.5\n",
      "131  2020   dec          NaN\n",
      "\n",
      "[132 rows x 3 columns]\n",
      "\n",
      "----Add a column to ur_tall named date which combines the year and month columns as year-month format into a larger string, and converts it to a date data type\n",
      "     year month  unempl_rate       date\n",
      "0    2010   jan          9.8 2010-01-01\n",
      "1    2011   jan          9.1 2011-01-01\n",
      "2    2012   jan          8.3 2012-01-01\n",
      "3    2013   jan          8.0 2013-01-01\n",
      "4    2014   jan          6.6 2014-01-01\n",
      "..    ...   ...          ...        ...\n",
      "127  2016   dec          4.7 2016-12-01\n",
      "128  2017   dec          4.1 2017-12-01\n",
      "129  2018   dec          3.9 2018-12-01\n",
      "130  2019   dec          3.5 2019-12-01\n",
      "131  2020   dec          NaN 2020-12-01\n",
      "\n",
      "[132 rows x 4 columns]\n",
      "\n",
      "----Sort ur_tall by date and save as ur_sorted\n",
      "     year month  unempl_rate       date\n",
      "0    2010   jan          9.8 2010-01-01\n",
      "11   2010   feb          9.8 2010-02-01\n",
      "22   2010   mar          9.9 2010-03-01\n",
      "33   2010   apr          9.9 2010-04-01\n",
      "44   2010   may          9.6 2010-05-01\n",
      "..    ...   ...          ...        ...\n",
      "87   2020   aug          NaN 2020-08-01\n",
      "98   2020   sep          NaN 2020-09-01\n",
      "109  2020   oct          NaN 2020-10-01\n",
      "120  2020   nov          NaN 2020-11-01\n",
      "131  2020   dec          NaN 2020-12-01\n",
      "\n",
      "[132 rows x 4 columns]\n",
      "Using ur_sorted, plot unempl_rate on the y-axis and date on the x-axis\n"
     ]
    },
    {
     "data": {
      "text/plain": [
       "<AxesSubplot:xlabel='date'>"
      ]
     },
     "execution_count": 471,
     "metadata": {},
     "output_type": "execute_result"
    },
    {
     "data": {
      "image/png": "[encoded data removed]",
      "text/plain": [
       "<Figure size 432x288 with 1 Axes>"
      ]
     },
     "metadata": {
      "needs_background": "light"
     },
     "output_type": "display_data"
    }
   ],
   "source": [
    "# Instructions\n",
    "# 100 XP\n",
    "# Use .melt() to unpivot all of the columns of ur_wide except year and ensure that the columns with the months and values are named month and unempl_rate, respectively. Save the result as ur_tall.\n",
    "# Add a column to ur_tall named date which combines the year and month columns as year-month format into a larger string, and converts it to a date data type.\n",
    "# Sort ur_tall by date and save as ur_sorted.\n",
    "# Using ur_sorted, plot unempl_rate on the y-axis and date on the x-axis.\n",
    "\n",
    "print(\"----Use .melt() to unpivot all of the columns of ur_wide except year and ensure that the columns with the months and values are named month and unempl_rate, respectively. Save the result as ur_tall\")\n",
    "ur_tall = ur_wide.melt(id_vars=[\"year\"],var_name=\"month\",value_name=\"unempl_rate\")\n",
    "print(ur_tall)\n",
    "\n",
    "print(\"\\n----Add a column to ur_tall named date which combines the year and month columns as year-month format into a larger string, and converts it to a date data type\")\n",
    "ur_tall[\"date\"] = pd.to_datetime((ur_tall['year']).astype(str)+\"-\"+(ur_tall['month']).astype(str))\n",
    "print(ur_tall)\n",
    "\n",
    "print(\"\\n----Sort ur_tall by date and save as ur_sorted\")\n",
    "ur_sorted = ur_tall.sort_values(by=\"date\")\n",
    "print(ur_sorted)\n",
    "\n",
    "print(\"Using ur_sorted, plot unempl_rate on the y-axis and date on the x-axis\")\n",
    "ur_sorted.plot(x='date', y='unempl_rate',kind=\"line\")"
   ]
  },
  {
   "cell_type": "markdown",
   "id": "304b20e2-6e97-4563-9f9c-cfd1fdc14ead",
   "metadata": {},
   "source": [
    "# Using .melt() for stocks vs bond performance"
   ]
  },
  {
   "cell_type": "raw",
   "id": "3bff1843-7ab6-4069-a9b0-d67c30818a39",
   "metadata": {},
   "source": [
    "Using .melt() for stocks vs bond performance\n",
    "It is widespread knowledge that the price of bonds is inversely related to the price of stocks. In this last exercise, you'll review many of the topics in this chapter to confirm this. You have been given a table of percent change of the US 10-year treasury bond price. It is in a wide format where there is a separate column for each year. You will need to use the .melt() method to reshape this table.\n",
    "\n",
    "Additionally, you will use the .query() method to filter out unneeded data. You will merge this table with a table of the percent change of the Dow Jones Industrial stock index price. Finally, you will plot data.\n",
    "\n",
    "The tables ten_yr and dji have been loaded for you."
   ]
  },
  {
   "cell_type": "code",
   "execution_count": 501,
   "id": "e7b79bc6-c882-499c-b195-62f774bceef2",
   "metadata": {},
   "outputs": [
    {
     "name": "stdout",
     "output_type": "stream",
     "text": [
      "----Use .melt() on ten_yr to unpivot everything except the metric column, setting var_name='date' and value_name='close'. Save the result to bond_perc\n",
      "     metric       date     close\n",
      "0      open 2007-02-01  0.033491\n",
      "1      high 2007-02-01 -0.007338\n",
      "2       low 2007-02-01 -0.016147\n",
      "3     close 2007-02-01 -0.057190\n",
      "4      open 2007-03-01 -0.060449\n",
      "..      ...        ...       ...\n",
      "135   close 2009-11-01 -0.056309\n",
      "136    open 2009-12-01 -0.050544\n",
      "137    high 2009-12-01  0.099327\n",
      "138     low 2009-12-01  0.007188\n",
      "139   close 2009-12-01  0.200562\n",
      "\n",
      "[140 rows x 3 columns]\n",
      "\n",
      "----Using the .query() method, select only those rows were metric equals 'close', and save to bond_perc_close\n",
      "    metric       date     close\n",
      "3    close 2007-02-01 -0.057190\n",
      "7    close 2007-03-01  0.021538\n",
      "11   close 2007-04-01 -0.003873\n",
      "15   close 2007-05-01  0.056156\n",
      "19   close 2007-06-01  0.029243\n",
      " \n",
      "----Use merge_ordered() to merge dji (left table) and bond_perc_close on date with an inner join, and set suffixes equal to ('_dow', '_bond'). Save the result to dow_bond\n",
      "         date  close_dow  metric  close_bond\n",
      "0  2007-02-01   0.005094   close   -0.057190\n",
      "1  2007-03-01  -0.026139   close    0.021538\n",
      "2  2007-04-01   0.048525   close   -0.003873\n",
      "3  2007-05-01   0.052007   close    0.056156\n",
      "4  2007-06-01  -0.016070   close    0.029243\n",
      "5  2007-07-01   0.038006   close   -0.052056\n",
      "6  2007-08-01  -0.063895   close   -0.049046\n",
      "7  2007-09-01   0.066521   close    0.009257\n",
      "8  2007-10-01   0.002476   close   -0.022712\n",
      "9  2007-11-01  -0.024042   close   -0.112402\n",
      "10 2007-12-01  -0.010629   close    0.015861\n",
      "11 2008-01-01  -0.059492   close   -0.098141\n",
      "12 2008-02-01  -0.035596   close   -0.028854\n",
      "13 2008-03-01   0.013213   close   -0.028862\n",
      "14 2008-04-01   0.020872   close    0.095280\n",
      "15 2008-05-01  -0.001434   close    0.076350\n",
      "16 2008-06-01  -0.042702   close   -0.016560\n",
      "17 2008-07-01  -0.057398   close    0.000000\n",
      "18 2008-08-01   0.025434   close   -0.041719\n",
      "19 2008-09-01  -0.069100   close    0.003672\n",
      "20 2008-10-01  -0.154181   close    0.037366\n",
      "21 2008-11-01  -0.080310   close   -0.255164\n",
      "22 2008-12-01   0.058127   close   -0.241123\n",
      "23 2009-01-01  -0.037496   close    0.267380\n",
      "24 2009-02-01  -0.164795   close    0.069269\n",
      "25 2009-03-01   0.042397   close   -0.117067\n",
      "26 2009-04-01   0.064513   close    0.163501\n",
      "27 2009-05-01   0.056776   close    0.109155\n",
      "28 2009-06-01   0.038969   close    0.016739\n",
      "29 2009-07-01  -0.047834   close   -0.006245\n",
      "30 2009-08-01   0.110972   close   -0.028563\n",
      "31 2009-09-01   0.057594   close   -0.027639\n",
      "32 2009-10-01  -0.007828   close    0.025703\n",
      "33 2009-11-01   0.077390   close   -0.056309\n",
      "34 2009-12-01  -0.003478   close    0.200562\n",
      "\n",
      "----# Using dow_bond, plot only the Dow and bond values\n"
     ]
    },
    {
     "data": {
      "text/plain": [
       "<AxesSubplot:xlabel='date'>"
      ]
     },
     "execution_count": 501,
     "metadata": {},
     "output_type": "execute_result"
    },
    {
     "data": {
      "image/png": "[encoded data removed]",
      "text/plain": [
       "<Figure size 432x288 with 1 Axes>"
      ]
     },
     "metadata": {
      "needs_background": "light"
     },
     "output_type": "display_data"
    }
   ],
   "source": [
    "# Instructions\n",
    "# 100 XP\n",
    "# Use .melt() on ten_yr to unpivot everything except the metric column, setting var_name='date' and value_name='close'. Save the result to bond_perc.\n",
    "# Using the .query() method, select only those rows were metric equals 'close', and save to bond_perc_close.\n",
    "# Use merge_ordered() to merge dji (left table) and bond_perc_close on date with an inner join, and set suffixes equal to ('_dow', '_bond'). Save the result to dow_bond.\n",
    "# Using dow_bond, plot only the Dow and bond values.\n",
    "\n",
    "print(\"----Use .melt() on ten_yr to unpivot everything except the metric column, setting var_name='date' and value_name='close'. Save the result to bond_perc\")\n",
    "bond_perc = ten_yr.melt(id_vars=\"metric\",var_name=\"date\",value_name=\"close\")\n",
    "print(bond_perc)\n",
    "\n",
    "print(\"\\n----Using the .query() method, select only those rows were metric equals 'close', and save to bond_perc_close\")\n",
    "bond_perc_close = bond_perc.query(\"metric == ' close' \")\n",
    "print(bond_perc_close.head())\n",
    "\n",
    "print(\" \\n----Use merge_ordered() to merge dji (left table) and bond_perc_close on date with an inner join, and set suffixes equal to ('_dow', '_bond'). Save the result to dow_bond\")\n",
    "dji[\"date\"] = pd.to_datetime(dji[\"date\"])\n",
    "dow_bond = pd.merge_ordered(dji,bond_perc_close,on=\"date\",how=\"inner\",suffixes=(\"_dow\",\"_bond\"))\n",
    "print(dow_bond)\n",
    "\n",
    "print(\"\\n----# Using dow_bond, plot only the Dow and bond values\")\n",
    "dow_bond.plot(x=\"date\",y=[\"close_dow\",\"close_bond\"],kind=\"line\",rot=90)\n"
   ]
  },
  {
   "cell_type": "code",
   "execution_count": null,
   "id": "68db90f1-54f6-423c-b498-317dee6fc74a",
   "metadata": {},
   "outputs": [],
   "source": []
  }
 ],
 "metadata": {
  "kernelspec": {
   "display_name": "Python 3 (ipykernel)",
   "language": "python",
   "name": "python3"
  },
  "language_info": {
   "codemirror_mode": {
    "name": "ipython",
    "version": 3
   },
   "file_extension": ".py",
   "mimetype": "text/x-python",
   "name": "python",
   "nbconvert_exporter": "python",
   "pygments_lexer": "ipython3",
   "version": "3.8.1"
  }
 },
 "nbformat": 4,
 "nbformat_minor": 5
}
