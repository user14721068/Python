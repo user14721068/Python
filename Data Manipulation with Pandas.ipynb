{
 "cells": [
  {
   "cell_type": "markdown",
   "id": "2d3c8e39-c26c-4830-983a-24393adf5ae8",
   "metadata": {},
   "source": [
    "# <span style=\"color:red\"> Data Manipulation with pandas </span>"
   ]
  },
  {
   "cell_type": "raw",
   "id": "b2e5bff4-4909-4569-aa19-3168a7901d61",
   "metadata": {},
   "source": [
    "Course Description\n",
    "\n",
    "Pandas is the world's most popular Python library, used for everything from data manipulation to data analysis. In this course, you'll learn how to manipulate DataFrames, as you extract, filter, and transform real-world datasets for analysis. Using pandas you’ll explore all the core data science concepts. Using real-world data, including Walmart sales figures and global temperature time series, you’ll learn how to import, clean, calculate statistics, and create visualizations—using pandas to add to the power of Python!"
   ]
  },
  {
   "cell_type": "markdown",
   "id": "bf7d9809-ea9e-41a2-826e-d463abd6bbdd",
   "metadata": {},
   "source": [
    "<span style=\"color:red\">\n",
    "\n",
    "# Contenido:\n",
    "###### Chapter 1 Transforming Data Frames\n",
    "###### Chapter 2 Aggregating DataFrames\n",
    "###### Chapter 3 Slicing and Indexing DataFrames\n",
    "###### Chapter 4 Creating and Visualizing DataFrames\n",
    "\n",
    "</span>"
   ]
  },
  {
   "cell_type": "markdown",
   "id": "841306d4-ed0f-4285-b80e-c4ec8e0a8abc",
   "metadata": {},
   "source": [
    "# <span style=\"color:red\"> Chapter 1 Transforming DataFrames </span>"
   ]
  },
  {
   "cell_type": "raw",
   "id": "09569922-117a-4078-a94f-273ff568bd90",
   "metadata": {},
   "source": [
    "Let’s master the pandas basics. \n",
    "Learn how to inspect DataFrames and perform fundamental manipulations, including sorting rows, subsetting, and adding new columns.\n",
    "\n",
    "Introducing DataFrames (Video) 50 xp\n",
    "\n",
    "Inspecting a DataFrame 4 xp\n",
    "\n",
    "Parts of a DataFrame 100 xp\n",
    "\n",
    "Sorting and subsetting (Video) 50 xp\n",
    "\n",
    "Sorting rows 100 xp\n",
    "\n",
    "Subsetting columns 100 xp\n",
    "\n",
    "Subsetting rows 100 xp\n",
    "\n",
    "Subsetting rows by categorical variables 100 xp\n",
    "\n",
    "New columns (Video) 50 xp\n",
    "\n",
    "Adding new columns 100 xp\n",
    "\n",
    "Combo-attack! 100 xp"
   ]
  },
  {
   "cell_type": "markdown",
   "id": "5af730c0-b3af-4541-9f2a-76378c755e99",
   "metadata": {},
   "source": [
    "## Introducing DataFrames (Video) 50 xp"
   ]
  },
  {
   "cell_type": "markdown",
   "id": "1d867f8a-19ac-47a5-9605-6ddbfc0711c7",
   "metadata": {},
   "source": [
    "## Inspecting a DataFrame"
   ]
  },
  {
   "cell_type": "raw",
   "id": "57b448a6-e333-4fd8-a59b-63174d4d2aba",
   "metadata": {},
   "source": [
    "Inspecting a DataFrame\n",
    "\n",
    "When you get a new DataFrame to work with, the first thing you need to do is explore it and see what it contains. \n",
    "There are several useful methods and attributes for this.\n",
    "\n",
    ".head()       returns the first few rows (the “head” of the DataFrame).\n",
    ".info()       shows information on each of the columns, such as the data type and number of missing values.\n",
    ".shape        returns the number of rows and columns of the DataFrame.\n",
    ".describe()   calculates a few summary statistics for each column.\n",
    "\n",
    "Homelessness is a DataFrame containing estimates of homelessness in each U.S. state in 2018. The individual column is the number of homeless individuals not part of a family with children. The family_members column is the number of homeless individuals part of a family with children. The state_pop column is the state's total population."
   ]
  },
  {
   "cell_type": "code",
   "execution_count": 1,
   "id": "2ee86326-56e2-4737-b12f-60991c60d9a7",
   "metadata": {},
   "outputs": [],
   "source": [
    "import pandas as pd\n",
    "homelessness = pd.read_csv(\"homelessness.csv\")"
   ]
  },
  {
   "cell_type": "raw",
   "id": "cf60a445-6926-48fe-a644-b6e12acebd3b",
   "metadata": {},
   "source": [
    "Instructions 1/4\n",
    "1 XP\n",
    "Print the head of the homelessness DataFrame.\n",
    "\n",
    "Hint\n",
    "Call the .head() method on homelessness with no arguments.\n",
    "Remember to print the output!"
   ]
  },
  {
   "cell_type": "code",
   "execution_count": 2,
   "id": "e5e2025d-a98b-4b54-8098-2116ae54d8ef",
   "metadata": {},
   "outputs": [
    {
     "name": "stdout",
     "output_type": "stream",
     "text": [
      "   Unnamed: 0              region       state  individuals  family_members  \\\n",
      "0           0  East South Central     Alabama       2570.0           864.0   \n",
      "1           1             Pacific      Alaska       1434.0           582.0   \n",
      "2           2            Mountain     Arizona       7259.0          2606.0   \n",
      "3           3  West South Central    Arkansas       2280.0           432.0   \n",
      "4           4             Pacific  California     109008.0         20964.0   \n",
      "\n",
      "   state_pop  \n",
      "0    4887681  \n",
      "1     735139  \n",
      "2    7158024  \n",
      "3    3009733  \n",
      "4   39461588  \n"
     ]
    }
   ],
   "source": [
    "print(homelessness.head())"
   ]
  },
  {
   "cell_type": "raw",
   "id": "978a11db-ed65-4f42-bfe3-a5ff94d2687b",
   "metadata": {},
   "source": [
    "Instructions 2/4\n",
    "1 XP\n",
    "Print information about the column types and missing values in homelessness.\n",
    "\n",
    "Hint\n",
    "Call the .info() method on homelessness with no arguments."
   ]
  },
  {
   "cell_type": "code",
   "execution_count": 3,
   "id": "7c70d711-b1ee-4a20-9abf-932d960ef6cd",
   "metadata": {},
   "outputs": [
    {
     "name": "stdout",
     "output_type": "stream",
     "text": [
      "<class 'pandas.core.frame.DataFrame'>\n",
      "RangeIndex: 51 entries, 0 to 50\n",
      "Data columns (total 6 columns):\n",
      " #   Column          Non-Null Count  Dtype  \n",
      "---  ------          --------------  -----  \n",
      " 0   Unnamed: 0      51 non-null     int64  \n",
      " 1   region          51 non-null     object \n",
      " 2   state           51 non-null     object \n",
      " 3   individuals     51 non-null     float64\n",
      " 4   family_members  51 non-null     float64\n",
      " 5   state_pop       51 non-null     int64  \n",
      "dtypes: float64(2), int64(2), object(2)\n",
      "memory usage: 2.5+ KB\n",
      "None\n"
     ]
    }
   ],
   "source": [
    "print(homelessness.info())"
   ]
  },
  {
   "cell_type": "raw",
   "id": "4be9c6f7-7d3d-4542-8048-32e7be97ae07",
   "metadata": {},
   "source": [
    "Instructions 3/4\n",
    "1 XP\n",
    "Print the number of rows and columns in homelessness.\n",
    "\n",
    "Hint\n",
    "Since .shape is an attribute, it should not be followed by parentheses like methods are."
   ]
  },
  {
   "cell_type": "code",
   "execution_count": 4,
   "id": "3d264fb4-8664-4166-b090-3527a3d00c32",
   "metadata": {},
   "outputs": [
    {
     "name": "stdout",
     "output_type": "stream",
     "text": [
      "(51, 6)\n"
     ]
    }
   ],
   "source": [
    "print(homelessness.shape)"
   ]
  },
  {
   "cell_type": "raw",
   "id": "6f8260ac-cce3-4612-bf26-42bc67272d0b",
   "metadata": {},
   "source": [
    "Instructions 4/4\n",
    "1 XP\n",
    "Print some summary statistics that describe the homelessness DataFrame.\n",
    "\n",
    "Hint\n",
    "Call the .describe() method on homelessness with no arguments."
   ]
  },
  {
   "cell_type": "code",
   "execution_count": 5,
   "id": "89610947-6f78-4f92-b7f3-df017122aa06",
   "metadata": {},
   "outputs": [
    {
     "name": "stdout",
     "output_type": "stream",
     "text": [
      "       Unnamed: 0    individuals  family_members     state_pop\n",
      "count   51.000000      51.000000       51.000000  5.100000e+01\n",
      "mean    25.000000    7225.784314     3504.882353  6.405637e+06\n",
      "std     14.866069   15991.025083     7805.411811  7.327258e+06\n",
      "min      0.000000     434.000000       75.000000  5.776010e+05\n",
      "25%     12.500000    1446.500000      592.000000  1.777414e+06\n",
      "50%     25.000000    3082.000000     1482.000000  4.461153e+06\n",
      "75%     37.500000    6781.500000     3196.000000  7.340946e+06\n",
      "max     50.000000  109008.000000    52070.000000  3.946159e+07\n"
     ]
    }
   ],
   "source": [
    "print(homelessness.describe())"
   ]
  },
  {
   "cell_type": "markdown",
   "id": "85f83253-445f-4e07-bb88-a94da258bb3d",
   "metadata": {},
   "source": [
    "## Parts of a DataFrame 100 xp"
   ]
  },
  {
   "cell_type": "raw",
   "id": "84098cdf-eea2-449e-8544-ff137f6529eb",
   "metadata": {},
   "source": [
    "Parts of a DataFrame\n",
    "To better understand DataFrame objects, it's useful to know that they consist of three components, stored as attributes:\n",
    "\n",
    ".values:    A two-dimensional NumPy array of values.\n",
    ".columns:   An index of columns: the column names.\n",
    ".index:     An index for the rows: either row numbers or row names.\n",
    "\n",
    "You can usually think of indexes as a list of strings or numbers, though the pandas Index data type allows for more sophisticated options. (These will be covered later in the course.)"
   ]
  },
  {
   "cell_type": "raw",
   "id": "ef3ab57f-635a-462a-8a55-d337bcd38f45",
   "metadata": {},
   "source": [
    "Instructions\n",
    "70 XP\n",
    "Import pandas using the alias pd.\n",
    "Print a 2D NumPy array of the values in homelessness.\n",
    "Print the column names of homelessness.\n",
    "Print the index of homelessness.\n",
    "\n",
    "\n",
    "Show Answer (-70 XP)\n",
    "Hint\n",
    "To import a package with an alias, use as.\n",
    "Call .values (no parentheses) on homelessness.\n",
    "Call .columns (no parentheses) on homelessness.\n",
    "Call .index (no parentheses) on homelessness."
   ]
  },
  {
   "cell_type": "code",
   "execution_count": 6,
   "id": "cb2d55f1-b9f3-466e-adc7-c8f192d15dec",
   "metadata": {},
   "outputs": [
    {
     "name": "stdout",
     "output_type": "stream",
     "text": [
      "[[0 'East South Central' 'Alabama' 2570.0 864.0 4887681]\n",
      " [1 'Pacific' 'Alaska' 1434.0 582.0 735139]\n",
      " [2 'Mountain' 'Arizona' 7259.0 2606.0 7158024]\n",
      " [3 'West South Central' 'Arkansas' 2280.0 432.0 3009733]\n",
      " [4 'Pacific' 'California' 109008.0 20964.0 39461588]\n",
      " [5 'Mountain' 'Colorado' 7607.0 3250.0 5691287]\n",
      " [6 'New England' 'Connecticut' 2280.0 1696.0 3571520]\n",
      " [7 'South Atlantic' 'Delaware' 708.0 374.0 965479]\n",
      " [8 'South Atlantic' 'District of Columbia' 3770.0 3134.0 701547]\n",
      " [9 'South Atlantic' 'Florida' 21443.0 9587.0 21244317]\n",
      " [10 'South Atlantic' 'Georgia' 6943.0 2556.0 10511131]\n",
      " [11 'Pacific' 'Hawaii' 4131.0 2399.0 1420593]\n",
      " [12 'Mountain' 'Idaho' 1297.0 715.0 1750536]\n",
      " [13 'East North Central' 'Illinois' 6752.0 3891.0 12723071]\n",
      " [14 'East North Central' 'Indiana' 3776.0 1482.0 6695497]\n",
      " [15 'West North Central' 'Iowa' 1711.0 1038.0 3148618]\n",
      " [16 'West North Central' 'Kansas' 1443.0 773.0 2911359]\n",
      " [17 'East South Central' 'Kentucky' 2735.0 953.0 4461153]\n",
      " [18 'West South Central' 'Louisiana' 2540.0 519.0 4659690]\n",
      " [19 'New England' 'Maine' 1450.0 1066.0 1339057]\n",
      " [20 'South Atlantic' 'Maryland' 4914.0 2230.0 6035802]\n",
      " [21 'New England' 'Massachusetts' 6811.0 13257.0 6882635]\n",
      " [22 'East North Central' 'Michigan' 5209.0 3142.0 9984072]\n",
      " [23 'West North Central' 'Minnesota' 3993.0 3250.0 5606249]\n",
      " [24 'East South Central' 'Mississippi' 1024.0 328.0 2981020]\n",
      " [25 'West North Central' 'Missouri' 3776.0 2107.0 6121623]\n",
      " [26 'Mountain' 'Montana' 983.0 422.0 1060665]\n",
      " [27 'West North Central' 'Nebraska' 1745.0 676.0 1925614]\n",
      " [28 'Mountain' 'Nevada' 7058.0 486.0 3027341]\n",
      " [29 'New England' 'New Hampshire' 835.0 615.0 1353465]\n",
      " [30 'Mid-Atlantic' 'New Jersey' 6048.0 3350.0 8886025]\n",
      " [31 'Mountain' 'New Mexico' 1949.0 602.0 2092741]\n",
      " [32 'Mid-Atlantic' 'New York' 39827.0 52070.0 19530351]\n",
      " [33 'South Atlantic' 'North Carolina' 6451.0 2817.0 10381615]\n",
      " [34 'West North Central' 'North Dakota' 467.0 75.0 758080]\n",
      " [35 'East North Central' 'Ohio' 6929.0 3320.0 11676341]\n",
      " [36 'West South Central' 'Oklahoma' 2823.0 1048.0 3940235]\n",
      " [37 'Pacific' 'Oregon' 11139.0 3337.0 4181886]\n",
      " [38 'Mid-Atlantic' 'Pennsylvania' 8163.0 5349.0 12800922]\n",
      " [39 'New England' 'Rhode Island' 747.0 354.0 1058287]\n",
      " [40 'South Atlantic' 'South Carolina' 3082.0 851.0 5084156]\n",
      " [41 'West North Central' 'South Dakota' 836.0 323.0 878698]\n",
      " [42 'East South Central' 'Tennessee' 6139.0 1744.0 6771631]\n",
      " [43 'West South Central' 'Texas' 19199.0 6111.0 28628666]\n",
      " [44 'Mountain' 'Utah' 1904.0 972.0 3153550]\n",
      " [45 'New England' 'Vermont' 780.0 511.0 624358]\n",
      " [46 'South Atlantic' 'Virginia' 3928.0 2047.0 8501286]\n",
      " [47 'Pacific' 'Washington' 16424.0 5880.0 7523869]\n",
      " [48 'South Atlantic' 'West Virginia' 1021.0 222.0 1804291]\n",
      " [49 'East North Central' 'Wisconsin' 2740.0 2167.0 5807406]\n",
      " [50 'Mountain' 'Wyoming' 434.0 205.0 577601]]\n",
      "Index(['Unnamed: 0', 'region', 'state', 'individuals', 'family_members',\n",
      "       'state_pop'],\n",
      "      dtype='object')\n",
      "RangeIndex(start=0, stop=51, step=1)\n"
     ]
    }
   ],
   "source": [
    "import pandas as pd\n",
    "print( homelessness.values )\n",
    "print( homelessness.columns )\n",
    "print( homelessness.index )"
   ]
  },
  {
   "cell_type": "markdown",
   "id": "0c6c996f-a62d-41ea-9d67-53890221113d",
   "metadata": {},
   "source": [
    "# Sorting and subsetting (Video) 50 xp"
   ]
  },
  {
   "cell_type": "code",
   "execution_count": 7,
   "id": "aa1fe3dc-1e4e-453a-b630-6714a9dea21f",
   "metadata": {
    "tags": []
   },
   "outputs": [
    {
     "name": "stdout",
     "output_type": "stream",
     "text": [
      "----Ordenar un Data Frame dada una columna\n",
      "    Unnamed: 0              region                 state  individuals  \\\n",
      "35          35  East North Central                  Ohio       6929.0   \n",
      "49          49  East North Central             Wisconsin       2740.0   \n",
      "22          22  East North Central              Michigan       5209.0   \n",
      "13          13  East North Central              Illinois       6752.0   \n",
      "14          14  East North Central               Indiana       3776.0   \n",
      "0            0  East South Central               Alabama       2570.0   \n",
      "42          42  East South Central             Tennessee       6139.0   \n",
      "24          24  East South Central           Mississippi       1024.0   \n",
      "17          17  East South Central              Kentucky       2735.0   \n",
      "38          38        Mid-Atlantic          Pennsylvania       8163.0   \n",
      "32          32        Mid-Atlantic              New York      39827.0   \n",
      "30          30        Mid-Atlantic            New Jersey       6048.0   \n",
      "44          44            Mountain                  Utah       1904.0   \n",
      "31          31            Mountain            New Mexico       1949.0   \n",
      "28          28            Mountain                Nevada       7058.0   \n",
      "26          26            Mountain               Montana        983.0   \n",
      "50          50            Mountain               Wyoming        434.0   \n",
      "2            2            Mountain               Arizona       7259.0   \n",
      "12          12            Mountain                 Idaho       1297.0   \n",
      "5            5            Mountain              Colorado       7607.0   \n",
      "19          19         New England                 Maine       1450.0   \n",
      "21          21         New England         Massachusetts       6811.0   \n",
      "45          45         New England               Vermont        780.0   \n",
      "39          39         New England          Rhode Island        747.0   \n",
      "29          29         New England         New Hampshire        835.0   \n",
      "6            6         New England           Connecticut       2280.0   \n",
      "37          37             Pacific                Oregon      11139.0   \n",
      "47          47             Pacific            Washington      16424.0   \n",
      "11          11             Pacific                Hawaii       4131.0   \n",
      "4            4             Pacific            California     109008.0   \n",
      "1            1             Pacific                Alaska       1434.0   \n",
      "33          33      South Atlantic        North Carolina       6451.0   \n",
      "8            8      South Atlantic  District of Columbia       3770.0   \n",
      "46          46      South Atlantic              Virginia       3928.0   \n",
      "9            9      South Atlantic               Florida      21443.0   \n",
      "10          10      South Atlantic               Georgia       6943.0   \n",
      "20          20      South Atlantic              Maryland       4914.0   \n",
      "48          48      South Atlantic         West Virginia       1021.0   \n",
      "7            7      South Atlantic              Delaware        708.0   \n",
      "40          40      South Atlantic        South Carolina       3082.0   \n",
      "41          41  West North Central          South Dakota        836.0   \n",
      "15          15  West North Central                  Iowa       1711.0   \n",
      "34          34  West North Central          North Dakota        467.0   \n",
      "16          16  West North Central                Kansas       1443.0   \n",
      "27          27  West North Central              Nebraska       1745.0   \n",
      "23          23  West North Central             Minnesota       3993.0   \n",
      "25          25  West North Central              Missouri       3776.0   \n",
      "36          36  West South Central              Oklahoma       2823.0   \n",
      "43          43  West South Central                 Texas      19199.0   \n",
      "18          18  West South Central             Louisiana       2540.0   \n",
      "3            3  West South Central              Arkansas       2280.0   \n",
      "\n",
      "    family_members  state_pop  \n",
      "35          3320.0   11676341  \n",
      "49          2167.0    5807406  \n",
      "22          3142.0    9984072  \n",
      "13          3891.0   12723071  \n",
      "14          1482.0    6695497  \n",
      "0            864.0    4887681  \n",
      "42          1744.0    6771631  \n",
      "24           328.0    2981020  \n",
      "17           953.0    4461153  \n",
      "38          5349.0   12800922  \n",
      "32         52070.0   19530351  \n",
      "30          3350.0    8886025  \n",
      "44           972.0    3153550  \n",
      "31           602.0    2092741  \n",
      "28           486.0    3027341  \n",
      "26           422.0    1060665  \n",
      "50           205.0     577601  \n",
      "2           2606.0    7158024  \n",
      "12           715.0    1750536  \n",
      "5           3250.0    5691287  \n",
      "19          1066.0    1339057  \n",
      "21         13257.0    6882635  \n",
      "45           511.0     624358  \n",
      "39           354.0    1058287  \n",
      "29           615.0    1353465  \n",
      "6           1696.0    3571520  \n",
      "37          3337.0    4181886  \n",
      "47          5880.0    7523869  \n",
      "11          2399.0    1420593  \n",
      "4          20964.0   39461588  \n",
      "1            582.0     735139  \n",
      "33          2817.0   10381615  \n",
      "8           3134.0     701547  \n",
      "46          2047.0    8501286  \n",
      "9           9587.0   21244317  \n",
      "10          2556.0   10511131  \n",
      "20          2230.0    6035802  \n",
      "48           222.0    1804291  \n",
      "7            374.0     965479  \n",
      "40           851.0    5084156  \n",
      "41           323.0     878698  \n",
      "15          1038.0    3148618  \n",
      "34            75.0     758080  \n",
      "16           773.0    2911359  \n",
      "27           676.0    1925614  \n",
      "23          3250.0    5606249  \n",
      "25          2107.0    6121623  \n",
      "36          1048.0    3940235  \n",
      "43          6111.0   28628666  \n",
      "18           519.0    4659690  \n",
      "3            432.0    3009733  \n",
      "----Ordenar un Data Frame dada una columna, en orden descendente\n",
      "    Unnamed: 0              region                 state  individuals  \\\n",
      "36          36  West South Central              Oklahoma       2823.0   \n",
      "3            3  West South Central              Arkansas       2280.0   \n",
      "18          18  West South Central             Louisiana       2540.0   \n",
      "43          43  West South Central                 Texas      19199.0   \n",
      "25          25  West North Central              Missouri       3776.0   \n",
      "15          15  West North Central                  Iowa       1711.0   \n",
      "27          27  West North Central              Nebraska       1745.0   \n",
      "23          23  West North Central             Minnesota       3993.0   \n",
      "41          41  West North Central          South Dakota        836.0   \n",
      "16          16  West North Central                Kansas       1443.0   \n",
      "34          34  West North Central          North Dakota        467.0   \n",
      "8            8      South Atlantic  District of Columbia       3770.0   \n",
      "48          48      South Atlantic         West Virginia       1021.0   \n",
      "40          40      South Atlantic        South Carolina       3082.0   \n",
      "20          20      South Atlantic              Maryland       4914.0   \n",
      "7            7      South Atlantic              Delaware        708.0   \n",
      "10          10      South Atlantic               Georgia       6943.0   \n",
      "33          33      South Atlantic        North Carolina       6451.0   \n",
      "9            9      South Atlantic               Florida      21443.0   \n",
      "46          46      South Atlantic              Virginia       3928.0   \n",
      "11          11             Pacific                Hawaii       4131.0   \n",
      "47          47             Pacific            Washington      16424.0   \n",
      "1            1             Pacific                Alaska       1434.0   \n",
      "4            4             Pacific            California     109008.0   \n",
      "37          37             Pacific                Oregon      11139.0   \n",
      "19          19         New England                 Maine       1450.0   \n",
      "6            6         New England           Connecticut       2280.0   \n",
      "45          45         New England               Vermont        780.0   \n",
      "39          39         New England          Rhode Island        747.0   \n",
      "29          29         New England         New Hampshire        835.0   \n",
      "21          21         New England         Massachusetts       6811.0   \n",
      "44          44            Mountain                  Utah       1904.0   \n",
      "50          50            Mountain               Wyoming        434.0   \n",
      "2            2            Mountain               Arizona       7259.0   \n",
      "28          28            Mountain                Nevada       7058.0   \n",
      "26          26            Mountain               Montana        983.0   \n",
      "5            5            Mountain              Colorado       7607.0   \n",
      "12          12            Mountain                 Idaho       1297.0   \n",
      "31          31            Mountain            New Mexico       1949.0   \n",
      "32          32        Mid-Atlantic              New York      39827.0   \n",
      "30          30        Mid-Atlantic            New Jersey       6048.0   \n",
      "38          38        Mid-Atlantic          Pennsylvania       8163.0   \n",
      "17          17  East South Central              Kentucky       2735.0   \n",
      "42          42  East South Central             Tennessee       6139.0   \n",
      "24          24  East South Central           Mississippi       1024.0   \n",
      "0            0  East South Central               Alabama       2570.0   \n",
      "14          14  East North Central               Indiana       3776.0   \n",
      "13          13  East North Central              Illinois       6752.0   \n",
      "22          22  East North Central              Michigan       5209.0   \n",
      "35          35  East North Central                  Ohio       6929.0   \n",
      "49          49  East North Central             Wisconsin       2740.0   \n",
      "\n",
      "    family_members  state_pop  \n",
      "36          1048.0    3940235  \n",
      "3            432.0    3009733  \n",
      "18           519.0    4659690  \n",
      "43          6111.0   28628666  \n",
      "25          2107.0    6121623  \n",
      "15          1038.0    3148618  \n",
      "27           676.0    1925614  \n",
      "23          3250.0    5606249  \n",
      "41           323.0     878698  \n",
      "16           773.0    2911359  \n",
      "34            75.0     758080  \n",
      "8           3134.0     701547  \n",
      "48           222.0    1804291  \n",
      "40           851.0    5084156  \n",
      "20          2230.0    6035802  \n",
      "7            374.0     965479  \n",
      "10          2556.0   10511131  \n",
      "33          2817.0   10381615  \n",
      "9           9587.0   21244317  \n",
      "46          2047.0    8501286  \n",
      "11          2399.0    1420593  \n",
      "47          5880.0    7523869  \n",
      "1            582.0     735139  \n",
      "4          20964.0   39461588  \n",
      "37          3337.0    4181886  \n",
      "19          1066.0    1339057  \n",
      "6           1696.0    3571520  \n",
      "45           511.0     624358  \n",
      "39           354.0    1058287  \n",
      "29           615.0    1353465  \n",
      "21         13257.0    6882635  \n",
      "44           972.0    3153550  \n",
      "50           205.0     577601  \n",
      "2           2606.0    7158024  \n",
      "28           486.0    3027341  \n",
      "26           422.0    1060665  \n",
      "5           3250.0    5691287  \n",
      "12           715.0    1750536  \n",
      "31           602.0    2092741  \n",
      "32         52070.0   19530351  \n",
      "30          3350.0    8886025  \n",
      "38          5349.0   12800922  \n",
      "17           953.0    4461153  \n",
      "42          1744.0    6771631  \n",
      "24           328.0    2981020  \n",
      "0            864.0    4887681  \n",
      "14          1482.0    6695497  \n",
      "13          3891.0   12723071  \n",
      "22          3142.0    9984072  \n",
      "35          3320.0   11676341  \n",
      "49          2167.0    5807406  \n",
      "----Ordenar un Data Frame dadas 2 columnas\n",
      "----Ordenar un Data Frame dadas 2 columnas, en order descendente\n",
      "    Unnamed: 0              region                 state  individuals  \\\n",
      "43          43  West South Central                 Texas      19199.0   \n",
      "36          36  West South Central              Oklahoma       2823.0   \n",
      "18          18  West South Central             Louisiana       2540.0   \n",
      "3            3  West South Central              Arkansas       2280.0   \n",
      "41          41  West North Central          South Dakota        836.0   \n",
      "34          34  West North Central          North Dakota        467.0   \n",
      "27          27  West North Central              Nebraska       1745.0   \n",
      "25          25  West North Central              Missouri       3776.0   \n",
      "23          23  West North Central             Minnesota       3993.0   \n",
      "16          16  West North Central                Kansas       1443.0   \n",
      "15          15  West North Central                  Iowa       1711.0   \n",
      "48          48      South Atlantic         West Virginia       1021.0   \n",
      "46          46      South Atlantic              Virginia       3928.0   \n",
      "40          40      South Atlantic        South Carolina       3082.0   \n",
      "33          33      South Atlantic        North Carolina       6451.0   \n",
      "20          20      South Atlantic              Maryland       4914.0   \n",
      "10          10      South Atlantic               Georgia       6943.0   \n",
      "9            9      South Atlantic               Florida      21443.0   \n",
      "8            8      South Atlantic  District of Columbia       3770.0   \n",
      "7            7      South Atlantic              Delaware        708.0   \n",
      "47          47             Pacific            Washington      16424.0   \n",
      "37          37             Pacific                Oregon      11139.0   \n",
      "11          11             Pacific                Hawaii       4131.0   \n",
      "4            4             Pacific            California     109008.0   \n",
      "1            1             Pacific                Alaska       1434.0   \n",
      "45          45         New England               Vermont        780.0   \n",
      "39          39         New England          Rhode Island        747.0   \n",
      "29          29         New England         New Hampshire        835.0   \n",
      "21          21         New England         Massachusetts       6811.0   \n",
      "19          19         New England                 Maine       1450.0   \n",
      "6            6         New England           Connecticut       2280.0   \n",
      "50          50            Mountain               Wyoming        434.0   \n",
      "44          44            Mountain                  Utah       1904.0   \n",
      "31          31            Mountain            New Mexico       1949.0   \n",
      "28          28            Mountain                Nevada       7058.0   \n",
      "26          26            Mountain               Montana        983.0   \n",
      "12          12            Mountain                 Idaho       1297.0   \n",
      "5            5            Mountain              Colorado       7607.0   \n",
      "2            2            Mountain               Arizona       7259.0   \n",
      "38          38        Mid-Atlantic          Pennsylvania       8163.0   \n",
      "32          32        Mid-Atlantic              New York      39827.0   \n",
      "30          30        Mid-Atlantic            New Jersey       6048.0   \n",
      "42          42  East South Central             Tennessee       6139.0   \n",
      "24          24  East South Central           Mississippi       1024.0   \n",
      "17          17  East South Central              Kentucky       2735.0   \n",
      "0            0  East South Central               Alabama       2570.0   \n",
      "49          49  East North Central             Wisconsin       2740.0   \n",
      "35          35  East North Central                  Ohio       6929.0   \n",
      "22          22  East North Central              Michigan       5209.0   \n",
      "14          14  East North Central               Indiana       3776.0   \n",
      "13          13  East North Central              Illinois       6752.0   \n",
      "\n",
      "    family_members  state_pop  \n",
      "43          6111.0   28628666  \n",
      "36          1048.0    3940235  \n",
      "18           519.0    4659690  \n",
      "3            432.0    3009733  \n",
      "41           323.0     878698  \n",
      "34            75.0     758080  \n",
      "27           676.0    1925614  \n",
      "25          2107.0    6121623  \n",
      "23          3250.0    5606249  \n",
      "16           773.0    2911359  \n",
      "15          1038.0    3148618  \n",
      "48           222.0    1804291  \n",
      "46          2047.0    8501286  \n",
      "40           851.0    5084156  \n",
      "33          2817.0   10381615  \n",
      "20          2230.0    6035802  \n",
      "10          2556.0   10511131  \n",
      "9           9587.0   21244317  \n",
      "8           3134.0     701547  \n",
      "7            374.0     965479  \n",
      "47          5880.0    7523869  \n",
      "37          3337.0    4181886  \n",
      "11          2399.0    1420593  \n",
      "4          20964.0   39461588  \n",
      "1            582.0     735139  \n",
      "45           511.0     624358  \n",
      "39           354.0    1058287  \n",
      "29           615.0    1353465  \n",
      "21         13257.0    6882635  \n",
      "19          1066.0    1339057  \n",
      "6           1696.0    3571520  \n",
      "50           205.0     577601  \n",
      "44           972.0    3153550  \n",
      "31           602.0    2092741  \n",
      "28           486.0    3027341  \n",
      "26           422.0    1060665  \n",
      "12           715.0    1750536  \n",
      "5           3250.0    5691287  \n",
      "2           2606.0    7158024  \n",
      "38          5349.0   12800922  \n",
      "32         52070.0   19530351  \n",
      "30          3350.0    8886025  \n",
      "42          1744.0    6771631  \n",
      "24           328.0    2981020  \n",
      "17           953.0    4461153  \n",
      "0            864.0    4887681  \n",
      "49          2167.0    5807406  \n",
      "35          3320.0   11676341  \n",
      "22          3142.0    9984072  \n",
      "14          1482.0    6695497  \n",
      "13          3891.0   12723071  \n"
     ]
    }
   ],
   "source": [
    "#SORTING\n",
    "\n",
    "print(\"----Ordenar un Data Frame dada una columna\")\n",
    "print(homelessness.sort_values(\"region\")) \n",
    "\n",
    "print(\"----Ordenar un Data Frame dada una columna, en orden descendente\")\n",
    "print(homelessness.sort_values(\"region\", ascending = False))\n",
    "\n",
    "print(\"----Ordenar un Data Frame dadas 2 columnas\")\n",
    "homelessness.sort_values([\"region\",\"state\"])\n",
    "\n",
    "print(\"----Ordenar un Data Frame dadas 2 columnas, en order descendente\")\n",
    "print(homelessness.sort_values([\"region\",\"state\"],ascending=[False,False]))"
   ]
  },
  {
   "cell_type": "code",
   "execution_count": 8,
   "id": "2dcfae45-0d5d-4e0e-9b18-228b27209e40",
   "metadata": {
    "tags": []
   },
   "outputs": [
    {
     "name": "stdout",
     "output_type": "stream",
     "text": [
      "----Extraer una columna de un Data Frame\n",
      "0                  Alabama\n",
      "1                   Alaska\n",
      "2                  Arizona\n",
      "3                 Arkansas\n",
      "4               California\n",
      "5                 Colorado\n",
      "6              Connecticut\n",
      "7                 Delaware\n",
      "8     District of Columbia\n",
      "9                  Florida\n",
      "10                 Georgia\n",
      "11                  Hawaii\n",
      "12                   Idaho\n",
      "13                Illinois\n",
      "14                 Indiana\n",
      "15                    Iowa\n",
      "16                  Kansas\n",
      "17                Kentucky\n",
      "18               Louisiana\n",
      "19                   Maine\n",
      "20                Maryland\n",
      "21           Massachusetts\n",
      "22                Michigan\n",
      "23               Minnesota\n",
      "24             Mississippi\n",
      "25                Missouri\n",
      "26                 Montana\n",
      "27                Nebraska\n",
      "28                  Nevada\n",
      "29           New Hampshire\n",
      "30              New Jersey\n",
      "31              New Mexico\n",
      "32                New York\n",
      "33          North Carolina\n",
      "34            North Dakota\n",
      "35                    Ohio\n",
      "36                Oklahoma\n",
      "37                  Oregon\n",
      "38            Pennsylvania\n",
      "39            Rhode Island\n",
      "40          South Carolina\n",
      "41            South Dakota\n",
      "42               Tennessee\n",
      "43                   Texas\n",
      "44                    Utah\n",
      "45                 Vermont\n",
      "46                Virginia\n",
      "47              Washington\n",
      "48           West Virginia\n",
      "49               Wisconsin\n",
      "50                 Wyoming\n",
      "Name: state, dtype: object\n",
      "----Extraer multiples columnas de un Data Frame\n",
      "                region                 state\n",
      "0   East South Central               Alabama\n",
      "1              Pacific                Alaska\n",
      "2             Mountain               Arizona\n",
      "3   West South Central              Arkansas\n",
      "4              Pacific            California\n",
      "5             Mountain              Colorado\n",
      "6          New England           Connecticut\n",
      "7       South Atlantic              Delaware\n",
      "8       South Atlantic  District of Columbia\n",
      "9       South Atlantic               Florida\n",
      "10      South Atlantic               Georgia\n",
      "11             Pacific                Hawaii\n",
      "12            Mountain                 Idaho\n",
      "13  East North Central              Illinois\n",
      "14  East North Central               Indiana\n",
      "15  West North Central                  Iowa\n",
      "16  West North Central                Kansas\n",
      "17  East South Central              Kentucky\n",
      "18  West South Central             Louisiana\n",
      "19         New England                 Maine\n",
      "20      South Atlantic              Maryland\n",
      "21         New England         Massachusetts\n",
      "22  East North Central              Michigan\n",
      "23  West North Central             Minnesota\n",
      "24  East South Central           Mississippi\n",
      "25  West North Central              Missouri\n",
      "26            Mountain               Montana\n",
      "27  West North Central              Nebraska\n",
      "28            Mountain                Nevada\n",
      "29         New England         New Hampshire\n",
      "30        Mid-Atlantic            New Jersey\n",
      "31            Mountain            New Mexico\n",
      "32        Mid-Atlantic              New York\n",
      "33      South Atlantic        North Carolina\n",
      "34  West North Central          North Dakota\n",
      "35  East North Central                  Ohio\n",
      "36  West South Central              Oklahoma\n",
      "37             Pacific                Oregon\n",
      "38        Mid-Atlantic          Pennsylvania\n",
      "39         New England          Rhode Island\n",
      "40      South Atlantic        South Carolina\n",
      "41  West North Central          South Dakota\n",
      "42  East South Central             Tennessee\n",
      "43  West South Central                 Texas\n",
      "44            Mountain                  Utah\n",
      "45         New England               Vermont\n",
      "46      South Atlantic              Virginia\n",
      "47             Pacific            Washington\n",
      "48      South Atlantic         West Virginia\n",
      "49  East North Central             Wisconsin\n",
      "50            Mountain               Wyoming\n",
      "----Extraer multiples columnas de un Data Frame usando una variable\n",
      "                region                 state\n",
      "0   East South Central               Alabama\n",
      "1              Pacific                Alaska\n",
      "2             Mountain               Arizona\n",
      "3   West South Central              Arkansas\n",
      "4              Pacific            California\n",
      "5             Mountain              Colorado\n",
      "6          New England           Connecticut\n",
      "7       South Atlantic              Delaware\n",
      "8       South Atlantic  District of Columbia\n",
      "9       South Atlantic               Florida\n",
      "10      South Atlantic               Georgia\n",
      "11             Pacific                Hawaii\n",
      "12            Mountain                 Idaho\n",
      "13  East North Central              Illinois\n",
      "14  East North Central               Indiana\n",
      "15  West North Central                  Iowa\n",
      "16  West North Central                Kansas\n",
      "17  East South Central              Kentucky\n",
      "18  West South Central             Louisiana\n",
      "19         New England                 Maine\n",
      "20      South Atlantic              Maryland\n",
      "21         New England         Massachusetts\n",
      "22  East North Central              Michigan\n",
      "23  West North Central             Minnesota\n",
      "24  East South Central           Mississippi\n",
      "25  West North Central              Missouri\n",
      "26            Mountain               Montana\n",
      "27  West North Central              Nebraska\n",
      "28            Mountain                Nevada\n",
      "29         New England         New Hampshire\n",
      "30        Mid-Atlantic            New Jersey\n",
      "31            Mountain            New Mexico\n",
      "32        Mid-Atlantic              New York\n",
      "33      South Atlantic        North Carolina\n",
      "34  West North Central          North Dakota\n",
      "35  East North Central                  Ohio\n",
      "36  West South Central              Oklahoma\n",
      "37             Pacific                Oregon\n",
      "38        Mid-Atlantic          Pennsylvania\n",
      "39         New England          Rhode Island\n",
      "40      South Atlantic        South Carolina\n",
      "41  West North Central          South Dakota\n",
      "42  East South Central             Tennessee\n",
      "43  West South Central                 Texas\n",
      "44            Mountain                  Utah\n",
      "45         New England               Vermont\n",
      "46      South Atlantic              Virginia\n",
      "47             Pacific            Washington\n",
      "48      South Atlantic         West Virginia\n",
      "49  East North Central             Wisconsin\n",
      "50            Mountain               Wyoming\n"
     ]
    }
   ],
   "source": [
    "#SUBSETTING COLUMNS\n",
    "print(\"----Extraer una columna de un Data Frame\")\n",
    "print(homelessness[\"state\"])\n",
    "\n",
    "print(\"----Extraer multiples columnas de un Data Frame\")\n",
    "print(homelessness[[\"region\",\"state\"]])\n",
    "\n",
    "print(\"----Extraer multiples columnas de un Data Frame usando una variable\")\n",
    "variables_de_interes = [\"region\",\"state\"]\n",
    "print(homelessness[variables_de_interes])"
   ]
  },
  {
   "cell_type": "code",
   "execution_count": 9,
   "id": "0c4d954a-d2bf-4435-a7ff-0f9032ecb842",
   "metadata": {
    "tags": []
   },
   "outputs": [
    {
     "name": "stdout",
     "output_type": "stream",
     "text": [
      "----Serie de Pandas de Booleanos\n",
      "0     False\n",
      "1      True\n",
      "2     False\n",
      "3     False\n",
      "4      True\n",
      "5     False\n",
      "6     False\n",
      "7     False\n",
      "8     False\n",
      "9     False\n",
      "10    False\n",
      "11     True\n",
      "12    False\n",
      "13    False\n",
      "14    False\n",
      "15    False\n",
      "16    False\n",
      "17    False\n",
      "18    False\n",
      "19    False\n",
      "20    False\n",
      "21    False\n",
      "22    False\n",
      "23    False\n",
      "24    False\n",
      "25    False\n",
      "26    False\n",
      "27    False\n",
      "28    False\n",
      "29    False\n",
      "30    False\n",
      "31    False\n",
      "32    False\n",
      "33    False\n",
      "34    False\n",
      "35    False\n",
      "36    False\n",
      "37     True\n",
      "38    False\n",
      "39    False\n",
      "40    False\n",
      "41    False\n",
      "42    False\n",
      "43    False\n",
      "44    False\n",
      "45    False\n",
      "46    False\n",
      "47     True\n",
      "48    False\n",
      "49    False\n",
      "50    False\n",
      "Name: region, dtype: bool\n",
      "----Extraer filas de un Data Frame usando una Serie de Pandas de Booleanos\n",
      "    Unnamed: 0   region       state  individuals  family_members  state_pop\n",
      "1            1  Pacific      Alaska       1434.0           582.0     735139\n",
      "4            4  Pacific  California     109008.0         20964.0   39461588\n",
      "11          11  Pacific      Hawaii       4131.0          2399.0    1420593\n",
      "37          37  Pacific      Oregon      11139.0          3337.0    4181886\n",
      "47          47  Pacific  Washington      16424.0          5880.0    7523869\n",
      "----Extraer filas de un Data Frame usando una Serie de Pandas de Booleanos\n",
      "   Unnamed: 0   region       state  individuals  family_members  state_pop\n",
      "4           4  Pacific  California     109008.0         20964.0   39461588\n",
      "----Extraer filas de un Data Frame usando multiples condiciones logicas\n",
      "   Unnamed: 0              region    state  individuals  family_members  \\\n",
      "0           0  East South Central  Alabama       2570.0           864.0   \n",
      "\n",
      "   state_pop  \n",
      "0    4887681  \n",
      "----Extraer filas de un Data Frame usando multiples condiciones logicas\n",
      "   Unnamed: 0              region    state  individuals  family_members  \\\n",
      "0           0  East South Central  Alabama       2570.0           864.0   \n",
      "\n",
      "   state_pop  \n",
      "0    4887681  \n",
      "----Serie de Pandas de Booleanos usando .isin()\n",
      "0     False\n",
      "1      True\n",
      "2     False\n",
      "3     False\n",
      "4      True\n",
      "5     False\n",
      "6      True\n",
      "7     False\n",
      "8     False\n",
      "9     False\n",
      "10    False\n",
      "11     True\n",
      "12    False\n",
      "13    False\n",
      "14    False\n",
      "15    False\n",
      "16    False\n",
      "17    False\n",
      "18    False\n",
      "19     True\n",
      "20    False\n",
      "21     True\n",
      "22    False\n",
      "23    False\n",
      "24    False\n",
      "25    False\n",
      "26    False\n",
      "27    False\n",
      "28    False\n",
      "29     True\n",
      "30    False\n",
      "31    False\n",
      "32    False\n",
      "33    False\n",
      "34    False\n",
      "35    False\n",
      "36    False\n",
      "37     True\n",
      "38    False\n",
      "39     True\n",
      "40    False\n",
      "41    False\n",
      "42    False\n",
      "43    False\n",
      "44    False\n",
      "45     True\n",
      "46    False\n",
      "47     True\n",
      "48    False\n",
      "49    False\n",
      "50    False\n",
      "Name: region, dtype: bool\n",
      "----Extraer filas de un Data Frame usando Serie de Pandas de Booleanos y .isin()\n",
      "    Unnamed: 0       region          state  individuals  family_members  \\\n",
      "1            1      Pacific         Alaska       1434.0           582.0   \n",
      "4            4      Pacific     California     109008.0         20964.0   \n",
      "6            6  New England    Connecticut       2280.0          1696.0   \n",
      "11          11      Pacific         Hawaii       4131.0          2399.0   \n",
      "19          19  New England          Maine       1450.0          1066.0   \n",
      "21          21  New England  Massachusetts       6811.0         13257.0   \n",
      "29          29  New England  New Hampshire        835.0           615.0   \n",
      "37          37      Pacific         Oregon      11139.0          3337.0   \n",
      "39          39  New England   Rhode Island        747.0           354.0   \n",
      "45          45  New England        Vermont        780.0           511.0   \n",
      "47          47      Pacific     Washington      16424.0          5880.0   \n",
      "\n",
      "    state_pop  \n",
      "1      735139  \n",
      "4    39461588  \n",
      "6     3571520  \n",
      "11    1420593  \n",
      "19    1339057  \n",
      "21    6882635  \n",
      "29    1353465  \n",
      "37    4181886  \n",
      "39    1058287  \n",
      "45     624358  \n",
      "47    7523869  \n"
     ]
    }
   ],
   "source": [
    "#SUBSETTING ROWS\n",
    "\n",
    "print(\"----Serie de Pandas de Booleanos\")\n",
    "print(homelessness[\"region\"] == \"Pacific\")\n",
    "\n",
    "print(\"----Extraer filas de un Data Frame usando una Serie de Pandas de Booleanos\")\n",
    "print(homelessness[ homelessness[\"region\"] == \"Pacific\" ])\n",
    "\n",
    "print(\"----Extraer filas de un Data Frame usando una Serie de Pandas de Booleanos\")\n",
    "print(homelessness[homelessness[\"individuals\"] > 100000])\n",
    "\n",
    "print(\"----Extraer filas de un Data Frame usando multiples condiciones logicas\")\n",
    "print( homelessness[ (homelessness[\"region\"] == \"East South Central\") & (homelessness[\"individuals\"] == 2570.0 ) ] )\n",
    "\n",
    "print(\"----Extraer filas de un Data Frame usando multiples condiciones logicas\")\n",
    "condicion_1 = homelessness[\"region\"] == \"East South Central\"\n",
    "condicion_2 = homelessness[\"individuals\"] == 2570.0\n",
    "print(homelessness[condicion_1 & condicion_2])\n",
    "\n",
    "print(\"----Serie de Pandas de Booleanos usando .isin()\")\n",
    "print( homelessness[\"region\"].isin([\"New England\",\"Pacific\"]) )\n",
    "\n",
    "print(\"----Extraer filas de un Data Frame usando Serie de Pandas de Booleanos y .isin()\")\n",
    "condicion = homelessness[\"region\"].isin([\"New England\",\"Pacific\"])\n",
    "print(homelessness[condicion])\n"
   ]
  },
  {
   "cell_type": "markdown",
   "id": "ceb768d3-558d-4d05-b1f6-7a96b0254eb8",
   "metadata": {
    "tags": []
   },
   "source": [
    "## Sorting rows 100 xp"
   ]
  },
  {
   "cell_type": "raw",
   "id": "d2933233-f5b4-41cb-a2c4-9ad285e29c3d",
   "metadata": {},
   "source": [
    "Sorting rows\n",
    "\n",
    "Finding interesting bits of data in a DataFrame is often easier if you change the order of the rows. \n",
    "You can sort the rows by passing a column name to .sort_values().\n",
    "\n",
    "In cases where rows have the same value (this is common if you sort on a categorical variable), you may wish to break the ties by sorting on another column. You can sort on multiple columns in this way by passing a list of column names.\n",
    "\n",
    "Sort on …               \tSyntax\n",
    "     one column         \tdf.sort_values(\"breed\")\n",
    "     multiple columns   \tdf.sort_values([\"breed\", \"weight_kg\"])\n",
    "\n",
    "By combining .sort_values() with .head(), you can answer questions in the form, \"What are the top cases where…?\"."
   ]
  },
  {
   "cell_type": "raw",
   "id": "ebd755ce-3473-4633-a794-493aebc487cc",
   "metadata": {},
   "source": [
    "Instructions 1/3\n",
    "100 XP\n",
    "Sort homelessness by the number of homeless individuals, from smallest to largest, and save this as homelessness_ind.\n",
    "Print the head of the sorted DataFrame.\n",
    "\n",
    "Hint\n",
    "Pass the name of the column that you want to sort on into .sort_values() as a string.\n",
    "You can use .head() to get the first few rows of a DataFrame."
   ]
  },
  {
   "cell_type": "code",
   "execution_count": 10,
   "id": "66f02f98-0f51-4a7c-8285-23b0b7f300f1",
   "metadata": {},
   "outputs": [
    {
     "name": "stdout",
     "output_type": "stream",
     "text": [
      "    Unnamed: 0              region         state  individuals  family_members  \\\n",
      "50          50            Mountain       Wyoming        434.0           205.0   \n",
      "34          34  West North Central  North Dakota        467.0            75.0   \n",
      "7            7      South Atlantic      Delaware        708.0           374.0   \n",
      "39          39         New England  Rhode Island        747.0           354.0   \n",
      "45          45         New England       Vermont        780.0           511.0   \n",
      "\n",
      "    state_pop  \n",
      "50     577601  \n",
      "34     758080  \n",
      "7      965479  \n",
      "39    1058287  \n",
      "45     624358  \n"
     ]
    }
   ],
   "source": [
    "print(homelessness.sort_values(\"individuals\",ascending=True).head())"
   ]
  },
  {
   "cell_type": "raw",
   "id": "506b57a7-4a95-4a48-83e5-3abb7e0a4b4c",
   "metadata": {},
   "source": [
    "Instructions 2/3\n",
    "35 XP\n",
    "Sort homelessness by the number of homeless family_members in descending order, and save this as homelessness_fam.\n",
    "Print the head of the sorted DataFrame.\n",
    "\n",
    "\n",
    "Show Answer (-24 XP)\n",
    "Hint\n",
    "You can use the ascending argument of .sort_values() to pick the direction of sorting."
   ]
  },
  {
   "cell_type": "code",
   "execution_count": 11,
   "id": "51ba0f80-abcf-45a4-9803-4968911bc7c2",
   "metadata": {},
   "outputs": [
    {
     "name": "stdout",
     "output_type": "stream",
     "text": [
      "    Unnamed: 0              region          state  individuals  \\\n",
      "32          32        Mid-Atlantic       New York      39827.0   \n",
      "4            4             Pacific     California     109008.0   \n",
      "21          21         New England  Massachusetts       6811.0   \n",
      "9            9      South Atlantic        Florida      21443.0   \n",
      "43          43  West South Central          Texas      19199.0   \n",
      "\n",
      "    family_members  state_pop  \n",
      "32         52070.0   19530351  \n",
      "4          20964.0   39461588  \n",
      "21         13257.0    6882635  \n",
      "9           9587.0   21244317  \n",
      "43          6111.0   28628666  \n"
     ]
    }
   ],
   "source": [
    "homelessness_fam = homelessness.sort_values(\"family_members\",ascending=False)\n",
    "print(homelessness_fam.head())"
   ]
  },
  {
   "cell_type": "raw",
   "id": "72f0cc82-fdb5-4ea1-baf2-370383d14b53",
   "metadata": {},
   "source": [
    "Instructions 2/3}\n",
    "21 XP\n",
    "Sort homelessness first by region (ascending), and then by number of family members (descending). Save this as homelessness_reg_fam.\n",
    "Print the head of the sorted DataFrame.\n",
    "\n",
    "\n",
    "Show Answer (-21 XP)\n",
    "Hint\n",
    "Call .sort_values(), passing in a list of column names and setting ascending to a list of Booleans.\n",
    "Call .head() to get the top few rows."
   ]
  },
  {
   "cell_type": "code",
   "execution_count": 12,
   "id": "e6705dce-fd54-45ec-8e2e-fa2fde0edaca",
   "metadata": {},
   "outputs": [
    {
     "name": "stdout",
     "output_type": "stream",
     "text": [
      "    Unnamed: 0              region      state  individuals  family_members  \\\n",
      "13          13  East North Central   Illinois       6752.0          3891.0   \n",
      "35          35  East North Central       Ohio       6929.0          3320.0   \n",
      "22          22  East North Central   Michigan       5209.0          3142.0   \n",
      "49          49  East North Central  Wisconsin       2740.0          2167.0   \n",
      "14          14  East North Central    Indiana       3776.0          1482.0   \n",
      "\n",
      "    state_pop  \n",
      "13   12723071  \n",
      "35   11676341  \n",
      "22    9984072  \n",
      "49    5807406  \n",
      "14    6695497  \n"
     ]
    }
   ],
   "source": [
    "homelessness_reg_fam = homelessness.sort_values([\"region\",\"family_members\"],ascending=[True,False])\n",
    "print(homelessness_reg_fam.head())"
   ]
  },
  {
   "cell_type": "markdown",
   "id": "acb7892f-00ae-492f-9cb4-05f109207625",
   "metadata": {},
   "source": [
    "# Subsetting columns 100 xp"
   ]
  },
  {
   "cell_type": "raw",
   "id": "56988171-c7ab-424a-98bf-4ad83a5d0e0b",
   "metadata": {},
   "source": [
    "Subsetting columns\n",
    "\n",
    "When working with data, you may not need all of the variables in your dataset. \n",
    "Square brackets ([]) can be used to select only the columns that matter to you in an order that makes sense to you. \n",
    "\n",
    "To select only \"col_a\" of the DataFrame df, use df[\"col_a\"]\n",
    "To select \"col_a\" and \"col_b\" of df, use        df[[\"col_a\", \"col_b\"]]"
   ]
  },
  {
   "cell_type": "raw",
   "id": "f6f290b6-a028-4254-8f68-9ae1d17897be",
   "metadata": {},
   "source": [
    "Instructions 1/3\n",
    "35 XP\n",
    "1\n",
    "Create a DataFrame called individuals that contains only the individuals column of homelessness.\n",
    "Print the head of the result."
   ]
  },
  {
   "cell_type": "code",
   "execution_count": 13,
   "id": "9f120024-1b0c-46ff-b1fe-81b89777c1eb",
   "metadata": {},
   "outputs": [
    {
     "name": "stdout",
     "output_type": "stream",
     "text": [
      "0      2570.0\n",
      "1      1434.0\n",
      "2      7259.0\n",
      "3      2280.0\n",
      "4    109008.0\n",
      "Name: individuals, dtype: float64\n"
     ]
    }
   ],
   "source": [
    "individuals = homelessness[\"individuals\"]\n",
    "print(individuals.head())"
   ]
  },
  {
   "cell_type": "raw",
   "id": "6574e841-6b17-40f2-af80-baaa7b67524e",
   "metadata": {},
   "source": [
    "Instructions 2/3\n",
    "35 XP\n",
    "2\n",
    "Create a DataFrame called state_fam that contains only the state and family_members columns of homelessness, in that order.\n",
    "Print the head of the result.\n"
   ]
  },
  {
   "cell_type": "code",
   "execution_count": 14,
   "id": "c04cfd40-568e-4705-a1fa-4e294207657e",
   "metadata": {},
   "outputs": [
    {
     "name": "stdout",
     "output_type": "stream",
     "text": [
      "        state  family_members\n",
      "0     Alabama           864.0\n",
      "1      Alaska           582.0\n",
      "2     Arizona          2606.0\n",
      "3    Arkansas           432.0\n",
      "4  California         20964.0\n"
     ]
    }
   ],
   "source": [
    "state_fam = homelessness[[\"state\",\"family_members\"]]\n",
    "print(state_fam.head())"
   ]
  },
  {
   "cell_type": "raw",
   "id": "f7a6a503-7b78-4af3-af09-5b2c5fb05435",
   "metadata": {},
   "source": [
    "Instructions 3/3\n",
    "30 XP\n",
    "3\n",
    "Create a DataFrame called ind_state that contains the individuals and state columns of homelessness, in that order.\n",
    "Print the head of the result."
   ]
  },
  {
   "cell_type": "code",
   "execution_count": 15,
   "id": "05747785-89f8-4010-bd5f-d76c98840137",
   "metadata": {},
   "outputs": [
    {
     "name": "stdout",
     "output_type": "stream",
     "text": [
      "   individuals       state\n",
      "0       2570.0     Alabama\n",
      "1       1434.0      Alaska\n",
      "2       7259.0     Arizona\n",
      "3       2280.0    Arkansas\n",
      "4     109008.0  California\n"
     ]
    }
   ],
   "source": [
    "ind_state = homelessness[[\"individuals\",\"state\"]]\n",
    "print(ind_state.head())"
   ]
  },
  {
   "cell_type": "markdown",
   "id": "2cfbd536-5125-4f59-98ad-d7c305287c69",
   "metadata": {},
   "source": [
    "# Subsetting rows 100 xp"
   ]
  },
  {
   "cell_type": "raw",
   "id": "0a713204-540c-42c6-9935-9ca5b1fecac7",
   "metadata": {},
   "source": [
    "Subsetting rows\n",
    "A large part of data science is about finding which bits of your dataset are interesting. \n",
    "One of the simplest techniques for this is to find a subset of rows that match some criteria. \n",
    "This is sometimes known as filtering rows or selecting rows.\n",
    "\n",
    "There are many ways to subset a DataFrame, perhaps the most common is to use relational operators to return True or False for each row, \n",
    "then pass that inside square brackets.\n",
    "\n",
    "    dogs[dogs[\"height_cm\"] > 60]\n",
    "    dogs[dogs[\"color\"] == \"tan\"]\n",
    "\n",
    "You can filter for multiple conditions at once by using the \"bitwise and\" operator, &.\n",
    "\n",
    "dogs[(dogs[\"height_cm\"] > 60) & (dogs[\"color\"] == \"tan\")]"
   ]
  },
  {
   "cell_type": "raw",
   "id": "cb3e7f15-5d6f-45b3-b73e-6e5194f376e2",
   "metadata": {},
   "source": [
    "Instructions 1/3\n",
    "35 XP\n",
    "1\n",
    "Filter homelessness for cases where the number of individuals is greater than ten thousand, assigning to ind_gt_10k. View the printed result."
   ]
  },
  {
   "cell_type": "code",
   "execution_count": 16,
   "id": "8842009e-4582-4fb1-bc60-68f252db2e71",
   "metadata": {},
   "outputs": [
    {
     "name": "stdout",
     "output_type": "stream",
     "text": [
      "    Unnamed: 0              region       state  individuals  family_members  \\\n",
      "4            4             Pacific  California     109008.0         20964.0   \n",
      "9            9      South Atlantic     Florida      21443.0          9587.0   \n",
      "32          32        Mid-Atlantic    New York      39827.0         52070.0   \n",
      "37          37             Pacific      Oregon      11139.0          3337.0   \n",
      "43          43  West South Central       Texas      19199.0          6111.0   \n",
      "47          47             Pacific  Washington      16424.0          5880.0   \n",
      "\n",
      "    state_pop  \n",
      "4    39461588  \n",
      "9    21244317  \n",
      "32   19530351  \n",
      "37    4181886  \n",
      "43   28628666  \n",
      "47    7523869  \n"
     ]
    }
   ],
   "source": [
    "ind_gt_10k = homelessness[homelessness[\"individuals\"] > 10000]\n",
    "print(ind_gt_10k)"
   ]
  },
  {
   "cell_type": "raw",
   "id": "f346d798-9f06-42ef-8dbf-ae65e5b99e3f",
   "metadata": {},
   "source": [
    "Instructions 2/3\n",
    "35 XP\n",
    "2\n",
    "Filter homelessness for cases where the USA Census region is \"Mountain\", assigning to mountain_reg. View the printed result."
   ]
  },
  {
   "cell_type": "code",
   "execution_count": 17,
   "id": "f5e40165-5d27-4b14-9c18-25861606d21a",
   "metadata": {},
   "outputs": [
    {
     "name": "stdout",
     "output_type": "stream",
     "text": [
      "    Unnamed: 0    region       state  individuals  family_members  state_pop\n",
      "2            2  Mountain     Arizona       7259.0          2606.0    7158024\n",
      "5            5  Mountain    Colorado       7607.0          3250.0    5691287\n",
      "12          12  Mountain       Idaho       1297.0           715.0    1750536\n",
      "26          26  Mountain     Montana        983.0           422.0    1060665\n",
      "28          28  Mountain      Nevada       7058.0           486.0    3027341\n",
      "31          31  Mountain  New Mexico       1949.0           602.0    2092741\n",
      "44          44  Mountain        Utah       1904.0           972.0    3153550\n",
      "50          50  Mountain     Wyoming        434.0           205.0     577601\n"
     ]
    }
   ],
   "source": [
    "mountain_reg = homelessness[homelessness[\"region\"] == \"Mountain\"]\n",
    "print(mountain_reg)"
   ]
  },
  {
   "cell_type": "raw",
   "id": "cd9dd8ef-d47b-471c-98d9-abbcce6ee888",
   "metadata": {},
   "source": [
    "Instructions 3/3\n",
    "30 XP\n",
    "3\n",
    "Filter homelessness for cases where the number of family_members is less than one thousand and the region is \"Pacific\", \n",
    "assigning to fam_lt_1k_pac. View the printed result."
   ]
  },
  {
   "cell_type": "code",
   "execution_count": 24,
   "id": "29ed6733-b1fa-4f3b-aef0-8cd6ba9606e0",
   "metadata": {},
   "outputs": [
    {
     "name": "stdout",
     "output_type": "stream",
     "text": [
      "   Unnamed: 0   region   state  individuals  family_members  state_pop\n",
      "1           1  Pacific  Alaska       1434.0           582.0     735139\n"
     ]
    }
   ],
   "source": [
    "fam_lt_1k_pac = homelessness[ (homelessness[\"family_members\"] < 1000) & (homelessness[\"region\"] == \"Pacific\") ]\n",
    "print(fam_lt_1k_pac)"
   ]
  },
  {
   "cell_type": "markdown",
   "id": "07b4a7cb-992d-412a-b980-67b8dbfcfc78",
   "metadata": {},
   "source": [
    "# Subsetting rows by categorical variables 100 xp"
   ]
  },
  {
   "cell_type": "raw",
   "id": "e0c04a33-872a-4c66-a0c1-cbd41086653c",
   "metadata": {},
   "source": [
    "Subsetting rows by categorical variables\n",
    "Subsetting data based on a categorical variable often involves using the \"or\" operator (|) to select rows from multiple categories.\n",
    "This can get tedious when you want all states in one of three different regions, for example. \n",
    "Instead, use the .isin() method, which will allow you to tackle this problem by writing one condition instead of three separate ones.\n",
    "\n",
    "colors = [\"brown\", \"black\", \"tan\"]\n",
    "condition = dogs[\"color\"].isin(colors)\n",
    "dogs[condition]"
   ]
  },
  {
   "cell_type": "raw",
   "id": "c08b1af7-b3c2-4e27-82f9-f7f32fadbfcb",
   "metadata": {},
   "source": [
    "Instructions 1/2\n",
    "50 XP\n",
    "1\n",
    "Filter homelessness for cases where the USA census region is \"South Atlantic\" or it is \"Mid-Atlantic\", assigning to south_mid_atlantic. \n",
    "View the printed result."
   ]
  },
  {
   "cell_type": "code",
   "execution_count": 25,
   "id": "ffb874cd-bb7b-44dd-b9ec-7947d67a93f9",
   "metadata": {},
   "outputs": [
    {
     "name": "stdout",
     "output_type": "stream",
     "text": [
      "    Unnamed: 0          region                 state  individuals  \\\n",
      "7            7  South Atlantic              Delaware        708.0   \n",
      "8            8  South Atlantic  District of Columbia       3770.0   \n",
      "9            9  South Atlantic               Florida      21443.0   \n",
      "10          10  South Atlantic               Georgia       6943.0   \n",
      "20          20  South Atlantic              Maryland       4914.0   \n",
      "30          30    Mid-Atlantic            New Jersey       6048.0   \n",
      "32          32    Mid-Atlantic              New York      39827.0   \n",
      "33          33  South Atlantic        North Carolina       6451.0   \n",
      "38          38    Mid-Atlantic          Pennsylvania       8163.0   \n",
      "40          40  South Atlantic        South Carolina       3082.0   \n",
      "46          46  South Atlantic              Virginia       3928.0   \n",
      "48          48  South Atlantic         West Virginia       1021.0   \n",
      "\n",
      "    family_members  state_pop  \n",
      "7            374.0     965479  \n",
      "8           3134.0     701547  \n",
      "9           9587.0   21244317  \n",
      "10          2556.0   10511131  \n",
      "20          2230.0    6035802  \n",
      "30          3350.0    8886025  \n",
      "32         52070.0   19530351  \n",
      "33          2817.0   10381615  \n",
      "38          5349.0   12800922  \n",
      "40           851.0    5084156  \n",
      "46          2047.0    8501286  \n",
      "48           222.0    1804291  \n"
     ]
    }
   ],
   "source": [
    "boleanos = homelessness[\"region\"].isin([\"South Atlantic\",\"Mid-Atlantic\"])\n",
    "south_mid_atlantic = homelessness[boleanos]\n",
    "print(south_mid_atlantic)"
   ]
  },
  {
   "cell_type": "raw",
   "id": "77e9d6cd-d761-4288-afa6-b8c2bab932c7",
   "metadata": {},
   "source": [
    "Instructions 2/2\n",
    "50 XP\n",
    "2\n",
    "Filter homelessness for cases where the USA census state is in the list of Mojave states, canu = [\"California\", \"Arizona\", \"Nevada\", \"Utah\"], \n",
    "assigning to mojave_homelessness. \n",
    "View the printed result."
   ]
  },
  {
   "cell_type": "code",
   "execution_count": 26,
   "id": "d5489eca-0e31-4e74-9e1e-8132ac745953",
   "metadata": {},
   "outputs": [
    {
     "name": "stdout",
     "output_type": "stream",
     "text": [
      "    Unnamed: 0    region       state  individuals  family_members  state_pop\n",
      "2            2  Mountain     Arizona       7259.0          2606.0    7158024\n",
      "4            4   Pacific  California     109008.0         20964.0   39461588\n",
      "28          28  Mountain      Nevada       7058.0           486.0    3027341\n",
      "44          44  Mountain        Utah       1904.0           972.0    3153550\n"
     ]
    }
   ],
   "source": [
    "canu = [\"California\", \"Arizona\", \"Nevada\", \"Utah\"]\n",
    "boleanos = homelessness[\"state\"].isin(canu)\n",
    "mojave_homelessness = homelessness[boleanos]\n",
    "print(mojave_homelessness)"
   ]
  },
  {
   "cell_type": "markdown",
   "id": "affa778d-ca6e-4d1e-bdae-674b0f4a1a7e",
   "metadata": {},
   "source": [
    "# New columns (Video) 50 xp\n"
   ]
  },
  {
   "cell_type": "code",
   "execution_count": 27,
   "id": "53773ccc-bf84-445f-b9e4-8942cf1d316a",
   "metadata": {},
   "outputs": [
    {
     "name": "stdout",
     "output_type": "stream",
     "text": [
      "----Crear una columna a partir de otra columna existente\n",
      "    Unnamed: 0              region                 state  individuals  \\\n",
      "0            0  East South Central               Alabama       2570.0   \n",
      "1            1             Pacific                Alaska       1434.0   \n",
      "2            2            Mountain               Arizona       7259.0   \n",
      "3            3  West South Central              Arkansas       2280.0   \n",
      "4            4             Pacific            California     109008.0   \n",
      "5            5            Mountain              Colorado       7607.0   \n",
      "6            6         New England           Connecticut       2280.0   \n",
      "7            7      South Atlantic              Delaware        708.0   \n",
      "8            8      South Atlantic  District of Columbia       3770.0   \n",
      "9            9      South Atlantic               Florida      21443.0   \n",
      "10          10      South Atlantic               Georgia       6943.0   \n",
      "11          11             Pacific                Hawaii       4131.0   \n",
      "12          12            Mountain                 Idaho       1297.0   \n",
      "13          13  East North Central              Illinois       6752.0   \n",
      "14          14  East North Central               Indiana       3776.0   \n",
      "15          15  West North Central                  Iowa       1711.0   \n",
      "16          16  West North Central                Kansas       1443.0   \n",
      "17          17  East South Central              Kentucky       2735.0   \n",
      "18          18  West South Central             Louisiana       2540.0   \n",
      "19          19         New England                 Maine       1450.0   \n",
      "20          20      South Atlantic              Maryland       4914.0   \n",
      "21          21         New England         Massachusetts       6811.0   \n",
      "22          22  East North Central              Michigan       5209.0   \n",
      "23          23  West North Central             Minnesota       3993.0   \n",
      "24          24  East South Central           Mississippi       1024.0   \n",
      "25          25  West North Central              Missouri       3776.0   \n",
      "26          26            Mountain               Montana        983.0   \n",
      "27          27  West North Central              Nebraska       1745.0   \n",
      "28          28            Mountain                Nevada       7058.0   \n",
      "29          29         New England         New Hampshire        835.0   \n",
      "30          30        Mid-Atlantic            New Jersey       6048.0   \n",
      "31          31            Mountain            New Mexico       1949.0   \n",
      "32          32        Mid-Atlantic              New York      39827.0   \n",
      "33          33      South Atlantic        North Carolina       6451.0   \n",
      "34          34  West North Central          North Dakota        467.0   \n",
      "35          35  East North Central                  Ohio       6929.0   \n",
      "36          36  West South Central              Oklahoma       2823.0   \n",
      "37          37             Pacific                Oregon      11139.0   \n",
      "38          38        Mid-Atlantic          Pennsylvania       8163.0   \n",
      "39          39         New England          Rhode Island        747.0   \n",
      "40          40      South Atlantic        South Carolina       3082.0   \n",
      "41          41  West North Central          South Dakota        836.0   \n",
      "42          42  East South Central             Tennessee       6139.0   \n",
      "43          43  West South Central                 Texas      19199.0   \n",
      "44          44            Mountain                  Utah       1904.0   \n",
      "45          45         New England               Vermont        780.0   \n",
      "46          46      South Atlantic              Virginia       3928.0   \n",
      "47          47             Pacific            Washington      16424.0   \n",
      "48          48      South Atlantic         West Virginia       1021.0   \n",
      "49          49  East North Central             Wisconsin       2740.0   \n",
      "50          50            Mountain               Wyoming        434.0   \n",
      "\n",
      "    family_members  state_pop  state_pop__millions  \n",
      "0            864.0    4887681             48.87681  \n",
      "1            582.0     735139              7.35139  \n",
      "2           2606.0    7158024             71.58024  \n",
      "3            432.0    3009733             30.09733  \n",
      "4          20964.0   39461588            394.61588  \n",
      "5           3250.0    5691287             56.91287  \n",
      "6           1696.0    3571520             35.71520  \n",
      "7            374.0     965479              9.65479  \n",
      "8           3134.0     701547              7.01547  \n",
      "9           9587.0   21244317            212.44317  \n",
      "10          2556.0   10511131            105.11131  \n",
      "11          2399.0    1420593             14.20593  \n",
      "12           715.0    1750536             17.50536  \n",
      "13          3891.0   12723071            127.23071  \n",
      "14          1482.0    6695497             66.95497  \n",
      "15          1038.0    3148618             31.48618  \n",
      "16           773.0    2911359             29.11359  \n",
      "17           953.0    4461153             44.61153  \n",
      "18           519.0    4659690             46.59690  \n",
      "19          1066.0    1339057             13.39057  \n",
      "20          2230.0    6035802             60.35802  \n",
      "21         13257.0    6882635             68.82635  \n",
      "22          3142.0    9984072             99.84072  \n",
      "23          3250.0    5606249             56.06249  \n",
      "24           328.0    2981020             29.81020  \n",
      "25          2107.0    6121623             61.21623  \n",
      "26           422.0    1060665             10.60665  \n",
      "27           676.0    1925614             19.25614  \n",
      "28           486.0    3027341             30.27341  \n",
      "29           615.0    1353465             13.53465  \n",
      "30          3350.0    8886025             88.86025  \n",
      "31           602.0    2092741             20.92741  \n",
      "32         52070.0   19530351            195.30351  \n",
      "33          2817.0   10381615            103.81615  \n",
      "34            75.0     758080              7.58080  \n",
      "35          3320.0   11676341            116.76341  \n",
      "36          1048.0    3940235             39.40235  \n",
      "37          3337.0    4181886             41.81886  \n",
      "38          5349.0   12800922            128.00922  \n",
      "39           354.0    1058287             10.58287  \n",
      "40           851.0    5084156             50.84156  \n",
      "41           323.0     878698              8.78698  \n",
      "42          1744.0    6771631             67.71631  \n",
      "43          6111.0   28628666            286.28666  \n",
      "44           972.0    3153550             31.53550  \n",
      "45           511.0     624358              6.24358  \n",
      "46          2047.0    8501286             85.01286  \n",
      "47          5880.0    7523869             75.23869  \n",
      "48           222.0    1804291             18.04291  \n",
      "49          2167.0    5807406             58.07406  \n",
      "50           205.0     577601              5.77601  \n"
     ]
    }
   ],
   "source": [
    "# ADDING A NEW COLUMN \n",
    "\n",
    "print(\"----Crear una columna a partir de otra columna existente\")\n",
    "homelessness[\"state_pop__millions\"] = homelessness[\"state_pop\"]/100000\n",
    "print(homelessness)"
   ]
  },
  {
   "cell_type": "markdown",
   "id": "3e0a995d-ec58-41a8-a019-1ae0615eb78f",
   "metadata": {},
   "source": [
    "# Adding new columns 100 xp"
   ]
  },
  {
   "cell_type": "raw",
   "id": "1268806b-2366-456f-8744-fb20adeb0850",
   "metadata": {},
   "source": [
    "Adding new columns\n",
    "You aren't stuck with just the data you are given. \n",
    "Instead, you can add new columns to a DataFrame. \n",
    "This has many names, such as transforming, mutating, and feature engineering.\n",
    "\n",
    "You can create new columns from scratch, but it is also common to derive them from other columns, \n",
    "for example, by adding columns together or by changing their units."
   ]
  },
  {
   "cell_type": "raw",
   "id": "45ae7bb1-2d64-43ab-99d0-5d78c9159952",
   "metadata": {},
   "source": [
    "Instructions\n",
    "100 XP\n",
    "Add a new column to homelessness, named total, containing the sum of the individuals and family_members columns.\n",
    "Add another column to homelessness, named p_individuals, containing the proportion of homeless people in each state who are individuals."
   ]
  },
  {
   "cell_type": "code",
   "execution_count": 28,
   "id": "b10fff75-b68e-4cc8-abf3-829d312de9db",
   "metadata": {},
   "outputs": [
    {
     "name": "stdout",
     "output_type": "stream",
     "text": [
      "    Unnamed: 0              region                 state  individuals  \\\n",
      "0            0  East South Central               Alabama       2570.0   \n",
      "1            1             Pacific                Alaska       1434.0   \n",
      "2            2            Mountain               Arizona       7259.0   \n",
      "3            3  West South Central              Arkansas       2280.0   \n",
      "4            4             Pacific            California     109008.0   \n",
      "5            5            Mountain              Colorado       7607.0   \n",
      "6            6         New England           Connecticut       2280.0   \n",
      "7            7      South Atlantic              Delaware        708.0   \n",
      "8            8      South Atlantic  District of Columbia       3770.0   \n",
      "9            9      South Atlantic               Florida      21443.0   \n",
      "10          10      South Atlantic               Georgia       6943.0   \n",
      "11          11             Pacific                Hawaii       4131.0   \n",
      "12          12            Mountain                 Idaho       1297.0   \n",
      "13          13  East North Central              Illinois       6752.0   \n",
      "14          14  East North Central               Indiana       3776.0   \n",
      "15          15  West North Central                  Iowa       1711.0   \n",
      "16          16  West North Central                Kansas       1443.0   \n",
      "17          17  East South Central              Kentucky       2735.0   \n",
      "18          18  West South Central             Louisiana       2540.0   \n",
      "19          19         New England                 Maine       1450.0   \n",
      "20          20      South Atlantic              Maryland       4914.0   \n",
      "21          21         New England         Massachusetts       6811.0   \n",
      "22          22  East North Central              Michigan       5209.0   \n",
      "23          23  West North Central             Minnesota       3993.0   \n",
      "24          24  East South Central           Mississippi       1024.0   \n",
      "25          25  West North Central              Missouri       3776.0   \n",
      "26          26            Mountain               Montana        983.0   \n",
      "27          27  West North Central              Nebraska       1745.0   \n",
      "28          28            Mountain                Nevada       7058.0   \n",
      "29          29         New England         New Hampshire        835.0   \n",
      "30          30        Mid-Atlantic            New Jersey       6048.0   \n",
      "31          31            Mountain            New Mexico       1949.0   \n",
      "32          32        Mid-Atlantic              New York      39827.0   \n",
      "33          33      South Atlantic        North Carolina       6451.0   \n",
      "34          34  West North Central          North Dakota        467.0   \n",
      "35          35  East North Central                  Ohio       6929.0   \n",
      "36          36  West South Central              Oklahoma       2823.0   \n",
      "37          37             Pacific                Oregon      11139.0   \n",
      "38          38        Mid-Atlantic          Pennsylvania       8163.0   \n",
      "39          39         New England          Rhode Island        747.0   \n",
      "40          40      South Atlantic        South Carolina       3082.0   \n",
      "41          41  West North Central          South Dakota        836.0   \n",
      "42          42  East South Central             Tennessee       6139.0   \n",
      "43          43  West South Central                 Texas      19199.0   \n",
      "44          44            Mountain                  Utah       1904.0   \n",
      "45          45         New England               Vermont        780.0   \n",
      "46          46      South Atlantic              Virginia       3928.0   \n",
      "47          47             Pacific            Washington      16424.0   \n",
      "48          48      South Atlantic         West Virginia       1021.0   \n",
      "49          49  East North Central             Wisconsin       2740.0   \n",
      "50          50            Mountain               Wyoming        434.0   \n",
      "\n",
      "    family_members  state_pop  state_pop__millions     total  p_individuals  \n",
      "0            864.0    4887681             48.87681    3434.0       0.748398  \n",
      "1            582.0     735139              7.35139    2016.0       0.711310  \n",
      "2           2606.0    7158024             71.58024    9865.0       0.735834  \n",
      "3            432.0    3009733             30.09733    2712.0       0.840708  \n",
      "4          20964.0   39461588            394.61588  129972.0       0.838704  \n",
      "5           3250.0    5691287             56.91287   10857.0       0.700654  \n",
      "6           1696.0    3571520             35.71520    3976.0       0.573441  \n",
      "7            374.0     965479              9.65479    1082.0       0.654344  \n",
      "8           3134.0     701547              7.01547    6904.0       0.546060  \n",
      "9           9587.0   21244317            212.44317   31030.0       0.691041  \n",
      "10          2556.0   10511131            105.11131    9499.0       0.730919  \n",
      "11          2399.0    1420593             14.20593    6530.0       0.632619  \n",
      "12           715.0    1750536             17.50536    2012.0       0.644632  \n",
      "13          3891.0   12723071            127.23071   10643.0       0.634408  \n",
      "14          1482.0    6695497             66.95497    5258.0       0.718144  \n",
      "15          1038.0    3148618             31.48618    2749.0       0.622408  \n",
      "16           773.0    2911359             29.11359    2216.0       0.651173  \n",
      "17           953.0    4461153             44.61153    3688.0       0.741594  \n",
      "18           519.0    4659690             46.59690    3059.0       0.830337  \n",
      "19          1066.0    1339057             13.39057    2516.0       0.576312  \n",
      "20          2230.0    6035802             60.35802    7144.0       0.687850  \n",
      "21         13257.0    6882635             68.82635   20068.0       0.339396  \n",
      "22          3142.0    9984072             99.84072    8351.0       0.623758  \n",
      "23          3250.0    5606249             56.06249    7243.0       0.551291  \n",
      "24           328.0    2981020             29.81020    1352.0       0.757396  \n",
      "25          2107.0    6121623             61.21623    5883.0       0.641849  \n",
      "26           422.0    1060665             10.60665    1405.0       0.699644  \n",
      "27           676.0    1925614             19.25614    2421.0       0.720777  \n",
      "28           486.0    3027341             30.27341    7544.0       0.935578  \n",
      "29           615.0    1353465             13.53465    1450.0       0.575862  \n",
      "30          3350.0    8886025             88.86025    9398.0       0.643541  \n",
      "31           602.0    2092741             20.92741    2551.0       0.764014  \n",
      "32         52070.0   19530351            195.30351   91897.0       0.433387  \n",
      "33          2817.0   10381615            103.81615    9268.0       0.696051  \n",
      "34            75.0     758080              7.58080     542.0       0.861624  \n",
      "35          3320.0   11676341            116.76341   10249.0       0.676066  \n",
      "36          1048.0    3940235             39.40235    3871.0       0.729269  \n",
      "37          3337.0    4181886             41.81886   14476.0       0.769481  \n",
      "38          5349.0   12800922            128.00922   13512.0       0.604130  \n",
      "39           354.0    1058287             10.58287    1101.0       0.678474  \n",
      "40           851.0    5084156             50.84156    3933.0       0.783626  \n",
      "41           323.0     878698              8.78698    1159.0       0.721311  \n",
      "42          1744.0    6771631             67.71631    7883.0       0.778764  \n",
      "43          6111.0   28628666            286.28666   25310.0       0.758554  \n",
      "44           972.0    3153550             31.53550    2876.0       0.662031  \n",
      "45           511.0     624358              6.24358    1291.0       0.604183  \n",
      "46          2047.0    8501286             85.01286    5975.0       0.657406  \n",
      "47          5880.0    7523869             75.23869   22304.0       0.736370  \n",
      "48           222.0    1804291             18.04291    1243.0       0.821400  \n",
      "49          2167.0    5807406             58.07406    4907.0       0.558386  \n",
      "50           205.0     577601              5.77601     639.0       0.679186  \n"
     ]
    }
   ],
   "source": [
    "homelessness[\"total\"] = homelessness[\"individuals\"] + homelessness[\"family_members\"]\n",
    "homelessness[\"p_individuals\"] = homelessness[\"individuals\"] / homelessness[\"total\"]\n",
    "print(homelessness)"
   ]
  },
  {
   "cell_type": "markdown",
   "id": "019d8e7d-f6ab-45b6-99cd-ed93055fe449",
   "metadata": {},
   "source": [
    "# Combo-attack! 100 xp"
   ]
  },
  {
   "cell_type": "raw",
   "id": "3198b8e0-7609-420c-9f28-672151932f54",
   "metadata": {},
   "source": [
    "Combo-attack!\n",
    "You've seen the four most common types of data manipulation: \n",
    "    sorting rows\n",
    "    subsetting columns\n",
    "    subsetting rows\n",
    "    adding new columns. \n",
    "In a real-life data analysis, you can mix and match these four manipulations to answer a multitude of questions.\n",
    "\n",
    "In this exercise, you'll answer the question: \n",
    "\"Which state has the highest number of homeless individuals per 10,000 people in the state?\" \n",
    "Combine your new pandas skills to find out."
   ]
  },
  {
   "cell_type": "raw",
   "id": "d798dd56-ad3d-4e47-87a0-77e9dd294a23",
   "metadata": {},
   "source": [
    "Instructions\n",
    "70 XP\n",
    "\n",
    "Add a column to homelessness, indiv_per_10k, containing the number of homeless individuals per ten thousand people in each state.\n",
    "Subset rows where indiv_per_10k is higher than 20, assigning to high_homelessness.\n",
    "Sort high_homelessness by descending indiv_per_10k, assigning to high_homelessness_srt.\n",
    "Select only the state and indiv_per_10k columns of high_homelessness_srt and save as result. Look at the result.\n",
    "\n",
    "\n",
    "Show Answer (-70 XP)\n",
    "Hint\n",
    "To add a column, use syntax like df[\"new_col\"] = df[\"col_a\"] / df[\"col_b\"].\n",
    "To filter rows, use syntax like df[df[\"col\"] > n].\n",
    "To sort rows, use syntax like df.sort_values(\"col\", ascending=False).\n",
    "To select columns, use syntax like df[[\"col_a\", \"col_b\"]]."
   ]
  },
  {
   "cell_type": "code",
   "execution_count": 29,
   "id": "f7fd9ff2-aa51-4319-b9e6-3a3a6268a854",
   "metadata": {},
   "outputs": [
    {
     "name": "stdout",
     "output_type": "stream",
     "text": [
      "                   state  indiv_per_10k\n",
      "8   District of Columbia      53.738381\n",
      "11                Hawaii      29.079406\n",
      "4             California      27.623825\n",
      "37                Oregon      26.636307\n",
      "28                Nevada      23.314189\n",
      "47            Washington      21.829195\n",
      "32              New York      20.392363\n"
     ]
    }
   ],
   "source": [
    "homelessness[\"indiv_per_10k\"] = 10000 * homelessness[\"individuals\"]/homelessness[\"state_pop\"]\n",
    "\n",
    "high_homelessness = homelessness[ homelessness[\"indiv_per_10k\"] > 20 ] \n",
    "\n",
    "high_homelessness_srt = high_homelessness.sort_values(\"indiv_per_10k\",ascending=False)\n",
    "\n",
    "result = high_homelessness_srt[ [\"state\",\"indiv_per_10k\"] ]\n",
    "\n",
    "print(result)"
   ]
  },
  {
   "cell_type": "markdown",
   "id": "84021b9b-e65c-4946-99f5-4d26edd563cb",
   "metadata": {},
   "source": [
    "# <span style=\"color:red\"> Chapter 2 Aggregating DataFrames </span>"
   ]
  },
  {
   "cell_type": "raw",
   "id": "ac522214-5291-440f-88bf-4e9753eeccf7",
   "metadata": {},
   "source": [
    "In this chapter, you’ll calculate summary statistics on DataFrame columns, and master grouped summary statistics and pivot tables.\n",
    "\n",
    "Summary statistics (Video) 50 XP\n",
    "\n",
    "Mean and median 100 XP\n",
    "\n",
    "Summarizing dates 100 XP\n",
    "\n",
    "Efficient summaries 100 XP\n",
    "\n",
    "Cumulative statistics 100 XP\n",
    "\n",
    "Counting (Video) 50 XP\n",
    "\n",
    "Dropping duplicates 100 XP\n",
    "\n",
    "Counting categorical variables 100 XP\n",
    "\n",
    "Grouped summary statistics (Video) 50 XP\n",
    "\n",
    "What percent of sales occurred at each store type? 100 XP\n",
    "\n",
    "Calculations with .groupby() 100 XP\n",
    "\n",
    "Multiple grouped summaries 100 XP\n",
    "\n",
    "Pivot tables (Video) 50 XP\n",
    "\n",
    "Pivoting on one variable 100 XP\n",
    "\n",
    "Fill in missing values and sum values with pivot tables 100 XP"
   ]
  },
  {
   "cell_type": "code",
   "execution_count": 30,
   "id": "e6240f6f-c351-4d3c-9803-82e2f938c634",
   "metadata": {},
   "outputs": [],
   "source": [
    "import pandas as pd\n",
    "import numpy as np\n",
    "homelessness = pd.read_csv(\"homelessness.csv\")\n",
    "sales = pd.read_csv(\"sales_subset.csv\")"
   ]
  },
  {
   "cell_type": "markdown",
   "id": "5e99b21e-3f3c-4e0e-ac74-59ec8b40e8c1",
   "metadata": {},
   "source": [
    "# Summary statistics (Video) 50 XP"
   ]
  },
  {
   "cell_type": "code",
   "execution_count": 31,
   "id": "88b85f9c-ce98-4dd0-8d23-90d40cbc6400",
   "metadata": {},
   "outputs": [
    {
     "name": "stdout",
     "output_type": "stream",
     "text": [
      "----El metodo .mean() permite calcular la media\n",
      "6405637.274509804\n",
      "----Existen los métodos .mean() .mode() .min() .max() .var() .std() .sum() .quantile()\n",
      "----Para valores tipo Date se pueden usar los métodos .min() .max()\n",
      "----Método .agg() permite calcular un estadistico de resumen definido por el usuario\n",
      "4461153.0\n",
      "----Método .agg() permite calcular un estadistico de resumen definido por el usuario tambien sobre varias columnas\n",
      "individuals       3082.0\n",
      "state_pop      4461153.0\n",
      "dtype: float64\n",
      "----Método .agg() permite calcular multiples estadísticos de resumen en una sola llamada\n",
      "mi_metodo_1    4461153.0\n",
      "mi_metodo_2     878698.0\n",
      "Name: state_pop, dtype: float64\n",
      "----Método .cumsum() permite calcular la suma acumulada sobre una columna\n",
      "0       4887681\n",
      "1       5622820\n",
      "2      12780844\n",
      "3      15790577\n",
      "4      55252165\n",
      "5      60943452\n",
      "6      64514972\n",
      "7      65480451\n",
      "8      66181998\n",
      "9      87426315\n",
      "10     97937446\n",
      "11     99358039\n",
      "12    101108575\n",
      "13    113831646\n",
      "14    120527143\n",
      "15    123675761\n",
      "16    126587120\n",
      "17    131048273\n",
      "18    135707963\n",
      "19    137047020\n",
      "20    143082822\n",
      "21    149965457\n",
      "22    159949529\n",
      "23    165555778\n",
      "24    168536798\n",
      "25    174658421\n",
      "26    175719086\n",
      "27    177644700\n",
      "28    180672041\n",
      "29    182025506\n",
      "30    190911531\n",
      "31    193004272\n",
      "32    212534623\n",
      "33    222916238\n",
      "34    223674318\n",
      "35    235350659\n",
      "36    239290894\n",
      "37    243472780\n",
      "38    256273702\n",
      "39    257331989\n",
      "40    262416145\n",
      "41    263294843\n",
      "42    270066474\n",
      "43    298695140\n",
      "44    301848690\n",
      "45    302473048\n",
      "46    310974334\n",
      "47    318498203\n",
      "48    320302494\n",
      "49    326109900\n",
      "50    326687501\n",
      "Name: state_pop, dtype: int64\n",
      "----Metodos .cummax() .cummin() .cumprod() son para operaciones acumulativas\n"
     ]
    }
   ],
   "source": [
    "# SUMMARIZING NUMERICAL DATA\n",
    "\n",
    "print(\"----El metodo .mean() permite calcular la media\")\n",
    "print(homelessness[\"state_pop\"].mean())\n",
    "\n",
    "print(\"----Existen los métodos .mean() .mode() .min() .max() .var() .std() .sum() .quantile()\")\n",
    "\n",
    "# SUMMARIZING DATES\n",
    "\n",
    "print(\"----Para valores tipo Date se pueden usar los métodos .min() .max()\")\n",
    "\n",
    "# THE .agg() METHOD\n",
    "\n",
    "print(\"----Método .agg() permite calcular un estadistico de resumen definido por el usuario\")\n",
    "def mi_metodo_1(column):\n",
    "    return column.quantile(0.5)\n",
    "print( homelessness[\"state_pop\"].agg(mi_metodo_1) )\n",
    "\n",
    "print(\"----Método .agg() permite calcular un estadistico de resumen definido por el usuario tambien sobre varias columnas\")\n",
    "def mi_metodo_1(column):\n",
    "    return column.quantile(.5)\n",
    "print( homelessness[[\"individuals\",\"state_pop\"]].agg(mi_metodo_1) )\n",
    "\n",
    "print(\"----Método .agg() permite calcular multiples estadísticos de resumen en una sola llamada\")\n",
    "def mi_metodo_1(column):\n",
    "    return column.quantile(0.5)\n",
    "def mi_metodo_2(column):\n",
    "    return column.quantile(0.1)\n",
    "print( homelessness[\"state_pop\"].agg([mi_metodo_1,mi_metodo_2]) )\n",
    "\n",
    "print(\"----Método .cumsum() permite calcular la suma acumulada sobre una columna\")\n",
    "print( homelessness[\"state_pop\"].cumsum() )\n",
    "\n",
    "print(\"----Metodos .cummax() .cummin() .cumprod() son para operaciones acumulativas\")"
   ]
  },
  {
   "cell_type": "markdown",
   "id": "0a3fca9d-14ac-45c7-8f6f-88ce9d5afc03",
   "metadata": {},
   "source": [
    "# Mean and median 100 XP"
   ]
  },
  {
   "cell_type": "raw",
   "id": "7082a38b-7afa-477c-98d6-1f4f086e6225",
   "metadata": {},
   "source": [
    "Mean and median\n",
    "Summary statistics are exactly what they sound like - they summarize many numbers in one statistic. \n",
    "For example, mean, median, minimum, maximum, and standard deviation are summary statistics.\n",
    "Calculating summary statistics allows you to get a better sense of your data, even if there's a lot of it."
   ]
  },
  {
   "cell_type": "raw",
   "id": "624e73ce-7b30-47d4-a0b8-bb6b7a4c10e9",
   "metadata": {},
   "source": [
    "Instructions\n",
    "100 XP\n",
    "Explore your new DataFrame first by printing the first few rows of the sales DataFrame.\n",
    "Print information about the columns in sales.\n",
    "Print the mean of the weekly_sales column.\n",
    "Print the median of the weekly_sales column."
   ]
  },
  {
   "cell_type": "code",
   "execution_count": 32,
   "id": "60a1979b-68da-4c7d-9902-5b5b61f9bc55",
   "metadata": {},
   "outputs": [
    {
     "name": "stdout",
     "output_type": "stream",
     "text": [
      "----Primeras filas de DataFrame Sales\n",
      "   Unnamed: 0  store type  department        date  weekly_sales  is_holiday  \\\n",
      "0           0      1    A           1  2010-02-05      24924.50       False   \n",
      "1           1      1    A           1  2010-03-05      21827.90       False   \n",
      "2           2      1    A           1  2010-04-02      57258.43       False   \n",
      "3           3      1    A           1  2010-05-07      17413.94       False   \n",
      "4           4      1    A           1  2010-06-04      17558.09       False   \n",
      "\n",
      "   temperature_c  fuel_price_usd_per_l  unemployment  \n",
      "0       5.727778              0.679451         8.106  \n",
      "1       8.055556              0.693452         8.106  \n",
      "2      16.816667              0.718284         7.808  \n",
      "3      22.527778              0.748928         7.808  \n",
      "4      27.050000              0.714586         7.808  \n",
      "----Información del DataFrame Sales\n",
      "<class 'pandas.core.frame.DataFrame'>\n",
      "RangeIndex: 10774 entries, 0 to 10773\n",
      "Data columns (total 10 columns):\n",
      " #   Column                Non-Null Count  Dtype  \n",
      "---  ------                --------------  -----  \n",
      " 0   Unnamed: 0            10774 non-null  int64  \n",
      " 1   store                 10774 non-null  int64  \n",
      " 2   type                  10774 non-null  object \n",
      " 3   department            10774 non-null  int64  \n",
      " 4   date                  10774 non-null  object \n",
      " 5   weekly_sales          10774 non-null  float64\n",
      " 6   is_holiday            10774 non-null  bool   \n",
      " 7   temperature_c         10774 non-null  float64\n",
      " 8   fuel_price_usd_per_l  10774 non-null  float64\n",
      " 9   unemployment          10774 non-null  float64\n",
      "dtypes: bool(1), float64(4), int64(3), object(2)\n",
      "memory usage: 768.2+ KB\n",
      "None\n",
      "----Media de la columna weekly_sales\n",
      "23843.950148505668\n",
      "----Mediana de la columnas weekly_sales\n",
      "12049.064999999999\n"
     ]
    }
   ],
   "source": [
    "import pandas as pd\n",
    "import numpy as np\n",
    "sales = pd.read_csv(\"sales_subset.csv\")\n",
    "\n",
    "print(\"----Primeras filas de DataFrame Sales\")\n",
    "print(sales.head())\n",
    "print(\"----Información del DataFrame Sales\")\n",
    "print(sales.info())\n",
    "print(\"----Media de la columna weekly_sales\")\n",
    "print(sales[\"weekly_sales\"].mean())\n",
    "print(\"----Mediana de la columnas weekly_sales\")\n",
    "print(sales[\"weekly_sales\"].median())"
   ]
  },
  {
   "cell_type": "markdown",
   "id": "def1f82a-114e-456e-b14b-3963984fe3ee",
   "metadata": {},
   "source": [
    "# Summarizing dates 100 XP"
   ]
  },
  {
   "cell_type": "raw",
   "id": "f0da42d1-c495-44e2-936c-0efce6cbe259",
   "metadata": {},
   "source": [
    "Summary statistics can also be calculated on date columns that have values with the data type datetime64. \n",
    "Some summary statistics — like mean — don't make a ton of sense on dates, but others are super helpful, \n",
    "for example, minimum and maximum, which allow you to see what time range your data covers."
   ]
  },
  {
   "cell_type": "raw",
   "id": "0cdf7182-b355-4c8a-b776-54e407acaaaa",
   "metadata": {},
   "source": [
    "Instructions\n",
    "100 XP\n",
    "Print the maximum of the date column.\n",
    "Print the minimum of the date column."
   ]
  },
  {
   "cell_type": "code",
   "execution_count": 33,
   "id": "89c72359-c6ab-44ba-bb16-197474a027fb",
   "metadata": {},
   "outputs": [
    {
     "name": "stdout",
     "output_type": "stream",
     "text": [
      "----Maximo de la columna date\n",
      "2012-10-26\n",
      "----Minimo de la columnas date\n",
      "2010-02-05\n"
     ]
    }
   ],
   "source": [
    "print(\"----Maximo de la columna date\")\n",
    "print(sales[\"date\"].max())\n",
    "print(\"----Minimo de la columnas date\")\n",
    "print(sales[\"date\"].min())"
   ]
  },
  {
   "cell_type": "markdown",
   "id": "2314f8e7-4e0b-4981-bae9-eb6a1878eaa0",
   "metadata": {},
   "source": [
    "# Efficient summaries 100 XP"
   ]
  },
  {
   "cell_type": "raw",
   "id": "e7f3dbc4-316f-44d8-b1a2-0a9399b5c9bd",
   "metadata": {},
   "source": [
    "While pandas and NumPy have tons of functions, sometimes, you may need a different function to summarize your data.\n",
    "\n",
    "The .agg() method allows you to apply your own custom functions to a DataFrame, as well as apply functions to more than one column of a DataFrame at once, making your aggregations super-efficient. For example,\n",
    "                                                        df['column'].agg(function)\n",
    "In the custom function for this exercise, \"IQR\" is short for inter-quartile range, which is the 75th percentile minus the 25th percentile. \n",
    "It's an alternative to standard deviation that is helpful if your data contains outliers."
   ]
  },
  {
   "cell_type": "raw",
   "id": "f6e4d12e-c372-4108-8e55-a18f4e0e12a4",
   "metadata": {},
   "source": [
    "Instructions 1/3\n",
    "35 XP\n",
    "1\n",
    "Use the custom iqr function defined for you along with .agg() to print the IQR of the \"temperature_c\" column of sales."
   ]
  },
  {
   "cell_type": "code",
   "execution_count": 34,
   "id": "e602bf1b-6c1e-4941-8010-5822e76b3360",
   "metadata": {},
   "outputs": [
    {
     "name": "stdout",
     "output_type": "stream",
     "text": [
      "----Uso del método .agg() para calcular la función definida por el usuario en la columna temperatura_c\n",
      "16.583333333333336\n"
     ]
    }
   ],
   "source": [
    "#Definición de la función del usuario. Es el Rango Intercuartil\n",
    "def iqr(column):\n",
    "    return column.quantile(0.75) - column.quantile(0.25)\n",
    "print(\"----Uso del método .agg() para calcular la función definida por el usuario en la columna temperatura_c\")\n",
    "print( sales[\"temperature_c\"].agg(iqr) )"
   ]
  },
  {
   "cell_type": "raw",
   "id": "f37f63ad-20f6-486d-bddc-166283be13bc",
   "metadata": {},
   "source": [
    "Instructions 2/3\n",
    "35 XP\n",
    "2\n",
    "Use the custom iqr function with .agg() to print the IQR of temperature_c, fuel_price_usd_per_l, and unemployment, in that order."
   ]
  },
  {
   "cell_type": "code",
   "execution_count": 35,
   "id": "3eac75a0-908a-4e27-a68b-47b2002045dc",
   "metadata": {},
   "outputs": [
    {
     "data": {
      "text/plain": [
       "temperature_c           16.583333\n",
       "fuel_price_usd_per_l     0.073176\n",
       "unemployment             0.565000\n",
       "dtype: float64"
      ]
     },
     "execution_count": 35,
     "metadata": {},
     "output_type": "execute_result"
    }
   ],
   "source": [
    "#Definición de la función del usuario. Se conoce como rangon intercuartil\n",
    "def iqr(column):\n",
    "    return column.quantile(0.75) - column.quantile(0.25)\n",
    "sales[[\"temperature_c\",\"fuel_price_usd_per_l\",\"unemployment\"]].agg(iqr)"
   ]
  },
  {
   "cell_type": "raw",
   "id": "06701bb6-3494-4c15-a336-a8e5856c532f",
   "metadata": {},
   "source": [
    "Instructions 3/3\n",
    "30 XP\n",
    "3\n",
    "Update the aggregation functions called by .agg(): include iqr and np.median in that order."
   ]
  },
  {
   "cell_type": "code",
   "execution_count": 36,
   "id": "75bd65cb-9db6-4320-a149-1eb8fa0d142d",
   "metadata": {},
   "outputs": [
    {
     "name": "stdout",
     "output_type": "stream",
     "text": [
      "        temperature_c  fuel_price_usd_per_l  unemployment\n",
      "iqr         16.583333              0.073176         0.565\n",
      "median      16.966667              0.743381         8.099\n"
     ]
    }
   ],
   "source": [
    "#Definición de la función del usuario. Se conoce como rangon intercuartil\n",
    "def iqr(column):\n",
    "    return column.quantile(0.75) - column.quantile(0.25)\n",
    "print(sales[[\"temperature_c\",\"fuel_price_usd_per_l\",\"unemployment\"]].agg([iqr,np.median]))"
   ]
  },
  {
   "cell_type": "raw",
   "id": "06ad5a8c-c013-438f-9bff-337c3adba218",
   "metadata": {},
   "source": [
    "Excellent efficiency! The .agg() method makes it easy to compute multiple statistics on multiple columns, all in just one line of code."
   ]
  },
  {
   "cell_type": "markdown",
   "id": "7a886b7c-55d1-472d-9164-3cc7ee057950",
   "metadata": {},
   "source": [
    "# Cumulative statistics 100 XP"
   ]
  },
  {
   "cell_type": "raw",
   "id": "e98e1b13-9d19-4b45-b012-59d5624f5449",
   "metadata": {},
   "source": [
    "Cumulative statistics can also be helpful in tracking summary statistics over time. \n",
    "In this exercise, you'll calculate the cumulative sum and cumulative max of a department's weekly sales, \n",
    "which will allow you to identify what the total sales were so far as well as what the highest weekly sales were so far.\n",
    "\n",
    "A DataFrame called sales_1_1 has been created for you, which contains the sales data for department 1 of store 1. pandas is loaded as pd."
   ]
  },
  {
   "cell_type": "raw",
   "id": "55c0a92d-fa71-415a-af48-a0270c0bd285",
   "metadata": {},
   "source": [
    "Instructions\n",
    "100 XP\n",
    "Sort the rows of sales_1_1 by the date column in ascending order.\n",
    "Get the cumulative sum of weekly_sales and add it as a new column of sales_1_1 called cum_weekly_sales.\n",
    "Get the cumulative maximum of weekly_sales, and add it as a column called cum_max_sales.\n",
    "Print the date, weekly_sales, cum_weekly_sales, and cum_max_sales columns."
   ]
  },
  {
   "cell_type": "code",
   "execution_count": 37,
   "id": "94be035a-797b-412d-843a-f64217f383d1",
   "metadata": {},
   "outputs": [
    {
     "name": "stdout",
     "output_type": "stream",
     "text": [
      "----Crear el DataFrame sales_1_1 sólo con información de departamente 1 y tienda 1\n",
      "    Unnamed: 0  store type  department        date  weekly_sales  is_holiday  \\\n",
      "0            0      1    A           1  2010-02-05      24924.50       False   \n",
      "1            1      1    A           1  2010-03-05      21827.90       False   \n",
      "2            2      1    A           1  2010-04-02      57258.43       False   \n",
      "3            3      1    A           1  2010-05-07      17413.94       False   \n",
      "4            4      1    A           1  2010-06-04      17558.09       False   \n",
      "5            5      1    A           1  2010-07-02      16333.14       False   \n",
      "6            6      1    A           1  2010-08-06      17508.41       False   \n",
      "7            7      1    A           1  2010-09-03      16241.78       False   \n",
      "8            8      1    A           1  2010-10-01      20094.19       False   \n",
      "9            9      1    A           1  2010-11-05      34238.88       False   \n",
      "10          10      1    A           1  2010-12-03      22517.56       False   \n",
      "11          11      1    A           1  2011-01-07      15984.24       False   \n",
      "\n",
      "    temperature_c  fuel_price_usd_per_l  unemployment  \n",
      "0        5.727778              0.679451         8.106  \n",
      "1        8.055556              0.693452         8.106  \n",
      "2       16.816667              0.718284         7.808  \n",
      "3       22.527778              0.748928         7.808  \n",
      "4       27.050000              0.714586         7.808  \n",
      "5       27.172222              0.705076         7.787  \n",
      "6       30.644444              0.693980         7.787  \n",
      "7       27.338889              0.680772         7.787  \n",
      "8       22.161111              0.687640         7.838  \n",
      "9       14.855556              0.710359         7.838  \n",
      "10       9.594444              0.715378         7.838  \n",
      "11       9.038889              0.786176         7.742  \n",
      "----Ordenar el FataFrame por columna Date en orden ascendente\n",
      "    Unnamed: 0  store type  department        date  weekly_sales  is_holiday  \\\n",
      "0            0      1    A           1  2010-02-05      24924.50       False   \n",
      "1            1      1    A           1  2010-03-05      21827.90       False   \n",
      "2            2      1    A           1  2010-04-02      57258.43       False   \n",
      "3            3      1    A           1  2010-05-07      17413.94       False   \n",
      "4            4      1    A           1  2010-06-04      17558.09       False   \n",
      "5            5      1    A           1  2010-07-02      16333.14       False   \n",
      "6            6      1    A           1  2010-08-06      17508.41       False   \n",
      "7            7      1    A           1  2010-09-03      16241.78       False   \n",
      "8            8      1    A           1  2010-10-01      20094.19       False   \n",
      "9            9      1    A           1  2010-11-05      34238.88       False   \n",
      "10          10      1    A           1  2010-12-03      22517.56       False   \n",
      "11          11      1    A           1  2011-01-07      15984.24       False   \n",
      "\n",
      "    temperature_c  fuel_price_usd_per_l  unemployment  \n",
      "0        5.727778              0.679451         8.106  \n",
      "1        8.055556              0.693452         8.106  \n",
      "2       16.816667              0.718284         7.808  \n",
      "3       22.527778              0.748928         7.808  \n",
      "4       27.050000              0.714586         7.808  \n",
      "5       27.172222              0.705076         7.787  \n",
      "6       30.644444              0.693980         7.787  \n",
      "7       27.338889              0.680772         7.787  \n",
      "8       22.161111              0.687640         7.838  \n",
      "9       14.855556              0.710359         7.838  \n",
      "10       9.594444              0.715378         7.838  \n",
      "11       9.038889              0.786176         7.742  \n",
      "----Crear una nueva columna que sea la suma acumulada de weekly_sales\n",
      "    Unnamed: 0  store type  department        date  weekly_sales  is_holiday  \\\n",
      "0            0      1    A           1  2010-02-05      24924.50       False   \n",
      "1            1      1    A           1  2010-03-05      21827.90       False   \n",
      "2            2      1    A           1  2010-04-02      57258.43       False   \n",
      "3            3      1    A           1  2010-05-07      17413.94       False   \n",
      "4            4      1    A           1  2010-06-04      17558.09       False   \n",
      "5            5      1    A           1  2010-07-02      16333.14       False   \n",
      "6            6      1    A           1  2010-08-06      17508.41       False   \n",
      "7            7      1    A           1  2010-09-03      16241.78       False   \n",
      "8            8      1    A           1  2010-10-01      20094.19       False   \n",
      "9            9      1    A           1  2010-11-05      34238.88       False   \n",
      "10          10      1    A           1  2010-12-03      22517.56       False   \n",
      "11          11      1    A           1  2011-01-07      15984.24       False   \n",
      "\n",
      "    temperature_c  fuel_price_usd_per_l  unemployment  cum_weekly_sales  \n",
      "0        5.727778              0.679451         8.106          24924.50  \n",
      "1        8.055556              0.693452         8.106          46752.40  \n",
      "2       16.816667              0.718284         7.808         104010.83  \n",
      "3       22.527778              0.748928         7.808         121424.77  \n",
      "4       27.050000              0.714586         7.808         138982.86  \n",
      "5       27.172222              0.705076         7.787         155316.00  \n",
      "6       30.644444              0.693980         7.787         172824.41  \n",
      "7       27.338889              0.680772         7.787         189066.19  \n",
      "8       22.161111              0.687640         7.838         209160.38  \n",
      "9       14.855556              0.710359         7.838         243399.26  \n",
      "10       9.594444              0.715378         7.838         265916.82  \n",
      "11       9.038889              0.786176         7.742         281901.06  \n",
      "----Crear una nueva columna que sea el maximo acumulado de weekly_sales\n",
      "    Unnamed: 0  store type  department        date  weekly_sales  is_holiday  \\\n",
      "0            0      1    A           1  2010-02-05      24924.50       False   \n",
      "1            1      1    A           1  2010-03-05      21827.90       False   \n",
      "2            2      1    A           1  2010-04-02      57258.43       False   \n",
      "3            3      1    A           1  2010-05-07      17413.94       False   \n",
      "4            4      1    A           1  2010-06-04      17558.09       False   \n",
      "5            5      1    A           1  2010-07-02      16333.14       False   \n",
      "6            6      1    A           1  2010-08-06      17508.41       False   \n",
      "7            7      1    A           1  2010-09-03      16241.78       False   \n",
      "8            8      1    A           1  2010-10-01      20094.19       False   \n",
      "9            9      1    A           1  2010-11-05      34238.88       False   \n",
      "10          10      1    A           1  2010-12-03      22517.56       False   \n",
      "11          11      1    A           1  2011-01-07      15984.24       False   \n",
      "\n",
      "    temperature_c  fuel_price_usd_per_l  unemployment  cum_weekly_sales  \\\n",
      "0        5.727778              0.679451         8.106          24924.50   \n",
      "1        8.055556              0.693452         8.106          46752.40   \n",
      "2       16.816667              0.718284         7.808         104010.83   \n",
      "3       22.527778              0.748928         7.808         121424.77   \n",
      "4       27.050000              0.714586         7.808         138982.86   \n",
      "5       27.172222              0.705076         7.787         155316.00   \n",
      "6       30.644444              0.693980         7.787         172824.41   \n",
      "7       27.338889              0.680772         7.787         189066.19   \n",
      "8       22.161111              0.687640         7.838         209160.38   \n",
      "9       14.855556              0.710359         7.838         243399.26   \n",
      "10       9.594444              0.715378         7.838         265916.82   \n",
      "11       9.038889              0.786176         7.742         281901.06   \n",
      "\n",
      "    cum_max_sales  \n",
      "0        24924.50  \n",
      "1        24924.50  \n",
      "2        57258.43  \n",
      "3        57258.43  \n",
      "4        57258.43  \n",
      "5        57258.43  \n",
      "6        57258.43  \n",
      "7        57258.43  \n",
      "8        57258.43  \n",
      "9        57258.43  \n",
      "10       57258.43  \n",
      "11       57258.43  \n",
      "----Imprimir las columnas:  date, weekly_sales, cum_weekly_sales, and cum_max_sales\n",
      "          date  weekly_sales  cum_weekly_sales  cum_max_sales\n",
      "0   2010-02-05      24924.50          24924.50       24924.50\n",
      "1   2010-03-05      21827.90          46752.40       24924.50\n",
      "2   2010-04-02      57258.43         104010.83       57258.43\n",
      "3   2010-05-07      17413.94         121424.77       57258.43\n",
      "4   2010-06-04      17558.09         138982.86       57258.43\n",
      "5   2010-07-02      16333.14         155316.00       57258.43\n",
      "6   2010-08-06      17508.41         172824.41       57258.43\n",
      "7   2010-09-03      16241.78         189066.19       57258.43\n",
      "8   2010-10-01      20094.19         209160.38       57258.43\n",
      "9   2010-11-05      34238.88         243399.26       57258.43\n",
      "10  2010-12-03      22517.56         265916.82       57258.43\n",
      "11  2011-01-07      15984.24         281901.06       57258.43\n"
     ]
    }
   ],
   "source": [
    "print(\"----Crear el DataFrame sales_1_1 sólo con información de departamente 1 y tienda 1\")\n",
    "condicion_1 = sales[\"department\"] == 1\n",
    "condicion_2 = sales[\"store\"] == 1\n",
    "sales_1_1 = sales[condicion_1 & condicion_2]\n",
    "print( sales_1_1 )\n",
    "\n",
    "print(\"----Ordenar el FataFrame por columna Date en orden ascendente\")\n",
    "sales_1_1 = sales_1_1.sort_values(\"date\",ascending=True)\n",
    "print(sales_1_1)\n",
    "\n",
    "print(\"----Crear una nueva columna que sea la suma acumulada de weekly_sales\")\n",
    "sales_1_1[\"cum_weekly_sales\"] = sales_1_1[\"weekly_sales\"].cumsum()\n",
    "print(sales_1_1)\n",
    "\n",
    "print(\"----Crear una nueva columna que sea el maximo acumulado de weekly_sales\")\n",
    "sales_1_1[\"cum_max_sales\"] = sales_1_1[\"weekly_sales\"].cummax()\n",
    "print(sales_1_1)\n",
    "\n",
    "print(\"----Imprimir las columnas:  date, weekly_sales, cum_weekly_sales, and cum_max_sales\")\n",
    "print(sales_1_1[[\"date\", \"weekly_sales\", \"cum_weekly_sales\",\"cum_max_sales\"]])"
   ]
  },
  {
   "cell_type": "raw",
   "id": "0ef5d5a7-0cf9-4b81-af4a-4270c01d15ac",
   "metadata": {},
   "source": [
    "You've accumulated success! Not all functions that calculate on columns return a single number. \n",
    "Some, like the cumulative statistic functions, return a whole column."
   ]
  },
  {
   "cell_type": "markdown",
   "id": "d2db3ed6-c2df-48ec-ade5-96f000d4185f",
   "metadata": {},
   "source": [
    "# Counting (Video) 50 XP\n"
   ]
  },
  {
   "cell_type": "code",
   "execution_count": 38,
   "id": "53670e87-1efa-4602-acef-6d96b8dfa090",
   "metadata": {},
   "outputs": [
    {
     "name": "stdout",
     "output_type": "stream",
     "text": [
      "----Método .drop_duplicates() para extraer filas tales que los valores de 1 columna sean únicos\n",
      "      Unnamed: 0  store type  department        date  weekly_sales  \\\n",
      "0              0      1    A           1  2010-02-05      24924.50   \n",
      "901          901      2    A           1  2010-02-05      35034.06   \n",
      "1798        1798      4    A           1  2010-02-05      38724.42   \n",
      "2699        2699      6    A           1  2010-02-05      25619.00   \n",
      "3593        3593     10    B           1  2010-02-05      40212.84   \n",
      "4495        4495     13    A           1  2010-02-05      46761.90   \n",
      "5408        5408     14    A           1  2010-02-05      32842.31   \n",
      "6293        6293     19    A           1  2010-02-05      21500.58   \n",
      "7199        7199     20    A           1  2010-02-05      46021.21   \n",
      "8109        8109     27    A           1  2010-02-05      32313.79   \n",
      "9009        9009     31    A           1  2010-02-05      18187.71   \n",
      "9899        9899     39    A           1  2010-02-05      21244.50   \n",
      "\n",
      "      is_holiday  temperature_c  fuel_price_usd_per_l  unemployment  \n",
      "0          False       5.727778              0.679451         8.106  \n",
      "901        False       4.550000              0.679451         8.324  \n",
      "1798       False       6.533333              0.686319         8.623  \n",
      "2699       False       4.683333              0.679451         7.259  \n",
      "3593       False      12.411111              0.782478         9.765  \n",
      "4495       False      -0.261111              0.704283         8.316  \n",
      "5408       False      -2.605556              0.735455         8.992  \n",
      "6293       False      -6.133333              0.780365         8.350  \n",
      "7199       False      -3.377778              0.735455         8.187  \n",
      "8109       False      -2.672222              0.780365         8.237  \n",
      "9009       False       3.916667              0.679451         8.324  \n",
      "9899       False       6.833333              0.679451         8.554  \n",
      "----Método .drop_duplicates() para extraer filas tales que los valores de 2 columnas sean únicos\n",
      "      Unnamed: 0  store type  department        date  weekly_sales  \\\n",
      "0              0      1    A           1  2010-02-05      24924.50   \n",
      "901          901      2    A           1  2010-02-05      35034.06   \n",
      "1798        1798      4    A           1  2010-02-05      38724.42   \n",
      "2699        2699      6    A           1  2010-02-05      25619.00   \n",
      "3593        3593     10    B           1  2010-02-05      40212.84   \n",
      "4495        4495     13    A           1  2010-02-05      46761.90   \n",
      "5408        5408     14    A           1  2010-02-05      32842.31   \n",
      "6293        6293     19    A           1  2010-02-05      21500.58   \n",
      "7199        7199     20    A           1  2010-02-05      46021.21   \n",
      "8109        8109     27    A           1  2010-02-05      32313.79   \n",
      "9009        9009     31    A           1  2010-02-05      18187.71   \n",
      "9899        9899     39    A           1  2010-02-05      21244.50   \n",
      "\n",
      "      is_holiday  temperature_c  fuel_price_usd_per_l  unemployment  \n",
      "0          False       5.727778              0.679451         8.106  \n",
      "901        False       4.550000              0.679451         8.324  \n",
      "1798       False       6.533333              0.686319         8.623  \n",
      "2699       False       4.683333              0.679451         7.259  \n",
      "3593       False      12.411111              0.782478         9.765  \n",
      "4495       False      -0.261111              0.704283         8.316  \n",
      "5408       False      -2.605556              0.735455         8.992  \n",
      "6293       False      -6.133333              0.780365         8.350  \n",
      "7199       False      -3.377778              0.735455         8.187  \n",
      "8109       False      -2.672222              0.780365         8.237  \n",
      "9009       False       3.916667              0.679451         8.324  \n",
      "9899       False       6.833333              0.679451         8.554  \n",
      "----Método .value_counts() para obtener cuantas veces se repite cada elemento de una columna\n",
      "A    11\n",
      "B     1\n",
      "Name: type, dtype: int64\n",
      "----Método .value_counts() para obtener cuantas veces se repite cada elemento de una columna\n",
      "A    11\n",
      "B     1\n",
      "Name: type, dtype: int64\n",
      "----Método .value_counts() para obtener cuantas veces se repite cada elemento de una columna, como una proporción del total\n",
      "A    0.916667\n",
      "B    0.083333\n",
      "Name: type, dtype: float64\n"
     ]
    }
   ],
   "source": [
    "# DROPPING DUPLICATE \n",
    "\n",
    "print(\"----Método .drop_duplicates() para extraer filas tales que los valores de 1 columna sean únicos\")\n",
    "unicos = sales.drop_duplicates(subset=\"store\")\n",
    "print(unicos)\n",
    "\n",
    "print(\"----Método .drop_duplicates() para extraer filas tales que los valores de 2 columnas sean únicos\")\n",
    "unicos = sales.drop_duplicates(subset=[\"store\",\"type\"])\n",
    "print(unicos)\n",
    "\n",
    "# COUNTING \n",
    "print(\"----Método .value_counts() para obtener cuantas veces se repite cada elemento de una columna\")\n",
    "print(unicos[\"type\"].value_counts())\n",
    "\n",
    "print(\"----Método .value_counts() para obtener cuantas veces se repite cada elemento de una columna\")\n",
    "print(unicos[\"type\"].value_counts(sort=True))\n",
    "\n",
    "print(\"----Método .value_counts() para obtener cuantas veces se repite cada elemento de una columna, como una proporción del total\")\n",
    "print(unicos[\"type\"].value_counts(normalize=True))"
   ]
  },
  {
   "cell_type": "markdown",
   "id": "cc6f5581-87c1-4154-9b98-a987c7ea5f3e",
   "metadata": {},
   "source": [
    "# Dropping duplicates 100 XP"
   ]
  },
  {
   "cell_type": "raw",
   "id": "45a049a2-f92b-4f49-bbc8-f95e0b728a94",
   "metadata": {},
   "source": [
    "Removing duplicates is an essential skill to get accurate counts because often, you don't want to count the same thing multiple times.\n",
    "In this exercise, you'll create some new DataFrames using unique values from sales."
   ]
  },
  {
   "cell_type": "raw",
   "id": "da05bbe1-6437-4fc9-9fb7-2c8449bee6a9",
   "metadata": {},
   "source": [
    "Instructions\n",
    "100 XP\n",
    "Remove rows of sales with duplicate pairs of \"store\" and \"type\" and save as \"store_types\" and print the head.\n",
    "Remove rows of sales with duplicate pairs of \"store\" and \"department\" and save as \"store_depts\" and print the head.\n",
    "Subset the rows that are holiday weeks using the \"is_holiday\" column, and drop the duplicate dates, saving as \"holiday_dates\".\n",
    "Select the date column of \"holiday_dates\", and print."
   ]
  },
  {
   "cell_type": "code",
   "execution_count": 39,
   "id": "d4f0c0d6-f283-46a3-9b36-4b68c3f6a6a7",
   "metadata": {},
   "outputs": [
    {
     "name": "stdout",
     "output_type": "stream",
     "text": [
      "----Remover duplicados en pares de columnas 'store' y 'type' \n",
      "      Unnamed: 0  store type  department        date  weekly_sales  \\\n",
      "0              0      1    A           1  2010-02-05      24924.50   \n",
      "901          901      2    A           1  2010-02-05      35034.06   \n",
      "1798        1798      4    A           1  2010-02-05      38724.42   \n",
      "2699        2699      6    A           1  2010-02-05      25619.00   \n",
      "3593        3593     10    B           1  2010-02-05      40212.84   \n",
      "4495        4495     13    A           1  2010-02-05      46761.90   \n",
      "5408        5408     14    A           1  2010-02-05      32842.31   \n",
      "6293        6293     19    A           1  2010-02-05      21500.58   \n",
      "7199        7199     20    A           1  2010-02-05      46021.21   \n",
      "8109        8109     27    A           1  2010-02-05      32313.79   \n",
      "9009        9009     31    A           1  2010-02-05      18187.71   \n",
      "9899        9899     39    A           1  2010-02-05      21244.50   \n",
      "\n",
      "      is_holiday  temperature_c  fuel_price_usd_per_l  unemployment  \n",
      "0          False       5.727778              0.679451         8.106  \n",
      "901        False       4.550000              0.679451         8.324  \n",
      "1798       False       6.533333              0.686319         8.623  \n",
      "2699       False       4.683333              0.679451         7.259  \n",
      "3593       False      12.411111              0.782478         9.765  \n",
      "4495       False      -0.261111              0.704283         8.316  \n",
      "5408       False      -2.605556              0.735455         8.992  \n",
      "6293       False      -6.133333              0.780365         8.350  \n",
      "7199       False      -3.377778              0.735455         8.187  \n",
      "8109       False      -2.672222              0.780365         8.237  \n",
      "9009       False       3.916667              0.679451         8.324  \n",
      "9899       False       6.833333              0.679451         8.554  \n",
      "----Remover duplicados en pares de columnas 'store' y 'department' \n",
      "       Unnamed: 0  store type  department        date  weekly_sales  \\\n",
      "0               0      1    A           1  2010-02-05      24924.50   \n",
      "12             12      1    A           2  2010-02-05      50605.27   \n",
      "24             24      1    A           3  2010-02-05      13740.12   \n",
      "36             36      1    A           4  2010-02-05      39954.04   \n",
      "48             48      1    A           5  2010-02-05      32229.38   \n",
      "...           ...    ...  ...         ...         ...           ...   \n",
      "10715       10715     39    A          95  2010-02-05      88385.24   \n",
      "10727       10727     39    A          96  2010-02-05      21450.05   \n",
      "10739       10739     39    A          97  2010-02-05      21162.05   \n",
      "10751       10751     39    A          98  2010-02-05       9023.09   \n",
      "10763       10763     39    A          99  2010-03-05          0.01   \n",
      "\n",
      "       is_holiday  temperature_c  fuel_price_usd_per_l  unemployment  \n",
      "0           False       5.727778              0.679451         8.106  \n",
      "12          False       5.727778              0.679451         8.106  \n",
      "24          False       5.727778              0.679451         8.106  \n",
      "36          False       5.727778              0.679451         8.106  \n",
      "48          False       5.727778              0.679451         8.106  \n",
      "...           ...            ...                   ...           ...  \n",
      "10715       False       6.833333              0.679451         8.554  \n",
      "10727       False       6.833333              0.679451         8.554  \n",
      "10739       False       6.833333              0.679451         8.554  \n",
      "10751       False       6.833333              0.679451         8.554  \n",
      "10763       False      10.516667              0.693452         8.554  \n",
      "\n",
      "[929 rows x 10 columns]\n",
      "----Extraer las columnas que son días feriados usando la columna 'is_holiday', luego remover duplicados de la columna 'date' \n"
     ]
    },
    {
     "data": {
      "text/plain": [
       "498     2010-09-10\n",
       "691     2011-11-25\n",
       "2315    2010-02-12\n",
       "6735    2012-09-07\n",
       "6810    2010-12-31\n",
       "6815    2012-02-10\n",
       "6820    2011-09-09\n",
       "Name: date, dtype: object"
      ]
     },
     "execution_count": 39,
     "metadata": {},
     "output_type": "execute_result"
    }
   ],
   "source": [
    "print(\"----Remover duplicados en pares de columnas 'store' y 'type' \")\n",
    "store_types = sales.drop_duplicates(subset=[\"store\",\"type\"])\n",
    "print(store_types)\n",
    "\n",
    "print(\"----Remover duplicados en pares de columnas 'store' y 'department' \")\n",
    "store_depts = sales.drop_duplicates(subset=[\"store\",\"department\"])\n",
    "print(store_depts)\n",
    "\n",
    "print(\"----Extraer las columnas que son días feriados usando la columna 'is_holiday', luego remover duplicados de la columna 'date' \")\n",
    "holiday_dates = sales[sales[\"is_holiday\"] == True]\n",
    "holiday_dates = holiday_dates.drop_duplicates(subset=[\"date\"])[\"date\"]\n",
    "holiday_dates"
   ]
  },
  {
   "cell_type": "raw",
   "id": "4fb12541-f7d4-45be-9242-08af5da5be2e",
   "metadata": {},
   "source": [
    "Dazzling duplicate dropping! The holiday weeks correspond to the Superbowl in February, Labor Day in September, Thanksgiving in November, and Christmas in December. Now that the duplicates are removed, it's time to do some counting."
   ]
  },
  {
   "cell_type": "markdown",
   "id": "72a1b9c0-8697-4d8a-9018-f32c70fafcfb",
   "metadata": {},
   "source": [
    "# Counting categorical variables 100 XP"
   ]
  },
  {
   "cell_type": "raw",
   "id": "c9310e24-b8d1-4fff-9ecc-5aa796f4964f",
   "metadata": {},
   "source": [
    "Counting is a great way to get an overview of your data and to spot curiosities that you might not notice otherwise. \n",
    "In this exercise, you'll count the number of each type of store and the number of each department number using the DataFrames you created in the previous exercise:\n",
    "\n",
    "# Drop duplicate store/type combinations\n",
    "    store_types = sales.drop_duplicates(subset=[\"store\", \"type\"])\n",
    "\n",
    "# Drop duplicate store/department combinations\n",
    "    store_depts = sales.drop_duplicates(subset=[\"store\", \"department\"])"
   ]
  },
  {
   "cell_type": "raw",
   "id": "5fd755da-0f2e-42df-b34b-45faa45ced42",
   "metadata": {},
   "source": [
    "Instructions\n",
    "100 XP\n",
    "Count the number of stores of each store type in store_types.\n",
    "Count the proportion of stores of each store type in store_types.\n",
    "Count the number of different departments in store_depts, sorting the counts in descending order.\n",
    "Count the proportion of different departments in store_depts, sorting the proportions in descending order."
   ]
  },
  {
   "cell_type": "code",
   "execution_count": 40,
   "id": "90bd4358-a0e1-433e-9a10-4d24aa0601c6",
   "metadata": {},
   "outputs": [
    {
     "name": "stdout",
     "output_type": "stream",
     "text": [
      "----Count the number of stores of each store type in store_types\n",
      "A    11\n",
      "B     1\n",
      "Name: type, dtype: int64\n",
      "----Count the proportion of stores of each store type in store_types\n",
      "A    0.916667\n",
      "B    0.083333\n",
      "Name: type, dtype: float64\n",
      "----Count the number of different departments in store_depts, sorting the counts in descending order\n",
      "1     12\n",
      "55    12\n",
      "72    12\n",
      "71    12\n",
      "67    12\n",
      "      ..\n",
      "37    10\n",
      "48     8\n",
      "50     6\n",
      "39     4\n",
      "43     2\n",
      "Name: department, Length: 80, dtype: int64\n",
      "----Count the proportion of different departments in store_depts, sorting the proportions in descending order\n",
      "1     0.012917\n",
      "55    0.012917\n",
      "72    0.012917\n",
      "71    0.012917\n",
      "67    0.012917\n",
      "        ...   \n",
      "37    0.010764\n",
      "48    0.008611\n",
      "50    0.006459\n",
      "39    0.004306\n",
      "43    0.002153\n",
      "Name: department, Length: 80, dtype: float64\n"
     ]
    }
   ],
   "source": [
    "print(\"----Count the number of stores of each store type in store_types\")\n",
    "store_counts = store_types[\"type\"].value_counts() \n",
    "print( store_counts )\n",
    "\n",
    "print(\"----Count the proportion of stores of each store type in store_types\")\n",
    "store_props = store_types[\"type\"].value_counts(normalize=True)\n",
    "print( store_props )\n",
    "\n",
    "print(\"----Count the number of different departments in store_depts, sorting the counts in descending order\")\n",
    "dept_counts_sorted =  store_depts[\"department\"].value_counts(sort=True)\n",
    "print( dept_counts_sorted )\n",
    "\n",
    "print(\"----Count the proportion of different departments in store_depts, sorting the proportions in descending order\")\n",
    "dept_props_sorted = store_depts[\"department\"].value_counts(sort=True,normalize=True)\n",
    "print( dept_props_sorted )"
   ]
  },
  {
   "cell_type": "markdown",
   "id": "afcfaa23-bb7d-4b16-b3e6-b362d3a6de93",
   "metadata": {},
   "source": [
    "# Grouped summary statistics (Video) 50 XP"
   ]
  },
  {
   "cell_type": "code",
   "execution_count": 41,
   "id": "c007fda8-f7d2-46ee-9a15-c1e71887cf65",
   "metadata": {},
   "outputs": [
    {
     "name": "stdout",
     "output_type": "stream",
     "text": [
      "----Metodo .groupby() para agrupar por una columna y calcular una estadistica\n",
      "type\n",
      "A    23674.667242\n",
      "B    25696.678370\n",
      "Name: weekly_sales, dtype: float64\n",
      "----Metodo .groupby() para agrupar por una columna y método .agg() para calcular 3 estadisticas\n",
      "              mean       amax\n",
      "type                         \n",
      "A     23674.667242  293966.05\n",
      "B     25696.678370  232558.51\n",
      "----Metodo .groupby() para agrupar por 2 columnas y calcular una estadistica\n",
      "type  is_holiday\n",
      "A     False         23768.583523\n",
      "      True            590.045250\n",
      "B     False         25751.980533\n",
      "      True            810.705000\n",
      "Name: weekly_sales, dtype: float64\n",
      "----Metodo .groupby() para agrupar por 2 columnas y calcular 3 estadistica\n",
      "                         mean       amax     amin\n",
      "type is_holiday                                  \n",
      "A    False       23768.583523  293966.05 -1098.00\n",
      "     True          590.045250    5350.00  -598.00\n",
      "B    False       25751.980533  232558.51  -798.00\n",
      "     True          810.705000    1590.00    31.41\n"
     ]
    }
   ],
   "source": [
    "# AGRUPAR POR UNA VARIABLE Y CALCULAR UNA ESTADISTICA\n",
    "\n",
    "print(\"----Metodo .groupby() para agrupar por una columna y calcular una estadistica\")\n",
    "print( sales.groupby(\"type\")[\"weekly_sales\"].mean() )\n",
    "\n",
    "# AGRUPAR POR UNA VARIABLE Y CALCULAR MULTIPLES ESTADISTICAS\n",
    "\n",
    "print(\"----Metodo .groupby() para agrupar por una columna y método .agg() para calcular 3 estadisticas\")\n",
    "print( sales.groupby(\"type\")[\"weekly_sales\"].agg([np.mean, np.max]) )\n",
    "\n",
    "# AGRUPAR POR MULTIPLES VARIABLES\n",
    "\n",
    "print(\"----Metodo .groupby() para agrupar por 2 columnas y calcular una estadistica\")\n",
    "print(sales.groupby([\"type\",\"is_holiday\"])[\"weekly_sales\"].mean() )\n",
    "\n",
    "print(\"----Metodo .groupby() para agrupar por 2 columnas y calcular 3 estadistica\")\n",
    "print( sales.groupby([\"type\",\"is_holiday\"])[\"weekly_sales\"].agg([np.mean, np.max, np.min]) )"
   ]
  },
  {
   "cell_type": "markdown",
   "id": "44cdd932-744d-412d-bd11-d2cf11d5c3bc",
   "metadata": {},
   "source": [
    "# What percent of sales occurred at each store type? "
   ]
  },
  {
   "cell_type": "raw",
   "id": "a419562f-bd55-41e9-879c-cada3c224aed",
   "metadata": {},
   "source": [
    "What percent of sales occurred at each store type?\n",
    "While .groupby() is useful, you can calculate grouped summary statistics without it.\n",
    "\n",
    "Walmart distinguishes three types of stores: \"supercenters,\" \"discount stores,\" and \"neighborhood markets,\" encoded in this dataset as type \"A,\" \"B,\" and \"C.\" \n",
    "In this exercise, you'll calculate the total sales made at each store type, without using .groupby(). \n",
    "You can then use these numbers to see what proportion of Walmart's total sales were made at each type."
   ]
  },
  {
   "cell_type": "raw",
   "id": "282adecb-c650-4dd0-892a-d4b375a1708a",
   "metadata": {},
   "source": [
    "Instructions\n",
    "100 XP\n",
    "Calculate the total weekly_sales over the whole dataset.\n",
    "Subset for type \"A\" stores, and calculate their total weekly sales.\n",
    "Do the same for type \"B\" and type \"C\" stores.\n",
    "Combine the A/B/C results into a list, and divide by sales_all to get the proportion of sales by type."
   ]
  },
  {
   "cell_type": "code",
   "execution_count": 42,
   "id": "9c3d4a85-3e95-4e8b-aa3a-2209f8f80eed",
   "metadata": {},
   "outputs": [
    {
     "name": "stdout",
     "output_type": "stream",
     "text": [
      "----Calculate the total weekly_sales over the whole dataset\n",
      "256894718.89999998\n",
      "----Subset for type 'A' stores, and calculate their total weekly sales\n",
      "233716315.01\n",
      "----Subset for type 'C' stores, and calculate their total weekly sales\n",
      "23178403.89\n",
      "----Subset for type 'B' stores, and calculate their total weekly sales\n",
      "0.0\n",
      "----Combine the A/B/C results into a list, and divide by sales_all to get the proportion of sales by type\n",
      "[0.9097747 0.0902253 0.       ]\n"
     ]
    }
   ],
   "source": [
    "print(\"----Calculate the total weekly_sales over the whole dataset\")\n",
    "sales_all = sales[\"weekly_sales\"].sum()\n",
    "print(sales_all)\n",
    "\n",
    "print(\"----Subset for type 'A' stores, and calculate their total weekly sales\")\n",
    "sales_A = sales[sales[\"type\"] == \"A\"][\"weekly_sales\"].sum()\n",
    "print(sales_A)\n",
    "\n",
    "print(\"----Subset for type 'C' stores, and calculate their total weekly sales\")\n",
    "sales_B = sales[sales[\"type\"] == \"B\"][\"weekly_sales\"].sum()\n",
    "print(sales_B)\n",
    "\n",
    "print(\"----Subset for type 'B' stores, and calculate their total weekly sales\")\n",
    "sales_C = sales[sales[\"type\"] == \"C\"][\"weekly_sales\"].sum()\n",
    "print(sales_C)\n",
    "\n",
    "print(\"----Combine the A/B/C results into a list, and divide by sales_all to get the proportion of sales by type\")\n",
    "sales_propn_by_type = [sales_A, sales_B, sales_C] / sales_all\n",
    "print(sales_propn_by_type)\n"
   ]
  },
  {
   "cell_type": "raw",
   "id": "2c6665cb-41ee-4bbf-ad28-918ee7c9520e",
   "metadata": {},
   "source": [
    "Marvelous mathematics! \n",
    "About 91% of sales occurred in stores of type A', 9% in stores of type B, and there are no sales records for stores of type C. \n",
    "Now see if you can do this calculation using .groupby()."
   ]
  },
  {
   "cell_type": "markdown",
   "id": "74e1448f-a503-43c4-acd5-9cb14b5279d2",
   "metadata": {},
   "source": [
    "# Calculations with .groupby()\n"
   ]
  },
  {
   "cell_type": "raw",
   "id": "769b49a9-ae25-4efb-b8c1-0487c392923f",
   "metadata": {},
   "source": [
    "Calculations with .groupby()\n",
    "The .groupby() method makes life much easier. \n",
    "In this exercise, you'll perform the same calculations as last time, except you'll use the .groupby() method. \n",
    "You'll also perform calculations on data grouped by two variables to see if sales differ by store type depending on if it's a holiday week or not."
   ]
  },
  {
   "cell_type": "raw",
   "id": "74f0a792-f347-429a-b8c4-fd75a192c297",
   "metadata": {},
   "source": [
    "Instructions 1/2\n",
    "50 XP\n",
    "1\n",
    "Group sales by \"type\", take the sum of \"weekly_sales\", and store as sales_by_type.\n",
    "Calculate the proportion of sales at each store type by dividing by the sum of sales_by_type. Assign to sales_propn_by_type."
   ]
  },
  {
   "cell_type": "code",
   "execution_count": 43,
   "id": "2bd99715-2a02-4e22-804e-c633f38b3719",
   "metadata": {},
   "outputs": [
    {
     "name": "stdout",
     "output_type": "stream",
     "text": [
      "----Group sales by 'type', take the sum of 'weekly_sales', and store as sales_by_type\n",
      "type\n",
      "A    2.337163e+08\n",
      "B    2.317840e+07\n",
      "Name: weekly_sales, dtype: float64\n",
      "----Calculate the proportion of sales at each store type by dividing by the sum of sales_by_type. Assign to sales_propn_by_type.\n",
      "type\n",
      "A    0.909775\n",
      "B    0.090225\n",
      "Name: weekly_sales, dtype: float64\n"
     ]
    }
   ],
   "source": [
    "print(\"----Group sales by 'type', take the sum of 'weekly_sales', and store as sales_by_type\")\n",
    "sales_by_type = sales.groupby(\"type\")[\"weekly_sales\"].sum()\n",
    "print(sales_by_type)\n",
    "\n",
    "print(\"----Calculate the proportion of sales at each store type by dividing by the sum of sales_by_type. Assign to sales_propn_by_type.\")\n",
    "sales_propn_by_type = sales_by_type / np.sum(sales_by_type)\n",
    "print(sales_propn_by_type)\n"
   ]
  },
  {
   "cell_type": "raw",
   "id": "21ffec19-926a-4058-aea6-a9d50f0d5b6f",
   "metadata": {},
   "source": [
    "Instructions 2/2\n",
    "50 XP\n",
    "2\n",
    "Group sales by \"type\" and \"is_holiday\", take the sum of weekly_sales, and store as sales_by_type_is_holiday."
   ]
  },
  {
   "cell_type": "code",
   "execution_count": 44,
   "id": "e9fa4832-67a5-413c-b6db-7021d898fa49",
   "metadata": {},
   "outputs": [
    {
     "name": "stdout",
     "output_type": "stream",
     "text": [
      "----Group sales by 'type' and 'is_holiday', take the sum of weekly_sales, and store as sales_by_type_is_holiday.\n",
      "type  is_holiday\n",
      "A     False         2.336927e+08\n",
      "      True          2.360181e+04\n",
      "B     False         2.317678e+07\n",
      "      True          1.621410e+03\n",
      "Name: weekly_sales, dtype: float64\n"
     ]
    }
   ],
   "source": [
    "print(\"----Group sales by 'type' and 'is_holiday', take the sum of weekly_sales, and store as sales_by_type_is_holiday.\")\n",
    "sales_by_type_is_holiday = sales.groupby([\"type\",\"is_holiday\"])[\"weekly_sales\"].sum()\n",
    "print(sales_by_type_is_holiday)"
   ]
  },
  {
   "cell_type": "markdown",
   "id": "dc3da4ce-b74d-4f52-8a91-7fbaa7087213",
   "metadata": {},
   "source": [
    "# Multiple grouped summaries"
   ]
  },
  {
   "cell_type": "raw",
   "id": "e4b55591-840c-4053-a743-39aa2161c3f0",
   "metadata": {},
   "source": [
    "Multiple grouped summaries\n",
    "Earlier in this chapter, you saw that the .agg() method is useful to compute multiple statistics on multiple variables. \n",
    "It also works with grouped data. NumPy, which is imported as np, has many different summary statistics functions, including: \n",
    "    np.min, np.max, np.mean, and np.median."
   ]
  },
  {
   "cell_type": "raw",
   "id": "7e541e70-3518-46ad-bc66-1ec13865e4ad",
   "metadata": {},
   "source": [
    "Instructions\n",
    "100 XP\n",
    "Import numpy with the alias np.\n",
    "Get the min, max, mean, and median of weekly_sales for each store type using .groupby() and .agg(). Store this as sales_stats. Make sure to use numpy functions!\n",
    "Get the min, max, mean, and median of unemployment and fuel_price_usd_per_l for each store type. Store this as unemp_fuel_stats."
   ]
  },
  {
   "cell_type": "code",
   "execution_count": 45,
   "id": "ade7c8ac-fca5-4f2d-b837-3f3d1034e352",
   "metadata": {},
   "outputs": [
    {
     "name": "stdout",
     "output_type": "stream",
     "text": [
      "----Get the min, max, mean, median of weekly_sales, for each store type using .groupby() and .agg() Store this as sales_stats. Use numpy functions\n",
      "        amin       amax    median\n",
      "type                             \n",
      "A    -1098.0  293966.05  11943.92\n",
      "B     -798.0  232558.51  13336.08\n",
      "----Get the min, max, mean, and median of unemployment and fuel_price_usd_per_l for each store type. Store this as unemp_fuel_stats.\n",
      "     unemployment               fuel_price_usd_per_l                    \n",
      "             amin   amax median                 amin      amax    median\n",
      "type                                                                    \n",
      "A           3.879  8.992  8.067             0.664129  1.107410  0.735455\n",
      "B           7.170  9.765  9.199             0.760023  1.107674  0.803348\n"
     ]
    }
   ],
   "source": [
    "print(\"----Get the min, max, mean, median of weekly_sales, for each store type using .groupby() and .agg() Store this as sales_stats. Use numpy functions\")\n",
    "sales_stats = sales.groupby(\"type\")[\"weekly_sales\"].agg([np.min,np.max,np.median])\n",
    "print(sales_stats)\n",
    "\n",
    "print(\"----Get the min, max, mean, and median of unemployment and fuel_price_usd_per_l for each store type. Store this as unemp_fuel_stats.\")\n",
    "unemp_fuel_stats = sales.groupby(\"type\")[[\"unemployment\",\"fuel_price_usd_per_l\"]].agg([np.min,np.max,np.median])\n",
    "print(unemp_fuel_stats)"
   ]
  },
  {
   "cell_type": "raw",
   "id": "067e2a64-816b-4453-8846-4a2511a156a1",
   "metadata": {},
   "source": [
    "Awesome aggregating! Notice that the minimum weekly_sales is negative because some stores had more returns than sales."
   ]
  },
  {
   "cell_type": "markdown",
   "id": "18ef69ba-ff50-4f8a-a652-d47cf279842a",
   "metadata": {},
   "source": [
    "# Pivot tables (Video) 50 XP"
   ]
  },
  {
   "cell_type": "code",
   "execution_count": 46,
   "id": "31e85d55-0ae3-47cc-bf61-3689ff522019",
   "metadata": {},
   "outputs": [
    {
     "name": "stdout",
     "output_type": "stream",
     "text": [
      "----Metodo .groupby()     para agrupar por 1 columna y resumir 1 estadistico\n",
      "type\n",
      "A    2.337163e+08\n",
      "B    2.317840e+07\n",
      "Name: weekly_sales, dtype: float64\n",
      "----Metodo .pivot_table() para agrupar por 1 columna y resumir 1 estadistico\n",
      "      weekly_sales\n",
      "type              \n",
      "A     2.337163e+08\n",
      "B     2.317840e+07\n",
      "----Metodo .pivot_table() para agrupar por 1 columna y resumir 2 estadisticos\n",
      "              mean           sum\n",
      "      weekly_sales  weekly_sales\n",
      "type                            \n",
      "A     23674.667242  2.337163e+08\n",
      "B     25696.678370  2.317840e+07\n",
      "----Metodo .groupby()     para agrupar por 2 columas y resumir 1 estadistico\n",
      "type  is_holiday\n",
      "A     False         2.336927e+08\n",
      "      True          2.360181e+04\n",
      "B     False         2.317678e+07\n",
      "      True          1.621410e+03\n",
      "Name: weekly_sales, dtype: float64\n",
      "----Metodo .pivot_table() para agrupar por 2 columnas y resumir 1 estadistico\n",
      "                     sum          \n",
      "is_holiday         False     True \n",
      "type                              \n",
      "A           2.336927e+08  23601.81\n",
      "B           2.317678e+07   1621.41\n",
      "----Metodo .pivot_table para agrupoar por 2 columnas y resumir 1 estadistica, llenar datos NA con 0\n",
      "                     sum          \n",
      "is_holiday         False     True \n",
      "type                              \n",
      "A           2.336927e+08  23601.81\n",
      "B           2.317678e+07   1621.41\n",
      "----Metodo .pivot_table para agrupoar por 2 columnas y resumir 1 estadistica, llenar datos NA con 0, mostrar totales \n",
      "                     sum                        \n",
      "is_holiday         False      True           All\n",
      "type                                            \n",
      "A           2.336927e+08  23601.81  2.337163e+08\n",
      "B           2.317678e+07   1621.41  2.317840e+07\n",
      "All         2.568695e+08  25223.22  2.568947e+08\n"
     ]
    }
   ],
   "source": [
    "## PIVOT ON ONE VARIABLE\n",
    "print(\"----Metodo .groupby()     para agrupar por 1 columna y resumir 1 estadistico\")\n",
    "print( sales.groupby(\"type\")[\"weekly_sales\"].sum() )\n",
    "\n",
    "print(\"----Metodo .pivot_table() para agrupar por 1 columna y resumir 1 estadistico\")\n",
    "print( sales.pivot_table(values=\"weekly_sales\",index=\"type\",aggfunc=np.sum) )\n",
    "\n",
    "print(\"----Metodo .pivot_table() para agrupar por 1 columna y resumir 2 estadisticos\")\n",
    "print( sales.pivot_table(values=\"weekly_sales\",index=\"type\",aggfunc=[np.mean,np.sum]) )\n",
    "\n",
    "## PIVOT ON TWO VARIABLES\n",
    "\n",
    "print(\"----Metodo .groupby()     para agrupar por 2 columas y resumir 1 estadistico\")\n",
    "print( sales.groupby([\"type\",\"is_holiday\"])[\"weekly_sales\"].sum() )\n",
    "\n",
    "print(\"----Metodo .pivot_table() para agrupar por 2 columnas y resumir 1 estadistico\")\n",
    "print( sales.pivot_table(values=\"weekly_sales\",index=\"type\",columns=\"is_holiday\",aggfunc=[np.sum]) )\n",
    "\n",
    "## FILLING MISSING VALUES IN PIVOT TABLES\n",
    "\n",
    "print(\"----Metodo .pivot_table para agrupoar por 2 columnas y resumir 1 estadistica, llenar datos NA con 0\")\n",
    "print( sales.pivot_table(values=\"weekly_sales\",index=\"type\",columns=\"is_holiday\",aggfunc=[np.sum],fill_value=0) )\n",
    "\n",
    "print(\"----Metodo .pivot_table para agrupoar por 2 columnas y resumir 1 estadistica, llenar datos NA con 0, mostrar totales \")\n",
    "print( sales.pivot_table(values=\"weekly_sales\",index=\"type\",columns=\"is_holiday\",aggfunc=[np.sum],fill_value=0,margins=True) )"
   ]
  },
  {
   "cell_type": "markdown",
   "id": "19711186-9317-4818-afe4-2b8d799292d1",
   "metadata": {},
   "source": [
    "# Pivoting on one variable 100 XP"
   ]
  },
  {
   "cell_type": "raw",
   "id": "f6342168-7f9f-4735-87d4-dbd79bdd10c6",
   "metadata": {},
   "source": [
    "Exercise\n",
    "Pivoting on one variable\n",
    "Pivot tables are the standard way of aggregating data in spreadsheets. \n",
    "In pandas, pivot tables are essentially just another way of performing grouped calculations. \n",
    "That is, the .pivot_table() method is just an alternative to .groupby()\n",
    "\n",
    "In this exercise, you'll perform calculations using .pivot_table() to replicate the calculations you performed in the last lesson using .groupby()"
   ]
  },
  {
   "cell_type": "raw",
   "id": "06a61647-e4f6-4f7e-b168-f14a62ddb2f9",
   "metadata": {},
   "source": [
    "Instructions 1/3\n",
    "35 XP\n",
    "1\n",
    "Get the mean weekly_sales by type using .pivot_table() and store as mean_sales_by_type."
   ]
  },
  {
   "cell_type": "code",
   "execution_count": 47,
   "id": "0e3649af-50f1-4887-958d-cd605a4987ab",
   "metadata": {},
   "outputs": [
    {
     "name": "stdout",
     "output_type": "stream",
     "text": [
      "----Get the mean weekly_sales by type using .pivot_table() and store as mean_sales_by_type\n",
      "              mean\n",
      "      weekly_sales\n",
      "type              \n",
      "A     23674.667242\n",
      "B     25696.678370\n"
     ]
    }
   ],
   "source": [
    "print(\"----Get the mean weekly_sales by type using .pivot_table() and store as mean_sales_by_type\")\n",
    "mean_sales_by_type = sales.pivot_table(values=\"weekly_sales\",index=\"type\",aggfunc=[np.mean])\n",
    "print(  mean_sales_by_type )"
   ]
  },
  {
   "cell_type": "raw",
   "id": "e9a612db-cb55-4312-9ba0-75be6dcaa898",
   "metadata": {},
   "source": [
    "Instructions 2/3\n",
    "35 XP\n",
    "2\n",
    "Get the mean and median (using NumPy functions) of weekly_sales by type using .pivot_table() and store as mean_med_sales_by_type."
   ]
  },
  {
   "cell_type": "code",
   "execution_count": 48,
   "id": "7d9b9208-1472-4949-85dd-c4b5721b7823",
   "metadata": {},
   "outputs": [
    {
     "name": "stdout",
     "output_type": "stream",
     "text": [
      "----Get the mean and median (using NumPy functions) of weekly_sales by type using .pivot_table() and store as mean_med_sales_by_type\n",
      "              mean       median\n",
      "      weekly_sales weekly_sales\n",
      "type                           \n",
      "A     23674.667242     11943.92\n",
      "B     25696.678370     13336.08\n"
     ]
    }
   ],
   "source": [
    "print(\"----Get the mean and median (using NumPy functions) of weekly_sales by type using .pivot_table() and store as mean_med_sales_by_type\")\n",
    "mean_med_sales_by_type = sales.pivot_table(values=\"weekly_sales\",index=\"type\",aggfunc=[np.mean,np.median])\n",
    "print(mean_med_sales_by_type)"
   ]
  },
  {
   "cell_type": "raw",
   "id": "ec18ce63-2875-42cd-958e-4702e97dc259",
   "metadata": {},
   "source": [
    "Instructions 3/3\n",
    "30 XP\n",
    "3\n",
    "Get the mean of weekly_sales by type and is_holiday using .pivot_table() and store as mean_sales_by_type_holiday."
   ]
  },
  {
   "cell_type": "code",
   "execution_count": 49,
   "id": "9da46f4b-79b2-4a5b-af7c-d586a0a7f401",
   "metadata": {},
   "outputs": [
    {
     "name": "stdout",
     "output_type": "stream",
     "text": [
      "----Get the mean of weekly_sales by type and is_holiday using .pivot_table() and store as mean_sales_by_type_holiday.\n",
      "                    mean           \n",
      "is_holiday         False      True \n",
      "type                               \n",
      "A           23768.583523  590.04525\n",
      "B           25751.980533  810.70500\n"
     ]
    }
   ],
   "source": [
    "print(\"----Get the mean of weekly_sales by type and is_holiday using .pivot_table() and store as mean_sales_by_type_holiday.\")\n",
    "mean_sales_by_type_holiday = sales.pivot_table(values=\"weekly_sales\",index=\"type\",columns=\"is_holiday\",aggfunc=[np.mean])\n",
    "print(mean_sales_by_type_holiday)"
   ]
  },
  {
   "cell_type": "raw",
   "id": "36ff33f9-73ae-45c6-817b-52f3f5429a0e",
   "metadata": {},
   "source": [
    " Pivot tables are another way to do the same thing as a group-by-then-summarize."
   ]
  },
  {
   "cell_type": "markdown",
   "id": "a88e934c-437f-4dac-84b8-45cdf36da297",
   "metadata": {},
   "source": [
    "# Fill in missing values and sum values with pivot tables 100 XP"
   ]
  },
  {
   "cell_type": "raw",
   "id": "54d5b7d1-718b-4d97-836a-972b1abce290",
   "metadata": {},
   "source": [
    "Exercise\n",
    "Fill in missing values and sum values with pivot tables\n",
    "The .pivot_table() method has several useful arguments, including fill_value and margins.\n",
    "\n",
    "    -fill_value replaces missing values with a real value (known as imputation). \n",
    "                What to replace missing values with is a topic big enough to have its own course (Dealing with Missing Data in Python), \n",
    "                but the simplest thing to do is to substitute a dummy value.\n",
    "    -margins is a shortcut for when you pivoted by two variables, but also wanted to pivot by each of those variables separately: \n",
    "                it gives the row and column totals of the pivot table contents.\n",
    "In this exercise, you'll practice using these arguments to up your pivot table skills, which will help you crunch numbers more efficiently!"
   ]
  },
  {
   "cell_type": "raw",
   "id": "ae604b7d-6657-4ce9-a3c4-9bbc9b056a33",
   "metadata": {},
   "source": [
    "Instructions 1/2\n",
    "50 XP\n",
    "1\n",
    "Print the mean weekly_sales by department and type, filling in any missing values with 0."
   ]
  },
  {
   "cell_type": "code",
   "execution_count": 50,
   "id": "a4db16bc-db73-43b9-9c2a-0d183dfd8593",
   "metadata": {},
   "outputs": [
    {
     "name": "stdout",
     "output_type": "stream",
     "text": [
      "----Print the mean weekly_sales by department and type, filling in any missing values with 0\n",
      "                     mean               \n",
      "type                    A              B\n",
      "department                              \n",
      "1            30961.725379   44050.626667\n",
      "2            67600.158788  112958.526667\n",
      "3            17160.002955   30580.655000\n",
      "4            44285.399091   51219.654167\n",
      "5            34821.011364   63236.875000\n",
      "...                   ...            ...\n",
      "95          123933.787121   77082.102500\n",
      "96           21367.042857    9528.538333\n",
      "97           28471.266970    5828.873333\n",
      "98           12875.423182     217.428333\n",
      "99             379.123659       0.000000\n",
      "\n",
      "[80 rows x 2 columns]\n"
     ]
    }
   ],
   "source": [
    "print(\"----Print the mean weekly_sales by department and type, filling in any missing values with 0\")\n",
    "print( sales.pivot_table(values=\"weekly_sales\",index=\"department\",columns=\"type\",aggfunc=[np.mean],fill_value=0) )"
   ]
  },
  {
   "cell_type": "raw",
   "id": "3ae5b233-3a43-437f-991f-f214820de8a3",
   "metadata": {},
   "source": [
    "Instructions 2/2\n",
    "50 XP\n",
    "2\n",
    "Print the mean weekly_sales by department and type, filling in any missing values with 0 and summing all rows and columns."
   ]
  },
  {
   "cell_type": "code",
   "execution_count": 51,
   "id": "ffd326db-a740-472f-9089-7a011e6e9607",
   "metadata": {},
   "outputs": [
    {
     "name": "stdout",
     "output_type": "stream",
     "text": [
      "----Print the mean weekly_sales by department and type, filling in any missing values with 0 and summing all rows and columns.\n"
     ]
    },
    {
     "data": {
      "text/html": [
       "<div>\n",
       "<style scoped>\n",
       "    .dataframe tbody tr th:only-of-type {\n",
       "        vertical-align: middle;\n",
       "    }\n",
       "\n",
       "    .dataframe tbody tr th {\n",
       "        vertical-align: top;\n",
       "    }\n",
       "\n",
       "    .dataframe thead tr th {\n",
       "        text-align: left;\n",
       "    }\n",
       "\n",
       "    .dataframe thead tr:last-of-type th {\n",
       "        text-align: right;\n",
       "    }\n",
       "</style>\n",
       "<table border=\"1\" class=\"dataframe\">\n",
       "  <thead>\n",
       "    <tr>\n",
       "      <th></th>\n",
       "      <th colspan=\"3\" halign=\"left\">mean</th>\n",
       "    </tr>\n",
       "    <tr>\n",
       "      <th>type</th>\n",
       "      <th>A</th>\n",
       "      <th>B</th>\n",
       "      <th>All</th>\n",
       "    </tr>\n",
       "    <tr>\n",
       "      <th>department</th>\n",
       "      <th></th>\n",
       "      <th></th>\n",
       "      <th></th>\n",
       "    </tr>\n",
       "  </thead>\n",
       "  <tbody>\n",
       "    <tr>\n",
       "      <th>1</th>\n",
       "      <td>30961.725379</td>\n",
       "      <td>44050.626667</td>\n",
       "      <td>32052.467153</td>\n",
       "    </tr>\n",
       "    <tr>\n",
       "      <th>2</th>\n",
       "      <td>67600.158788</td>\n",
       "      <td>112958.526667</td>\n",
       "      <td>71380.022778</td>\n",
       "    </tr>\n",
       "    <tr>\n",
       "      <th>3</th>\n",
       "      <td>17160.002955</td>\n",
       "      <td>30580.655000</td>\n",
       "      <td>18278.390625</td>\n",
       "    </tr>\n",
       "    <tr>\n",
       "      <th>4</th>\n",
       "      <td>44285.399091</td>\n",
       "      <td>51219.654167</td>\n",
       "      <td>44863.253681</td>\n",
       "    </tr>\n",
       "    <tr>\n",
       "      <th>5</th>\n",
       "      <td>34821.011364</td>\n",
       "      <td>63236.875000</td>\n",
       "      <td>37189.000000</td>\n",
       "    </tr>\n",
       "    <tr>\n",
       "      <th>...</th>\n",
       "      <td>...</td>\n",
       "      <td>...</td>\n",
       "      <td>...</td>\n",
       "    </tr>\n",
       "    <tr>\n",
       "      <th>96</th>\n",
       "      <td>21367.042857</td>\n",
       "      <td>9528.538333</td>\n",
       "      <td>20337.607681</td>\n",
       "    </tr>\n",
       "    <tr>\n",
       "      <th>97</th>\n",
       "      <td>28471.266970</td>\n",
       "      <td>5828.873333</td>\n",
       "      <td>26584.400833</td>\n",
       "    </tr>\n",
       "    <tr>\n",
       "      <th>98</th>\n",
       "      <td>12875.423182</td>\n",
       "      <td>217.428333</td>\n",
       "      <td>11820.590278</td>\n",
       "    </tr>\n",
       "    <tr>\n",
       "      <th>99</th>\n",
       "      <td>379.123659</td>\n",
       "      <td>0.000000</td>\n",
       "      <td>379.123659</td>\n",
       "    </tr>\n",
       "    <tr>\n",
       "      <th>All</th>\n",
       "      <td>23674.667242</td>\n",
       "      <td>25696.678370</td>\n",
       "      <td>23843.950149</td>\n",
       "    </tr>\n",
       "  </tbody>\n",
       "</table>\n",
       "<p>81 rows × 3 columns</p>\n",
       "</div>"
      ],
      "text/plain": [
       "                    mean                             \n",
       "type                   A              B           All\n",
       "department                                           \n",
       "1           30961.725379   44050.626667  32052.467153\n",
       "2           67600.158788  112958.526667  71380.022778\n",
       "3           17160.002955   30580.655000  18278.390625\n",
       "4           44285.399091   51219.654167  44863.253681\n",
       "5           34821.011364   63236.875000  37189.000000\n",
       "...                  ...            ...           ...\n",
       "96          21367.042857    9528.538333  20337.607681\n",
       "97          28471.266970    5828.873333  26584.400833\n",
       "98          12875.423182     217.428333  11820.590278\n",
       "99            379.123659       0.000000    379.123659\n",
       "All         23674.667242   25696.678370  23843.950149\n",
       "\n",
       "[81 rows x 3 columns]"
      ]
     },
     "execution_count": 51,
     "metadata": {},
     "output_type": "execute_result"
    }
   ],
   "source": [
    "print(\"----Print the mean weekly_sales by department and type, filling in any missing values with 0 and summing all rows and columns.\")\n",
    "sales.pivot_table(values=\"weekly_sales\",index=\"department\",columns=\"type\",aggfunc=[np.mean],fill_value=0,margins=True)"
   ]
  },
  {
   "cell_type": "raw",
   "id": "2bf5221e-e36c-4b02-a741-98d1860ad530",
   "metadata": {},
   "source": [
    "You are now armed with pivot table skills that can help you compute summaries at multiple grouped levels in one line of code."
   ]
  },
  {
   "cell_type": "markdown",
   "id": "ed68c9ee-fe0d-4a89-b1eb-90d55dc358a7",
   "metadata": {},
   "source": [
    "# <span style=\"color:red\"> CHAPTER 3 Slicing and Indexing DataFrames </span>"
   ]
  },
  {
   "cell_type": "raw",
   "id": "72616064-b37f-4b99-b31e-8908d827d971",
   "metadata": {},
   "source": [
    "Indexes are supercharged row and column names. Learn how they can be combined with slicing for powerful DataFrame subsetting.\n",
    "\n",
    "Explicit indexes 50 XP (Video)\n",
    "\n",
    "Setting and removing indexes 100 XP\n",
    "\n",
    "Subsetting with .loc[] 100 XP\n",
    "\n",
    "Setting multi-level indexes 100 XP\n",
    "\n",
    "Sorting by index values 100 XP\n",
    "\n",
    "Slicing and subsetting with .loc and .iloc 50 XP (Video)\n",
    "\n",
    "Slicing index values 100 XP\n",
    "\n",
    "Slicing in both directions 100 XP\n",
    "\n",
    "Slicing time series 100 XP\n",
    "\n",
    "Subsetting by row/column number 100 XP\n",
    "\n",
    "Working with pivot tables 50 XP (Video)\n",
    "\n",
    "Pivot temperature by city and year 100 XP\n",
    "\n",
    "Subsetting pivot tables 100 XP\n",
    "\n",
    "Calculating on a pivot table 100 XP"
   ]
  },
  {
   "cell_type": "markdown",
   "id": "46d63fb6-8e7d-4049-9452-e5754eb09da9",
   "metadata": {},
   "source": [
    "# Explicit indexes (Video)"
   ]
  },
  {
   "cell_type": "code",
   "execution_count": 52,
   "id": "7baeb83d-d591-44f5-b247-d8512783b6d7",
   "metadata": {},
   "outputs": [],
   "source": [
    "import numpy as np\n",
    "import pandas as pd\n",
    "\n",
    "homlessness = pd.read_csv(\"homelessness.csv\")\n",
    "sales = pd.read_csv(\"sales_subset.csv\")\n",
    "temperatures = pd.read_csv(\"temperatures.csv\")"
   ]
  },
  {
   "cell_type": "code",
   "execution_count": 53,
   "id": "636ae936-2f90-4b46-9273-e0d8ce6503b5",
   "metadata": {},
   "outputs": [
    {
     "name": "stdout",
     "output_type": "stream",
     "text": [
      "----DataFrame Pandas original\n",
      "       Unnamed: 0        date     city        country  avg_temp_c\n",
      "0               0  2000-01-01  Abidjan  Côte D'Ivoire      27.293\n",
      "1               1  2000-02-01  Abidjan  Côte D'Ivoire      27.685\n",
      "2               2  2000-03-01  Abidjan  Côte D'Ivoire      29.061\n",
      "3               3  2000-04-01  Abidjan  Côte D'Ivoire      28.162\n",
      "4               4  2000-05-01  Abidjan  Côte D'Ivoire      27.547\n",
      "...           ...         ...      ...            ...         ...\n",
      "16495       16495  2013-05-01     Xian          China      18.979\n",
      "16496       16496  2013-06-01     Xian          China      23.522\n",
      "16497       16497  2013-07-01     Xian          China      25.251\n",
      "16498       16498  2013-08-01     Xian          China      24.528\n",
      "16499       16499  2013-09-01     Xian          China         NaN\n",
      "\n",
      "[16500 rows x 5 columns]\n",
      "----Arreglo Numpy de valores\n",
      "[[0 '2000-01-01' 'Abidjan' \"Côte D'Ivoire\" 27.29300000000001]\n",
      " [1 '2000-02-01' 'Abidjan' \"Côte D'Ivoire\" 27.685]\n",
      " [2 '2000-03-01' 'Abidjan' \"Côte D'Ivoire\" 29.061]\n",
      " ...\n",
      " [16497 '2013-07-01' 'Xian' 'China' 25.251]\n",
      " [16498 '2013-08-01' 'Xian' 'China' 24.528]\n",
      " [16499 '2013-09-01' 'Xian' 'China' nan]]\n",
      "----Columnas del dataset\n",
      "Index(['Unnamed: 0', 'date', 'city', 'country', 'avg_temp_c'], dtype='object')\n",
      "----Indices del dataset\n",
      "RangeIndex(start=0, stop=16500, step=1)\n"
     ]
    }
   ],
   "source": [
    "# PARTES DE UN DATAFRAME DE PANDAS\n",
    "\n",
    "print(\"----DataFrame Pandas original\")\n",
    "print(temperatures)\n",
    "\n",
    "print(\"----Arreglo Numpy de valores\")\n",
    "print(temperatures.values)\n",
    "\n",
    "print(\"----Columnas del dataset\")\n",
    "print(temperatures.columns)\n",
    "\n",
    "print(\"----Indices del dataset\")\n",
    "print(temperatures.index)"
   ]
  },
  {
   "cell_type": "code",
   "execution_count": 54,
   "id": "7cba7a4b-656d-4715-8978-9c03d7bf78a1",
   "metadata": {},
   "outputs": [
    {
     "name": "stdout",
     "output_type": "stream",
     "text": [
      "----DataFrame Pandas original\n",
      "       Unnamed: 0        date     city        country  avg_temp_c\n",
      "0               0  2000-01-01  Abidjan  Côte D'Ivoire      27.293\n",
      "1               1  2000-02-01  Abidjan  Côte D'Ivoire      27.685\n",
      "2               2  2000-03-01  Abidjan  Côte D'Ivoire      29.061\n",
      "3               3  2000-04-01  Abidjan  Côte D'Ivoire      28.162\n",
      "4               4  2000-05-01  Abidjan  Côte D'Ivoire      27.547\n",
      "...           ...         ...      ...            ...         ...\n",
      "16495       16495  2013-05-01     Xian          China      18.979\n",
      "16496       16496  2013-06-01     Xian          China      23.522\n",
      "16497       16497  2013-07-01     Xian          China      25.251\n",
      "16498       16498  2013-08-01     Xian          China      24.528\n",
      "16499       16499  2013-09-01     Xian          China         NaN\n",
      "\n",
      "[16500 rows x 5 columns]\n",
      "----Metodo .set_index() para fijar una columna como el indice del DataFrame\n",
      "               Unnamed: 0        date     city  avg_temp_c\n",
      "country                                                   \n",
      "Côte D'Ivoire           0  2000-01-01  Abidjan      27.293\n",
      "Côte D'Ivoire           1  2000-02-01  Abidjan      27.685\n",
      "Côte D'Ivoire           2  2000-03-01  Abidjan      29.061\n",
      "Côte D'Ivoire           3  2000-04-01  Abidjan      28.162\n",
      "Côte D'Ivoire           4  2000-05-01  Abidjan      27.547\n",
      "...                   ...         ...      ...         ...\n",
      "China               16495  2013-05-01     Xian      18.979\n",
      "China               16496  2013-06-01     Xian      23.522\n",
      "China               16497  2013-07-01     Xian      25.251\n",
      "China               16498  2013-08-01     Xian      24.528\n",
      "China               16499  2013-09-01     Xian         NaN\n",
      "\n",
      "[16500 rows x 4 columns]\n",
      "----Metodo .reset_index() para remover un indice\n",
      "             country  Unnamed: 0        date     city  avg_temp_c\n",
      "0      Côte D'Ivoire           0  2000-01-01  Abidjan      27.293\n",
      "1      Côte D'Ivoire           1  2000-02-01  Abidjan      27.685\n",
      "2      Côte D'Ivoire           2  2000-03-01  Abidjan      29.061\n",
      "3      Côte D'Ivoire           3  2000-04-01  Abidjan      28.162\n",
      "4      Côte D'Ivoire           4  2000-05-01  Abidjan      27.547\n",
      "...              ...         ...         ...      ...         ...\n",
      "16495          China       16495  2013-05-01     Xian      18.979\n",
      "16496          China       16496  2013-06-01     Xian      23.522\n",
      "16497          China       16497  2013-07-01     Xian      25.251\n",
      "16498          China       16498  2013-08-01     Xian      24.528\n",
      "16499          China       16499  2013-09-01     Xian         NaN\n",
      "\n",
      "[16500 rows x 5 columns]\n",
      "----Metodo .reset_index() para remover un indices, y despues eliminarlo del DataFrame\n",
      "       Unnamed: 0        date     city  avg_temp_c\n",
      "0               0  2000-01-01  Abidjan      27.293\n",
      "1               1  2000-02-01  Abidjan      27.685\n",
      "2               2  2000-03-01  Abidjan      29.061\n",
      "3               3  2000-04-01  Abidjan      28.162\n",
      "4               4  2000-05-01  Abidjan      27.547\n",
      "...           ...         ...      ...         ...\n",
      "16495       16495  2013-05-01     Xian      18.979\n",
      "16496       16496  2013-06-01     Xian      23.522\n",
      "16497       16497  2013-07-01     Xian      25.251\n",
      "16498       16498  2013-08-01     Xian      24.528\n",
      "16499       16499  2013-09-01     Xian         NaN\n",
      "\n",
      "[16500 rows x 4 columns]\n",
      "----Metodo .loc() para extraer filas segun el indice explicito\n",
      "         Unnamed: 0        date       city  avg_temp_c\n",
      "country                                               \n",
      "China          3135  2000-01-01  Changchun     -18.759\n",
      "China          3136  2000-02-01  Changchun     -13.105\n",
      "China          3137  2000-03-01  Changchun      -1.089\n",
      "China          3138  2000-04-01  Changchun       7.297\n",
      "China          3139  2000-05-01  Changchun      16.970\n",
      "...             ...         ...        ...         ...\n",
      "Mexico        10390  2013-05-01     Mexico      19.155\n",
      "Mexico        10391  2013-06-01     Mexico      18.924\n",
      "Mexico        10392  2013-07-01     Mexico      18.091\n",
      "Mexico        10393  2013-08-01     Mexico      17.882\n",
      "Mexico        10394  2013-09-01     Mexico      18.313\n",
      "\n",
      "[2805 rows x 4 columns]\n",
      "----Los valores del índice explicito que hayamos fijado se pueden repetir en el DataFrame\n",
      "               Unnamed: 0        date     city  avg_temp_c\n",
      "country                                                   \n",
      "Côte D'Ivoire           0  2000-01-01  Abidjan      27.293\n",
      "Côte D'Ivoire           1  2000-02-01  Abidjan      27.685\n",
      "Côte D'Ivoire           2  2000-03-01  Abidjan      29.061\n",
      "Côte D'Ivoire           3  2000-04-01  Abidjan      28.162\n",
      "Côte D'Ivoire           4  2000-05-01  Abidjan      27.547\n",
      "...                   ...         ...      ...         ...\n",
      "China               16495  2013-05-01     Xian      18.979\n",
      "China               16496  2013-06-01     Xian      23.522\n",
      "China               16497  2013-07-01     Xian      25.251\n",
      "China               16498  2013-08-01     Xian      24.528\n",
      "China               16499  2013-09-01     Xian         NaN\n",
      "\n",
      "[16500 rows x 4 columns]\n",
      "----Metodo .set_index() para fijar 2 columnas como indices del DataFrame\n",
      "                       Unnamed: 0        date  avg_temp_c\n",
      "country       city                                       \n",
      "Côte D'Ivoire Abidjan           0  2000-01-01      27.293\n",
      "              Abidjan           1  2000-02-01      27.685\n",
      "              Abidjan           2  2000-03-01      29.061\n",
      "              Abidjan           3  2000-04-01      28.162\n",
      "              Abidjan           4  2000-05-01      27.547\n",
      "...                           ...         ...         ...\n",
      "China         Xian          16495  2013-05-01      18.979\n",
      "              Xian          16496  2013-06-01      23.522\n",
      "              Xian          16497  2013-07-01      25.251\n",
      "              Xian          16498  2013-08-01      24.528\n",
      "              Xian          16499  2013-09-01         NaN\n",
      "\n",
      "[16500 rows x 3 columns]\n",
      "----Metodo .loc() para extraer filas usando el indice de primer nivel de jerarquia\n",
      "                   Unnamed: 0        date  avg_temp_c\n",
      "country city                                         \n",
      "China   Changchun        3135  2000-01-01     -18.759\n",
      "        Changchun        3136  2000-02-01     -13.105\n",
      "        Changchun        3137  2000-03-01      -1.089\n",
      "        Changchun        3138  2000-04-01       7.297\n",
      "        Changchun        3139  2000-05-01      16.970\n",
      "...                       ...         ...         ...\n",
      "        Xian            16495  2013-05-01      18.979\n",
      "        Xian            16496  2013-06-01      23.522\n",
      "        Xian            16497  2013-07-01      25.251\n",
      "        Xian            16498  2013-08-01      24.528\n",
      "        Xian            16499  2013-09-01         NaN\n",
      "\n",
      "[2640 rows x 3 columns]\n",
      "----Metodo .loc() para extraer filas usando el indice de primer y segundo nivel de jerarquia\n",
      "----Metodo .sort_index() para ordenar en base al indice o multi-indice\n",
      "                    Unnamed: 0        date  avg_temp_c\n",
      "country     city                                      \n",
      "Afghanistan Kabul         7260  2000-01-01       3.326\n",
      "            Kabul         7261  2000-02-01       3.454\n",
      "            Kabul         7262  2000-03-01       9.612\n",
      "            Kabul         7263  2000-04-01      17.925\n",
      "            Kabul         7264  2000-05-01      24.658\n",
      "...                        ...         ...         ...\n",
      "Zimbabwe    Harare        5605  2013-05-01      18.298\n",
      "            Harare        5606  2013-06-01      17.020\n",
      "            Harare        5607  2013-07-01      16.299\n",
      "            Harare        5608  2013-08-01      19.232\n",
      "            Harare        5609  2013-09-01         NaN\n",
      "\n",
      "[16500 rows x 3 columns]\n",
      "----Metodo .sort_index() para ordenar en base al indice jerarquico 2, indices jerarquico 1, en orden ascendente y descendente respectivamente\n",
      "                       Unnamed: 0        date  avg_temp_c\n",
      "country       city                                       \n",
      "Côte D'Ivoire Abidjan           0  2000-01-01      27.293\n",
      "              Abidjan           1  2000-02-01      27.685\n",
      "              Abidjan           2  2000-03-01      29.061\n",
      "              Abidjan           3  2000-04-01      28.162\n",
      "              Abidjan           4  2000-05-01      27.547\n",
      "...                           ...         ...         ...\n",
      "China         Xian          16495  2013-05-01      18.979\n",
      "              Xian          16496  2013-06-01      23.522\n",
      "              Xian          16497  2013-07-01      25.251\n",
      "              Xian          16498  2013-08-01      24.528\n",
      "              Xian          16499  2013-09-01         NaN\n",
      "\n",
      "[16500 rows x 3 columns]\n"
     ]
    }
   ],
   "source": [
    "# SET ONE COLUMN AS THE INDEX\n",
    "\n",
    "print(\"----DataFrame Pandas original\")\n",
    "print(temperatures)\n",
    "\n",
    "print(\"----Metodo .set_index() para fijar una columna como el indice del DataFrame\")\n",
    "temperatures_ind = temperatures.set_index(\"country\")\n",
    "print( temperatures_ind )\n",
    "\n",
    "# REMOVING AN INDEX\n",
    "\n",
    "print(\"----Metodo .reset_index() para remover un indice\")\n",
    "print(temperatures_ind.reset_index())\n",
    "\n",
    "print(\"----Metodo .reset_index() para remover un indices, y despues eliminarlo del DataFrame\")\n",
    "print( temperatures_ind.reset_index(drop=True) )\n",
    "\n",
    "# SUBSETTING ROWS WITH LOC AND ONE EXPLICIT INDEX\n",
    "print(\"----Metodo .loc() para extraer filas segun el indice explicito\")\n",
    "print( temperatures_ind.loc[[\"China\",\"Mexico\"]] )\n",
    "\n",
    "# VALUES IN INDEX DON'T NEED TO BE UNIQUE\n",
    "print(\"----Los valores del índice explicito que hayamos fijado se pueden repetir en el DataFrame\")\n",
    "print(temperatures_ind)\n",
    "\n",
    "# SET MULTIPLE COLUMNS AS THE INDEX / MULTI-LEVEL INDEX / HIERARCHICAL INDEX\n",
    "print(\"----Metodo .set_index() para fijar 2 columnas como indices del DataFrame\")\n",
    "temperatures_index = temperatures.set_index([\"country\",\"city\"])\n",
    "print(temperatures_index)\n",
    "\n",
    "# SUBSETTING ROWS WITH .LOC() FROM HIERARCHICAL INDEX\n",
    "print(\"----Metodo .loc() para extraer filas usando el indice de primer nivel de jerarquia\")\n",
    "print( temperatures_index.loc[[\"China\"]] )\n",
    "\n",
    "print(\"----Metodo .loc() para extraer filas usando el indice de primer y segundo nivel de jerarquia\")\n",
    "temperatures_index.loc[[(\"China\",\"Xian\"),(\"China\",\"Xian\")]]\n",
    "\n",
    "# SORTING BY INDEX VALUES\n",
    "print(\"----Metodo .sort_index() para ordenar en base al indice o multi-indice\")\n",
    "print( temperatures_index.sort_index() )\n",
    "\n",
    "print(\"----Metodo .sort_index() para ordenar en base al indice jerarquico 2, indices jerarquico 1, en orden ascendente y descendente respectivamente\")\n",
    "print( temperatures_index.sort_index(level=[\"city\",\"country\"],ascending=[True,False]) )"
   ]
  },
  {
   "cell_type": "markdown",
   "id": "b744336d-c40b-4fb7-9bcb-5033f8d55c35",
   "metadata": {},
   "source": [
    "# Setting and removing indexes 100 XP"
   ]
  },
  {
   "cell_type": "raw",
   "id": "94b2f6b1-2f2d-4c2b-8864-7aec41545d0c",
   "metadata": {},
   "source": [
    "Pandas allows you to designate columns as an index. \n",
    "This enables cleaner code when taking subsets (as well as providing more efficient lookup under some circumstances).\n",
    "\n",
    "In this chapter, you'll be exploring temperatures, a DataFrame of average temperatures in cities around the world. pandas is loaded as pd."
   ]
  },
  {
   "cell_type": "raw",
   "id": "de62342f-029b-496a-b9de-aee66ae260fc",
   "metadata": {},
   "source": [
    "Instructions\n",
    "100 XP\n",
    "Look at temperatures.\n",
    "Set the index of temperatures to \"city\", assigning to temperatures_ind.\n",
    "Look at temperatures_ind. How is it different from temperatures?\n",
    "Reset the index of temperatures_ind, keeping its contents.\n",
    "Reset the index of temperatures_ind, dropping its contents."
   ]
  },
  {
   "cell_type": "code",
   "execution_count": 55,
   "id": "743dddce-2391-4994-8f1a-79176de46ced",
   "metadata": {},
   "outputs": [
    {
     "name": "stdout",
     "output_type": "stream",
     "text": [
      "----Look at temperatures\n",
      "       Unnamed: 0        date     city        country  avg_temp_c\n",
      "0               0  2000-01-01  Abidjan  Côte D'Ivoire      27.293\n",
      "1               1  2000-02-01  Abidjan  Côte D'Ivoire      27.685\n",
      "2               2  2000-03-01  Abidjan  Côte D'Ivoire      29.061\n",
      "3               3  2000-04-01  Abidjan  Côte D'Ivoire      28.162\n",
      "4               4  2000-05-01  Abidjan  Côte D'Ivoire      27.547\n",
      "...           ...         ...      ...            ...         ...\n",
      "16495       16495  2013-05-01     Xian          China      18.979\n",
      "16496       16496  2013-06-01     Xian          China      23.522\n",
      "16497       16497  2013-07-01     Xian          China      25.251\n",
      "16498       16498  2013-08-01     Xian          China      24.528\n",
      "16499       16499  2013-09-01     Xian          China         NaN\n",
      "\n",
      "[16500 rows x 5 columns]\n",
      "----Set the index of temperatures to 'city', assigning to temperatures_ind\n",
      "         Unnamed: 0        date        country  avg_temp_c\n",
      "city                                                      \n",
      "Abidjan           0  2000-01-01  Côte D'Ivoire      27.293\n",
      "Abidjan           1  2000-02-01  Côte D'Ivoire      27.685\n",
      "Abidjan           2  2000-03-01  Côte D'Ivoire      29.061\n",
      "Abidjan           3  2000-04-01  Côte D'Ivoire      28.162\n",
      "Abidjan           4  2000-05-01  Côte D'Ivoire      27.547\n",
      "...             ...         ...            ...         ...\n",
      "Xian          16495  2013-05-01          China      18.979\n",
      "Xian          16496  2013-06-01          China      23.522\n",
      "Xian          16497  2013-07-01          China      25.251\n",
      "Xian          16498  2013-08-01          China      24.528\n",
      "Xian          16499  2013-09-01          China         NaN\n",
      "\n",
      "[16500 rows x 4 columns]\n",
      "----Reset the index of temperatures_ind, keeping its contents.\n",
      "          city  Unnamed: 0        date        country  avg_temp_c\n",
      "0      Abidjan           0  2000-01-01  Côte D'Ivoire      27.293\n",
      "1      Abidjan           1  2000-02-01  Côte D'Ivoire      27.685\n",
      "2      Abidjan           2  2000-03-01  Côte D'Ivoire      29.061\n",
      "3      Abidjan           3  2000-04-01  Côte D'Ivoire      28.162\n",
      "4      Abidjan           4  2000-05-01  Côte D'Ivoire      27.547\n",
      "...        ...         ...         ...            ...         ...\n",
      "16495     Xian       16495  2013-05-01          China      18.979\n",
      "16496     Xian       16496  2013-06-01          China      23.522\n",
      "16497     Xian       16497  2013-07-01          China      25.251\n",
      "16498     Xian       16498  2013-08-01          China      24.528\n",
      "16499     Xian       16499  2013-09-01          China         NaN\n",
      "\n",
      "[16500 rows x 5 columns]\n",
      "----Reset the index of temperatures_ind, dropping its contents.\n",
      "       Unnamed: 0        date        country  avg_temp_c\n",
      "0               0  2000-01-01  Côte D'Ivoire      27.293\n",
      "1               1  2000-02-01  Côte D'Ivoire      27.685\n",
      "2               2  2000-03-01  Côte D'Ivoire      29.061\n",
      "3               3  2000-04-01  Côte D'Ivoire      28.162\n",
      "4               4  2000-05-01  Côte D'Ivoire      27.547\n",
      "...           ...         ...            ...         ...\n",
      "16495       16495  2013-05-01          China      18.979\n",
      "16496       16496  2013-06-01          China      23.522\n",
      "16497       16497  2013-07-01          China      25.251\n",
      "16498       16498  2013-08-01          China      24.528\n",
      "16499       16499  2013-09-01          China         NaN\n",
      "\n",
      "[16500 rows x 4 columns]\n"
     ]
    }
   ],
   "source": [
    "print(\"----Look at temperatures\")\n",
    "print(temperatures)\n",
    "\n",
    "print(\"----Set the index of temperatures to 'city', assigning to temperatures_ind\")\n",
    "temperatures_ind = temperatures.set_index([\"city\"])\n",
    "print(temperatures_ind)\n",
    "\n",
    "print(\"----Reset the index of temperatures_ind, keeping its contents.\")\n",
    "print( temperatures_ind.reset_index())\n",
    "\n",
    "print(\"----Reset the index of temperatures_ind, dropping its contents.\")\n",
    "print( temperatures_ind.reset_index(drop=True) )"
   ]
  },
  {
   "cell_type": "raw",
   "id": "dae44d40-19e2-4ae8-8039-7c2fe097ac9a",
   "metadata": {},
   "source": [
    " Setting an index allows more concise code for subsetting for rows of a categorical variable via .loc[]."
   ]
  },
  {
   "cell_type": "markdown",
   "id": "2aa9e9e7-9400-4de7-9ec9-99eb82e2250c",
   "metadata": {},
   "source": [
    "# Subsetting with .loc[] 100 XP"
   ]
  },
  {
   "cell_type": "raw",
   "id": "8aa76589-8856-4ec3-a92b-1c6ed217b336",
   "metadata": {},
   "source": [
    "The killer feature for indexes is .loc[]: a subsetting method that accepts index values. When you pass it a single argument, it will take a subset of rows.\n",
    "\n",
    "The code for subsetting using .loc[] can be easier to read than standard square bracket subsetting, which can make your code less burdensome to maintain."
   ]
  },
  {
   "cell_type": "raw",
   "id": "6241788d-4531-42c8-8d99-02fb6127f2db",
   "metadata": {},
   "source": [
    "Instructions\n",
    "100 XP\n",
    "Create a list called cities that contains \"Moscow\" and \"Saint Petersburg\".\n",
    "Use [] subsetting to filter temperatures for rows where the city column takes a value in the cities list.\n",
    "Use .loc[] subsetting to filter temperatures_ind for rows where the city is in the cities list."
   ]
  },
  {
   "cell_type": "code",
   "execution_count": 56,
   "id": "1ee1b1f3-49bc-41d6-ad64-059f17a6ac0e",
   "metadata": {},
   "outputs": [
    {
     "name": "stdout",
     "output_type": "stream",
     "text": [
      "----Create a list called cities that contains 'Moscow' and 'Saint Petersburg' \n",
      "['Moscow', 'Saint Petersburg']\n",
      "----Use [] subsetting to filter temperatures for rows where the city column takes a value in the cities list\n",
      "       Unnamed: 0        date              city country  avg_temp_c\n",
      "10725       10725  2000-01-01            Moscow  Russia      -7.313\n",
      "10726       10726  2000-02-01            Moscow  Russia      -3.551\n",
      "10727       10727  2000-03-01            Moscow  Russia      -1.661\n",
      "10728       10728  2000-04-01            Moscow  Russia      10.096\n",
      "10729       10729  2000-05-01            Moscow  Russia      10.357\n",
      "...           ...         ...               ...     ...         ...\n",
      "13360       13360  2013-05-01  Saint Petersburg  Russia      12.355\n",
      "13361       13361  2013-06-01  Saint Petersburg  Russia      17.185\n",
      "13362       13362  2013-07-01  Saint Petersburg  Russia      17.234\n",
      "13363       13363  2013-08-01  Saint Petersburg  Russia      17.153\n",
      "13364       13364  2013-09-01  Saint Petersburg  Russia         NaN\n",
      "\n",
      "[330 rows x 5 columns]\n",
      "----Use .loc[] subsetting to filter temperatures_ind for rows where the city is in the cities list.\n",
      "                  Unnamed: 0        date country  avg_temp_c\n",
      "city                                                        \n",
      "Moscow                 10725  2000-01-01  Russia      -7.313\n",
      "Moscow                 10726  2000-02-01  Russia      -3.551\n",
      "Moscow                 10727  2000-03-01  Russia      -1.661\n",
      "Moscow                 10728  2000-04-01  Russia      10.096\n",
      "Moscow                 10729  2000-05-01  Russia      10.357\n",
      "...                      ...         ...     ...         ...\n",
      "Saint Petersburg       13360  2013-05-01  Russia      12.355\n",
      "Saint Petersburg       13361  2013-06-01  Russia      17.185\n",
      "Saint Petersburg       13362  2013-07-01  Russia      17.234\n",
      "Saint Petersburg       13363  2013-08-01  Russia      17.153\n",
      "Saint Petersburg       13364  2013-09-01  Russia         NaN\n",
      "\n",
      "[330 rows x 4 columns]\n"
     ]
    }
   ],
   "source": [
    "print(\"----Create a list called cities that contains 'Moscow' and 'Saint Petersburg' \")\n",
    "cities = [\"Moscow\",\"Saint Petersburg\"]\n",
    "print(cities)\n",
    "\n",
    "print(\"----Use [] subsetting to filter temperatures for rows where the city column takes a value in the cities list\")\n",
    "print( temperatures[temperatures[\"city\"].isin(cities)] )\n",
    "\n",
    "print(\"----Use .loc[] subsetting to filter temperatures_ind for rows where the city is in the cities list.\")\n",
    "print( temperatures_ind.loc[[\"Moscow\",\"Saint Petersburg\"]] )"
   ]
  },
  {
   "cell_type": "markdown",
   "id": "a57e35b2-5407-4411-be0a-edcf08cac52e",
   "metadata": {},
   "source": [
    "# Setting multi-level indexes 100 XP"
   ]
  },
  {
   "cell_type": "raw",
   "id": "84e62e8e-42e0-4f20-a087-8d0435cbef4d",
   "metadata": {},
   "source": [
    "Indexes can also be made out of multiple columns, forming a multi-level index (sometimes called a hierarchical index). \n",
    "There is a trade-off to using these.\n",
    "\n",
    "The benefit is that multi-level indexes make it more natural to reason about nested categorical variables. \n",
    "For example, in a clinical trial, you might have control and treatment groups. \n",
    "Then each test subject belongs to one or another group, and we can say that a test subject is nested inside the treatment group. \n",
    "Similarly, in the temperature dataset, the city is located in the country, so we can say a city is nested inside the country.\n",
    "\n",
    "The main downside is that the code for manipulating indexes is different from the code for manipulating columns, so you have to learn two syntaxes and keep track of how your data is represented."
   ]
  },
  {
   "cell_type": "raw",
   "id": "ded3cbcf-6e7e-4328-960f-a067959a5019",
   "metadata": {},
   "source": [
    "Instructions\n",
    "100 XP\n",
    "Set the index of temperatures to the \"country\" and \"city\" columns, and assign this to temperatures_ind.\n",
    "Specify two country/city pairs to keep: \"Brazil\"/\"Rio De Janeiro\" and \"Pakistan\"/\"Lahore\", assigning to rows_to_keep.\n",
    "Print and subset temperatures_ind for rows_to_keep using .loc[]."
   ]
  },
  {
   "cell_type": "code",
   "execution_count": 57,
   "id": "6c9d9e42-e444-4595-9a16-e12d251d21e6",
   "metadata": {},
   "outputs": [
    {
     "name": "stdout",
     "output_type": "stream",
     "text": [
      "----Set the index of temperatures to the 'country' and 'city' columns, and assign this to temperatures_ind\n",
      "                       Unnamed: 0        date  avg_temp_c\n",
      "country       city                                       \n",
      "Côte D'Ivoire Abidjan           0  2000-01-01      27.293\n",
      "              Abidjan           1  2000-02-01      27.685\n",
      "              Abidjan           2  2000-03-01      29.061\n",
      "              Abidjan           3  2000-04-01      28.162\n",
      "              Abidjan           4  2000-05-01      27.547\n",
      "...                           ...         ...         ...\n",
      "China         Xian          16495  2013-05-01      18.979\n",
      "              Xian          16496  2013-06-01      23.522\n",
      "              Xian          16497  2013-07-01      25.251\n",
      "              Xian          16498  2013-08-01      24.528\n",
      "              Xian          16499  2013-09-01         NaN\n",
      "\n",
      "[16500 rows x 3 columns]\n",
      "----Specify two country/city pairs to keep: 'Brazil'/'Rio De Janeiro' and 'Pakistan'/'Lahore', assigning to rows_to_keep\n",
      "[('Brazil', 'Rio De Janeiro'), ('Pakistan', 'Lahore')]\n",
      "----Print and subset temperatures_ind for rows_to_keep using .loc[]\n",
      "                         Unnamed: 0        date  avg_temp_c\n",
      "country  city                                              \n",
      "Brazil   Rio De Janeiro       12540  2000-01-01      25.974\n",
      "         Rio De Janeiro       12541  2000-02-01      26.699\n",
      "         Rio De Janeiro       12542  2000-03-01      26.270\n",
      "         Rio De Janeiro       12543  2000-04-01      25.750\n",
      "         Rio De Janeiro       12544  2000-05-01      24.356\n",
      "...                             ...         ...         ...\n",
      "Pakistan Lahore                8575  2013-05-01      33.457\n",
      "         Lahore                8576  2013-06-01      34.456\n",
      "         Lahore                8577  2013-07-01      33.279\n",
      "         Lahore                8578  2013-08-01      31.511\n",
      "         Lahore                8579  2013-09-01         NaN\n",
      "\n",
      "[330 rows x 3 columns]\n"
     ]
    }
   ],
   "source": [
    "print(\"----Set the index of temperatures to the 'country' and 'city' columns, and assign this to temperatures_ind\")\n",
    "temperatures_ind = temperatures.set_index([\"country\",\"city\"])\n",
    "print(temperatures_ind)\n",
    "\n",
    "print(\"----Specify two country/city pairs to keep: 'Brazil'/'Rio De Janeiro' and 'Pakistan'/'Lahore', assigning to rows_to_keep\")\n",
    "rows_to_keep = [(\"Brazil\",\"Rio De Janeiro\"),(\"Pakistan\",\"Lahore\")]\n",
    "print(rows_to_keep)\n",
    "\n",
    "print(\"----Print and subset temperatures_ind for rows_to_keep using .loc[]\")\n",
    "print(temperatures_ind.loc[rows_to_keep])"
   ]
  },
  {
   "cell_type": "raw",
   "id": "13b2ce05-362b-45fc-bf1f-8abea5670a19",
   "metadata": {},
   "source": [
    "Multi-level indexes can make it easy to comprehend your dataset when one category is nested inside another category."
   ]
  },
  {
   "cell_type": "markdown",
   "id": "8bda79a2-eba3-4852-baff-cd396a57e831",
   "metadata": {},
   "source": [
    "# Sorting by index values 100 XP"
   ]
  },
  {
   "cell_type": "raw",
   "id": "4b555a4f-c997-4d30-a69b-e7c3ca314e80",
   "metadata": {},
   "source": [
    "Previously, you changed the order of the rows in a DataFrame by calling .sort_values().\n",
    "It's also useful to be able to sort by elements in the index. For this, you need to use .sort_index().\n",
    "\n",
    "pandas is loaded as pd. temperatures_ind has a multi-level index of country and city, and is available."
   ]
  },
  {
   "cell_type": "raw",
   "id": "2540dcec-4a76-4b70-b2a4-a2769836da23",
   "metadata": {},
   "source": [
    "Instructions\n",
    "100 XP\n",
    "Sort temperatures_ind by the index values.\n",
    "Sort temperatures_ind by the index values at the \"city\" level.\n",
    "Sort temperatures_ind by ascending country then descending city.\n",
    "\n",
    "Take Hint (-30 XP)"
   ]
  },
  {
   "cell_type": "code",
   "execution_count": 58,
   "id": "f3e6b0c9-26e0-43e3-bfb8-88de63ae3127",
   "metadata": {},
   "outputs": [
    {
     "name": "stdout",
     "output_type": "stream",
     "text": [
      "----Sort temperatures_ind by the index values\n",
      "                    Unnamed: 0        date  avg_temp_c\n",
      "country     city                                      \n",
      "Afghanistan Kabul         7260  2000-01-01       3.326\n",
      "            Kabul         7261  2000-02-01       3.454\n",
      "            Kabul         7262  2000-03-01       9.612\n",
      "            Kabul         7263  2000-04-01      17.925\n",
      "            Kabul         7264  2000-05-01      24.658\n",
      "...                        ...         ...         ...\n",
      "Zimbabwe    Harare        5605  2013-05-01      18.298\n",
      "            Harare        5606  2013-06-01      17.020\n",
      "            Harare        5607  2013-07-01      16.299\n",
      "            Harare        5608  2013-08-01      19.232\n",
      "            Harare        5609  2013-09-01         NaN\n",
      "\n",
      "[16500 rows x 3 columns]\n",
      "----Sort temperatures_ind by the index values at the 'city' level\n",
      "                       Unnamed: 0        date  avg_temp_c\n",
      "country       city                                       \n",
      "Côte D'Ivoire Abidjan           0  2000-01-01      27.293\n",
      "              Abidjan           1  2000-02-01      27.685\n",
      "              Abidjan           2  2000-03-01      29.061\n",
      "              Abidjan           3  2000-04-01      28.162\n",
      "              Abidjan           4  2000-05-01      27.547\n",
      "...                           ...         ...         ...\n",
      "China         Xian          16495  2013-05-01      18.979\n",
      "              Xian          16496  2013-06-01      23.522\n",
      "              Xian          16497  2013-07-01      25.251\n",
      "              Xian          16498  2013-08-01      24.528\n",
      "              Xian          16499  2013-09-01         NaN\n",
      "\n",
      "[16500 rows x 3 columns]\n",
      "----Sort temperatures_ind by ascending country then descending city\n",
      "                    Unnamed: 0        date  avg_temp_c\n",
      "country     city                                      \n",
      "Afghanistan Kabul         7260  2000-01-01       3.326\n",
      "            Kabul         7261  2000-02-01       3.454\n",
      "            Kabul         7262  2000-03-01       9.612\n",
      "            Kabul         7263  2000-04-01      17.925\n",
      "            Kabul         7264  2000-05-01      24.658\n",
      "...                        ...         ...         ...\n",
      "Zimbabwe    Harare        5605  2013-05-01      18.298\n",
      "            Harare        5606  2013-06-01      17.020\n",
      "            Harare        5607  2013-07-01      16.299\n",
      "            Harare        5608  2013-08-01      19.232\n",
      "            Harare        5609  2013-09-01         NaN\n",
      "\n",
      "[16500 rows x 3 columns]\n"
     ]
    }
   ],
   "source": [
    "print(\"----Sort temperatures_ind by the index values\")\n",
    "print( temperatures_ind.sort_index() )\n",
    "\n",
    "print(\"----Sort temperatures_ind by the index values at the 'city' level\")\n",
    "print( temperatures_ind.sort_index(level=[\"city\"],ascending=[True]) )\n",
    "\n",
    "print(\"----Sort temperatures_ind by ascending country then descending city\")\n",
    "print( temperatures_ind.sort_index(level=[\"country\",\"city\"],ascending=[True,False]) )"
   ]
  },
  {
   "cell_type": "raw",
   "id": "96f8c30a-5077-4975-9479-f61b69dea844",
   "metadata": {},
   "source": [
    "Sorting index values is similar to sorting values in columns, exectp that you call .sort_index() instead of .sort_values()."
   ]
  },
  {
   "cell_type": "markdown",
   "id": "e8ecc823-5106-4e0e-8a1d-14d79d57e242",
   "metadata": {},
   "source": [
    "# Slicing and subsetting with .loc and .iloc (Video)"
   ]
  },
  {
   "cell_type": "raw",
   "id": "6d2e0fb8-ed19-41cc-aa46-96041e340735",
   "metadata": {},
   "source": [
    "Rebanar es una técnica para seleccionar elementos consecutivos de objetos"
   ]
  },
  {
   "cell_type": "code",
   "execution_count": 59,
   "id": "b7715f27-3479-43cc-bad8-32ee46228bd1",
   "metadata": {},
   "outputs": [
    {
     "name": "stdout",
     "output_type": "stream",
     "text": [
      "----Rebanar sobre una lista, en un rango determinado\n",
      "['chow chow', 'schnauzer', 'labrador']\n",
      "----Rebanar sobre una lista, desde el inicio de la lista hasta una posición determinada\n",
      "['labrador', 'poodle', 'chow chow']\n",
      "----Rebanar sobre una lista, desde el inicio hasta el fin de la lista\n",
      "['labrador', 'poodle', 'chow chow', 'schnauzer', 'labrador', 'chihuahua', 'sn bernardo']\n",
      "----Metodo .set_index() para fijar indices multiples y .sort_index() para ordenar por el indice\n",
      "                    Unnamed: 0        date  avg_temp_c\n",
      "country     city                                      \n",
      "Afghanistan Kabul         7260  2000-01-01       3.326\n",
      "            Kabul         7261  2000-02-01       3.454\n",
      "            Kabul         7262  2000-03-01       9.612\n",
      "            Kabul         7263  2000-04-01      17.925\n",
      "            Kabul         7264  2000-05-01      24.658\n",
      "...                        ...         ...         ...\n",
      "Zimbabwe    Harare        5605  2013-05-01      18.298\n",
      "            Harare        5606  2013-06-01      17.020\n",
      "            Harare        5607  2013-07-01      16.299\n",
      "            Harare        5608  2013-08-01      19.232\n",
      "            Harare        5609  2013-09-01         NaN\n",
      "\n",
      "[16500 rows x 3 columns]\n",
      "----Rebanar usando .loc() y usando el indice de mayor jerarquia\n",
      "                    Unnamed: 0        date  avg_temp_c\n",
      "country     city                                      \n",
      "Afghanistan Kabul         7260  2000-01-01       3.326\n",
      "            Kabul         7261  2000-02-01       3.454\n",
      "            Kabul         7262  2000-03-01       9.612\n",
      "            Kabul         7263  2000-04-01      17.925\n",
      "            Kabul         7264  2000-05-01      24.658\n",
      "...                        ...         ...         ...\n",
      "Angola      Luanda        9400  2013-05-01      25.278\n",
      "            Luanda        9401  2013-06-01      22.864\n",
      "            Luanda        9402  2013-07-01      20.706\n",
      "            Luanda        9403  2013-08-01      21.130\n",
      "            Luanda        9404  2013-09-01         NaN\n",
      "\n",
      "[330 rows x 3 columns]\n",
      "----Rebanar usando .loc() y usando el primer y segundo indice de jerarquia. Rebanar a traves de tuplas\n",
      "                   Unnamed: 0        date  avg_temp_c\n",
      "country     city                                     \n",
      "Afghanistan Kabul        7260  2000-01-01       3.326\n",
      "            Kabul        7261  2000-02-01       3.454\n",
      "            Kabul        7262  2000-03-01       9.612\n",
      "            Kabul        7263  2000-04-01      17.925\n",
      "            Kabul        7264  2000-05-01      24.658\n",
      "...                       ...         ...         ...\n",
      "            Kabul        7420  2013-05-01      21.245\n",
      "            Kabul        7421  2013-06-01      25.859\n",
      "            Kabul        7422  2013-07-01      26.805\n",
      "            Kabul        7423  2013-08-01      24.974\n",
      "            Kabul        7424  2013-09-01         NaN\n",
      "\n",
      "[165 rows x 3 columns]\n",
      "----Rebanar usando .loc() traer todas las filas y solo algunas columnas\n",
      "                          date  avg_temp_c\n",
      "country     city                          \n",
      "Afghanistan Kabul   2000-01-01       3.326\n",
      "            Kabul   2000-02-01       3.454\n",
      "            Kabul   2000-03-01       9.612\n",
      "            Kabul   2000-04-01      17.925\n",
      "            Kabul   2000-05-01      24.658\n",
      "...                        ...         ...\n",
      "Zimbabwe    Harare  2013-05-01      18.298\n",
      "            Harare  2013-06-01      17.020\n",
      "            Harare  2013-07-01      16.299\n",
      "            Harare  2013-08-01      19.232\n",
      "            Harare  2013-09-01         NaN\n",
      "\n",
      "[16500 rows x 2 columns]\n",
      "----Rebanar usando .loc() traer algunas columnas y algunas filas\n",
      "----Elegir la columna Date como indice, despues ordenarla\n",
      "            Unnamed: 0       city        country  avg_temp_c\n",
      "date                                                        \n",
      "2000-01-01           0    Abidjan  Côte D'Ivoire      27.293\n",
      "2000-01-01        8415     Lahore       Pakistan      12.792\n",
      "2000-01-01       15345   Tangshan          China      -5.406\n",
      "2000-01-01        5115      Gizeh          Egypt      12.669\n",
      "2000-01-01        8580    Lakhnau          India      15.152\n",
      "...                ...        ...            ...         ...\n",
      "2013-09-01       11549    Nanjing          China         NaN\n",
      "2013-09-01       11714  New Delhi          India         NaN\n",
      "2013-09-01       11879   New York  United States      17.408\n",
      "2013-09-01       12209     Peking          China         NaN\n",
      "2013-09-01       16499       Xian          China         NaN\n",
      "\n",
      "[16500 rows x 4 columns]\n",
      "----Rebanar usando .loc() en un rango fechas\n",
      "----Rebanar usando .loc() en un rango de fechas usando solo en año\n",
      "----Rebanar usando .iloc() \n",
      "   Unnamed: 0        date\n",
      "0           0  2000-01-01\n",
      "1           1  2000-02-01\n"
     ]
    }
   ],
   "source": [
    "# SLICING LISTS\n",
    "\n",
    "print(\"----Rebanar sobre una lista, en un rango determinado\")\n",
    "breeds = [\"labrador\",\"poodle\",\"chow chow\", \"schnauzer\", \"labrador\", \"chihuahua\",\"sn bernardo\"]\n",
    "print( breeds[2:5] )\n",
    "\n",
    "print(\"----Rebanar sobre una lista, desde el inicio de la lista hasta una posición determinada\")\n",
    "print(breeds[:3])\n",
    "\n",
    "print(\"----Rebanar sobre una lista, desde el inicio hasta el fin de la lista\")\n",
    "print(breeds[:])\n",
    "\n",
    "# SORT INDEX BEFORE SLICE DATAFRAMES\n",
    "print(\"----Metodo .set_index() para fijar indices multiples y .sort_index() para ordenar por el indice\")\n",
    "temperatures_i_s = temperatures.set_index([\"country\",\"city\"]).sort_index()\n",
    "print(temperatures_i_s)\n",
    "\n",
    "# SLICE ROWS BY FIRST LEVEL INDEX\n",
    "print(\"----Rebanar usando .loc() y usando el indice de mayor jerarquia\")\n",
    "print( temperatures_i_s.loc[\"Afghanistan\":\"Angola\"] )\n",
    "\n",
    "# SLICE ROWS BY SECOND LEVEL INDEX\n",
    "print(\"----Rebanar usando .loc() y usando el primer y segundo indice de jerarquia. Rebanar a traves de tuplas\")\n",
    "print( temperatures_i_s.loc[(\"Afghanistan\",\"Kabul\"):(\"Afghanistan\",\"Kabul\")] )\n",
    "\n",
    "# SLICING COLUMNS\n",
    "print(\"----Rebanar usando .loc() traer todas las filas y solo algunas columnas\")\n",
    "print( temperatures_i_s.loc[:,\"date\":\"avg_temp_c\"] )\n",
    "\n",
    "# SLICING ROWS AND COLUMNS\n",
    "print(\"----Rebanar usando .loc() traer algunas columnas y algunas filas\")\n",
    "temperatures_i_s.loc[\"Afghanistan\":\"Afghanistan\" , \"date\":\"avg_temp_c\"]\n",
    "\n",
    "# SUBSET BY DATE\n",
    "print(\"----Elegir la columna Date como indice, despues ordenarla\")\n",
    "temperatures_d_i = temperatures.set_index(\"date\").sort_index()\n",
    "print(temperatures_d_i)\n",
    "\n",
    "# SLICING ROWS BY DATES\n",
    "print(\"----Rebanar usando .loc() en un rango fechas\")\n",
    "temperatures_d_i.loc[\"2000-01-01\":\"2000-02-01\"]\n",
    "\n",
    "# SLICING BY PARTIAL DATES\n",
    "print(\"----Rebanar usando .loc() en un rango de fechas usando solo en año\")\n",
    "temperatures_d_i.loc[\"2000\":\"2003\"]\n",
    "\n",
    "# SUBSETING BY ROWS/COLUMNS NUMBERS\n",
    "print(\"----Rebanar usando .iloc() \")\n",
    "print(temperatures.iloc[0:2,0:2])"
   ]
  },
  {
   "cell_type": "markdown",
   "id": "9d7f1f89-3e0c-4436-9943-5d683abff94e",
   "metadata": {},
   "source": [
    "# Slicing index values 100 XP"
   ]
  },
  {
   "cell_type": "raw",
   "id": "2bbffbcb-50e7-4bfa-950f-a03bfcfff748",
   "metadata": {},
   "source": [
    "Slicing lets you select consecutive elements of an object using 'first:last' syntax. \n",
    "DataFrames can be sliced by index values or by row/column number; we'll start with the first case. \n",
    "This involves slicing inside the .loc[] method.\n",
    "\n",
    "Compared to slicing lists, there are a few things to remember.\n",
    "    You can only slice an index if the index is sorted (using .sort_index()).\n",
    "    To slice at the outer level, first and last can be strings.\n",
    "    To slice at inner levels, first and last should be tuples.\n",
    "    If you pass a single slice to .loc[], it will slice the rows.\n",
    "    \n",
    "pandas is loaded as pd. temperatures_ind has country and city in the index, and is available."
   ]
  },
  {
   "cell_type": "raw",
   "id": "426a15ca-85ad-45fa-b98d-1e626b427848",
   "metadata": {},
   "source": [
    "Instructions\n",
    "100 XP\n",
    "Sort the index of temperatures_ind.\n",
    "Use slicing with .loc[] to get these subsets:\n",
    "    from Pakistan to Russia.\n",
    "    from Lahore to Moscow. (This will return nonsense.)\n",
    "    from Pakistan, Lahore to Russia, Moscow."
   ]
  },
  {
   "cell_type": "code",
   "execution_count": 60,
   "id": "c1f557c7-3d79-422e-a19f-a418deed3566",
   "metadata": {},
   "outputs": [
    {
     "name": "stdout",
     "output_type": "stream",
     "text": [
      "----Sort the index of temperatures_ind\n",
      "                    Unnamed: 0        date  avg_temp_c\n",
      "country     city                                      \n",
      "Afghanistan Kabul         7260  2000-01-01       3.326\n",
      "            Kabul         7261  2000-02-01       3.454\n",
      "            Kabul         7262  2000-03-01       9.612\n",
      "            Kabul         7263  2000-04-01      17.925\n",
      "            Kabul         7264  2000-05-01      24.658\n",
      "...                        ...         ...         ...\n",
      "Zimbabwe    Harare        5605  2013-05-01      18.298\n",
      "            Harare        5606  2013-06-01      17.020\n",
      "            Harare        5607  2013-07-01      16.299\n",
      "            Harare        5608  2013-08-01      19.232\n",
      "            Harare        5609  2013-09-01         NaN\n",
      "\n",
      "[16500 rows x 3 columns]\n",
      "----Use slicing with .loc[] to get these subsets: from Pakistan to Russia.\n",
      "                           Unnamed: 0        date  avg_temp_c\n",
      "country  city                                                \n",
      "Pakistan Faisalabad              4785  2000-01-01      12.792\n",
      "         Faisalabad              4786  2000-02-01      14.339\n",
      "         Faisalabad              4787  2000-03-01      20.309\n",
      "         Faisalabad              4788  2000-04-01      29.072\n",
      "         Faisalabad              4789  2000-05-01      34.845\n",
      "...                               ...         ...         ...\n",
      "Russia   Saint Petersburg       13360  2013-05-01      12.355\n",
      "         Saint Petersburg       13361  2013-06-01      17.185\n",
      "         Saint Petersburg       13362  2013-07-01      17.234\n",
      "         Saint Petersburg       13363  2013-08-01      17.153\n",
      "         Saint Petersburg       13364  2013-09-01         NaN\n",
      "\n",
      "[1155 rows x 3 columns]\n",
      "----Use slicing with .loc[] to get these subsets: from Lahore to Moscow. This will return nonsense!\n",
      "                    Unnamed: 0        date  avg_temp_c\n",
      "country city                                          \n",
      "Mexico  Mexico           10230  2000-01-01      12.694\n",
      "        Mexico           10231  2000-02-01      14.677\n",
      "        Mexico           10232  2000-03-01      17.376\n",
      "        Mexico           10233  2000-04-01      18.294\n",
      "        Mexico           10234  2000-05-01      18.562\n",
      "...                        ...         ...         ...\n",
      "Morocco Casablanca        3130  2013-05-01      19.217\n",
      "        Casablanca        3131  2013-06-01      23.649\n",
      "        Casablanca        3132  2013-07-01      27.488\n",
      "        Casablanca        3133  2013-08-01      27.952\n",
      "        Casablanca        3134  2013-09-01         NaN\n",
      "\n",
      "[330 rows x 3 columns]\n",
      "----Use slicing with .loc[] to get these subsets: from Pakistan, Lahore to Russia, Moscow\n",
      "                 Unnamed: 0        date  avg_temp_c\n",
      "country  city                                      \n",
      "Pakistan Lahore        8415  2000-01-01      12.792\n",
      "         Lahore        8416  2000-02-01      14.339\n",
      "         Lahore        8417  2000-03-01      20.309\n",
      "         Lahore        8418  2000-04-01      29.072\n",
      "         Lahore        8419  2000-05-01      34.845\n",
      "...                     ...         ...         ...\n",
      "Russia   Moscow       10885  2013-05-01      16.152\n",
      "         Moscow       10886  2013-06-01      18.718\n",
      "         Moscow       10887  2013-07-01      18.136\n",
      "         Moscow       10888  2013-08-01      17.485\n",
      "         Moscow       10889  2013-09-01         NaN\n",
      "\n",
      "[660 rows x 3 columns]\n"
     ]
    }
   ],
   "source": [
    "temperatures_ind = temperatures.set_index([\"country\",\"city\"])\n",
    "\n",
    "print(\"----Sort the index of temperatures_ind\")\n",
    "temperatures_srt = temperatures_ind.sort_index()\n",
    "print(temperatures_srt)\n",
    "\n",
    "print(\"----Use slicing with .loc[] to get these subsets: from Pakistan to Russia.\")\n",
    "print( temperatures_srt.loc[\"Pakistan\":\"Russia\"] )\n",
    "\n",
    "print(\"----Use slicing with .loc[] to get these subsets: from Lahore to Moscow. This will return nonsense!\")\n",
    "print( temperatures_srt.loc[\"Lahore\":\"Moscow\"] )  \n",
    "\n",
    "print(\"----Use slicing with .loc[] to get these subsets: from Pakistan, Lahore to Russia, Moscow\")\n",
    "print( temperatures_srt.loc[(\"Pakistan\",\"Lahore\"):(\"Russia\",\"Moscow\")] )"
   ]
  },
  {
   "cell_type": "raw",
   "id": "085a99bf-290d-4cc5-a9f4-9a560f884eef",
   "metadata": {},
   "source": [
    "That's a nice slice! Combining slicing with .loc[] provides a concise syntax for subsetting."
   ]
  },
  {
   "cell_type": "markdown",
   "id": "d778fe2e-d725-4522-91c5-a462761ce8cc",
   "metadata": {},
   "source": [
    "# Slicing in both directions 100 XP"
   ]
  },
  {
   "cell_type": "raw",
   "id": "73844589-bc4a-4f3a-94b4-dd96e8a6763f",
   "metadata": {},
   "source": [
    "You've seen slicing DataFrames by rows and by columns, but since DataFrames are two-dimensional objects, \n",
    "it is often natural to slice both dimensions at once. \n",
    "That is, by passing two arguments to .loc[], you can subset by rows and columns in one go.\n",
    "\n",
    "pandas is loaded as pd. temperatures_srt is indexed by country and city, has a sorted index, and is available."
   ]
  },
  {
   "cell_type": "raw",
   "id": "db096f48-872b-4fb1-a1ee-b75638787ff3",
   "metadata": {},
   "source": [
    "Instructions\n",
    "100 XP\n",
    "Use .loc[] slicing to subset rows from (India, Hyderabad) to (Iraq, Baghdad)\n",
    "Use .loc[] slicing to subset columns from date to avg_temp_c.\n",
    "Slice in both directions at once from 'Hyderabad' to 'Baghdad', and date to avg_temp_c\n",
    "Take Hint (-30 XP)"
   ]
  },
  {
   "cell_type": "code",
   "execution_count": 61,
   "id": "d3ecdf59-5be5-4c16-869b-18d868f2a7d2",
   "metadata": {},
   "outputs": [
    {
     "name": "stdout",
     "output_type": "stream",
     "text": [
      "----Use .loc[] slicing to subset rows from India, Hyderabad to Iraq, Baghdad\n",
      "                   Unnamed: 0        date  avg_temp_c\n",
      "country city                                         \n",
      "India   Hyderabad        5940  2000-01-01      23.779\n",
      "        Hyderabad        5941  2000-02-01      25.826\n",
      "        Hyderabad        5942  2000-03-01      28.821\n",
      "        Hyderabad        5943  2000-04-01      32.698\n",
      "        Hyderabad        5944  2000-05-01      32.438\n",
      "...                       ...         ...         ...\n",
      "Iraq    Baghdad          1150  2013-05-01      28.673\n",
      "        Baghdad          1151  2013-06-01      33.803\n",
      "        Baghdad          1152  2013-07-01      36.392\n",
      "        Baghdad          1153  2013-08-01      35.463\n",
      "        Baghdad          1154  2013-09-01         NaN\n",
      "\n",
      "[2145 rows x 3 columns]\n",
      "----Use .loc[] slicing to subset columns from date to avg_temp_c\n",
      "                          date  avg_temp_c\n",
      "country     city                          \n",
      "Afghanistan Kabul   2000-01-01       3.326\n",
      "            Kabul   2000-02-01       3.454\n",
      "            Kabul   2000-03-01       9.612\n",
      "            Kabul   2000-04-01      17.925\n",
      "            Kabul   2000-05-01      24.658\n",
      "...                        ...         ...\n",
      "Zimbabwe    Harare  2013-05-01      18.298\n",
      "            Harare  2013-06-01      17.020\n",
      "            Harare  2013-07-01      16.299\n",
      "            Harare  2013-08-01      19.232\n",
      "            Harare  2013-09-01         NaN\n",
      "\n",
      "[16500 rows x 2 columns]\n",
      "----Slice in both directions at once from Hyderabad to Baghdad, and date to avg_temp_c\n",
      "                         date  avg_temp_c\n",
      "country city                             \n",
      "India   Hyderabad  2000-01-01      23.779\n",
      "        Hyderabad  2000-02-01      25.826\n",
      "        Hyderabad  2000-03-01      28.821\n",
      "        Hyderabad  2000-04-01      32.698\n",
      "        Hyderabad  2000-05-01      32.438\n",
      "...                       ...         ...\n",
      "Iraq    Baghdad    2013-05-01      28.673\n",
      "        Baghdad    2013-06-01      33.803\n",
      "        Baghdad    2013-07-01      36.392\n",
      "        Baghdad    2013-08-01      35.463\n",
      "        Baghdad    2013-09-01         NaN\n",
      "\n",
      "[2145 rows x 2 columns]\n"
     ]
    }
   ],
   "source": [
    "print(\"----Use .loc[] slicing to subset rows from India, Hyderabad to Iraq, Baghdad\")\n",
    "print( temperatures_srt.loc[(\"India\",\"Hyderabad\"):(\"Iraq\",\"Baghdad\")] )\n",
    "\n",
    "print(\"----Use .loc[] slicing to subset columns from date to avg_temp_c\")\n",
    "print( temperatures_srt.loc[:,\"date\":\"avg_temp_c\"] )\n",
    "\n",
    "print(\"----Slice in both directions at once from Hyderabad to Baghdad, and date to avg_temp_c\")\n",
    "print(temperatures_srt.loc[(\"India\",\"Hyderabad\"):(\"Iraq\",\"Baghdad\"),\"date\":\"avg_temp_c\"] )"
   ]
  },
  {
   "cell_type": "markdown",
   "id": "3f33aa8f-d641-4160-8de8-aca4346968da",
   "metadata": {},
   "source": [
    "Brilliant bidirectional slicing! Slicing with .loc[] lets you take subsets in both directions at once."
   ]
  },
  {
   "cell_type": "markdown",
   "id": "841b5c8c-452c-4f07-8b4b-7d5be9374743",
   "metadata": {},
   "source": [
    "# Slicing time series 100 XP"
   ]
  },
  {
   "cell_type": "raw",
   "id": "0be656e1-910c-42a4-8a66-249df3d01048",
   "metadata": {},
   "source": [
    "Slicing is particularly useful for time series since it's a common thing to want to filter for data within a date range. Add the date column to the index, then use .loc[] to perform the subsetting. The important thing to remember is to keep your dates in ISO 8601 format, that is, \"yyyy-mm-dd\" for year-month-day, \"yyyy-mm\" for year-month, and \"yyyy\" for year.\n",
    "\n",
    "Recall from Chapter 1 that you can combine multiple Boolean conditions using logical operators, such as &. To do so in one line of code, you'll need to add parentheses () around each condition.\n",
    "\n",
    "pandas is loaded as pd and temperatures, with no index, is available."
   ]
  },
  {
   "cell_type": "raw",
   "id": "ccba9d46-42a0-4599-af25-01734ff41bc3",
   "metadata": {},
   "source": [
    "Instructions\n",
    "100 XP\n",
    "Use Boolean conditions, not .isin() or .loc[], and the full date \"yyyy-mm-dd\", to subset temperatures \n",
    "    for rows in 2010 and 2011 and print the results.\n",
    "Set the index to the date column and sort it.\n",
    "Use .loc[] to subset temperatures_ind for rows in 2010 and 2011.\n",
    "Use .loc[] to subset temperatures_ind for rows from Aug 2010 to Feb 2011."
   ]
  },
  {
   "cell_type": "code",
   "execution_count": 62,
   "id": "708caf5f-f82d-4b40-86f3-2ef19401814c",
   "metadata": {},
   "outputs": [
    {
     "name": "stdout",
     "output_type": "stream",
     "text": [
      "----Use Boolean conditions, not .isin() or .loc[], and the full date 'yyyy-mm-dd', to subset temperatures for rows in 2010 and 2011 and print the results\n",
      "       Unnamed: 0        date     city        country  avg_temp_c\n",
      "120           120  2010-01-01  Abidjan  Côte D'Ivoire      28.270\n",
      "121           121  2010-02-01  Abidjan  Côte D'Ivoire      29.262\n",
      "122           122  2010-03-01  Abidjan  Côte D'Ivoire      29.596\n",
      "123           123  2010-04-01  Abidjan  Côte D'Ivoire      29.068\n",
      "124           124  2010-05-01  Abidjan  Côte D'Ivoire      28.258\n",
      "...           ...         ...      ...            ...         ...\n",
      "16474       16474  2011-08-01     Xian          China      23.069\n",
      "16475       16475  2011-09-01     Xian          China      16.775\n",
      "16476       16476  2011-10-01     Xian          China      12.587\n",
      "16477       16477  2011-11-01     Xian          China       7.543\n",
      "16478       16478  2011-12-01     Xian          China      -0.490\n",
      "\n",
      "[2400 rows x 5 columns]\n",
      "----Set the index to the date column and sort it\n",
      "            Unnamed: 0       city        country  avg_temp_c\n",
      "date                                                        \n",
      "2000-01-01           0    Abidjan  Côte D'Ivoire      27.293\n",
      "2000-01-01        8415     Lahore       Pakistan      12.792\n",
      "2000-01-01       15345   Tangshan          China      -5.406\n",
      "2000-01-01        5115      Gizeh          Egypt      12.669\n",
      "2000-01-01        8580    Lakhnau          India      15.152\n",
      "...                ...        ...            ...         ...\n",
      "2013-09-01       11549    Nanjing          China         NaN\n",
      "2013-09-01       11714  New Delhi          India         NaN\n",
      "2013-09-01       11879   New York  United States      17.408\n",
      "2013-09-01       12209     Peking          China         NaN\n",
      "2013-09-01       16499       Xian          China         NaN\n",
      "\n",
      "[16500 rows x 4 columns]\n",
      "----Use .loc[] to subset temperatures_ind for rows in 2010 and 2011\n",
      "            Unnamed: 0        city    country  avg_temp_c\n",
      "date                                                     \n",
      "2010-01-01        4905  Faisalabad   Pakistan      11.810\n",
      "2010-01-01       10185   Melbourne  Australia      20.016\n",
      "2010-01-01        3750   Chongqing      China       7.921\n",
      "2010-01-01       13155   São Paulo     Brazil      23.738\n",
      "2010-01-01        5400   Guangzhou      China      14.136\n",
      "...                ...         ...        ...         ...\n",
      "2011-12-01       11033      Nagoya      Japan       6.476\n",
      "2011-12-01        6083   Hyderabad      India      23.613\n",
      "2011-12-01        2783        Cali   Colombia      21.559\n",
      "2011-12-01        8888        Lima       Peru      18.293\n",
      "2011-12-01        1463     Bangkok   Thailand      25.021\n",
      "\n",
      "[2400 rows x 4 columns]\n",
      "----Use .loc[] to subset temperatures_ind for rows from Aug 2010 to Feb 2011\n",
      "            Unnamed: 0      city        country  avg_temp_c\n",
      "date                                                       \n",
      "2010-08-01        2602  Calcutta          India      30.226\n",
      "2010-08-01       12337      Pune          India      24.941\n",
      "2010-08-01        6562     Izmir         Turkey      28.352\n",
      "2010-08-01       15637   Tianjin          China      25.543\n",
      "2010-08-01        9862    Manila    Philippines      27.101\n",
      "...                ...       ...            ...         ...\n",
      "2011-02-01        7393     Kabul    Afghanistan       3.914\n",
      "2011-02-01        3598   Chicago  United States       0.276\n",
      "2011-02-01         628    Aleppo          Syria       8.246\n",
      "2011-02-01        4423     Delhi          India      18.136\n",
      "2011-02-01       12508   Rangoon          Burma      26.631\n",
      "\n",
      "[700 rows x 4 columns]\n"
     ]
    }
   ],
   "source": [
    "print(\"----Use Boolean conditions, not .isin() or .loc[], and the full date 'yyyy-mm-dd', to subset temperatures for rows in 2010 and 2011 and print the results\")\n",
    "temperatures_bool = temperatures[ (temperatures[\"date\"]>=\"2010-01-01\") & (temperatures[\"date\"]<=\"2011-12-31\") ]\n",
    "print(temperatures_bool)\n",
    "\n",
    "print(\"----Set the index to the date column and sort it\")\n",
    "temperatures_ind = temperatures.set_index(\"date\").sort_index()\n",
    "print(temperatures_ind)\n",
    "\n",
    "print(\"----Use .loc[] to subset temperatures_ind for rows in 2010 and 2011\")\n",
    "print( temperatures_ind.loc[\"2010\":\"2012\"] )\n",
    "\n",
    "print(\"----Use .loc[] to subset temperatures_ind for rows from Aug 2010 to Feb 2011\")\n",
    "print( temperatures_ind.loc[\"2010-08\":\"2011-03\"] )"
   ]
  },
  {
   "cell_type": "raw",
   "id": "72b50ba6-5651-4dbc-9a66-41921138fe9a",
   "metadata": {},
   "source": [
    "Using .loc[] in conjunction with a date index provides an easy way to subset for rows before or after some date."
   ]
  },
  {
   "cell_type": "markdown",
   "id": "612ee9fb-ff41-4c0c-995a-dffcc0ae82dd",
   "metadata": {},
   "source": [
    "# Subsetting by row/column number"
   ]
  },
  {
   "cell_type": "raw",
   "id": "f7bbe224-df9e-4ef9-90a7-b59f06b517b3",
   "metadata": {},
   "source": [
    "The most common ways to subset rows are the ways we've previously discussed: using a Boolean condition or by index labels. However, it is also occasionally useful to pass row numbers.\n",
    "\n",
    "This is done using .iloc[], and like .loc[], it can take two arguments to let you subset by rows and columns.\n",
    "\n",
    "pandas is loaded as pd. temperatures (without an index) is available."
   ]
  },
  {
   "cell_type": "raw",
   "id": "8b6eb290-8ae6-40ea-907d-c9f83f2131a1",
   "metadata": {},
   "source": [
    "Instructions\n",
    "100 XP\n",
    "Use .iloc[] on temperatures to take subsets.\n",
    "\n",
    "Get the 23rd row, 2nd column (index positions 22 and 1).\n",
    "Get the first 5 rows (index positions 0 to 5).\n",
    "Get all rows, columns 3 and 4 (index positions 2 to 4).\n",
    "Get the first 5 rows, columns 3 and 4."
   ]
  },
  {
   "cell_type": "code",
   "execution_count": 63,
   "id": "53b5ce6d-7d3e-4dd1-9dfc-bccbb05437f4",
   "metadata": {},
   "outputs": [
    {
     "name": "stdout",
     "output_type": "stream",
     "text": [
      "----Get the 23rd row, 2nd column (index positions 22 and 1)\n",
      "2001-11-01\n",
      "----Get the first 5 rows (index positions 0 to 5)\n",
      "   Unnamed: 0        date     city        country  avg_temp_c\n",
      "0           0  2000-01-01  Abidjan  Côte D'Ivoire      27.293\n",
      "1           1  2000-02-01  Abidjan  Côte D'Ivoire      27.685\n",
      "2           2  2000-03-01  Abidjan  Côte D'Ivoire      29.061\n",
      "3           3  2000-04-01  Abidjan  Côte D'Ivoire      28.162\n",
      "4           4  2000-05-01  Abidjan  Côte D'Ivoire      27.547\n",
      "----Get all rows, columns 3 and 4 (index positions 2 to 4)\n",
      "          city        country\n",
      "0      Abidjan  Côte D'Ivoire\n",
      "1      Abidjan  Côte D'Ivoire\n",
      "2      Abidjan  Côte D'Ivoire\n",
      "3      Abidjan  Côte D'Ivoire\n",
      "4      Abidjan  Côte D'Ivoire\n",
      "...        ...            ...\n",
      "16495     Xian          China\n",
      "16496     Xian          China\n",
      "16497     Xian          China\n",
      "16498     Xian          China\n",
      "16499     Xian          China\n",
      "\n",
      "[16500 rows x 2 columns]\n",
      "----Get the first 5 rows, columns 3 and 4\n",
      "   Unnamed: 0        date     city        country\n",
      "0           0  2000-01-01  Abidjan  Côte D'Ivoire\n",
      "1           1  2000-02-01  Abidjan  Côte D'Ivoire\n",
      "2           2  2000-03-01  Abidjan  Côte D'Ivoire\n",
      "3           3  2000-04-01  Abidjan  Côte D'Ivoire\n"
     ]
    }
   ],
   "source": [
    "print(\"----Get the 23rd row, 2nd column (index positions 22 and 1)\")\n",
    "print(temperatures.iloc[22,1])\n",
    "\n",
    "print(\"----Get the first 5 rows (index positions 0 to 5)\")\n",
    "print(temperatures.iloc[0:5])\n",
    "\n",
    "print(\"----Get all rows, columns 3 and 4 (index positions 2 to 4)\")\n",
    "print(temperatures.iloc[:,2:4])\n",
    "\n",
    "print(\"----Get the first 5 rows, columns 3 and 4\")\n",
    "print(temperatures.iloc[0:4,0:4])"
   ]
  },
  {
   "cell_type": "raw",
   "id": "0bf72846-63fa-4808-958c-87e6fe32368e",
   "metadata": {},
   "source": [
    "Insightful use of .iloc[]! Use .iloc[] to specify a subset using the row or column numbers."
   ]
  },
  {
   "cell_type": "markdown",
   "id": "d82b3dcd-548a-4f95-8b5b-f8d056e4a6a1",
   "metadata": {},
   "source": [
    "# Working with pivot tables (Video)"
   ]
  },
  {
   "cell_type": "code",
   "execution_count": 91,
   "id": "26e6bf13-7b76-46a2-b8e8-ad41c9edf206",
   "metadata": {},
   "outputs": [
    {
     "name": "stdout",
     "output_type": "stream",
     "text": [
      "----Metodo .pivot_table() para crear una tabla pivote con valores de medias y Na como 0\n",
      "               mean                                                         \\\n",
      "city        Abidjan Addis Abeba Ahmadabad Aleppo Alexandria Ankara Baghdad   \n",
      "country                                                                      \n",
      "Afghanistan     0.0         0.0       0.0    0.0        0.0    0.0     0.0   \n",
      "Angola          0.0         0.0       0.0    0.0        0.0    0.0     0.0   \n",
      "Australia       0.0         0.0       0.0    0.0        0.0    0.0     0.0   \n",
      "Bangladesh      0.0         0.0       0.0    0.0        0.0    0.0     0.0   \n",
      "Brazil          0.0         0.0       0.0    0.0        0.0    0.0     0.0   \n",
      "\n",
      "                                              ...                            \\\n",
      "city        Bangalore Bangkok Belo Horizonte  ...  São Paulo Taipei Taiyuan   \n",
      "country                                       ...                             \n",
      "Afghanistan       0.0     0.0       0.000000  ...   0.000000    0.0     0.0   \n",
      "Angola            0.0     0.0       0.000000  ...   0.000000    0.0     0.0   \n",
      "Australia         0.0     0.0       0.000000  ...   0.000000    0.0     0.0   \n",
      "Bangladesh        0.0     0.0       0.000000  ...   0.000000    0.0     0.0   \n",
      "Brazil            0.0     0.0      21.993579  ...  20.645018    0.0     0.0   \n",
      "\n",
      "                                                                  \n",
      "city        Tangshan Tianjin Tokyo Toronto Umm Durman Wuhan Xian  \n",
      "country                                                           \n",
      "Afghanistan      0.0     0.0   0.0     0.0        0.0   0.0  0.0  \n",
      "Angola           0.0     0.0   0.0     0.0        0.0   0.0  0.0  \n",
      "Australia        0.0     0.0   0.0     0.0        0.0   0.0  0.0  \n",
      "Bangladesh       0.0     0.0   0.0     0.0        0.0   0.0  0.0  \n",
      "Brazil           0.0     0.0   0.0     0.0        0.0   0.0  0.0  \n",
      "\n",
      "[5 rows x 100 columns]\n",
      "----Metodo .pivot_table() y metodo .loc() para crear un tabla dinamica y rebanar sus filas\n",
      "               mean                                                         \\\n",
      "city        Abidjan Addis Abeba Ahmadabad Aleppo Alexandria Ankara Baghdad   \n",
      "country                                                                      \n",
      "Afghanistan     0.0         0.0       0.0    0.0        0.0    0.0     0.0   \n",
      "Angola          0.0         0.0       0.0    0.0        0.0    0.0     0.0   \n",
      "Australia       0.0         0.0       0.0    0.0        0.0    0.0     0.0   \n",
      "\n",
      "                                              ...                           \\\n",
      "city        Bangalore Bangkok Belo Horizonte  ... São Paulo Taipei Taiyuan   \n",
      "country                                       ...                            \n",
      "Afghanistan       0.0     0.0            0.0  ...       0.0    0.0     0.0   \n",
      "Angola            0.0     0.0            0.0  ...       0.0    0.0     0.0   \n",
      "Australia         0.0     0.0            0.0  ...       0.0    0.0     0.0   \n",
      "\n",
      "                                                                  \n",
      "city        Tangshan Tianjin Tokyo Toronto Umm Durman Wuhan Xian  \n",
      "country                                                           \n",
      "Afghanistan      0.0     0.0   0.0     0.0        0.0   0.0  0.0  \n",
      "Angola           0.0     0.0   0.0     0.0        0.0   0.0  0.0  \n",
      "Australia        0.0     0.0   0.0     0.0        0.0   0.0  0.0  \n",
      "\n",
      "[3 rows x 100 columns]\n",
      "----Metodo .mean() para calcular un estadistico con las columnas de una tabla pivote\n",
      "country\n",
      "Afghanistan                           0.155258\n",
      "Angola                                0.243877\n",
      "Australia                             0.320562\n",
      "Bangladesh                            0.261644\n",
      "Brazil                                1.434362\n",
      "Burma                                 0.275142\n",
      "Canada                                0.132743\n",
      "Chile                                 0.063458\n",
      "China                                 2.077297\n",
      "Colombia                              0.432992\n",
      "Congo (Democratic Republic Of The)    0.245050\n",
      "Côte D'Ivoire                         0.269710\n",
      "Dominican Republic                    0.268528\n",
      "Egypt                                 0.661344\n",
      "Ethiopia                              0.184254\n",
      "France                                0.115143\n",
      "Germany                               0.101524\n",
      "India                                 3.728656\n",
      "Indonesia                             0.548173\n",
      "Iran                                  0.142287\n",
      "Iraq                                  0.240748\n",
      "Italy                                 0.131276\n",
      "Japan                                 0.290523\n",
      "Kenya                                 0.168171\n",
      "Mexico                                0.164066\n",
      "Morocco                               0.183362\n",
      "Nigeria                               0.815286\n",
      "Pakistan                              0.774740\n",
      "Peru                                  0.172038\n",
      "Philippines                           0.271535\n",
      "Russia                                0.111152\n",
      "Saudi Arabia                          0.552712\n",
      "Senegal                               0.254260\n",
      "Singapore                             0.273232\n",
      "Somalia                               0.279632\n",
      "South Africa                          0.378274\n",
      "South Korea                           0.116933\n",
      "Spain                                 0.124609\n",
      "Sudan                                 0.299818\n",
      "Syria                                 0.185012\n",
      "Taiwan                                0.230788\n",
      "Tanzania                              0.264818\n",
      "Thailand                              0.279295\n",
      "Turkey                                0.443994\n",
      "Ukraine                               0.087017\n",
      "United Kingdom                        0.105236\n",
      "United States                         0.388635\n",
      "Vietnam                               0.279099\n",
      "Zimbabwe                              0.207220\n",
      "dtype: float64\n",
      "----Metodo .mean() para calcular un estadistico con las filas de una tabla pivote\n",
      "      city       \n",
      "mean  Abidjan        0.550429\n",
      "      Addis Abeba    0.376028\n",
      "      Ahmadabad      0.559820\n",
      "      Aleppo         0.377576\n",
      "      Alexandria     0.436896\n",
      "                       ...   \n",
      "      Tokyo          0.273745\n",
      "      Toronto        0.147552\n",
      "      Umm Durman     0.611873\n",
      "      Wuhan          0.362237\n",
      "      Xian           0.254876\n",
      "Length: 100, dtype: float64\n"
     ]
    }
   ],
   "source": [
    "# CREATE PIVOT TABLES\n",
    "print(\"----Metodo .pivot_table() para crear una tabla pivote con valores de medias y Na como 0\")\n",
    "temperatures_pivot = temperatures.pivot_table(values=\"avg_temp_c\",index=\"country\",columns=\"city\",aggfunc=[np.mean], fill_value=0)\n",
    "print( temperatures_pivot.head() )\n",
    "\n",
    "# SLICE ROWS WITH .LOC ON PIVOT TABLE\n",
    "print(\"----Metodo .pivot_table() y metodo .loc() para crear un tabla dinamica y rebanar sus filas\")\n",
    "print( temperatures_pivot.loc[\"Afghanistan\":\"Australia\"] )\n",
    "\n",
    "# SUMMARY STATISTICS ACROSS ROWS OR ACROSS COLUMNS OF PIVOT TABLE\n",
    "print(\"----Metodo .mean() para calcular un estadistico con las columnas de una tabla pivote\")\n",
    "print( temperatures_pivot.mean(axis=\"columns\") )\n",
    "\n",
    "print(\"----Metodo .mean() para calcular un estadistico con las filas de una tabla pivote\")\n",
    "print( temperatures_pivot.mean(axis=\"rows\") )"
   ]
  },
  {
   "cell_type": "markdown",
   "id": "31e61a47-fa74-42ac-bbc2-4d7f3c7cdeb8",
   "metadata": {},
   "source": [
    "# Pivot temperature by city and year"
   ]
  },
  {
   "cell_type": "raw",
   "id": "e2486f18-5455-45ca-a3bb-952acf32beb7",
   "metadata": {},
   "source": [
    "It's interesting to see how temperatures for each city change over time—looking at every month results in a big table, which can be tricky to reason about. Instead, let's look at how temperatures change by year.\n",
    "\n",
    "You can access the components of a date (year, month and day) using code of the form \n",
    "        dataframe[\"column\"].dt.component\n",
    "For example:\n",
    "        month component is dataframe[\"column\"].dt.month \n",
    "        year component is dataframe[\"column\"].dt.year\n",
    "\n",
    "Once you have the year column, you can create a pivot table with the data aggregated by city and year, which you'll explore in the coming exercises.\n",
    "\n",
    "pandas is loaded as pd. temperatures is available."
   ]
  },
  {
   "cell_type": "raw",
   "id": "4c50a60b-8f88-48b0-b3f1-a881362597cc",
   "metadata": {},
   "source": [
    "Instructions\n",
    "100 XP\n",
    "Add a year column to temperatures, from the year component of the date column.\n",
    "Make a pivot table of the avg_temp_c column, with country and city as rows, and year as columns. \n",
    "Assign to temp_by_country_city_vs_year, and look at the result."
   ]
  },
  {
   "cell_type": "code",
   "execution_count": 131,
   "id": "469d33cb-a9d0-4109-9173-a219ead96db5",
   "metadata": {},
   "outputs": [
    {
     "name": "stdout",
     "output_type": "stream",
     "text": [
      "----Convertir columna 'date' en tipo date_time usando el metodo pd.to_datetime() \n",
      "0       2000-01-01\n",
      "1       2000-02-01\n",
      "2       2000-03-01\n",
      "3       2000-04-01\n",
      "4       2000-05-01\n",
      "           ...    \n",
      "16495   2013-05-01\n",
      "16496   2013-06-01\n",
      "16497   2013-07-01\n",
      "16498   2013-08-01\n",
      "16499   2013-09-01\n",
      "Name: date, Length: 16500, dtype: datetime64[ns]\n",
      "----Add a year column to temperatures, from the year component of the date column.\n",
      "       Unnamed: 0       date     city        country  avg_temp_c  year\n",
      "0               0 2000-01-01  Abidjan  Côte D'Ivoire      27.293  2000\n",
      "1               1 2000-02-01  Abidjan  Côte D'Ivoire      27.685  2000\n",
      "2               2 2000-03-01  Abidjan  Côte D'Ivoire      29.061  2000\n",
      "3               3 2000-04-01  Abidjan  Côte D'Ivoire      28.162  2000\n",
      "4               4 2000-05-01  Abidjan  Côte D'Ivoire      27.547  2000\n",
      "...           ...        ...      ...            ...         ...   ...\n",
      "16495       16495 2013-05-01     Xian          China      18.979  2013\n",
      "16496       16496 2013-06-01     Xian          China      23.522  2013\n",
      "16497       16497 2013-07-01     Xian          China      25.251  2013\n",
      "16498       16498 2013-08-01     Xian          China      24.528  2013\n",
      "16499       16499 2013-09-01     Xian          China         NaN  2013\n",
      "\n",
      "[16500 rows x 6 columns]\n",
      "----Make a pivot table of the avg_temp_c column, with country and city as rows, and year as columns\n",
      "year                                 2000       2001       2002       2003  \\\n",
      "country       city                                                           \n",
      "Afghanistan   Kabul             15.822667  15.847917  15.714583  15.132583   \n",
      "Angola        Luanda            24.410333  24.427083  24.790917  24.867167   \n",
      "Australia     Melbourne         14.320083  14.180000  14.075833  13.985583   \n",
      "              Sydney            17.567417  17.854500  17.733833  17.592333   \n",
      "Bangladesh    Dhaka             25.905250  25.931250  26.095000  25.927417   \n",
      "...                                   ...        ...        ...        ...   \n",
      "United States Chicago           11.089667  11.703083  11.532083  10.481583   \n",
      "              Los Angeles       16.643333  16.466250  16.430250  16.944667   \n",
      "              New York           9.969083  10.931000  11.252167   9.836000   \n",
      "Vietnam       Ho Chi Minh City  27.588917  27.831750  28.064750  27.827667   \n",
      "Zimbabwe      Harare            20.283667  20.861000  21.079333  20.889167   \n",
      "\n",
      "year                                 2004       2005       2006       2007  \\\n",
      "country       city                                                           \n",
      "Afghanistan   Kabul             16.128417  14.847500  15.798500  15.518000   \n",
      "Angola        Luanda            24.216167  24.414583  24.138417  24.241583   \n",
      "Australia     Melbourne         13.742083  14.378500  13.991083  14.991833   \n",
      "              Sydney            17.869667  18.028083  17.749500  18.020833   \n",
      "Bangladesh    Dhaka             26.136083  26.193333  26.440417  25.951333   \n",
      "...                                   ...        ...        ...        ...   \n",
      "United States Chicago           10.943417  11.583833  11.870500  11.448333   \n",
      "              Los Angeles       16.552833  16.431417  16.623083  16.699917   \n",
      "              New York          10.389500  10.681417  11.519250  10.627333   \n",
      "Vietnam       Ho Chi Minh City  27.686583  27.884000  28.044000  27.866667   \n",
      "Zimbabwe      Harare            20.307667  21.487417  20.699750  20.746250   \n",
      "\n",
      "year                                 2008       2009       2010       2011  \\\n",
      "country       city                                                           \n",
      "Afghanistan   Kabul             15.479250  15.093333  15.676000  15.812167   \n",
      "Angola        Luanda            24.266333  24.325083  24.440250  24.150750   \n",
      "Australia     Melbourne         14.110583  14.647417  14.231667  14.190917   \n",
      "              Sydney            17.321083  18.175833  17.999000  17.713333   \n",
      "Bangladesh    Dhaka             26.004500  26.535583  26.648167  25.803250   \n",
      "...                                   ...        ...        ...        ...   \n",
      "United States Chicago           10.242417  10.298333  11.815917  11.214250   \n",
      "              Los Angeles       17.014750  16.677000  15.887000  15.874833   \n",
      "              New York          10.641667  10.141833  11.357583  11.272250   \n",
      "Vietnam       Ho Chi Minh City  27.611417  27.853333  28.281750  27.675417   \n",
      "Zimbabwe      Harare            20.680500  20.523833  21.165833  20.781750   \n",
      "\n",
      "year                                 2012       2013  \n",
      "country       city                                    \n",
      "Afghanistan   Kabul             14.510333  16.206125  \n",
      "Angola        Luanda            24.240083  24.553875  \n",
      "Australia     Melbourne         14.268667  14.741500  \n",
      "              Sydney            17.474333  18.089750  \n",
      "Bangladesh    Dhaka             26.283583  26.587000  \n",
      "...                                   ...        ...  \n",
      "United States Chicago           12.821250  11.586889  \n",
      "              Los Angeles       17.089583  18.120667  \n",
      "              New York          11.971500  12.163889  \n",
      "Vietnam       Ho Chi Minh City  28.248750  28.455000  \n",
      "Zimbabwe      Harare            20.523333  19.756500  \n",
      "\n",
      "[100 rows x 14 columns]\n"
     ]
    }
   ],
   "source": [
    "print(\"----Convertir columna 'date' en tipo date_time usando el metodo pd.to_datetime() \")\n",
    "temperatures[\"date\"] = pd.to_datetime(temperatures['date'], errors='coerce')\n",
    "print( str(temperatures[\"date\"]) )\n",
    "\n",
    "print(\"----Add a year column to temperatures, from the year component of the date column.\")\n",
    "temperatures[\"year\"] = temperatures[\"date\"].dt.year\n",
    "print(temperatures)\n",
    "\n",
    "print(\"----Make a pivot table of the avg_temp_c column, with country and city as rows, and year as columns\")\n",
    "temp_by_country_city_vs_year = temperatures.pivot_table(values=\"avg_temp_c\",index=[\"country\",\"city\"],columns=\"year\",aggfunc=np.mean,fill_value=0)\n",
    "print(temp_by_country_city_vs_year)"
   ]
  },
  {
   "cell_type": "markdown",
   "id": "82ea7ea2-b445-4d47-866b-3e4c998ec15f",
   "metadata": {},
   "source": [
    "# Subsetting pivot tables"
   ]
  },
  {
   "cell_type": "raw",
   "id": "8d5a420b-a442-4d30-a6bd-0f20890504ab",
   "metadata": {},
   "source": [
    "A pivot table is just a DataFrame with sorted indexes, so the techniques you have learned already can be used to subset them. \n",
    "In particular, the .loc[] + slicing combination is often helpful.\n",
    "\n",
    "pandas is loaded as pd. temp_by_country_city_vs_year is available."
   ]
  },
  {
   "cell_type": "raw",
   "id": "902a8927-9268-4df2-b963-d9d807ddca3c",
   "metadata": {},
   "source": [
    "Instructions\n",
    "100 XP\n",
    "Use .loc[] on temp_by_country_city_vs_year to take subsets.\n",
    "\n",
    "Use .loc[] on temp_by_country_city_vs_year to take subsets: From Egypt to India.\n",
    "Use .loc[] on temp_by_country_city_vs_year to take subsets: From Egypt, Cairo to India, Delhi.\n",
    "Use .loc[] on temp_by_country_city_vs_year to take subsets: From Egypt, Cairo to India, Delhi, and 2005 to 2010."
   ]
  },
  {
   "cell_type": "code",
   "execution_count": 138,
   "id": "9fc1994b-f270-4b0e-b96e-b258e2187ff6",
   "metadata": {},
   "outputs": [
    {
     "name": "stdout",
     "output_type": "stream",
     "text": [
      "----Pivot Table original\n",
      "year                                 2000       2001       2002       2003  \\\n",
      "country       city                                                           \n",
      "Afghanistan   Kabul             15.822667  15.847917  15.714583  15.132583   \n",
      "Angola        Luanda            24.410333  24.427083  24.790917  24.867167   \n",
      "Australia     Melbourne         14.320083  14.180000  14.075833  13.985583   \n",
      "              Sydney            17.567417  17.854500  17.733833  17.592333   \n",
      "Bangladesh    Dhaka             25.905250  25.931250  26.095000  25.927417   \n",
      "...                                   ...        ...        ...        ...   \n",
      "United States Chicago           11.089667  11.703083  11.532083  10.481583   \n",
      "              Los Angeles       16.643333  16.466250  16.430250  16.944667   \n",
      "              New York           9.969083  10.931000  11.252167   9.836000   \n",
      "Vietnam       Ho Chi Minh City  27.588917  27.831750  28.064750  27.827667   \n",
      "Zimbabwe      Harare            20.283667  20.861000  21.079333  20.889167   \n",
      "\n",
      "year                                 2004       2005       2006       2007  \\\n",
      "country       city                                                           \n",
      "Afghanistan   Kabul             16.128417  14.847500  15.798500  15.518000   \n",
      "Angola        Luanda            24.216167  24.414583  24.138417  24.241583   \n",
      "Australia     Melbourne         13.742083  14.378500  13.991083  14.991833   \n",
      "              Sydney            17.869667  18.028083  17.749500  18.020833   \n",
      "Bangladesh    Dhaka             26.136083  26.193333  26.440417  25.951333   \n",
      "...                                   ...        ...        ...        ...   \n",
      "United States Chicago           10.943417  11.583833  11.870500  11.448333   \n",
      "              Los Angeles       16.552833  16.431417  16.623083  16.699917   \n",
      "              New York          10.389500  10.681417  11.519250  10.627333   \n",
      "Vietnam       Ho Chi Minh City  27.686583  27.884000  28.044000  27.866667   \n",
      "Zimbabwe      Harare            20.307667  21.487417  20.699750  20.746250   \n",
      "\n",
      "year                                 2008       2009       2010       2011  \\\n",
      "country       city                                                           \n",
      "Afghanistan   Kabul             15.479250  15.093333  15.676000  15.812167   \n",
      "Angola        Luanda            24.266333  24.325083  24.440250  24.150750   \n",
      "Australia     Melbourne         14.110583  14.647417  14.231667  14.190917   \n",
      "              Sydney            17.321083  18.175833  17.999000  17.713333   \n",
      "Bangladesh    Dhaka             26.004500  26.535583  26.648167  25.803250   \n",
      "...                                   ...        ...        ...        ...   \n",
      "United States Chicago           10.242417  10.298333  11.815917  11.214250   \n",
      "              Los Angeles       17.014750  16.677000  15.887000  15.874833   \n",
      "              New York          10.641667  10.141833  11.357583  11.272250   \n",
      "Vietnam       Ho Chi Minh City  27.611417  27.853333  28.281750  27.675417   \n",
      "Zimbabwe      Harare            20.680500  20.523833  21.165833  20.781750   \n",
      "\n",
      "year                                 2012       2013  \n",
      "country       city                                    \n",
      "Afghanistan   Kabul             14.510333  16.206125  \n",
      "Angola        Luanda            24.240083  24.553875  \n",
      "Australia     Melbourne         14.268667  14.741500  \n",
      "              Sydney            17.474333  18.089750  \n",
      "Bangladesh    Dhaka             26.283583  26.587000  \n",
      "...                                   ...        ...  \n",
      "United States Chicago           12.821250  11.586889  \n",
      "              Los Angeles       17.089583  18.120667  \n",
      "              New York          11.971500  12.163889  \n",
      "Vietnam       Ho Chi Minh City  28.248750  28.455000  \n",
      "Zimbabwe      Harare            20.523333  19.756500  \n",
      "\n",
      "[100 rows x 14 columns]\n",
      "----Use .loc[] on temp_by_country_city_vs_year to take subsets: From Egypt to India\n",
      "year                       2000       2001       2002       2003       2004  \\\n",
      "country  city                                                                 \n",
      "Egypt    Alexandria   20.744500  21.454583  21.456167  21.221417  21.064167   \n",
      "         Cairo        21.486167  22.330833  22.414083  22.170500  22.081917   \n",
      "         Gizeh        21.486167  22.330833  22.414083  22.170500  22.081917   \n",
      "Ethiopia Addis Abeba  18.241250  18.296417  18.469750  18.320917  18.292750   \n",
      "France   Paris        11.739667  11.371250  11.871333  11.909500  11.338833   \n",
      "Germany  Berlin       10.963667   9.690250  10.264417  10.065750   9.822583   \n",
      "India    Ahmadabad    27.436000  27.198083  27.719083  27.403833  27.628333   \n",
      "         Bangalore    25.337917  25.528167  25.755333  25.924750  25.252083   \n",
      "         Bombay       27.203667  27.243667  27.628667  27.578417  27.318750   \n",
      "         Calcutta     26.491333  26.515167  26.703917  26.561333  26.634333   \n",
      "         Delhi        26.048333  25.862917  26.634333  25.721083  26.239917   \n",
      "         Hyderabad    27.231833  27.555167  27.665167  27.844583  27.228500   \n",
      "         Jaipur       26.430250  26.023000  27.031667  26.027417  26.642167   \n",
      "         Kanpur       25.353917  25.326500  26.116833  25.409083  25.586500   \n",
      "         Lakhnau      25.353917  25.326500  26.116833  25.409083  25.586500   \n",
      "         Madras       28.811667  29.162917  29.246500  29.273083  28.810917   \n",
      "         Nagpur       26.181417  26.321667  26.753000  26.503833  26.406333   \n",
      "         New Delhi    26.048333  25.862917  26.634333  25.721083  26.239917   \n",
      "         Pune         25.110917  25.337833  25.583000  25.748417  25.316167   \n",
      "         Surat        27.029000  26.897250  27.347750  27.230917  27.290583   \n",
      "\n",
      "year                       2005       2006       2007       2008       2009  \\\n",
      "country  city                                                                 \n",
      "Egypt    Alexandria   21.082333  21.148167  21.507750  21.739000  21.670500   \n",
      "         Cairo        22.006500  22.050000  22.361000  22.644500  22.625000   \n",
      "         Gizeh        22.006500  22.050000  22.361000  22.644500  22.625000   \n",
      "Ethiopia Addis Abeba  18.312833  18.427083  18.142583  18.165000  18.765333   \n",
      "France   Paris        11.552917  11.788500  11.750833  11.278250  11.464083   \n",
      "Germany  Berlin        9.919083  10.545333  10.883167  10.657750  10.062500   \n",
      "India    Ahmadabad    26.828083  27.282833  27.511167  27.048500  28.095833   \n",
      "         Bangalore    25.476500  25.418250  25.464333  25.352583  25.725750   \n",
      "         Bombay       27.035750  27.381500  27.634667  27.177750  27.844500   \n",
      "         Calcutta     26.729167  26.986250  26.584583  26.522333  27.153250   \n",
      "         Delhi        25.716083  26.365917  26.145667  25.675000  26.554250   \n",
      "         Hyderabad    27.488833  27.471000  27.545333  27.446667  28.026500   \n",
      "         Jaipur       25.772250  26.429833  26.267000  25.877583  26.919500   \n",
      "         Kanpur       25.621500  25.848833  25.436083  25.109750  25.987083   \n",
      "         Lakhnau      25.621500  25.848833  25.436083  25.109750  25.987083   \n",
      "         Madras       29.099417  29.073250  28.970167  29.024083  29.417417   \n",
      "         Nagpur       26.229167  26.374833  26.393667  26.188000  27.138917   \n",
      "         New Delhi    25.716083  26.365917  26.145667  25.675000  26.554250   \n",
      "         Pune         25.085583  25.310167  25.584833  25.230250  25.868250   \n",
      "         Surat        26.724500  27.149417  27.311750  26.828750  27.819833   \n",
      "\n",
      "year                       2010       2011       2012       2013  \n",
      "country  city                                                     \n",
      "Egypt    Alexandria   22.459583  21.181500  21.552583  21.438500  \n",
      "         Cairo        23.718250  21.986917  22.484250  22.907000  \n",
      "         Gizeh        23.718250  21.986917  22.484250  22.907000  \n",
      "Ethiopia Addis Abeba  18.298250  18.606750  18.448583  19.539000  \n",
      "France   Paris        10.409833  12.325750  11.219917  11.011625  \n",
      "Germany  Berlin        8.606833  10.556417   9.964333  10.121500  \n",
      "India    Ahmadabad    28.017833  27.290417  27.027250  27.608625  \n",
      "         Bangalore    25.705250  25.362083  26.042333  26.610500  \n",
      "         Bombay       27.765417  27.384917  27.192500  26.713000  \n",
      "         Calcutta     27.288833  26.406917  26.935083  27.369250  \n",
      "         Delhi        26.520250  25.629500  25.889417  26.709250  \n",
      "         Hyderabad    27.693417  27.408833  28.018583  28.851250  \n",
      "         Jaipur       26.818417  25.916500  25.884500  26.844125  \n",
      "         Kanpur       26.021750  25.062083  25.445417  26.121250  \n",
      "         Lakhnau      26.021750  25.062083  25.445417  26.121250  \n",
      "         Madras       29.047333  29.063167  29.778417  30.411750  \n",
      "         Nagpur       26.927000  26.004667  26.327917  27.112375  \n",
      "         New Delhi    26.520250  25.629500  25.889417  26.709250  \n",
      "         Pune         25.749167  25.161417  25.296833  25.847625  \n",
      "         Surat        27.681667  27.016583  26.889250  27.437750  \n",
      "----Use .loc[] on temp_by_country_city_vs_year to take subsets: From Egypt, Cairo to India, Delhi\n",
      "year                       2000       2001       2002       2003       2004  \\\n",
      "country  city                                                                 \n",
      "Egypt    Cairo        21.486167  22.330833  22.414083  22.170500  22.081917   \n",
      "         Gizeh        21.486167  22.330833  22.414083  22.170500  22.081917   \n",
      "Ethiopia Addis Abeba  18.241250  18.296417  18.469750  18.320917  18.292750   \n",
      "France   Paris        11.739667  11.371250  11.871333  11.909500  11.338833   \n",
      "Germany  Berlin       10.963667   9.690250  10.264417  10.065750   9.822583   \n",
      "India    Ahmadabad    27.436000  27.198083  27.719083  27.403833  27.628333   \n",
      "         Bangalore    25.337917  25.528167  25.755333  25.924750  25.252083   \n",
      "         Bombay       27.203667  27.243667  27.628667  27.578417  27.318750   \n",
      "         Calcutta     26.491333  26.515167  26.703917  26.561333  26.634333   \n",
      "         Delhi        26.048333  25.862917  26.634333  25.721083  26.239917   \n",
      "\n",
      "year                       2005       2006       2007       2008       2009  \\\n",
      "country  city                                                                 \n",
      "Egypt    Cairo        22.006500  22.050000  22.361000  22.644500  22.625000   \n",
      "         Gizeh        22.006500  22.050000  22.361000  22.644500  22.625000   \n",
      "Ethiopia Addis Abeba  18.312833  18.427083  18.142583  18.165000  18.765333   \n",
      "France   Paris        11.552917  11.788500  11.750833  11.278250  11.464083   \n",
      "Germany  Berlin        9.919083  10.545333  10.883167  10.657750  10.062500   \n",
      "India    Ahmadabad    26.828083  27.282833  27.511167  27.048500  28.095833   \n",
      "         Bangalore    25.476500  25.418250  25.464333  25.352583  25.725750   \n",
      "         Bombay       27.035750  27.381500  27.634667  27.177750  27.844500   \n",
      "         Calcutta     26.729167  26.986250  26.584583  26.522333  27.153250   \n",
      "         Delhi        25.716083  26.365917  26.145667  25.675000  26.554250   \n",
      "\n",
      "year                       2010       2011       2012       2013  \n",
      "country  city                                                     \n",
      "Egypt    Cairo        23.718250  21.986917  22.484250  22.907000  \n",
      "         Gizeh        23.718250  21.986917  22.484250  22.907000  \n",
      "Ethiopia Addis Abeba  18.298250  18.606750  18.448583  19.539000  \n",
      "France   Paris        10.409833  12.325750  11.219917  11.011625  \n",
      "Germany  Berlin        8.606833  10.556417   9.964333  10.121500  \n",
      "India    Ahmadabad    28.017833  27.290417  27.027250  27.608625  \n",
      "         Bangalore    25.705250  25.362083  26.042333  26.610500  \n",
      "         Bombay       27.765417  27.384917  27.192500  26.713000  \n",
      "         Calcutta     27.288833  26.406917  26.935083  27.369250  \n",
      "         Delhi        26.520250  25.629500  25.889417  26.709250  \n",
      "----Use .loc[] on temp_by_country_city_vs_year to take subsets: From Egypt, Cairo to India, Delhi, and 2005 to 2010\n",
      "year                       2005       2006       2007       2008       2009  \\\n",
      "country  city                                                                 \n",
      "Egypt    Cairo        22.006500  22.050000  22.361000  22.644500  22.625000   \n",
      "         Gizeh        22.006500  22.050000  22.361000  22.644500  22.625000   \n",
      "Ethiopia Addis Abeba  18.312833  18.427083  18.142583  18.165000  18.765333   \n",
      "France   Paris        11.552917  11.788500  11.750833  11.278250  11.464083   \n",
      "Germany  Berlin        9.919083  10.545333  10.883167  10.657750  10.062500   \n",
      "India    Ahmadabad    26.828083  27.282833  27.511167  27.048500  28.095833   \n",
      "         Bangalore    25.476500  25.418250  25.464333  25.352583  25.725750   \n",
      "         Bombay       27.035750  27.381500  27.634667  27.177750  27.844500   \n",
      "         Calcutta     26.729167  26.986250  26.584583  26.522333  27.153250   \n",
      "         Delhi        25.716083  26.365917  26.145667  25.675000  26.554250   \n",
      "\n",
      "year                       2010  \n",
      "country  city                    \n",
      "Egypt    Cairo        23.718250  \n",
      "         Gizeh        23.718250  \n",
      "Ethiopia Addis Abeba  18.298250  \n",
      "France   Paris        10.409833  \n",
      "Germany  Berlin        8.606833  \n",
      "India    Ahmadabad    28.017833  \n",
      "         Bangalore    25.705250  \n",
      "         Bombay       27.765417  \n",
      "         Calcutta     27.288833  \n",
      "         Delhi        26.520250  \n"
     ]
    }
   ],
   "source": [
    "print(\"----Pivot Table original\")\n",
    "print(temp_by_country_city_vs_year)\n",
    "\n",
    "print(\"----Use .loc[] on temp_by_country_city_vs_year to take subsets: From Egypt to India\")\n",
    "print( temp_by_country_city_vs_year.loc[\"Egypt\":\"India\"] )\n",
    "\n",
    "print(\"----Use .loc[] on temp_by_country_city_vs_year to take subsets: From Egypt, Cairo to India, Delhi\")\n",
    "print( temp_by_country_city_vs_year.loc[(\"Egypt\",\"Cairo\"):(\"India\",\"Delhi\")] )\n",
    "\n",
    "print(\"----Use .loc[] on temp_by_country_city_vs_year to take subsets: From Egypt, Cairo to India, Delhi, and 2005 to 2010\")\n",
    "print( temp_by_country_city_vs_year.loc[(\"Egypt\",\"Cairo\"):(\"India\",\"Delhi\"),\"2005\":\"2010\"] )"
   ]
  },
  {
   "cell_type": "markdown",
   "id": "a1e60a30-5a61-41af-8718-750f13e01256",
   "metadata": {},
   "source": [
    "# Calculating on a pivot table"
   ]
  },
  {
   "cell_type": "code",
   "execution_count": null,
   "id": "6a7234d9-efa1-433b-ac1d-c0aeff8b46b6",
   "metadata": {},
   "outputs": [],
   "source": [
    "Pivot tables are filled with summary statistics, but they are only a first step to finding something insightful. \n",
    "Often you'll need to perform further calculations on them. A common thing to do is to find the rows or columns \n",
    "where the highest or lowest value occurs.\n",
    "\n",
    "Recall from Chapter 1 that you can easily subset a Series or DataFrame to find rows of interest using a logical \n",
    "condition inside of square brackets. For example: series[series > value].\n",
    "\n",
    "pandas is loaded as pd and the DataFrame temp_by_country_city_vs_year is available."
   ]
  },
  {
   "cell_type": "raw",
   "id": "2900a362-c407-4ba4-96d3-97ca54522173",
   "metadata": {},
   "source": [
    "Instructions\n",
    "100 XP\n",
    "Calculate the mean temperature for each year, assigning to mean_temp_by_year.\n",
    "Filter mean_temp_by_year for the year that had the highest mean temperature.\n",
    "Calculate the mean temperature for each city (across columns), assigning to mean_temp_by_city.\n",
    "Filter mean_temp_by_city for the city that had the lowest mean temperature."
   ]
  },
  {
   "cell_type": "code",
   "execution_count": 170,
   "id": "469fab74-31ae-47e2-bb53-f14dbb9784e0",
   "metadata": {},
   "outputs": [
    {
     "name": "stdout",
     "output_type": "stream",
     "text": [
      "----Tabla Pivote original\n",
      "year                                 2000       2001       2002       2003  \\\n",
      "country       city                                                           \n",
      "Afghanistan   Kabul             15.822667  15.847917  15.714583  15.132583   \n",
      "Angola        Luanda            24.410333  24.427083  24.790917  24.867167   \n",
      "Australia     Melbourne         14.320083  14.180000  14.075833  13.985583   \n",
      "              Sydney            17.567417  17.854500  17.733833  17.592333   \n",
      "Bangladesh    Dhaka             25.905250  25.931250  26.095000  25.927417   \n",
      "...                                   ...        ...        ...        ...   \n",
      "United States Chicago           11.089667  11.703083  11.532083  10.481583   \n",
      "              Los Angeles       16.643333  16.466250  16.430250  16.944667   \n",
      "              New York           9.969083  10.931000  11.252167   9.836000   \n",
      "Vietnam       Ho Chi Minh City  27.588917  27.831750  28.064750  27.827667   \n",
      "Zimbabwe      Harare            20.283667  20.861000  21.079333  20.889167   \n",
      "\n",
      "year                                 2004       2005       2006       2007  \\\n",
      "country       city                                                           \n",
      "Afghanistan   Kabul             16.128417  14.847500  15.798500  15.518000   \n",
      "Angola        Luanda            24.216167  24.414583  24.138417  24.241583   \n",
      "Australia     Melbourne         13.742083  14.378500  13.991083  14.991833   \n",
      "              Sydney            17.869667  18.028083  17.749500  18.020833   \n",
      "Bangladesh    Dhaka             26.136083  26.193333  26.440417  25.951333   \n",
      "...                                   ...        ...        ...        ...   \n",
      "United States Chicago           10.943417  11.583833  11.870500  11.448333   \n",
      "              Los Angeles       16.552833  16.431417  16.623083  16.699917   \n",
      "              New York          10.389500  10.681417  11.519250  10.627333   \n",
      "Vietnam       Ho Chi Minh City  27.686583  27.884000  28.044000  27.866667   \n",
      "Zimbabwe      Harare            20.307667  21.487417  20.699750  20.746250   \n",
      "\n",
      "year                                 2008       2009       2010       2011  \\\n",
      "country       city                                                           \n",
      "Afghanistan   Kabul             15.479250  15.093333  15.676000  15.812167   \n",
      "Angola        Luanda            24.266333  24.325083  24.440250  24.150750   \n",
      "Australia     Melbourne         14.110583  14.647417  14.231667  14.190917   \n",
      "              Sydney            17.321083  18.175833  17.999000  17.713333   \n",
      "Bangladesh    Dhaka             26.004500  26.535583  26.648167  25.803250   \n",
      "...                                   ...        ...        ...        ...   \n",
      "United States Chicago           10.242417  10.298333  11.815917  11.214250   \n",
      "              Los Angeles       17.014750  16.677000  15.887000  15.874833   \n",
      "              New York          10.641667  10.141833  11.357583  11.272250   \n",
      "Vietnam       Ho Chi Minh City  27.611417  27.853333  28.281750  27.675417   \n",
      "Zimbabwe      Harare            20.680500  20.523833  21.165833  20.781750   \n",
      "\n",
      "year                                 2012       2013  \n",
      "country       city                                    \n",
      "Afghanistan   Kabul             14.510333  16.206125  \n",
      "Angola        Luanda            24.240083  24.553875  \n",
      "Australia     Melbourne         14.268667  14.741500  \n",
      "              Sydney            17.474333  18.089750  \n",
      "Bangladesh    Dhaka             26.283583  26.587000  \n",
      "...                                   ...        ...  \n",
      "United States Chicago           12.821250  11.586889  \n",
      "              Los Angeles       17.089583  18.120667  \n",
      "              New York          11.971500  12.163889  \n",
      "Vietnam       Ho Chi Minh City  28.248750  28.455000  \n",
      "Zimbabwe      Harare            20.523333  19.756500  \n",
      "\n",
      "[100 rows x 14 columns]\n",
      "----Calculate the mean temperature for each year, assigning to mean_temp_by_year\n",
      "20.312285416666658\n",
      "----Filter mean_temp_by_year for the year that had the highest mean temperature\n",
      "year\n",
      "2013    20.312285\n",
      "dtype: float64\n",
      "----Calculate the mean temperature for each city (across columns), assigning to mean_temp_by_city\n",
      "country        city            \n",
      "Afghanistan    Kabul               15.541955\n",
      "Angola         Luanda              24.391616\n",
      "Australia      Melbourne           14.275411\n",
      "               Sydney              17.799250\n",
      "Bangladesh     Dhaka               26.174440\n",
      "                                     ...    \n",
      "United States  Chicago             11.330825\n",
      "               Los Angeles         16.675399\n",
      "               New York            10.911034\n",
      "Vietnam        Ho Chi Minh City    27.922857\n",
      "Zimbabwe       Harare              20.699000\n",
      "Length: 100, dtype: float64\n",
      "----Filter mean_temp_by_city for the city that had the lowest mean temperature\n"
     ]
    },
    {
     "data": {
      "text/plain": [
       "country  city  \n",
       "China    Harbin    4.876551\n",
       "dtype: float64"
      ]
     },
     "execution_count": 170,
     "metadata": {},
     "output_type": "execute_result"
    }
   ],
   "source": [
    "print(\"----Tabla Pivote original\")\n",
    "print(temp_by_country_city_vs_year)\n",
    "\n",
    "print(\"----Calculate the mean temperature for each year, assigning to mean_temp_by_year\")\n",
    "mean_temp_by_year = temp_by_country_city_vs_year.mean(axis=\"rows\")\n",
    "print(mean_temp_by_year.max())\n",
    "\n",
    "print(\"----Filter mean_temp_by_year for the year that had the highest mean temperature\")\n",
    "print( mean_temp_by_year[mean_temp_by_year==mean_temp_by_year.max()] )\n",
    "\n",
    "print(\"----Calculate the mean temperature for each city (across columns), assigning to mean_temp_by_city\")\n",
    "mean_temp_by_city = temp_by_country_city_vs_year.mean(axis=\"columns\")\n",
    "print(mean_temp_by_city)\n",
    "\n",
    "print(\"----Filter mean_temp_by_city for the city that had the lowest mean temperature\")\n",
    "mean_temp_by_city[mean_temp_by_city==mean_temp_by_city.min()]\n"
   ]
  },
  {
   "cell_type": "markdown",
   "id": "89a624b5-f2cc-448c-a3c1-50d217714699",
   "metadata": {},
   "source": [
    "# <span style=\"color:red\"> CHAPTER 4 Creating and Visualizing DataFrames </span>"
   ]
  },
  {
   "cell_type": "raw",
   "id": "3365915c-d7fa-439d-85fa-7c60a0c8ea70",
   "metadata": {},
   "source": [
    "Learn to visualize the contents of your DataFrames, handle missing data values, and import data from and export data to CSV files.\n",
    "\n",
    "\n",
    "Visualizing your data 50 XP (Video)\n",
    "\n",
    "Which avocado size is most popular?\n",
    "\n",
    "Changes in sales over time\n",
    "\n",
    "Avocado supply and demand\n",
    "\n",
    "Price of conventional vs. organic avocados\n",
    "\n",
    "Missing values (Video)\n",
    "\n",
    "Finding missing values\n",
    "\n",
    "Removing missing values\n",
    "\n",
    "Replacing missing values\n",
    "\n",
    "Creating DataFrames (Video)\n",
    "\n",
    "List of dictionaries\n",
    "\n",
    "Dictionary of lists\n",
    "\n",
    "Reading and writing CSVs (Video)\n",
    "\n",
    "CSV to DataFrame\n",
    "\n",
    "DataFrame to CSV\n",
    "\n",
    "Wrap-up (Video)"
   ]
  },
  {
   "cell_type": "markdown",
   "id": "23436088-0a2c-4146-8083-1618a38b211b",
   "metadata": {},
   "source": [
    "# Visualizing your data 50 XP (Video)"
   ]
  },
  {
   "cell_type": "code",
   "execution_count": 46,
   "id": "8d02d112-4009-4087-b46c-4a98fdb4e76b",
   "metadata": {},
   "outputs": [
    {
     "name": "stdout",
     "output_type": "stream",
     "text": [
      "            date          type  year  avg_price         size     nb_sold\n",
      "0     2015-12-27  conventional  2015       0.95        small  9626901.09\n",
      "1     2015-12-20  conventional  2015       0.98        small  8710021.76\n",
      "2     2015-12-13  conventional  2015       0.93        small  9855053.66\n",
      "3     2015-12-06  conventional  2015       0.89        small  9405464.36\n",
      "4     2015-11-29  conventional  2015       0.99        small  8094803.56\n",
      "...          ...           ...   ...        ...          ...         ...\n",
      "1009  2018-02-04       organic  2018       1.53  extra_large     1703.52\n",
      "1010  2018-01-28       organic  2018       1.61  extra_large     1270.61\n",
      "1011  2018-01-21       organic  2018       1.63  extra_large     1490.02\n",
      "1012  2018-01-14       organic  2018       1.59  extra_large     1580.01\n",
      "1013  2018-01-07       organic  2018       1.51  extra_large     1289.07\n",
      "\n",
      "[1014 rows x 6 columns]\n"
     ]
    }
   ],
   "source": [
    "import pandas as pd\n",
    "import numpy as np\n",
    "import matplotlib.pyplot as plt\n",
    "\n",
    "#Lectura del archivo avoplotto.pkl en Python\n",
    "import pickle\n",
    "with open('avoplotto.pkl', 'rb') as f:\n",
    "    data = pickle.load(f)\n",
    "print(data)\n",
    "avocados = data"
   ]
  },
  {
   "cell_type": "code",
   "execution_count": 45,
   "id": "a8f47028-ee4a-4512-9e1c-d9a0d0ce3b30",
   "metadata": {},
   "outputs": [
    {
     "name": "stdout",
     "output_type": "stream",
     "text": [
      "----Metodo .hist() para crear un histograma y método .show() para mostrar grafica\n"
     ]
    },
    {
     "data": {
      "image/png": "[encoded data removed]",
      "text/plain": [
       "<Figure size 432x288 with 1 Axes>"
      ]
     },
     "metadata": {
      "needs_background": "light"
     },
     "output_type": "display_data"
    },
    {
     "name": "stdout",
     "output_type": "stream",
     "text": [
      "----Metodo .hist() para crear un histograma y metodo .show() para mostrar grafica. Argumento bins para cambiar tamaño de bins\n"
     ]
    },
    {
     "data": {
      "image/png": "[encoded data removed]",
      "text/plain": [
       "<Figure size 432x288 with 1 Axes>"
      ]
     },
     "metadata": {
      "needs_background": "light"
     },
     "output_type": "display_data"
    },
    {
     "name": "stdout",
     "output_type": "stream",
     "text": [
      "----Metrica nd_sold agrupada por tamaño\n",
      "size\n",
      "extra_large    4.620568e+05\n",
      "large          5.961573e+06\n",
      "small          6.079693e+06\n",
      "Name: nb_sold, dtype: float64\n",
      "----Metodo .plot() para una grafica de barras de una variable categorica. Metodo .show() para mostrar la grafica\n"
     ]
    },
    {
     "data": {
      "image/png": "[encoded data removed]",
      "text/plain": [
       "<Figure size 432x288 with 1 Axes>"
      ]
     },
     "metadata": {
      "needs_background": "light"
     },
     "output_type": "display_data"
    },
    {
     "name": "stdout",
     "output_type": "stream",
     "text": [
      "----Metodo .plot() para una grafica de barras de una variable categorica. Metodo .show() para mostrar la grafica\n"
     ]
    },
    {
     "data": {
      "image/png": "[encoded data removed]",
      "text/plain": [
       "<Figure size 432x288 with 1 Axes>"
      ]
     },
     "metadata": {
      "needs_background": "light"
     },
     "output_type": "display_data"
    },
    {
     "name": "stdout",
     "output_type": "stream",
     "text": [
      "----Metodo .plot() para una grafica de línea de una serie de tiempo\n"
     ]
    },
    {
     "data": {
      "image/png": "[encoded data removed]",
      "text/plain": [
       "<Figure size 432x288 with 1 Axes>"
      ]
     },
     "metadata": {
      "needs_background": "light"
     },
     "output_type": "display_data"
    },
    {
     "name": "stdout",
     "output_type": "stream",
     "text": [
      "----Metodo .plot() para una grafica de linea de una serie de tiempo. Argumento 'rot' para rotar etiquetas\n"
     ]
    },
    {
     "data": {
      "image/png": "[encoded data removed]",
      "text/plain": [
       "<Figure size 432x288 with 1 Axes>"
      ]
     },
     "metadata": {
      "needs_background": "light"
     },
     "output_type": "display_data"
    },
    {
     "name": "stdout",
     "output_type": "stream",
     "text": [
      "----Metodo .plot() para una grafica de dispersión.\n"
     ]
    },
    {
     "data": {
      "image/png": "[encoded data removed]",
      "text/plain": [
       "<Figure size 432x288 with 1 Axes>"
      ]
     },
     "metadata": {
      "needs_background": "light"
     },
     "output_type": "display_data"
    },
    {
     "name": "stdout",
     "output_type": "stream",
     "text": [
      "----Graficos en 2 capas\n"
     ]
    },
    {
     "data": {
      "image/png": "[encoded data removed]",
      "text/plain": [
       "<Figure size 432x288 with 1 Axes>"
      ]
     },
     "metadata": {
      "needs_background": "light"
     },
     "output_type": "display_data"
    },
    {
     "name": "stdout",
     "output_type": "stream",
     "text": [
      "----Graficos en 2 capas y con etiquetas\n"
     ]
    },
    {
     "data": {
      "image/png": "[encoded data removed]",
      "text/plain": [
       "<Figure size 432x288 with 1 Axes>"
      ]
     },
     "metadata": {
      "needs_background": "light"
     },
     "output_type": "display_data"
    },
    {
     "name": "stdout",
     "output_type": "stream",
     "text": [
      "----Graficos en 2 capas, con etiquetas y con trasnparencia 0.5\n"
     ]
    },
    {
     "data": {
      "image/png": "[encoded data removed]",
      "text/plain": [
       "<Figure size 432x288 with 1 Axes>"
      ]
     },
     "metadata": {
      "needs_background": "light"
     },
     "output_type": "display_data"
    }
   ],
   "source": [
    "## HISTOGRAMS (FOR CONTINOUS VARIABLES)\n",
    "print(\"----Metodo .hist() para crear un histograma y método .show() para mostrar grafica\")\n",
    "data[\"avg_price\"].hist()\n",
    "plt.show()\n",
    "\n",
    "print(\"----Metodo .hist() para crear un histograma y metodo .show() para mostrar grafica. Argumento bins para cambiar tamaño de bins\")\n",
    "data[\"avg_price\"].hist(bins=200)\n",
    "plt.show()\n",
    "\n",
    "# BARPLOTS (FOR CATEGORICAL VS NUMERICAL VARIABLES)\n",
    "print(\"----Metrica nd_sold agrupada por tamaño\")\n",
    "avg_price_by_size = data.groupby(\"size\")[\"nb_sold\"].agg(np.mean)\n",
    "print(avg_price_by_size)\n",
    "\n",
    "print(\"----Metodo .plot() para una grafica de barras de una variable categorica. Metodo .show() para mostrar la grafica\")\n",
    "avg_price_by_size.plot(kind=\"bar\")\n",
    "plt.show()\n",
    "\n",
    "print(\"----Metodo .plot() para una grafica de barras de una variable categorica. Metodo .show() para mostrar la grafica\")\n",
    "avg_price_by_size.plot(kind=\"bar\",title=\"Promedio de nb_sold agrupado por tamaño\")\n",
    "plt.show()\n",
    "\n",
    "# LINE PLOTS\n",
    "print(\"----Metodo .plot() para una grafica de línea de una serie de tiempo\")\n",
    "avg_price_by_date = data[data[\"type\"]==\"organic\"][[\"date\",\"avg_price\"]]\n",
    "avg_price_by_date.plot(x=\"date\",y=\"avg_price\",kind=\"line\")\n",
    "plt.show()\n",
    "\n",
    "print(\"----Metodo .plot() para una grafica de linea de una serie de tiempo. Argumento 'rot' para rotar etiquetas\")\n",
    "avg_price_by_date = data[data[\"type\"]==\"organic\"][[\"date\",\"avg_price\"]]\n",
    "avg_price_by_date.plot(x=\"date\",y=\"avg_price\",kind=\"line\",rot=90)\n",
    "plt.show()\n",
    "\n",
    "# SCATTER PLOTS\n",
    "print(\"----Metodo .plot() para una grafica de dispersión.\")\n",
    "data.plot(x=\"avg_price\",y=\"nb_sold\",kind=\"scatter\")\n",
    "plt.show()\n",
    "\n",
    "# LAYERING PLOTS\n",
    "print(\"----Graficos en 2 capas\")\n",
    "data[\"avg_price\"].hist()\n",
    "data[\"avg_price\"].hist(bins=20)\n",
    "plt.show()\n",
    "\n",
    "print(\"----Graficos en 2 capas y con etiquetas\")\n",
    "data[\"avg_price\"].hist()\n",
    "data[\"avg_price\"].hist(bins=20)\n",
    "plt.legend([\"10 bins\",\"20 bins\"])\n",
    "plt.show()\n",
    "\n",
    "print(\"----Graficos en 2 capas, con etiquetas y con trasnparencia 0.5\")\n",
    "data[\"avg_price\"].hist(alpha=0.5)\n",
    "data[\"avg_price\"].hist(alpha=0.5,bins=20)\n",
    "plt.legend([\"10 bins\",\"20 bins\"])\n",
    "plt.show()"
   ]
  },
  {
   "cell_type": "markdown",
   "id": "0292f668-cf65-4019-bdb4-b0986ac3ea36",
   "metadata": {},
   "source": [
    "# Which avocado size is most popular?"
   ]
  },
  {
   "cell_type": "raw",
   "id": "e0dbaca6-d9d3-4ff9-9eea-29cfb8014e55",
   "metadata": {},
   "source": [
    "Avocados are increasingly popular and delicious in guacamole and on toast. \n",
    "The Hass Avocado Board keeps track of avocado supply and demand across the USA, including the sales of three different sizes of avocado. \n",
    "In this exercise, you'll use a bar plot to figure out which size is the most popular.\n",
    "\n",
    "Bar plots are great for revealing relationships between categorical (size) and numeric (number sold) variables, but you'll often have to manipulate your data first in order to get the numbers you need for plotting.\n",
    "\n",
    "pandas has been imported as pd, and avocados is available."
   ]
  },
  {
   "cell_type": "raw",
   "id": "c9fc470c-680d-4596-ba4f-98af369ee259",
   "metadata": {},
   "source": [
    "Instructions\n",
    "100 XP\n",
    "Print the head of the avocados dataset. What columns are available?\n",
    "For each avocado size group, calculate the total number sold, storing as nb_sold_by_size.\n",
    "Create a bar plot of the number of avocados sold by size.\n",
    "Show the plot."
   ]
  },
  {
   "cell_type": "code",
   "execution_count": 56,
   "id": "face51bc-1a85-4762-bde4-64194be6a1c2",
   "metadata": {},
   "outputs": [
    {
     "name": "stdout",
     "output_type": "stream",
     "text": [
      "----Print the head of the avocados dataset. What columns are available?\n",
      "         date          type  year  avg_price   size     nb_sold\n",
      "0  2015-12-27  conventional  2015       0.95  small  9626901.09\n",
      "1  2015-12-20  conventional  2015       0.98  small  8710021.76\n",
      "2  2015-12-13  conventional  2015       0.93  small  9855053.66\n",
      "3  2015-12-06  conventional  2015       0.89  small  9405464.36\n",
      "4  2015-11-29  conventional  2015       0.99  small  8094803.56\n",
      "----For each avocado size group, calculate the total number sold, storing as nb_sold_by_size\n",
      "                      sum\n",
      "size                     \n",
      "extra_large  1.561752e+08\n",
      "large        2.015012e+09\n",
      "small        2.054936e+09\n",
      "----Create a bar plot of the number of avocados sold by size\n"
     ]
    },
    {
     "data": {
      "image/png": "[encoded data removed]",
      "text/plain": [
       "<Figure size 432x288 with 1 Axes>"
      ]
     },
     "metadata": {
      "needs_background": "light"
     },
     "output_type": "display_data"
    }
   ],
   "source": [
    "print(\"----Print the head of the avocados dataset. What columns are available?\")\n",
    "print(avocados.head())\n",
    "\n",
    "print(\"----For each avocado size group, calculate the total number sold, storing as nb_sold_by_size\")\n",
    "nb_sold_by_size = avocados.groupby(\"size\")[\"nb_sold\"].agg([np.sum]) \n",
    "print(nb_sold_by_size)\n",
    "\n",
    "print(\"----Create a bar plot of the number of avocados sold by size\")\n",
    "nb_sold_by_size.plot(kind=\"bar\")\n",
    "plt.show()"
   ]
  },
  {
   "cell_type": "raw",
   "id": "bcd48557-d781-4f2d-a182-a777ece2249f",
   "metadata": {},
   "source": [
    "It looks like small avocados were the most-purchased size, but large avocados were a close second."
   ]
  },
  {
   "cell_type": "markdown",
   "id": "e89936c5-483f-43a0-ac95-27f5e553c87b",
   "metadata": {},
   "source": [
    "# Changes in sales over time\n"
   ]
  },
  {
   "cell_type": "raw",
   "id": "264a4c77-45ca-44fa-8f08-df4b78f4016f",
   "metadata": {},
   "source": [
    "Line plots are designed to visualize the relationship between two numeric variables, \n",
    "where each data values is connected to the next one. \n",
    "They are especially useful for visualizing the change in a number over time since \n",
    "each time point is naturally connected to the next time point. \n",
    "In this exercise, you'll visualize the change in avocado sales over three years.\n",
    "\n",
    "pandas has been imported as pd."
   ]
  },
  {
   "cell_type": "raw",
   "id": "88225de3-defb-4636-93ae-3f70d6dafd9a",
   "metadata": {},
   "source": [
    "Instructions\n",
    "100 XP\n",
    "Get the total number of avocados sold on each date. Save this as nb_sold_by_date.\n",
    "Create a line plot of the number of avocados sold.\n",
    "Show the plot."
   ]
  },
  {
   "cell_type": "code",
   "execution_count": 74,
   "id": "6c360683-a89e-4eac-97eb-4776a4f35f65",
   "metadata": {},
   "outputs": [
    {
     "name": "stdout",
     "output_type": "stream",
     "text": [
      "----Get the total number of avocados sold on each date. The DataFrame has two rows for each date -- one for organic, and one for conventional. Save this as nb_sold_by_date.\n",
      "                    sum\n",
      "date                   \n",
      "2015-01-04  27279606.03\n",
      "2015-01-11  25081927.33\n",
      "2015-01-18  24961540.48\n",
      "2015-01-25  24094678.66\n",
      "2015-02-01  39838734.08\n",
      "...                 ...\n",
      "2018-02-25  25434002.74\n",
      "2018-03-04  26834303.05\n",
      "2018-03-11  26094044.41\n",
      "2018-03-18  26030618.97\n",
      "2018-03-25  27480242.92\n",
      "\n",
      "[169 rows x 1 columns]\n",
      "----Create a line plot of the number of avocados sold\n",
      "----Show the plot.\n"
     ]
    },
    {
     "data": {
      "image/png": "[encoded data removed]",
      "text/plain": [
       "<Figure size 432x288 with 1 Axes>"
      ]
     },
     "metadata": {
      "needs_background": "light"
     },
     "output_type": "display_data"
    }
   ],
   "source": [
    "print(\"----Get the total number of avocados sold on each date. The DataFrame has two rows for each date -- one for organic, and one for conventional. Save this as nb_sold_by_date.\")\n",
    "nb_sold_by_date = avocados.groupby(\"date\")[\"nb_sold\"].agg([np.sum])\n",
    "print(nb_sold_by_date)\n",
    "\n",
    "print(\"----Create a line plot of the number of avocados sold\")\n",
    "nb_sold_by_date.plot(kind=\"line\")\n",
    "\n",
    "print(\"----Show the plot.\")\n",
    "plt.show()\n",
    "\n",
    "# Line plots are great for visualizing something over time. \n",
    "# Here, it looks like the number of avocados spikes around the same time each year."
   ]
  },
  {
   "cell_type": "markdown",
   "id": "37dfedd4-68fa-4f08-8155-afd80f429507",
   "metadata": {},
   "source": [
    "# Avocado supply and demand"
   ]
  },
  {
   "cell_type": "raw",
   "id": "a295e48f-0463-438f-bdd6-8a51bb0bdc1e",
   "metadata": {},
   "source": [
    "Scatter plots are ideal for visualizing relationships between numerical variables. \n",
    "In this exercise, you'll compare the number of avocados sold to average price and see if they're at all related. \n",
    "If they're related, you may be able to use one number to predict the other.\n",
    "\n",
    "matplotlib.pyplot has been imported as plt and pandas has been imported as pd."
   ]
  },
  {
   "cell_type": "raw",
   "id": "a4fe69e9-d97d-4391-885e-12233c536ccc",
   "metadata": {},
   "source": [
    "Instructions\n",
    "100 XP\n",
    "Create a scatter plot with nb_sold on the x-axis and avg_price on the y-axis. Title it \"Number of avocados sold vs. average price\".\n",
    "Show the plot."
   ]
  },
  {
   "cell_type": "code",
   "execution_count": 83,
   "id": "c78ec9e9-3de0-4fc6-9afd-4baa6e4c46bd",
   "metadata": {},
   "outputs": [
    {
     "name": "stdout",
     "output_type": "stream",
     "text": [
      "----Create a scatter plot with nb_sold on the x-axis and avg_price on the y-axis. Title it 'Number of avocados sold vs. average price' \n"
     ]
    },
    {
     "data": {
      "image/png": "[encoded data removed]",
      "text/plain": [
       "<Figure size 432x288 with 1 Axes>"
      ]
     },
     "metadata": {
      "needs_background": "light"
     },
     "output_type": "display_data"
    }
   ],
   "source": [
    "print(\"----Create a scatter plot with nb_sold on the x-axis and avg_price on the y-axis. Title it 'Number of avocados sold vs. average price' \")\n",
    "avocados.plot(x=\"nb_sold\",y=\"avg_price\",kind=\"scatter\",title=\"Number of avocados sold vs. average price\")\n",
    "plt.show()"
   ]
  },
  {
   "cell_type": "raw",
   "id": "e58798a2-d72a-482f-95e9-0014d83b3997",
   "metadata": {},
   "source": [
    "It looks like when more avocados are sold, prices go down. However, this doesn't mean that fewer sales causes higher prices - we can only tell that they're correlated with each other."
   ]
  },
  {
   "cell_type": "markdown",
   "id": "3c6d78d0-4df4-4568-a090-52ce7c241f60",
   "metadata": {},
   "source": [
    "# Price of conventional vs. organic avocados"
   ]
  },
  {
   "cell_type": "raw",
   "id": "949a8a3b-7898-4959-98d6-bc9cb33a2e1d",
   "metadata": {},
   "source": [
    "Creating multiple plots for different subsets of data allows you to compare groups. \n",
    "In this exercise, you'll create multiple histograms to compare the prices of conventional and organic avocados.\n",
    "\n",
    "matplotlib.pyplot has been imported as plt and pandas has been imported as pd."
   ]
  },
  {
   "cell_type": "raw",
   "id": "9cedbe78-3005-471e-b29b-84fa988a72a0",
   "metadata": {},
   "source": [
    "Instructions 1/3\n",
    "35 XP\n",
    "1\n",
    "Subset avocados for the conventional type, and the average price column. Create a histogram.\n",
    "Create a histogram of avg_price for organic type avocados.\n",
    "Add a legend to your plot, with the names \"conventional\" and \"organic\".\n",
    "Show your plot."
   ]
  },
  {
   "cell_type": "code",
   "execution_count": 115,
   "id": "d95d4400-ac30-4d61-9857-61c4d8ce4e4b",
   "metadata": {},
   "outputs": [
    {
     "name": "stdout",
     "output_type": "stream",
     "text": [
      "----Subset avocados for the conventional type, and the average price column. Create a histogram\n",
      "----Create a histogram of avg_price for organic type avocados\n",
      "----Add a legend to your plot, with the names 'conventional' and 'organic' \n",
      "----Show your plot\n"
     ]
    },
    {
     "data": {
      "image/png": "[encoded data removed]",
      "text/plain": [
       "<Figure size 432x288 with 1 Axes>"
      ]
     },
     "metadata": {
      "needs_background": "light"
     },
     "output_type": "display_data"
    }
   ],
   "source": [
    "print(\"----Subset avocados for the conventional type, and the average price column. Create a histogram\")\n",
    "avocados[avocados[\"type\"]==\"conventional\"][\"avg_price\"].hist()\n",
    "\n",
    "print(\"----Create a histogram of avg_price for organic type avocados\")\n",
    "avocados[avocados[\"type\"]==\"organic\"][\"avg_price\"].hist()\n",
    "\n",
    "print(\"----Add a legend to your plot, with the names 'conventional' and 'organic' \")\n",
    "plt.legend([\"conventional\",\"organic\"])\n",
    "\n",
    "print(\"----Show your plot\")\n",
    "plt.show()"
   ]
  },
  {
   "cell_type": "raw",
   "id": "2e725994-f2f4-4d2e-87a9-8a495d0706c3",
   "metadata": {},
   "source": [
    "Instructions 2/3\n",
    "35 XP\n",
    "2\n",
    "Modify your code to adjust the transparency of both histograms to 0.5 to see how much overlap there is between the two distributions."
   ]
  },
  {
   "cell_type": "code",
   "execution_count": 127,
   "id": "3c0d7e92-2e81-4b84-948c-24b6cfbcd915",
   "metadata": {},
   "outputs": [
    {
     "name": "stdout",
     "output_type": "stream",
     "text": [
      "----Modify your code to adjust the transparency of both histograms to 0.5 to see how much overlap there is between the two distributions\n"
     ]
    },
    {
     "data": {
      "image/png": "[encoded data removed]",
      "text/plain": [
       "<Figure size 432x288 with 1 Axes>"
      ]
     },
     "metadata": {
      "needs_background": "light"
     },
     "output_type": "display_data"
    }
   ],
   "source": [
    "print(\"----Modify your code to adjust the transparency of both histograms to 0.5 to see how much overlap there is between the two distributions\")\n",
    "avocados[avocados[\"type\"]==\"conventional\"][\"avg_price\"].hist(alpha=0.5)\n",
    "avocados[avocados[\"type\"]==\"organic\"][\"avg_price\"].hist(alpha=0.5)\n",
    "plt.legend([\"conventional\",\"organic\"])\n",
    "plt.show()"
   ]
  },
  {
   "cell_type": "raw",
   "id": "94015eaa-a8f7-4bbc-a38c-5bb494206bed",
   "metadata": {},
   "source": [
    "Instructions 3/3\n",
    "30 XP\n",
    "3\n",
    "Modify your code to use 20 bins in both histograms."
   ]
  },
  {
   "cell_type": "code",
   "execution_count": 138,
   "id": "10771dd0-1327-4272-9ca9-b4da362fc834",
   "metadata": {},
   "outputs": [
    {
     "name": "stdout",
     "output_type": "stream",
     "text": [
      "----Modify your code to use 20 bins in both histograms.\n"
     ]
    },
    {
     "data": {
      "image/png": "[encoded data removed]",
      "text/plain": [
       "<Figure size 432x288 with 1 Axes>"
      ]
     },
     "metadata": {
      "needs_background": "light"
     },
     "output_type": "display_data"
    }
   ],
   "source": [
    "print(\"----Modify your code to use 20 bins in both histograms.\")\n",
    "avocados[avocados[\"type\"]==\"conventional\"][\"avg_price\"].hist(alpha=0.5,bins=20)\n",
    "avocados[avocados[\"type\"]==\"organic\"][\"avg_price\"].hist(alpha=0.5,bins=20)\n",
    "plt.legend([\"conventional\",\"organic\"])\n",
    "plt.show()"
   ]
  },
  {
   "cell_type": "raw",
   "id": "0aba676c-9bee-40e1-8d19-ff5b4ede597f",
   "metadata": {},
   "source": [
    "Great layering! We can see that on average, organic avocados are more expensive than conventional ones, but their price distributions have some overlap."
   ]
  },
  {
   "cell_type": "markdown",
   "id": "83e9870c-00bf-4dc5-a425-29273cafd13a",
   "metadata": {},
   "source": [
    "# MISSING VALUES"
   ]
  },
  {
   "cell_type": "code",
   "execution_count": 164,
   "id": "6a75eb04-5b72-4bf7-a6a8-9c489b57b102",
   "metadata": {},
   "outputs": [
    {
     "name": "stdout",
     "output_type": "stream",
     "text": [
      "----En Pandas los valores perdidos están indicados como NaN\n",
      "----Metodo .isna() devuelve una matriz de booloeanos para detectar NaN\n",
      "       date   type   year  avg_price   size  nb_sold\n",
      "0     False  False  False      False  False    False\n",
      "1     False  False  False      False  False    False\n",
      "2     False  False  False      False  False    False\n",
      "3     False  False  False      False  False    False\n",
      "4     False  False  False      False  False    False\n",
      "...     ...    ...    ...        ...    ...      ...\n",
      "1009  False  False  False      False  False    False\n",
      "1010  False  False  False      False  False    False\n",
      "1011  False  False  False      False  False    False\n",
      "1012  False  False  False      False  False    False\n",
      "1013  False  False  False      False  False    False\n",
      "\n",
      "[1014 rows x 6 columns]\n",
      "----Metodo .isna() y metodo .any() para cononcer si las columnas tiene al menos un valor NaN\n",
      "date         False\n",
      "type         False\n",
      "year         False\n",
      "avg_price    False\n",
      "size         False\n",
      "nb_sold      False\n",
      "dtype: bool\n",
      "----Metodo .isna() y metodo .sum() para conocer el numero de valores NaN por columna\n",
      "date         0\n",
      "type         0\n",
      "year         0\n",
      "avg_price    0\n",
      "size         0\n",
      "nb_sold      0\n",
      "dtype: int64\n",
      "----Metodo .isna() y metodo .sum() para conocer el numero de valores NaN por fila\n",
      "0       0\n",
      "1       0\n",
      "2       0\n",
      "3       0\n",
      "4       0\n",
      "       ..\n",
      "1009    0\n",
      "1010    0\n",
      "1011    0\n",
      "1012    0\n",
      "1013    0\n",
      "Length: 1014, dtype: int64\n",
      "----Metodo .isna(), metodo .sum() y metodo .plot() para un grafico de barras de los valores NaN\n"
     ]
    },
    {
     "data": {
      "image/png": "[encoded data removed]",
      "text/plain": [
       "<Figure size 432x288 with 1 Axes>"
      ]
     },
     "metadata": {
      "needs_background": "light"
     },
     "output_type": "display_data"
    },
    {
     "name": "stdout",
     "output_type": "stream",
     "text": [
      "----Metodo .dropna() para eliminar filas que tengan al menos un valor NaN\n",
      "            date          type  year  avg_price         size     nb_sold\n",
      "0     2015-12-27  conventional  2015       0.95        small  9626901.09\n",
      "1     2015-12-20  conventional  2015       0.98        small  8710021.76\n",
      "2     2015-12-13  conventional  2015       0.93        small  9855053.66\n",
      "3     2015-12-06  conventional  2015       0.89        small  9405464.36\n",
      "4     2015-11-29  conventional  2015       0.99        small  8094803.56\n",
      "...          ...           ...   ...        ...          ...         ...\n",
      "1009  2018-02-04       organic  2018       1.53  extra_large     1703.52\n",
      "1010  2018-01-28       organic  2018       1.61  extra_large     1270.61\n",
      "1011  2018-01-21       organic  2018       1.63  extra_large     1490.02\n",
      "1012  2018-01-14       organic  2018       1.59  extra_large     1580.01\n",
      "1013  2018-01-07       organic  2018       1.51  extra_large     1289.07\n",
      "\n",
      "[1014 rows x 6 columns]\n",
      "----Metodo .fillna() para sustituir valores perdidos\n",
      "            date          type  year  avg_price         size     nb_sold\n",
      "0     2015-12-27  conventional  2015       0.95        small  9626901.09\n",
      "1     2015-12-20  conventional  2015       0.98        small  8710021.76\n",
      "2     2015-12-13  conventional  2015       0.93        small  9855053.66\n",
      "3     2015-12-06  conventional  2015       0.89        small  9405464.36\n",
      "4     2015-11-29  conventional  2015       0.99        small  8094803.56\n",
      "...          ...           ...   ...        ...          ...         ...\n",
      "1009  2018-02-04       organic  2018       1.53  extra_large     1703.52\n",
      "1010  2018-01-28       organic  2018       1.61  extra_large     1270.61\n",
      "1011  2018-01-21       organic  2018       1.63  extra_large     1490.02\n",
      "1012  2018-01-14       organic  2018       1.59  extra_large     1580.01\n",
      "1013  2018-01-07       organic  2018       1.51  extra_large     1289.07\n",
      "\n",
      "[1014 rows x 6 columns]\n"
     ]
    }
   ],
   "source": [
    "# MISSING VALUES IN PANDAS DATA FRAME\n",
    "print(\"----En Pandas los valores perdidos están indicados como NaN\")\n",
    "\n",
    "# DETECTING MISSING VALUES\n",
    "print(\"----Metodo .isna() devuelve una matriz de booloeanos para detectar NaN\")\n",
    "print( avocados.isna() )\n",
    "\n",
    "print(\"----Metodo .isna() y metodo .any() para cononcer si las columnas tiene al menos un valor NaN\")\n",
    "print( avocados.isna().any() )\n",
    "\n",
    "# COUNTING MISSING VALUES\n",
    "print(\"----Metodo .isna() y metodo .sum() para conocer el numero de valores NaN por columna\")\n",
    "print( avocados.isna().sum() )\n",
    "\n",
    "print(\"----Metodo .isna() y metodo .sum() para conocer el numero de valores NaN por fila\")\n",
    "print( avocados.isna().sum(axis=\"columns\") )\n",
    "\n",
    "# PLOTTING MISSING VALUES\n",
    "print(\"----Metodo .isna(), metodo .sum() y metodo .plot() para un grafico de barras de los valores NaN\")\n",
    "avocados.isna().sum().plot(kind=\"bar\")\n",
    "plt.show()\n",
    "\n",
    "# REMOVING MISSING VALUES\n",
    "print(\"----Metodo .dropna() para eliminar filas que tengan al menos un valor NaN\")\n",
    "print( avocados.dropna() )\n",
    "\n",
    "# REPLACING MISSING VALUES\n",
    "print(\"----Metodo .fillna() para sustituir valores perdidos\")\n",
    "print( avocados.fillna(0) )"
   ]
  },
  {
   "cell_type": "markdown",
   "id": "2a8e0f40-01c6-414c-87f8-1cbc9d2e5066",
   "metadata": {},
   "source": [
    "# Finding missing values"
   ]
  },
  {
   "cell_type": "raw",
   "id": "8518cd88-63a8-48e2-b63a-286cbc50cf5a",
   "metadata": {},
   "source": [
    "Finding missing values\n",
    "Missing values are everywhere, and you don't want them interfering with your work. \n",
    "Some functions ignore missing data by default, but that's not always the behavior you might want. \n",
    "Some functions can't handle missing values at all, so these values need to be taken care of before you can use them. \n",
    "If you don't know where your missing values are, or if they exist, you could make mistakes in your analysis. \n",
    "In this exercise, you'll determine if there are missing values in the dataset, and if so, how many.\n",
    "\n",
    "pandas has been imported as pd and avocados_2016, a subset of avocados that contains only sales from 2016, is available."
   ]
  },
  {
   "cell_type": "code",
   "execution_count": 184,
   "id": "d6f5da6a-ffec-4156-9bd2-641802b5dd4f",
   "metadata": {},
   "outputs": [
    {
     "name": "stdout",
     "output_type": "stream",
     "text": [
      "          date          type  year  avg_price         size      nb_sold\n",
      "0   2016-01-03  conventional  2016       0.86        small  11616506.17\n",
      "1   2016-01-03  conventional  2016       0.86        large  16054083.86\n",
      "2   2016-01-03       organic  2016       1.43        large    246580.95\n",
      "3   2016-01-03       organic  2016       1.43        small    124799.63\n",
      "4   2016-01-03       organic  2016       1.43  extra_large      7749.40\n",
      "..         ...           ...   ...        ...          ...          ...\n",
      "307 2016-12-25       organic  2016       1.34        small     93875.25\n",
      "308 2016-12-25  conventional  2016       1.00  extra_large    541972.42\n",
      "309 2016-12-25  conventional  2016       1.00        small   9255125.20\n",
      "310 2016-12-25  conventional  2016       1.00        large  10282925.61\n",
      "311 2016-12-25       organic  2016       1.34  extra_large      3415.27\n",
      "\n",
      "[312 rows x 6 columns]\n"
     ]
    }
   ],
   "source": [
    "#Conventir a tipo Date la columna de fechas\n",
    "avocados[\"date\"] = pd.to_datetime(avocados[\"date\"])\n",
    "\n",
    "#DataFrame de avocados con solo las ventas de 2016\n",
    "avocados_2016 = avocados.set_index(\"date\").sort_index().loc[\"2016\"]\n",
    "avocados_2016 = avocados_2016.reset_index()\n",
    "print(avocados_2016)"
   ]
  },
  {
   "cell_type": "raw",
   "id": "65e667c5-4d76-456e-bbf8-2ec255c53636",
   "metadata": {},
   "source": [
    "Instructions\n",
    "100 XP\n",
    "Print a DataFrame that shows whether each value in avocados_2016 is missing or not.\n",
    "Print a summary that shows whether any value in each column is missing or not.\n",
    "Create a bar plot of the total number of missing values in each column."
   ]
  },
  {
   "cell_type": "code",
   "execution_count": 194,
   "id": "0fe29062-1cb8-4a10-b18d-e5691bb8dd63",
   "metadata": {},
   "outputs": [
    {
     "name": "stdout",
     "output_type": "stream",
     "text": [
      "----Print a DataFrame that shows whether each value in avocados_2016 is missing or not\n",
      "      date   type   year  avg_price   size  nb_sold\n",
      "0    False  False  False      False  False    False\n",
      "1    False  False  False      False  False    False\n",
      "2    False  False  False      False  False    False\n",
      "3    False  False  False      False  False    False\n",
      "4    False  False  False      False  False    False\n",
      "..     ...    ...    ...        ...    ...      ...\n",
      "307  False  False  False      False  False    False\n",
      "308  False  False  False      False  False    False\n",
      "309  False  False  False      False  False    False\n",
      "310  False  False  False      False  False    False\n",
      "311  False  False  False      False  False    False\n",
      "\n",
      "[312 rows x 6 columns]\n",
      "----Print a summary that shows whether any value in each column is missing or not\n",
      "date         False\n",
      "type         False\n",
      "year         False\n",
      "avg_price    False\n",
      "size         False\n",
      "nb_sold      False\n",
      "dtype: bool\n",
      "----Create a bar plot of the total number of missing values in each column\n"
     ]
    },
    {
     "data": {
      "image/png": "[encoded data removed]",
      "text/plain": [
       "<Figure size 432x288 with 1 Axes>"
      ]
     },
     "metadata": {
      "needs_background": "light"
     },
     "output_type": "display_data"
    }
   ],
   "source": [
    "print(\"----Print a DataFrame that shows whether each value in avocados_2016 is missing or not\")\n",
    "print(avocados_2016.isna())\n",
    "\n",
    "print(\"----Print a summary that shows whether any value in each column is missing or not\")\n",
    "print(avocados_2016.isna().any())\n",
    "\n",
    "print(\"----Create a bar plot of the total number of missing values in each column\")\n",
    "avocados_2016.isna().sum().plot(kind=\"bar\")\n",
    "plt.show()\n"
   ]
  },
  {
   "cell_type": "markdown",
   "id": "95d3790a-9c18-4fbc-97f5-cd5654dc84e9",
   "metadata": {},
   "source": [
    "# Removing missing values\n"
   ]
  },
  {
   "cell_type": "raw",
   "id": "ea51c551-a1a7-49fe-8a3a-56020e67be7e",
   "metadata": {},
   "source": [
    "Removing missing values\n",
    "Now that you know there are some missing values in your DataFrame, you have a few options to deal with them. \n",
    "One way is to remove them from the dataset completely. \n",
    "In this exercise, you'll remove missing values by removing all rows that contain missing values.\n",
    "\n",
    "pandas has been imported as pd and avocados_2016 is available. "
   ]
  },
  {
   "cell_type": "raw",
   "id": "4f5aae3e-2ebd-42ce-a1d0-91684040168c",
   "metadata": {},
   "source": [
    "Instructions\n",
    "100 XP\n",
    "Remove the rows of avocados_2016 that contain missing values and store the remaining rows in avocados_complete.\n",
    "Verify that all missing values have been removed from avocados_complete. Calculate each column that has NAs and print."
   ]
  },
  {
   "cell_type": "code",
   "execution_count": 200,
   "id": "52d8d0cb-4bfe-4d30-bfb8-3c870ff54312",
   "metadata": {},
   "outputs": [
    {
     "name": "stdout",
     "output_type": "stream",
     "text": [
      "----Remove the rows of avocados_2016 that contain missing values and store the remaining rows in avocados_complete\n",
      "          date          type  year  avg_price         size      nb_sold\n",
      "0   2016-01-03  conventional  2016       0.86        small  11616506.17\n",
      "1   2016-01-03  conventional  2016       0.86        large  16054083.86\n",
      "2   2016-01-03       organic  2016       1.43        large    246580.95\n",
      "3   2016-01-03       organic  2016       1.43        small    124799.63\n",
      "4   2016-01-03       organic  2016       1.43  extra_large      7749.40\n",
      "..         ...           ...   ...        ...          ...          ...\n",
      "307 2016-12-25       organic  2016       1.34        small     93875.25\n",
      "308 2016-12-25  conventional  2016       1.00  extra_large    541972.42\n",
      "309 2016-12-25  conventional  2016       1.00        small   9255125.20\n",
      "310 2016-12-25  conventional  2016       1.00        large  10282925.61\n",
      "311 2016-12-25       organic  2016       1.34  extra_large      3415.27\n",
      "\n",
      "[312 rows x 6 columns]\n",
      "----Verify that all missing values have been removed from avocados_complete. Calculate each column that has NAs and print\n",
      "date         False\n",
      "type         False\n",
      "year         False\n",
      "avg_price    False\n",
      "size         False\n",
      "nb_sold      False\n",
      "dtype: bool\n"
     ]
    }
   ],
   "source": [
    "print(\"----Remove the rows of avocados_2016 that contain missing values and store the remaining rows in avocados_complete\")\n",
    "avocados_complete = avocados_2016.dropna()\n",
    "print(avocados_2016)\n",
    "\n",
    "print(\"----Verify that all missing values have been removed from avocados_complete. Calculate each column that has NAs and print\")\n",
    "print(avocados_complete.isna().any() )"
   ]
  },
  {
   "cell_type": "raw",
   "id": "2b1a58e0-bd7f-4888-822d-777441236b06",
   "metadata": {},
   "source": [
    "Delightful dropping! Removing observations with missing values is a quick and dirty way to deal with missing data, but this can introduce bias to your data if the values are not missing at random."
   ]
  },
  {
   "cell_type": "markdown",
   "id": "124464e4-d319-4d7d-8f31-f82a2a16cd0e",
   "metadata": {},
   "source": [
    "# Replacing missing values "
   ]
  },
  {
   "cell_type": "raw",
   "id": "35d5a3da-fab8-48af-98cb-89063caf14eb",
   "metadata": {},
   "source": [
    "Replacing missing values\n",
    "Another way of handling missing values is to replace them all with the same value. \n",
    "For numerical variables, one option is to replace values with 0— you'll do this here. \n",
    "However, when you replace missing values, you make assumptions about what a missing value means. \n",
    "In this case, you will assume that a missing number sold means that no sales for that avocado type were made that week.\n",
    "\n",
    "In this exercise, you'll see how replacing missing values can affect the distribution of a variable using histograms. You can plot histograms for multiple variables at a time as follows:\n",
    "\n",
    "dogs[[\"height_cm\", \"weight_kg\"]].hist()\n",
    "pandas has been imported as pd and matplotlib.pyplot has been imported as plt. The avocados_2016 dataset is available."
   ]
  },
  {
   "cell_type": "raw",
   "id": "ff06a9aa-06fe-4963-94d4-c7adb0f601c5",
   "metadata": {},
   "source": [
    "Instructions 1/2\n",
    "50 XP\n",
    "1\n",
    "A list has been created, cols_with_missing, containing the names of columns with missing values: \"small_sold\", \"large_sold\", and \"xl_sold\".\n",
    "Create a histogram of those columns.\n",
    "Show the plot."
   ]
  },
  {
   "cell_type": "code",
   "execution_count": 204,
   "id": "80df8cca-4802-49a1-bb52-c9d81444e09e",
   "metadata": {},
   "outputs": [
    {
     "name": "stdout",
     "output_type": "stream",
     "text": [
      "----Create a histogram of those columns\n"
     ]
    },
    {
     "data": {
      "image/png": "[encoded data removed]",
      "text/plain": [
       "<Figure size 432x288 with 2 Axes>"
      ]
     },
     "metadata": {
      "needs_background": "light"
     },
     "output_type": "display_data"
    }
   ],
   "source": [
    "print(\"----Create a histogram of those columns\")\n",
    "cols_with_missing = [\"avg_price\", \"nb_sold\"]\n",
    "avocados_2016[cols_with_missing].hist()\n",
    "plt.show()"
   ]
  },
  {
   "cell_type": "raw",
   "id": "8f6de929-7f6c-4d27-b8ab-ba07220f4e34",
   "metadata": {},
   "source": [
    "Instructions 2/2\n",
    "50 XP\n",
    "2\n",
    "Replace the missing values of avocados_2016 with 0s and store the result as avocados_filled.\n",
    "Create a histogram of the cols_with_missing columns of avocados_filled."
   ]
  },
  {
   "cell_type": "code",
   "execution_count": 209,
   "id": "c037f0df-4f9d-4842-b1fe-d4c876bc253a",
   "metadata": {},
   "outputs": [
    {
     "name": "stdout",
     "output_type": "stream",
     "text": [
      "----Replace the missing values of avocados_2016 with 0s and store the result as avocados_filled\n",
      "----Create a histogram of the cols_with_missing columns of avocados_filled\n"
     ]
    },
    {
     "data": {
      "image/png": "[encoded data removed]",
      "text/plain": [
       "<Figure size 432x288 with 2 Axes>"
      ]
     },
     "metadata": {
      "needs_background": "light"
     },
     "output_type": "display_data"
    }
   ],
   "source": [
    "print(\"----Replace the missing values of avocados_2016 with 0s and store the result as avocados_filled\")\n",
    "avocados_filled = avocados_2016.fillna(0)\n",
    "\n",
    "print(\"----Create a histogram of the cols_with_missing columns of avocados_filled\")\n",
    "avocados_filled[cols_with_missing].hist()\n",
    "plt.show()"
   ]
  },
  {
   "cell_type": "raw",
   "id": "a9a95620-f0ad-4077-b3b4-97306b2e3af0",
   "metadata": {},
   "source": [
    "Fabulous filling! Notice how the distribution has changed shape after replacing missing values with zeros."
   ]
  },
  {
   "cell_type": "markdown",
   "id": "d314da02-e63c-4904-8bc8-abfde8680baa",
   "metadata": {},
   "source": [
    "# Creating DataFrames (Video)"
   ]
  },
  {
   "cell_type": "code",
   "execution_count": 231,
   "id": "0d839ad4-5e48-4e0a-a9ab-13411ed2b916",
   "metadata": {},
   "outputs": [
    {
     "name": "stdout",
     "output_type": "stream",
     "text": [
      "----Crear un diccionario con información de libros\n",
      "{'Title': \"Charlotte's Webb\", 'Author': 'E.B. White', 'published': 1952}\n",
      "----Acceder a los valores del diccionario a través de las Llaves\n",
      "Charlotte's Webb\n",
      "----Crear una lista de diccionarios (construir fila por fila) \n",
      "[{'name': 'Ginger', 'breed': 'Dachsound', 'height': 22, 'weight': 10, 'date_of_birth': '2019-03-14'}, {'name': 'Scout', 'breed': 'Dalmatian', 'height': 59, 'weight': 25, 'date_of_birth': '2019-05-09'}]\n",
      "----Crear un Data Frame a partir de una lista de diccionarios (fila por fila)\n",
      "     name      breed  height  weight date_of_birth\n",
      "0  Ginger  Dachsound      22      10    2019-03-14\n",
      "1   Scout  Dalmatian      59      25    2019-05-09\n",
      "----Crear un diccionario de listas (construir columna por columna)\n",
      "{'name': ['Ginger', 'Scout'], 'breed': ['Dachsound', 'Dalmatian'], 'height': [22, 59], 'weight': [10, 25], 'date_of_birth': ['2019-03-14', '2019-05-09']}\n",
      "----Crear un Data Frame a partir de un diccionario de listas (Columna por columna)\n",
      "     name      breed  height  weight date_of_birth\n",
      "0  Ginger  Dachsound      22      10    2019-03-14\n",
      "1   Scout  Dalmatian      59      25    2019-05-09\n"
     ]
    }
   ],
   "source": [
    "# LETS TALK ABOUT DICTIONARIES\n",
    "print(\"----Crear un diccionario con información de libros\")\n",
    "my_dict = {\"Title\":\"Charlotte's Webb\",\"Author\":\"E.B. White\",\"published\":1952}\n",
    "print(my_dict)\n",
    "\n",
    "print(\"----Acceder a los valores del diccionario a través de las Llaves\")\n",
    "print(my_dict[\"Title\"])\n",
    "\n",
    "# CREATING DICTIONARIES FROM A LIST OF DICTIONARIES (ROW BY ROW)\n",
    "print(\"----Crear una lista de diccionarios (construir fila por fila) \")\n",
    "list_of_dicts = [\n",
    "    {\"name\":\"Ginger\",\"breed\":\"Dachsound\",\"height\":22,\"weight\":10,\"date_of_birth\":\"2019-03-14\"},\n",
    "    {\"name\":\"Scout\",\"breed\":\"Dalmatian\",\"height\":59,\"weight\":25,\"date_of_birth\":\"2019-05-09\"}   \n",
    "                ]\n",
    "print(list_of_dicts)\n",
    "\n",
    "print(\"----Crear un Data Frame a partir de una lista de diccionarios (fila por fila)\")\n",
    "new_dogs = pd.DataFrame(list_of_dicts)\n",
    "print(new_dogs)\n",
    "\n",
    "# CREATING DICTIONARIES FROM A DICTIONARIE OD LISTS (COLUMNS BY COLUMN)\n",
    "print(\"----Crear un diccionario de listas (construir columna por columna)\")\n",
    "dict_of_lists = {\n",
    "    \"name\":[\"Ginger\",\"Scout\"],\n",
    "    \"breed\":[\"Dachsound\",\"Dalmatian\"],\n",
    "    \"height\":[22,59],\n",
    "    \"weight\":[10,25],\n",
    "    \"date_of_birth\":[\"2019-03-14\",\"2019-05-09\"]\n",
    "                }\n",
    "print(dict_of_lists)\n",
    "\n",
    "\n",
    "print(\"----Crear un Data Frame a partir de un diccionario de listas (Columna por columna)\")\n",
    "new_dogs = pd.DataFrame(dict_of_lists)\n",
    "print(new_dogs)"
   ]
  },
  {
   "cell_type": "markdown",
   "id": "d5325742-62e7-4e41-919c-4e0dafdd629f",
   "metadata": {},
   "source": [
    "# List of dictionaries "
   ]
  },
  {
   "cell_type": "raw",
   "id": "b32510a8-f2d4-49fa-9f52-678abc51dc08",
   "metadata": {},
   "source": [
    "List of dictionaries\n",
    "You recently got some new avocado data from 2019 that you'd like to put in a DataFrame using the list of dictionaries method. \n",
    "Remember that with this method, you go through the data row by row.\n",
    "\n",
    "date        \tsmall_sold  \tlarge_sold\n",
    "\"2019-11-03\"\t10376832    \t7835071\n",
    "\"2019-11-10\"\t10717154    \t8561348\n",
    "\n",
    "pandas as pd is imported."
   ]
  },
  {
   "cell_type": "raw",
   "id": "08f74e98-a20f-44a9-8175-447ae3286d7d",
   "metadata": {},
   "source": [
    "Instructions\n",
    "100 XP\n",
    "Create a list of dictionaries with the new data called avocados_list.\n",
    "Convert the list into a DataFrame called avocados_2019.\n",
    "Print your new DataFrame."
   ]
  },
  {
   "cell_type": "code",
   "execution_count": 240,
   "id": "05772f9b-4616-4fa7-aa93-c1de77090268",
   "metadata": {},
   "outputs": [
    {
     "name": "stdout",
     "output_type": "stream",
     "text": [
      "----Create a list of dictionaries with the new data called avocados_list\n",
      "[{'date': '2019-11-03', 'small_sold': 10376832, 'large_sold': 7835071}, {'date': '2019-11-10', 'small_sold': 10717154, 'large_sold': 8561348}]\n",
      "---Convert the list into a DataFrame called avocados_2019\n",
      "         date  small_sold  large_sold\n",
      "0  2019-11-03    10376832     7835071\n",
      "1  2019-11-10    10717154     8561348\n"
     ]
    }
   ],
   "source": [
    "print(\"----Create a list of dictionaries with the new data called avocados_list\")\n",
    "avocados_list = [\n",
    "    {\"date\":\"2019-11-03\",\"small_sold\":10376832,\"large_sold\":7835071},\n",
    "    {\"date\":\"2019-11-10\",\"small_sold\":10717154,\"large_sold\":8561348}\n",
    "                 ]\n",
    "print(avocados_list)\n",
    "\n",
    "print(\"---Convert the list into a DataFrame called avocados_2019\")\n",
    "avocados_2019 = pd.DataFrame(avocados_list)\n",
    "print(avocados_2019)"
   ]
  },
  {
   "cell_type": "raw",
   "id": "bc80fa23-9f30-4fb9-871e-40bb1c86a6fe",
   "metadata": {},
   "source": [
    "Lovely work with the list-of-dictionaries! The list-of-dictionaries method creates DataFrames row-by-row."
   ]
  },
  {
   "cell_type": "markdown",
   "id": "9560e848-059a-49ce-8aa4-4f65bd575a61",
   "metadata": {},
   "source": [
    "# Dictionary of lists 100 XP"
   ]
  },
  {
   "cell_type": "raw",
   "id": "2968bce3-2fdb-4753-a3a1-78e57973fd50",
   "metadata": {},
   "source": [
    "Some more data just came in! This time, you'll use the dictionary of lists method, parsing the data column by column.\n",
    "\n",
    "date        \tsmall_sold  \tlarge_sold\n",
    "\"2019-11-17\"\t10859987    \t7674135\n",
    "\"2019-12-01\"\t9291631     \t6238096\n",
    "\n",
    "pandas as pd is imported."
   ]
  },
  {
   "cell_type": "raw",
   "id": "01770c67-65a5-4a3a-ba63-36a6eeb29142",
   "metadata": {},
   "source": [
    "Instructions\n",
    "100 XP\n",
    "Create a dictionary of lists with the new data called avocados_dict.\n",
    "Convert the dictionary to a DataFrame called avocados_2019.\n",
    "Print your new DataFrame."
   ]
  },
  {
   "cell_type": "code",
   "execution_count": 244,
   "id": "8d4c410f-56e8-45de-b363-7fbc2a05157c",
   "metadata": {},
   "outputs": [
    {
     "name": "stdout",
     "output_type": "stream",
     "text": [
      "----Create a dictionary of lists with the new data called avocados_dict\n",
      "{'date': ['2019-11-17', '2019-12-01'], 'small_sold': [10859987, 9291631], 'large_sold': [7674135, 6238096]}\n",
      "----Convert the dictionary to a DataFrame called avocados_2019\n",
      "         date  small_sold  large_sold\n",
      "0  2019-11-17    10859987     7674135\n",
      "1  2019-12-01     9291631     6238096\n"
     ]
    }
   ],
   "source": [
    "print(\"----Create a dictionary of lists with the new data called avocados_dict\")\n",
    "avocados_dict = {\n",
    "    \"date\":[\"2019-11-17\",\"2019-12-01\"],\n",
    "    \"small_sold\":[10859987,9291631],\n",
    "    \"large_sold\":[7674135,6238096]\n",
    "                }\n",
    "print(avocados_dict)\n",
    "\n",
    "print(\"----Convert the dictionary to a DataFrame called avocados_2019\")\n",
    "avocados_2019 = pd.DataFrame(avocados_dict)\n",
    "print(avocados_2019)\n"
   ]
  },
  {
   "cell_type": "raw",
   "id": "4818418f-d221-4b70-ab47-1bfde918a00e",
   "metadata": {},
   "source": [
    " The list-of-dictionaries method creates DataFrames column-by-column."
   ]
  },
  {
   "cell_type": "markdown",
   "id": "99105509-c392-4573-b3d2-dd74bf6ffcf5",
   "metadata": {},
   "source": [
    "# Reading and writing CSVs (Video)"
   ]
  },
  {
   "cell_type": "code",
   "execution_count": 248,
   "id": "b9065d63-81e5-4579-9ae3-f0f0ebb59c9e",
   "metadata": {},
   "outputs": [
    {
     "name": "stdout",
     "output_type": "stream",
     "text": [
      "       Unnamed: 0  store type  department        date  weekly_sales  \\\n",
      "0               0      1    A           1  2010-02-05      24924.50   \n",
      "1               1      1    A           1  2010-03-05      21827.90   \n",
      "2               2      1    A           1  2010-04-02      57258.43   \n",
      "3               3      1    A           1  2010-05-07      17413.94   \n",
      "4               4      1    A           1  2010-06-04      17558.09   \n",
      "...           ...    ...  ...         ...         ...           ...   \n",
      "10769       10769     39    A          99  2011-12-09        895.00   \n",
      "10770       10770     39    A          99  2012-02-03        350.00   \n",
      "10771       10771     39    A          99  2012-06-08        450.00   \n",
      "10772       10772     39    A          99  2012-07-13          0.06   \n",
      "10773       10773     39    A          99  2012-10-05        915.00   \n",
      "\n",
      "       is_holiday  temperature_c  fuel_price_usd_per_l  unemployment  \n",
      "0           False       5.727778              0.679451         8.106  \n",
      "1           False       8.055556              0.693452         8.106  \n",
      "2           False      16.816667              0.718284         7.808  \n",
      "3           False      22.527778              0.748928         7.808  \n",
      "4           False      27.050000              0.714586         7.808  \n",
      "...           ...            ...                   ...           ...  \n",
      "10769       False       9.644444              0.834256         7.716  \n",
      "10770       False      15.938889              0.887619         7.244  \n",
      "10771       False      27.288889              0.911922         6.989  \n",
      "10772       False      25.644444              0.860145         6.623  \n",
      "10773       False      22.250000              0.955511         6.228  \n",
      "\n",
      "[10774 rows x 10 columns]\n"
     ]
    }
   ],
   "source": [
    "# CSV TO DATA FRAME PANDAS\n",
    "import pandas as pd\n",
    "sales = pd.read_csv(\"sales_subset.csv\")\n",
    "print(sales)\n",
    "\n",
    "# DATA FRAME TO CSV\n",
    "sales.to_csv(\"sales_subset_delete.csv\")"
   ]
  },
  {
   "cell_type": "markdown",
   "id": "7707894d-2bd0-4acf-803a-f56c4c08a8ec",
   "metadata": {},
   "source": [
    "# CSV to DataFrame"
   ]
  },
  {
   "cell_type": "raw",
   "id": "82ff58b1-5f61-4105-9ccd-7ec1f6dac89a",
   "metadata": {},
   "source": [
    "You work for an airline, and your manager has asked you to do a competitive analysis and see how often passengers flying on other airlines are involuntarily bumped from their flights. \n",
    "You got a CSV file (airline_bumping.csv) from the Department of Transportation containing data on passengers that were involuntarily denied boarding in 2016 and 2017, but it doesn't have the exact numbers you want. In order to figure this out, you'll need to get the CSV into a pandas DataFrame and do some manipulation!\n",
    "\n",
    "pandas is imported for you as pd. \"airline_bumping.csv\" is in your working directory."
   ]
  },
  {
   "cell_type": "raw",
   "id": "dc0d4efc-5ff5-42ad-81dc-5befe02d532d",
   "metadata": {},
   "source": [
    "Instructions 1/4\n",
    "25 XP\n",
    "1\n",
    "Read the CSV file \"airline_bumping.csv\" and store it as a DataFrame called airline_bumping.\n",
    "Print the first few rows of airline_bumping."
   ]
  },
  {
   "cell_type": "code",
   "execution_count": 250,
   "id": "88ead118-6726-4cdd-adee-b503e300f111",
   "metadata": {},
   "outputs": [
    {
     "name": "stdout",
     "output_type": "stream",
     "text": [
      "             airline  year  nb_bumped  total_passengers\n",
      "0    DELTA AIR LINES  2017        679          99796155\n",
      "1     VIRGIN AMERICA  2017        165           6090029\n",
      "2    JETBLUE AIRWAYS  2017       1475          27255038\n",
      "3    UNITED AIRLINES  2017       2067          70030765\n",
      "4  HAWAIIAN AIRLINES  2017         92           8422734\n"
     ]
    }
   ],
   "source": [
    "# Read the CSV file \"airline_bumping.csv\" and store it as a DataFrame called airline_bumping.\n",
    "import pandas as pd\n",
    "airline_bumping = pd.read_csv(\"airline_bumping.csv\")\n",
    "\n",
    "#Print the first few rows of airline_bumping.\n",
    "print(airline_bumping.head())"
   ]
  },
  {
   "cell_type": "raw",
   "id": "a69d8d86-a11b-4cc3-994d-fbadba9c2b02",
   "metadata": {},
   "source": [
    "Instructions 2/4\n",
    "25 XP\n",
    "2\n",
    "For each airline group, select the nb_bumped, and total_passengers columns, and calculate the sum (for both years). Store this as airline_totals."
   ]
  },
  {
   "cell_type": "code",
   "execution_count": 254,
   "id": "2a1dd663-6ea9-48b1-8ef0-b57b3edc897b",
   "metadata": {},
   "outputs": [
    {
     "name": "stdout",
     "output_type": "stream",
     "text": [
      "                     nb_bumped  total_passengers\n",
      "airline                                         \n",
      "ALASKA AIRLINES           1392          36543121\n",
      "AMERICAN AIRLINES        11115         197365225\n",
      "DELTA AIR LINES           1591         197033215\n",
      "EXPRESSJET AIRLINES       3326          27858678\n",
      "FRONTIER AIRLINES         1228          22954995\n",
      "HAWAIIAN AIRLINES          122          16577572\n",
      "JETBLUE AIRWAYS           3615          53245866\n",
      "SKYWEST AIRLINES          3094          47091737\n",
      "SOUTHWEST AIRLINES       18585         228142036\n",
      "SPIRIT AIRLINES           2920          32304571\n",
      "UNITED AIRLINES           4941         134468897\n",
      "VIRGIN AMERICA             242          12017967\n"
     ]
    }
   ],
   "source": [
    "#For each airline group, select the nb_bumped, and total_passengers columns, and calculate the sum (for both years). Store this as airline_totals\n",
    "airline_totals = airline_bumping.groupby(\"airline\")[[\"nb_bumped\",\"total_passengers\"]].sum()\n",
    "print(airline_totals)"
   ]
  },
  {
   "cell_type": "code",
   "execution_count": null,
   "id": "ac29228a-d735-41ea-a14e-ba406bdde0fe",
   "metadata": {},
   "outputs": [],
   "source": [
    "Instructions 3/4\n",
    "25 XP\n",
    "3\n",
    "Create a new column of airline_totals called bumps_per_10k, which is the number of passengers bumped per 10,000 passengers in 2016 and 2017."
   ]
  },
  {
   "cell_type": "code",
   "execution_count": 258,
   "id": "07911ace-2bfd-4cff-b448-bafe7d271552",
   "metadata": {},
   "outputs": [
    {
     "name": "stdout",
     "output_type": "stream",
     "text": [
      "                     nb_bumped  total_passengers  bumps_per_10k\n",
      "airline                                                        \n",
      "ALASKA AIRLINES           1392          36543121       0.380920\n",
      "AMERICAN AIRLINES        11115         197365225       0.563169\n",
      "DELTA AIR LINES           1591         197033215       0.080748\n",
      "EXPRESSJET AIRLINES       3326          27858678       1.193883\n",
      "FRONTIER AIRLINES         1228          22954995       0.534960\n",
      "HAWAIIAN AIRLINES          122          16577572       0.073593\n",
      "JETBLUE AIRWAYS           3615          53245866       0.678926\n",
      "SKYWEST AIRLINES          3094          47091737       0.657015\n",
      "SOUTHWEST AIRLINES       18585         228142036       0.814624\n",
      "SPIRIT AIRLINES           2920          32304571       0.903897\n",
      "UNITED AIRLINES           4941         134468897       0.367446\n",
      "VIRGIN AMERICA             242          12017967       0.201365\n"
     ]
    }
   ],
   "source": [
    "#Create a new column of airline_totals called bumps_per_10k, which is the number of passengers bumped per 10,000 passengers \n",
    "#in 2016 and 2017. \n",
    "airline_totals[\"bumps_per_10k\"] = airline_totals[\"nb_bumped\"] / airline_totals[\"total_passengers\"] * 10000\n",
    "print(airline_totals)"
   ]
  },
  {
   "cell_type": "raw",
   "id": "cd5a1df9-86c3-4799-b680-1c22163f8905",
   "metadata": {},
   "source": [
    "Instructions 4/4\n",
    "25 XP\n",
    "4\n",
    "Print airline_totals to see the results of your manipulations."
   ]
  },
  {
   "cell_type": "code",
   "execution_count": 259,
   "id": "2e0950ce-0f80-45b1-a766-9f64290201a8",
   "metadata": {},
   "outputs": [
    {
     "name": "stdout",
     "output_type": "stream",
     "text": [
      "                     nb_bumped  total_passengers  bumps_per_10k\n",
      "airline                                                        \n",
      "ALASKA AIRLINES           1392          36543121       0.380920\n",
      "AMERICAN AIRLINES        11115         197365225       0.563169\n",
      "DELTA AIR LINES           1591         197033215       0.080748\n",
      "EXPRESSJET AIRLINES       3326          27858678       1.193883\n",
      "FRONTIER AIRLINES         1228          22954995       0.534960\n",
      "HAWAIIAN AIRLINES          122          16577572       0.073593\n",
      "JETBLUE AIRWAYS           3615          53245866       0.678926\n",
      "SKYWEST AIRLINES          3094          47091737       0.657015\n",
      "SOUTHWEST AIRLINES       18585         228142036       0.814624\n",
      "SPIRIT AIRLINES           2920          32304571       0.903897\n",
      "UNITED AIRLINES           4941         134468897       0.367446\n",
      "VIRGIN AMERICA             242          12017967       0.201365\n"
     ]
    }
   ],
   "source": [
    "#Print airline_totals to see the results of your manipulations.\n",
    "print(airline_totals)"
   ]
  },
  {
   "cell_type": "markdown",
   "id": "75e32125-5b4d-4094-8faf-83f2cb8a9749",
   "metadata": {},
   "source": [
    "# DataFrame to CSV"
   ]
  },
  {
   "cell_type": "raw",
   "id": "f216dd18-8b23-459d-a77c-190a94160951",
   "metadata": {},
   "source": [
    "DataFrame to CSV\n",
    "You're almost there! To make things easier to read, you'll need to sort the data and export it \n",
    "to CSV so that your colleagues can read it.\n",
    "\n",
    "pandas as pd has been imported for you."
   ]
  },
  {
   "cell_type": "code",
   "execution_count": null,
   "id": "d5da49dd-d58f-4513-ab8e-46bcb6daa6a6",
   "metadata": {},
   "outputs": [],
   "source": [
    "Instructions\n",
    "100 XP\n",
    "Sort airline_totals by the values of bumps_per_10k from highest to lowest, storing as airline_totals_sorted.\n",
    "Print your sorted DataFrame.\n",
    "Save the sorted DataFrame as a CSV called \"airline_totals_sorted.csv\"."
   ]
  },
  {
   "cell_type": "code",
   "execution_count": 267,
   "id": "ecf481a6-4345-4657-9d1c-d6e424a54705",
   "metadata": {},
   "outputs": [
    {
     "name": "stdout",
     "output_type": "stream",
     "text": [
      "                     nb_bumped  total_passengers  bumps_per_10k\n",
      "airline                                                        \n",
      "EXPRESSJET AIRLINES       3326          27858678       1.193883\n",
      "SPIRIT AIRLINES           2920          32304571       0.903897\n",
      "SOUTHWEST AIRLINES       18585         228142036       0.814624\n",
      "JETBLUE AIRWAYS           3615          53245866       0.678926\n",
      "SKYWEST AIRLINES          3094          47091737       0.657015\n",
      "AMERICAN AIRLINES        11115         197365225       0.563169\n",
      "FRONTIER AIRLINES         1228          22954995       0.534960\n",
      "ALASKA AIRLINES           1392          36543121       0.380920\n",
      "UNITED AIRLINES           4941         134468897       0.367446\n",
      "VIRGIN AMERICA             242          12017967       0.201365\n",
      "DELTA AIR LINES           1591         197033215       0.080748\n",
      "HAWAIIAN AIRLINES          122          16577572       0.073593\n"
     ]
    }
   ],
   "source": [
    "# Sort airline_totals by the values of bumps_per_10k from highest to lowest, storing as airline_totals_sorted.\n",
    "airline_totals_sorted = airline_totals.sort_values(\"bumps_per_10k\",ascending=False)\n",
    "\n",
    "# Print your sorted DataFrame.\n",
    "print(airline_totals_sorted)\n",
    "\n",
    "#Save the sorted DataFrame as a CSV called \"airline_totals_sorted.csv\"\n",
    "airline_totals_sorted.to_csv(\"airline_totals_sorted.csv\")"
   ]
  }
 ],
 "metadata": {
  "kernelspec": {
   "display_name": "Python 3 (ipykernel)",
   "language": "python",
   "name": "python3"
  },
  "language_info": {
   "codemirror_mode": {
    "name": "ipython",
    "version": 3
   },
   "file_extension": ".py",
   "mimetype": "text/x-python",
   "name": "python",
   "nbconvert_exporter": "python",
   "pygments_lexer": "ipython3",
   "version": "3.8.1"
  }
 },
 "nbformat": 4,
 "nbformat_minor": 5
}
